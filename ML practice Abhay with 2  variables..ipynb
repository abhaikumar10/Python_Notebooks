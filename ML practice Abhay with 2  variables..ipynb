{
 "cells": [
  {
   "cell_type": "code",
   "execution_count": 28,
   "metadata": {
    "executionInfo": {
     "elapsed": 424,
     "status": "ok",
     "timestamp": 1652543767754,
     "user": {
      "displayName": "Abhay Patel",
      "userId": "03621184276517042201"
     },
     "user_tz": -330
    },
    "id": "vaPC62TOqCHO"
   },
   "outputs": [],
   "source": [
    "import pandas as pd\n",
    "import numpy as np"
   ]
  },
  {
   "cell_type": "code",
   "execution_count": 29,
   "metadata": {
    "executionInfo": {
     "elapsed": 3,
     "status": "ok",
     "timestamp": 1652543768422,
     "user": {
      "displayName": "Abhay Patel",
      "userId": "03621184276517042201"
     },
     "user_tz": -330
    },
    "id": "ZoDn0i8mqg5X"
   },
   "outputs": [],
   "source": [
    "data=pd.read_csv('/content/sample_data/california_housing_train.csv')"
   ]
  },
  {
   "cell_type": "code",
   "execution_count": 30,
   "metadata": {
    "colab": {
     "base_uri": "https://localhost:8080/",
     "height": 468
    },
    "executionInfo": {
     "elapsed": 6,
     "status": "ok",
     "timestamp": 1652543768810,
     "user": {
      "displayName": "Abhay Patel",
      "userId": "03621184276517042201"
     },
     "user_tz": -330
    },
    "id": "DThB1RkXqnnD",
    "outputId": "e0439f0b-9e61-4df4-aa59-973f2376ea6c"
   },
   "outputs": [
    {
     "data": {
      "text/html": [
       "\n",
       "  <div id=\"df-65cdbe73-12cd-4b62-8b20-8c7c5b3fe3e0\">\n",
       "    <div class=\"colab-df-container\">\n",
       "      <div>\n",
       "<style scoped>\n",
       "    .dataframe tbody tr th:only-of-type {\n",
       "        vertical-align: middle;\n",
       "    }\n",
       "\n",
       "    .dataframe tbody tr th {\n",
       "        vertical-align: top;\n",
       "    }\n",
       "\n",
       "    .dataframe thead th {\n",
       "        text-align: right;\n",
       "    }\n",
       "</style>\n",
       "<table border=\"1\" class=\"dataframe\">\n",
       "  <thead>\n",
       "    <tr style=\"text-align: right;\">\n",
       "      <th></th>\n",
       "      <th>longitude</th>\n",
       "      <th>latitude</th>\n",
       "      <th>housing_median_age</th>\n",
       "      <th>total_rooms</th>\n",
       "      <th>total_bedrooms</th>\n",
       "      <th>population</th>\n",
       "      <th>households</th>\n",
       "      <th>median_income</th>\n",
       "      <th>median_house_value</th>\n",
       "    </tr>\n",
       "  </thead>\n",
       "  <tbody>\n",
       "    <tr>\n",
       "      <th>0</th>\n",
       "      <td>-114.31</td>\n",
       "      <td>34.19</td>\n",
       "      <td>15.0</td>\n",
       "      <td>5612.0</td>\n",
       "      <td>1283.0</td>\n",
       "      <td>1015.0</td>\n",
       "      <td>472.0</td>\n",
       "      <td>1.4936</td>\n",
       "      <td>66900.0</td>\n",
       "    </tr>\n",
       "    <tr>\n",
       "      <th>1</th>\n",
       "      <td>-114.47</td>\n",
       "      <td>34.40</td>\n",
       "      <td>19.0</td>\n",
       "      <td>7650.0</td>\n",
       "      <td>1901.0</td>\n",
       "      <td>1129.0</td>\n",
       "      <td>463.0</td>\n",
       "      <td>1.8200</td>\n",
       "      <td>80100.0</td>\n",
       "    </tr>\n",
       "    <tr>\n",
       "      <th>2</th>\n",
       "      <td>-114.56</td>\n",
       "      <td>33.69</td>\n",
       "      <td>17.0</td>\n",
       "      <td>720.0</td>\n",
       "      <td>174.0</td>\n",
       "      <td>333.0</td>\n",
       "      <td>117.0</td>\n",
       "      <td>1.6509</td>\n",
       "      <td>85700.0</td>\n",
       "    </tr>\n",
       "    <tr>\n",
       "      <th>3</th>\n",
       "      <td>-114.57</td>\n",
       "      <td>33.64</td>\n",
       "      <td>14.0</td>\n",
       "      <td>1501.0</td>\n",
       "      <td>337.0</td>\n",
       "      <td>515.0</td>\n",
       "      <td>226.0</td>\n",
       "      <td>3.1917</td>\n",
       "      <td>73400.0</td>\n",
       "    </tr>\n",
       "    <tr>\n",
       "      <th>4</th>\n",
       "      <td>-114.57</td>\n",
       "      <td>33.57</td>\n",
       "      <td>20.0</td>\n",
       "      <td>1454.0</td>\n",
       "      <td>326.0</td>\n",
       "      <td>624.0</td>\n",
       "      <td>262.0</td>\n",
       "      <td>1.9250</td>\n",
       "      <td>65500.0</td>\n",
       "    </tr>\n",
       "    <tr>\n",
       "      <th>...</th>\n",
       "      <td>...</td>\n",
       "      <td>...</td>\n",
       "      <td>...</td>\n",
       "      <td>...</td>\n",
       "      <td>...</td>\n",
       "      <td>...</td>\n",
       "      <td>...</td>\n",
       "      <td>...</td>\n",
       "      <td>...</td>\n",
       "    </tr>\n",
       "    <tr>\n",
       "      <th>16995</th>\n",
       "      <td>-124.26</td>\n",
       "      <td>40.58</td>\n",
       "      <td>52.0</td>\n",
       "      <td>2217.0</td>\n",
       "      <td>394.0</td>\n",
       "      <td>907.0</td>\n",
       "      <td>369.0</td>\n",
       "      <td>2.3571</td>\n",
       "      <td>111400.0</td>\n",
       "    </tr>\n",
       "    <tr>\n",
       "      <th>16996</th>\n",
       "      <td>-124.27</td>\n",
       "      <td>40.69</td>\n",
       "      <td>36.0</td>\n",
       "      <td>2349.0</td>\n",
       "      <td>528.0</td>\n",
       "      <td>1194.0</td>\n",
       "      <td>465.0</td>\n",
       "      <td>2.5179</td>\n",
       "      <td>79000.0</td>\n",
       "    </tr>\n",
       "    <tr>\n",
       "      <th>16997</th>\n",
       "      <td>-124.30</td>\n",
       "      <td>41.84</td>\n",
       "      <td>17.0</td>\n",
       "      <td>2677.0</td>\n",
       "      <td>531.0</td>\n",
       "      <td>1244.0</td>\n",
       "      <td>456.0</td>\n",
       "      <td>3.0313</td>\n",
       "      <td>103600.0</td>\n",
       "    </tr>\n",
       "    <tr>\n",
       "      <th>16998</th>\n",
       "      <td>-124.30</td>\n",
       "      <td>41.80</td>\n",
       "      <td>19.0</td>\n",
       "      <td>2672.0</td>\n",
       "      <td>552.0</td>\n",
       "      <td>1298.0</td>\n",
       "      <td>478.0</td>\n",
       "      <td>1.9797</td>\n",
       "      <td>85800.0</td>\n",
       "    </tr>\n",
       "    <tr>\n",
       "      <th>16999</th>\n",
       "      <td>-124.35</td>\n",
       "      <td>40.54</td>\n",
       "      <td>52.0</td>\n",
       "      <td>1820.0</td>\n",
       "      <td>300.0</td>\n",
       "      <td>806.0</td>\n",
       "      <td>270.0</td>\n",
       "      <td>3.0147</td>\n",
       "      <td>94600.0</td>\n",
       "    </tr>\n",
       "  </tbody>\n",
       "</table>\n",
       "<p>17000 rows × 9 columns</p>\n",
       "</div>\n",
       "      <button class=\"colab-df-convert\" onclick=\"convertToInteractive('df-65cdbe73-12cd-4b62-8b20-8c7c5b3fe3e0')\"\n",
       "              title=\"Convert this dataframe to an interactive table.\"\n",
       "              style=\"display:none;\">\n",
       "        \n",
       "  <svg xmlns=\"http://www.w3.org/2000/svg\" height=\"24px\"viewBox=\"0 0 24 24\"\n",
       "       width=\"24px\">\n",
       "    <path d=\"M0 0h24v24H0V0z\" fill=\"none\"/>\n",
       "    <path d=\"M18.56 5.44l.94 2.06.94-2.06 2.06-.94-2.06-.94-.94-2.06-.94 2.06-2.06.94zm-11 1L8.5 8.5l.94-2.06 2.06-.94-2.06-.94L8.5 2.5l-.94 2.06-2.06.94zm10 10l.94 2.06.94-2.06 2.06-.94-2.06-.94-.94-2.06-.94 2.06-2.06.94z\"/><path d=\"M17.41 7.96l-1.37-1.37c-.4-.4-.92-.59-1.43-.59-.52 0-1.04.2-1.43.59L10.3 9.45l-7.72 7.72c-.78.78-.78 2.05 0 2.83L4 21.41c.39.39.9.59 1.41.59.51 0 1.02-.2 1.41-.59l7.78-7.78 2.81-2.81c.8-.78.8-2.07 0-2.86zM5.41 20L4 18.59l7.72-7.72 1.47 1.35L5.41 20z\"/>\n",
       "  </svg>\n",
       "      </button>\n",
       "      \n",
       "  <style>\n",
       "    .colab-df-container {\n",
       "      display:flex;\n",
       "      flex-wrap:wrap;\n",
       "      gap: 12px;\n",
       "    }\n",
       "\n",
       "    .colab-df-convert {\n",
       "      background-color: #E8F0FE;\n",
       "      border: none;\n",
       "      border-radius: 50%;\n",
       "      cursor: pointer;\n",
       "      display: none;\n",
       "      fill: #1967D2;\n",
       "      height: 32px;\n",
       "      padding: 0 0 0 0;\n",
       "      width: 32px;\n",
       "    }\n",
       "\n",
       "    .colab-df-convert:hover {\n",
       "      background-color: #E2EBFA;\n",
       "      box-shadow: 0px 1px 2px rgba(60, 64, 67, 0.3), 0px 1px 3px 1px rgba(60, 64, 67, 0.15);\n",
       "      fill: #174EA6;\n",
       "    }\n",
       "\n",
       "    [theme=dark] .colab-df-convert {\n",
       "      background-color: #3B4455;\n",
       "      fill: #D2E3FC;\n",
       "    }\n",
       "\n",
       "    [theme=dark] .colab-df-convert:hover {\n",
       "      background-color: #434B5C;\n",
       "      box-shadow: 0px 1px 3px 1px rgba(0, 0, 0, 0.15);\n",
       "      filter: drop-shadow(0px 1px 2px rgba(0, 0, 0, 0.3));\n",
       "      fill: #FFFFFF;\n",
       "    }\n",
       "  </style>\n",
       "\n",
       "      <script>\n",
       "        const buttonEl =\n",
       "          document.querySelector('#df-65cdbe73-12cd-4b62-8b20-8c7c5b3fe3e0 button.colab-df-convert');\n",
       "        buttonEl.style.display =\n",
       "          google.colab.kernel.accessAllowed ? 'block' : 'none';\n",
       "\n",
       "        async function convertToInteractive(key) {\n",
       "          const element = document.querySelector('#df-65cdbe73-12cd-4b62-8b20-8c7c5b3fe3e0');\n",
       "          const dataTable =\n",
       "            await google.colab.kernel.invokeFunction('convertToInteractive',\n",
       "                                                     [key], {});\n",
       "          if (!dataTable) return;\n",
       "\n",
       "          const docLinkHtml = 'Like what you see? Visit the ' +\n",
       "            '<a target=\"_blank\" href=https://colab.research.google.com/notebooks/data_table.ipynb>data table notebook</a>'\n",
       "            + ' to learn more about interactive tables.';\n",
       "          element.innerHTML = '';\n",
       "          dataTable['output_type'] = 'display_data';\n",
       "          await google.colab.output.renderOutput(dataTable, element);\n",
       "          const docLink = document.createElement('div');\n",
       "          docLink.innerHTML = docLinkHtml;\n",
       "          element.appendChild(docLink);\n",
       "        }\n",
       "      </script>\n",
       "    </div>\n",
       "  </div>\n",
       "  "
      ],
      "text/plain": [
       "       longitude  latitude  housing_median_age  total_rooms  total_bedrooms  \\\n",
       "0        -114.31     34.19                15.0       5612.0          1283.0   \n",
       "1        -114.47     34.40                19.0       7650.0          1901.0   \n",
       "2        -114.56     33.69                17.0        720.0           174.0   \n",
       "3        -114.57     33.64                14.0       1501.0           337.0   \n",
       "4        -114.57     33.57                20.0       1454.0           326.0   \n",
       "...          ...       ...                 ...          ...             ...   \n",
       "16995    -124.26     40.58                52.0       2217.0           394.0   \n",
       "16996    -124.27     40.69                36.0       2349.0           528.0   \n",
       "16997    -124.30     41.84                17.0       2677.0           531.0   \n",
       "16998    -124.30     41.80                19.0       2672.0           552.0   \n",
       "16999    -124.35     40.54                52.0       1820.0           300.0   \n",
       "\n",
       "       population  households  median_income  median_house_value  \n",
       "0          1015.0       472.0         1.4936             66900.0  \n",
       "1          1129.0       463.0         1.8200             80100.0  \n",
       "2           333.0       117.0         1.6509             85700.0  \n",
       "3           515.0       226.0         3.1917             73400.0  \n",
       "4           624.0       262.0         1.9250             65500.0  \n",
       "...           ...         ...            ...                 ...  \n",
       "16995       907.0       369.0         2.3571            111400.0  \n",
       "16996      1194.0       465.0         2.5179             79000.0  \n",
       "16997      1244.0       456.0         3.0313            103600.0  \n",
       "16998      1298.0       478.0         1.9797             85800.0  \n",
       "16999       806.0       270.0         3.0147             94600.0  \n",
       "\n",
       "[17000 rows x 9 columns]"
      ]
     },
     "execution_count": 30,
     "metadata": {},
     "output_type": "execute_result"
    }
   ],
   "source": [
    "data"
   ]
  },
  {
   "cell_type": "code",
   "execution_count": 30,
   "metadata": {
    "executionInfo": {
     "elapsed": 1,
     "status": "ok",
     "timestamp": 1652543769308,
     "user": {
      "displayName": "Abhay Patel",
      "userId": "03621184276517042201"
     },
     "user_tz": -330
    },
    "id": "30GNWElD7vMJ"
   },
   "outputs": [],
   "source": []
  },
  {
   "cell_type": "code",
   "execution_count": 31,
   "metadata": {
    "executionInfo": {
     "elapsed": 1,
     "status": "ok",
     "timestamp": 1652543769955,
     "user": {
      "displayName": "Abhay Patel",
      "userId": "03621184276517042201"
     },
     "user_tz": -330
    },
    "id": "WWuK3ailqou6"
   },
   "outputs": [],
   "source": [
    "x=data[['total_rooms','total_bedrooms','population']]\n",
    "x=x.head(100)\n",
    "x=np.array(x)\n",
    "\n",
    "## To predict household "
   ]
  },
  {
   "cell_type": "code",
   "execution_count": 31,
   "metadata": {
    "executionInfo": {
     "elapsed": 377,
     "status": "ok",
     "timestamp": 1652543772000,
     "user": {
      "displayName": "Abhay Patel",
      "userId": "03621184276517042201"
     },
     "user_tz": -330
    },
    "id": "AEpV0963rfT8"
   },
   "outputs": [],
   "source": []
  },
  {
   "cell_type": "code",
   "execution_count": 32,
   "metadata": {
    "executionInfo": {
     "elapsed": 1,
     "status": "ok",
     "timestamp": 1652543772585,
     "user": {
      "displayName": "Abhay Patel",
      "userId": "03621184276517042201"
     },
     "user_tz": -330
    },
    "id": "pbYBQ5dtuoWs"
   },
   "outputs": [],
   "source": [
    "y=data[['households']]\n",
    "\n",
    "y=y.head(100)\n",
    "\n",
    "y=np.array(y)"
   ]
  },
  {
   "cell_type": "code",
   "execution_count": 33,
   "metadata": {
    "executionInfo": {
     "elapsed": 2,
     "status": "ok",
     "timestamp": 1652543774308,
     "user": {
      "displayName": "Abhay Patel",
      "userId": "03621184276517042201"
     },
     "user_tz": -330
    },
    "id": "X0b6wMuUuSFV"
   },
   "outputs": [],
   "source": [
    "def pp(z):   ##Pre processing function for normalization\n",
    "  return(z - np.mean(z))/np.std(z)"
   ]
  },
  {
   "cell_type": "code",
   "execution_count": 34,
   "metadata": {
    "executionInfo": {
     "elapsed": 2,
     "status": "ok",
     "timestamp": 1652543774907,
     "user": {
      "displayName": "Abhay Patel",
      "userId": "03621184276517042201"
     },
     "user_tz": -330
    },
    "id": "TftFo8N4zN7C"
   },
   "outputs": [],
   "source": [
    "X=x\n",
    "Y=y"
   ]
  },
  {
   "cell_type": "code",
   "execution_count": 35,
   "metadata": {
    "executionInfo": {
     "elapsed": 1,
     "status": "ok",
     "timestamp": 1652543776089,
     "user": {
      "displayName": "Abhay Patel",
      "userId": "03621184276517042201"
     },
     "user_tz": -330
    },
    "id": "NT3e3p32wMwq"
   },
   "outputs": [],
   "source": [
    "pre_x = [pp(i) for i in X]   ##moded/normalised x values \n",
    "X = np.array(pre_x)\n",
    "X = np.c_[np.ones(X.shape[0]), X]   ##added 1 to all the elements"
   ]
  },
  {
   "cell_type": "code",
   "execution_count": 36,
   "metadata": {
    "executionInfo": {
     "elapsed": 2,
     "status": "ok",
     "timestamp": 1652543776686,
     "user": {
      "displayName": "Abhay Patel",
      "userId": "03621184276517042201"
     },
     "user_tz": -330
    },
    "id": "WqEHFNTmwNOH"
   },
   "outputs": [],
   "source": [
    "def pred(X,theta):          #Prediction fucntion\n",
    "  result = np.dot(X,theta)\n",
    "  return result\n",
    "\n",
    "def loss(X,theta,Y):        #loss function\n",
    "  # result = sum(np.square(pred(X,theta)-Y))   \n",
    "  result = np.dot((pred(X,theta)-Y),(pred(X,theta)-Y).T)\n",
    "\n",
    "  return result\n",
    "\n",
    "\n"
   ]
  },
  {
   "cell_type": "code",
   "execution_count": 37,
   "metadata": {
    "colab": {
     "base_uri": "https://localhost:8080/",
     "height": 356
    },
    "executionInfo": {
     "elapsed": 375,
     "status": "error",
     "timestamp": 1652543779209,
     "user": {
      "displayName": "Abhay Patel",
      "userId": "03621184276517042201"
     },
     "user_tz": -330
    },
    "id": "IWUWg6MnwNSl",
    "outputId": "90b78610-339c-44db-a10b-43b8718ec8da"
   },
   "outputs": [
    {
     "ename": "ValueError",
     "evalue": "ignored",
     "output_type": "error",
     "traceback": [
      "\u001b[0;31m---------------------------------------------------------------------------\u001b[0m",
      "\u001b[0;31mValueError\u001b[0m                                Traceback (most recent call last)",
      "\u001b[0;32m<ipython-input-37-cc0395b4c442>\u001b[0m in \u001b[0;36m<module>\u001b[0;34m()\u001b[0m\n\u001b[1;32m     19\u001b[0m   \u001b[0;32mreturn\u001b[0m \u001b[0mtheta\u001b[0m\u001b[0;34m\u001b[0m\u001b[0;34m\u001b[0m\u001b[0m\n\u001b[1;32m     20\u001b[0m \u001b[0;34m\u001b[0m\u001b[0m\n\u001b[0;32m---> 21\u001b[0;31m \u001b[0mtheta\u001b[0m \u001b[0;34m=\u001b[0m \u001b[0mfit\u001b[0m\u001b[0;34m(\u001b[0m\u001b[0mX\u001b[0m\u001b[0;34m[\u001b[0m\u001b[0;36m0\u001b[0m\u001b[0;34m:\u001b[0m\u001b[0;34m-\u001b[0m\u001b[0;36m1\u001b[0m\u001b[0;34m]\u001b[0m\u001b[0;34m,\u001b[0m\u001b[0mY\u001b[0m\u001b[0;34m)\u001b[0m\u001b[0;34m\u001b[0m\u001b[0;34m\u001b[0m\u001b[0m\n\u001b[0m",
      "\u001b[0;32m<ipython-input-37-cc0395b4c442>\u001b[0m in \u001b[0;36mfit\u001b[0;34m(X, Y)\u001b[0m\n\u001b[1;32m     13\u001b[0m     \u001b[0;31m# theta1 = theta[1] - lr*dif1\u001b[0m\u001b[0;34m\u001b[0m\u001b[0;34m\u001b[0m\u001b[0;34m\u001b[0m\u001b[0m\n\u001b[1;32m     14\u001b[0m     \u001b[0;31m# theta2 =\u001b[0m\u001b[0;34m\u001b[0m\u001b[0;34m\u001b[0m\u001b[0;34m\u001b[0m\u001b[0m\n\u001b[0;32m---> 15\u001b[0;31m     \u001b[0mtheta\u001b[0m \u001b[0;34m=\u001b[0m \u001b[0mtheta\u001b[0m \u001b[0;34m-\u001b[0m \u001b[0mnp\u001b[0m\u001b[0;34m.\u001b[0m\u001b[0mdot\u001b[0m\u001b[0;34m(\u001b[0m\u001b[0mX\u001b[0m\u001b[0;34m.\u001b[0m\u001b[0mT\u001b[0m\u001b[0;34m,\u001b[0m\u001b[0;34m(\u001b[0m\u001b[0mpred\u001b[0m\u001b[0;34m(\u001b[0m\u001b[0mX\u001b[0m\u001b[0;34m,\u001b[0m\u001b[0mtheta\u001b[0m\u001b[0;34m)\u001b[0m\u001b[0;34m-\u001b[0m\u001b[0mY\u001b[0m\u001b[0;34m)\u001b[0m\u001b[0;34m)\u001b[0m\u001b[0;34m*\u001b[0m\u001b[0;34m(\u001b[0m\u001b[0mlr\u001b[0m\u001b[0;34m/\u001b[0m\u001b[0mX\u001b[0m\u001b[0;34m.\u001b[0m\u001b[0mshape\u001b[0m\u001b[0;34m[\u001b[0m\u001b[0;36m0\u001b[0m\u001b[0;34m]\u001b[0m\u001b[0;34m)\u001b[0m\u001b[0;34m\u001b[0m\u001b[0;34m\u001b[0m\u001b[0m\n\u001b[0m\u001b[1;32m     16\u001b[0m \u001b[0;34m\u001b[0m\u001b[0m\n\u001b[1;32m     17\u001b[0m \u001b[0;34m\u001b[0m\u001b[0m\n",
      "\u001b[0;32m<__array_function__ internals>\u001b[0m in \u001b[0;36mdot\u001b[0;34m(*args, **kwargs)\u001b[0m\n",
      "\u001b[0;31mValueError\u001b[0m: shapes (4,99) and (100,99) not aligned: 99 (dim 1) != 100 (dim 0)"
     ]
    }
   ],
   "source": [
    "\n",
    "\n",
    "def fit(X,Y):\n",
    "  lr = 0.1\n",
    "  theta = [1]*X.shape[1]\n",
    "  for i in range(1,500):\n",
    "    res = loss(X,theta,Y)\n",
    "    # dif0 = sum((pred(X,theta)-Y))/M\n",
    "    # dif1 = sum((pred(X,theta)-Y)*[i[1] for i in X])/M\n",
    "    # dif2 = sum((pred(X,theta)-Y)*[i[1] for i in X])/M\n",
    "\n",
    "    # theta0 = theta[0] - lr*dif0\n",
    "    # theta1 = theta[1] - lr*dif1\n",
    "    # theta2 = \n",
    "    theta = theta - np.dot(X.T,(pred(X,theta)-Y))*(lr/X.shape[0])\n",
    "\n",
    "   \n",
    "    print(round(res,2))\n",
    "  return theta\n",
    "\n",
    "theta = fit(X[0:-1],Y)"
   ]
  },
  {
   "cell_type": "code",
   "execution_count": 38,
   "metadata": {
    "executionInfo": {
     "elapsed": 382,
     "status": "ok",
     "timestamp": 1652543788537,
     "user": {
      "displayName": "Abhay Patel",
      "userId": "03621184276517042201"
     },
     "user_tz": -330
    },
    "id": "Qa1tCG8vy_LC"
   },
   "outputs": [],
   "source": [
    "Z=[2672.0,552.0,1298.0]"
   ]
  },
  {
   "cell_type": "code",
   "execution_count": 45,
   "metadata": {
    "executionInfo": {
     "elapsed": 588,
     "status": "ok",
     "timestamp": 1652543906793,
     "user": {
      "displayName": "Abhay Patel",
      "userId": "03621184276517042201"
     },
     "user_tz": -330
    },
    "id": "1RivqcAZysYL"
   },
   "outputs": [],
   "source": [
    "from numpy.core.numeric import ones\n",
    "temp = Z\n",
    "one = np.ones(1)\n",
    "t = np.concatenate([one,pp(temp)])"
   ]
  },
  {
   "cell_type": "code",
   "execution_count": 45,
   "metadata": {
    "executionInfo": {
     "elapsed": 2,
     "status": "ok",
     "timestamp": 1652543907460,
     "user": {
      "displayName": "Abhay Patel",
      "userId": "03621184276517042201"
     },
     "user_tz": -330
    },
    "id": "rJ_-F2oCy5WD"
   },
   "outputs": [],
   "source": []
  },
  {
   "cell_type": "code",
   "execution_count": 46,
   "metadata": {
    "executionInfo": {
     "elapsed": 3,
     "status": "ok",
     "timestamp": 1652543907461,
     "user": {
      "displayName": "Abhay Patel",
      "userId": "03621184276517042201"
     },
     "user_tz": -330
    },
    "id": "MJOnpBHgwNW_"
   },
   "outputs": [],
   "source": [
    "theta=5"
   ]
  },
  {
   "cell_type": "code",
   "execution_count": 47,
   "metadata": {
    "colab": {
     "base_uri": "https://localhost:8080/"
    },
    "executionInfo": {
     "elapsed": 383,
     "status": "ok",
     "timestamp": 1652543925591,
     "user": {
      "displayName": "Abhay Patel",
      "userId": "03621184276517042201"
     },
     "user_tz": -330
    },
    "id": "y4FqvuS9vQ0w",
    "outputId": "a93f47fc-4a14-424f-d576-66fe6558b8d6"
   },
   "outputs": [
    {
     "data": {
      "text/plain": [
       "array([[28060.,  6415.,  5075.],\n",
       "       [38250.,  9505.,  5645.],\n",
       "       [ 3600.,   870.,  1665.],\n",
       "       [ 7505.,  1685.,  2575.],\n",
       "       [ 7270.,  1630.,  3120.],\n",
       "       [ 6935.,  1180.,  3355.],\n",
       "       [14535.,  3400.,  9205.],\n",
       "       [ 4060.,   840.,  1875.],\n",
       "       [23945.,  5875., 15670.],\n",
       "       [ 7485.,  1545.,  3935.],\n",
       "       [18705.,  4005., 12170.],\n",
       "       [ 9940.,  2415.,  5910.],\n",
       "       [ 6455.,  1240.,  2900.],\n",
       "       [12390.,  2320.,  6730.],\n",
       "       [ 7240.,  1890.,  4745.],\n",
       "       [12780.,  2935.,  5025.],\n",
       "       [ 8390.,  1610.,  3330.],\n",
       "       [  220.,   165.,   320.],\n",
       "       [ 6940.,  1930.,  3875.],\n",
       "       [  485.,   120.,   145.],\n",
       "       [ 7455.,  1800.,  5675.],\n",
       "       [ 3980.,  1215.,  1135.],\n",
       "       [ 1750.,   475.,   595.],\n",
       "       [ 3220.,   645.,   685.],\n",
       "       [ 8530.,  1985., 17120.],\n",
       "       [ 2955.,   695.,  1635.],\n",
       "       [ 8010.,  1610.,  5650.],\n",
       "       [ 6380.,  1350.,  4335.],\n",
       "       [ 3705.,   955.,  3115.],\n",
       "       [ 7290.,  1470.,  4330.],\n",
       "       [ 9460.,  1970.,  5875.],\n",
       "       [ 6315.,  1310.,  4750.],\n",
       "       [ 5680.,   980.,  2405.],\n",
       "       [ 5435.,   855.,  3245.],\n",
       "       [ 2915.,   565.,  2655.],\n",
       "       [ 5705.,  1100.,  3420.],\n",
       "       [ 6170.,  1865.,  3885.],\n",
       "       [ 6300.,  1230.,  4025.],\n",
       "       [17070.,  3330., 10485.],\n",
       "       [ 2705.,   520.,  2285.],\n",
       "       [ 9800.,  1945.,  8455.],\n",
       "       [ 7615.,  2200.,  6510.],\n",
       "       [11610.,  2865., 10925.],\n",
       "       [ 1650.,   360.,  4110.],\n",
       "       [18155.,  4565., 17825.],\n",
       "       [10795.,  2460.,  8470.],\n",
       "       [ 9975.,  2615.,  5345.],\n",
       "       [ 5120.,  1090.,  4450.],\n",
       "       [ 7010.,  1435.,  5520.],\n",
       "       [14360.,  3050., 13220.],\n",
       "       [ 2700.,   680.,   610.],\n",
       "       [ 5545.,  1415.,  5030.],\n",
       "       [ 6635.,  1310.,  3920.],\n",
       "       [ 8075.,  1910.,  6535.],\n",
       "       [ 8085.,  1830.,  7080.],\n",
       "       [ 9395.,  1935.,  6880.],\n",
       "       [ 8575.,  1685.,  5830.],\n",
       "       [ 5950.,  1375.,  5565.],\n",
       "       [14020.,  2905., 14035.],\n",
       "       [ 4035.,   995.,  1230.],\n",
       "       [12890.,  3170., 10410.],\n",
       "       [ 7915.,  1700.,  4665.],\n",
       "       [11155.,  2725.,  7840.],\n",
       "       [ 7635.,  1625.,  7265.],\n",
       "       [ 7295.,  1865.,  5740.],\n",
       "       [ 8485.,  1340.,  4555.],\n",
       "       [ 7565.,  1975.,  5605.],\n",
       "       [12145.,  2270.,  5940.],\n",
       "       [ 8560.,  2015.,  6850.],\n",
       "       [11330.,  1825.,  4760.],\n",
       "       [12825.,  2650.,  7235.],\n",
       "       [ 7700.,  1580.,  5065.],\n",
       "       [ 3330.,   710.,  2900.],\n",
       "       [ 5020.,  1105.,  3485.],\n",
       "       [ 2825.,   810.,  3460.],\n",
       "       [13260.,  3030.,  8835.],\n",
       "       [10820.,  2400.,  5820.],\n",
       "       [ 8360.,  2080.,  6675.],\n",
       "       [ 6555.,  1875.,  5965.],\n",
       "       [ 5855.,  1640.,  5120.],\n",
       "       [11860.,  4175., 11415.],\n",
       "       [ 5890.,  2190.,  6885.],\n",
       "       [12555.,  2450.,  7915.],\n",
       "       [ 5925.,  1010.,  3075.],\n",
       "       [ 7840.,  1415.,  4240.],\n",
       "       [ 6390.,  1085.,  3265.],\n",
       "       [ 6825.,  1345.,  4125.],\n",
       "       [ 5195.,  1280.,  3640.],\n",
       "       [ 6035.,  1505.,  4020.],\n",
       "       [ 7470.,  1445.,  4795.],\n",
       "       [11380.,  2970.,  5920.],\n",
       "       [ 5760.,  1040.,  3105.],\n",
       "       [ 7670.,  1175.,  4355.],\n",
       "       [ 7065.,  1395.,  4015.],\n",
       "       [ 5805.,  1410.,  3620.],\n",
       "       [ 4025.,   715.,  2290.],\n",
       "       [ 5440.,  1015.,  2665.],\n",
       "       [ 8435.,  2535.,  3810.],\n",
       "       [12470.,  2070.,  7080.],\n",
       "       [ 8040.,  1370.,  4310.]])"
      ]
     },
     "execution_count": 47,
     "metadata": {},
     "output_type": "execute_result"
    }
   ],
   "source": [
    "pred(x,theta)"
   ]
  },
  {
   "cell_type": "code",
   "execution_count": 43,
   "metadata": {
    "colab": {
     "base_uri": "https://localhost:8080/",
     "height": 217
    },
    "executionInfo": {
     "elapsed": 404,
     "status": "error",
     "timestamp": 1652543862554,
     "user": {
      "displayName": "Abhay Patel",
      "userId": "03621184276517042201"
     },
     "user_tz": -330
    },
    "id": "C61mrvLqSTuK",
    "outputId": "a39239a4-bf40-4104-c2ed-ddcced88e9a8"
   },
   "outputs": [
    {
     "ename": "TypeError",
     "evalue": "ignored",
     "output_type": "error",
     "traceback": [
      "\u001b[0;31m---------------------------------------------------------------------------\u001b[0m",
      "\u001b[0;31mTypeError\u001b[0m                                 Traceback (most recent call last)",
      "\u001b[0;32m<ipython-input-43-a8163730e9cb>\u001b[0m in \u001b[0;36m<module>\u001b[0;34m()\u001b[0m\n\u001b[0;32m----> 1\u001b[0;31m \u001b[0;34m[\u001b[0m\u001b[0mint\u001b[0m\u001b[0;34m(\u001b[0m\u001b[0mi\u001b[0m\u001b[0;34m)\u001b[0m \u001b[0;32mfor\u001b[0m \u001b[0mi\u001b[0m \u001b[0;32min\u001b[0m \u001b[0;34m(\u001b[0m\u001b[0mpred\u001b[0m\u001b[0;34m(\u001b[0m\u001b[0mX\u001b[0m\u001b[0;34m,\u001b[0m\u001b[0mtheta\u001b[0m\u001b[0;34m)\u001b[0m\u001b[0;34m)\u001b[0m\u001b[0;34m]\u001b[0m\u001b[0;34m\u001b[0m\u001b[0;34m\u001b[0m\u001b[0m\n\u001b[0m",
      "\u001b[0;32m<ipython-input-43-a8163730e9cb>\u001b[0m in \u001b[0;36m<listcomp>\u001b[0;34m(.0)\u001b[0m\n\u001b[0;32m----> 1\u001b[0;31m \u001b[0;34m[\u001b[0m\u001b[0mint\u001b[0m\u001b[0;34m(\u001b[0m\u001b[0mi\u001b[0m\u001b[0;34m)\u001b[0m \u001b[0;32mfor\u001b[0m \u001b[0mi\u001b[0m \u001b[0;32min\u001b[0m \u001b[0;34m(\u001b[0m\u001b[0mpred\u001b[0m\u001b[0;34m(\u001b[0m\u001b[0mX\u001b[0m\u001b[0;34m,\u001b[0m\u001b[0mtheta\u001b[0m\u001b[0;34m)\u001b[0m\u001b[0;34m)\u001b[0m\u001b[0;34m]\u001b[0m\u001b[0;34m\u001b[0m\u001b[0;34m\u001b[0m\u001b[0m\n\u001b[0m",
      "\u001b[0;31mTypeError\u001b[0m: only size-1 arrays can be converted to Python scalars"
     ]
    }
   ],
   "source": [
    "[int(i) for i in (pred(X,theta))]"
   ]
  },
  {
   "cell_type": "code",
   "execution_count": null,
   "metadata": {
    "id": "gcWJpb3kSjMI"
   },
   "outputs": [],
   "source": []
  },
  {
   "cell_type": "code",
   "execution_count": 44,
   "metadata": {
    "executionInfo": {
     "elapsed": 532,
     "status": "ok",
     "timestamp": 1652543879238,
     "user": {
      "displayName": "Abhay Patel",
      "userId": "03621184276517042201"
     },
     "user_tz": -330
    },
    "id": "NlbBt4FSSm68"
   },
   "outputs": [],
   "source": [
    "from numpy.core.numeric import ones\n",
    "temp = np.array([5000,5,1,1,3500,1,8,13,1])\n",
    "one = np.ones(1)\n",
    "t = np.concatenate([one,pp(temp)])"
   ]
  },
  {
   "cell_type": "code",
   "execution_count": null,
   "metadata": {
    "id": "9FkdRScQSnOl"
   },
   "outputs": [],
   "source": []
  }
 ],
 "metadata": {
  "colab": {
   "authorship_tag": "ABX9TyOVWrGrx6/tCb51cr3nMryt",
   "collapsed_sections": [],
   "name": "ML practice Abhay with 2  variables",
   "provenance": []
  },
  "kernelspec": {
   "display_name": "Python 3 (ipykernel)",
   "language": "python",
   "name": "python3"
  },
  "language_info": {
   "codemirror_mode": {
    "name": "ipython",
    "version": 3
   },
   "file_extension": ".py",
   "mimetype": "text/x-python",
   "name": "python",
   "nbconvert_exporter": "python",
   "pygments_lexer": "ipython3",
   "version": "3.11.7"
  }
 },
 "nbformat": 4,
 "nbformat_minor": 4
}
