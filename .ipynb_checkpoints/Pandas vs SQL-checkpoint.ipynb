{
 "cells": [
  {
   "cell_type": "code",
   "execution_count": 330,
   "id": "8d5467e4-57a3-4335-be50-fc0b9062dc89",
   "metadata": {},
   "outputs": [],
   "source": [
    "#### Customers\n",
    "from io import StringIO\n",
    "\n",
    "csv_data = \"\"\"customer_id,customer_name,age,email,total_items_purchased,signup_date,avg_monthly_expenses\n",
    "1,Alice Smith,34,alice@example.com,150,2020-05-12,300\n",
    "2,Bob Johnson,28,bob@example.com,200,2019-08-20,400\n",
    "3,Charlie Davis,40,charlie@example.com,300,2018-11-15,600\n",
    "4,Diana Evans,22,diana@example.com,100,2022-03-10,200\n",
    "5,Ella Thompson,35,ella@exmaple.in,250,2021-07-08,450\n",
    "6,Franklin Moore,45,franklin@example.com,120,2020-09-24,350\n",
    "7,Grace Harris,29,grace@example.com,170,2019-04-05,280\n",
    "8,Henry Carter,33,henry@example.com,90,2021-01-18,190\n",
    "9,Isla Foster,27,isla@example.com,220,2018-12-10,320\n",
    "10,Jack Nelson,50,jack@example.com,400,2017-02-14,700\"\"\"\n",
    "\n",
    "customers_csv = StringIO(csv_data)\n"
   ]
  },
  {
   "cell_type": "code",
   "execution_count": 331,
   "id": "396bbe99-4a9c-4533-b170-e2cd3c476b23",
   "metadata": {},
   "outputs": [],
   "source": [
    "#### Orders\n",
    "from io import StringIO\n",
    "\n",
    "# CSV data as a string\n",
    "csv_data =  \"\"\"order_id,customer_id,order_amount,order_date,total_items_ordered,shipping_method,order_status,discount_rate,is_gift,delivery_time_in_days,order_notes,payment_method\n",
    "101,1,250,2024-01-15,3,1,1,0.10,0,5,\"Birthday gift\",1\n",
    "102,2,150,2024-01-18,2,2,2,0.05,1,2,\"Urgent delivery\",2\n",
    "103,1,300,2024-01-20,5,1,1,0.15,0,7,\"Regular order\",1\n",
    "104,3,500,2024-01-25,7,3,3,0.20,1,0,\"Rush order\",3\n",
    "105,5,100,2024-01-28,1,1,4,0.00,0,6,\"Cancel due to duplicate\",2\n",
    "106,6,400,2024-02-05,6,2,1,0.10,1,3,\"Wedding gift\",1\n",
    "107,4,600,2024-02-10,10,3,1,0.25,0,1,\"Event order\",3\n",
    "108,2,350,2024-02-12,4,1,3,0.08,0,5,\"Standard delivery\",2\n",
    "109,1,450,2024-02-15,8,3,2,0.18,0,1,\"Large order\",1\n",
    "110,7,250,2024-02-18,3,2,1,0.12,1,4,\"Gift order\",1\n",
    "111,3,550,2024-02-20,9,1,3,0.05,0,6,\"No rush\",3\n",
    "112,8,200,2024-02-25,2,3,2,0.20,1,1,\"Urgent request\",1\n",
    "113,6,300,2024-02-27,5,2,1,0.10,0,3,\"Regular order\",2\n",
    "114,9,150,2024-03-01,1,1,4,0.00,0,7,\"Cancel due to delay\",3\n",
    "115,10,700,2024-03-05,12,3,1,0.30,1,0,\"High priority\",1\n",
    "\"\"\"\n",
    "\n",
    "orders_csv = StringIO(csv_data)\n"
   ]
  },
  {
   "cell_type": "code",
   "execution_count": 332,
   "id": "13b797f6-d0a5-41fd-be89-34dc717e9c7e",
   "metadata": {
    "scrolled": true
   },
   "outputs": [],
   "source": [
    "import seaborn as sns\n",
    "titanic = sns.load_dataset('titanic')"
   ]
  },
  {
   "cell_type": "code",
   "execution_count": null,
   "id": "d893bb20-0995-469d-88d1-aa0709ad4646",
   "metadata": {},
   "outputs": [],
   "source": []
  },
  {
   "cell_type": "markdown",
   "id": "e2ace37f-baf7-4708-b913-04b72da1b702",
   "metadata": {},
   "source": [
    "*** Practice Tasks: <br>\n",
    "Load the Data: Read the customers and orders CSV files using Pandas.\n",
    "\n",
    "\n"
   ]
  },
  {
   "cell_type": "code",
   "execution_count": 334,
   "id": "af468ace-b39f-4c09-bca7-0e58e6c12286",
   "metadata": {},
   "outputs": [],
   "source": [
    "import pandas as pd\n",
    "df_customers = pd.read_csv(customers_csv)\n",
    "df_orders = pd.read_csv(orders_csv)\n",
    "df=titanic"
   ]
  },
  {
   "cell_type": "code",
   "execution_count": null,
   "id": "6eb5dd34-2394-4914-bd85-72306c836825",
   "metadata": {},
   "outputs": [],
   "source": []
  },
  {
   "cell_type": "markdown",
   "id": "fff19ec2-6f49-4bea-9b05-5165fa89d1aa",
   "metadata": {},
   "source": [
    "\n",
    "Select Specific Columns: Extract customer names and ages. <br><br>\n",
    "__Filter Rows:__ Find customers older than 30 years.<br>\n",
    "__Join Tables:__ Merge the customers and orders tables based on customer_id.<br>\n",
    "__Group and Aggregate:__ Calculate the total order amount for each customer.<br>\n",
    "__Sort:__ Sort customers by the total order amount in descending order.<br>\n",
    "__Handle Missing Data:__ Find customers who don’t have an email address.<br>\n",
    "__Create New Columns:__ Add a column for age in 5 years.<br>\n",
    "__Rename Columns:__ Change the customer_name column to name.<br>\n",
    "__Remove Duplicates:__ Remove duplicate customer names.<br>"
   ]
  },
  {
   "cell_type": "code",
   "execution_count": null,
   "id": "4f14308b-6db8-4a24-b64f-daa7737f914a",
   "metadata": {},
   "outputs": [],
   "source": []
  },
  {
   "cell_type": "code",
   "execution_count": null,
   "id": "eeae8922-02aa-4d9e-ac1b-9fbd4c211722",
   "metadata": {},
   "outputs": [],
   "source": []
  },
  {
   "cell_type": "markdown",
   "id": "202d8423-7a2b-4edc-8f87-d08c6bb7448e",
   "metadata": {},
   "source": [
    "### 1. Importing Data (Equivalent to SELECT *)\n",
    "Goal: Load data from a file, similar to querying all data from a table.\n",
    "\n",
    "SQL Query:\n",
    "\n",
    "```SELECT * FROM customers;```\n"
   ]
  },
  {
   "cell_type": "code",
   "execution_count": 335,
   "id": "c173b44b-5af4-4b32-957b-0ca1b92c6a62",
   "metadata": {},
   "outputs": [],
   "source": [
    "#Pandas Equivalent:\n",
    " \n",
    "import pandas as pd\n",
    "df_customers = pd.read_csv('customers.csv')\n",
    "df_orders = pd.read_csv('orders.csv')\n",
    "#Explanation:\n",
    "\n",
    "#pd.read_csv() reads data from a CSV file and loads it into a DataFrame. \n",
    "#This is like pulling all data from a table in SQL.\n"
   ]
  },
  {
   "cell_type": "code",
   "execution_count": 336,
   "id": "ab51f072-4249-4196-8f6f-62801abf4eab",
   "metadata": {},
   "outputs": [
    {
     "data": {
      "text/html": [
       "<div>\n",
       "<style scoped>\n",
       "    .dataframe tbody tr th:only-of-type {\n",
       "        vertical-align: middle;\n",
       "    }\n",
       "\n",
       "    .dataframe tbody tr th {\n",
       "        vertical-align: top;\n",
       "    }\n",
       "\n",
       "    .dataframe thead th {\n",
       "        text-align: right;\n",
       "    }\n",
       "</style>\n",
       "<table border=\"1\" class=\"dataframe\">\n",
       "  <thead>\n",
       "    <tr style=\"text-align: right;\">\n",
       "      <th></th>\n",
       "      <th>customer_id</th>\n",
       "      <th>customer_name</th>\n",
       "      <th>age</th>\n",
       "      <th>email</th>\n",
       "    </tr>\n",
       "  </thead>\n",
       "  <tbody>\n",
       "    <tr>\n",
       "      <th>0</th>\n",
       "      <td>1</td>\n",
       "      <td>Alice Smith</td>\n",
       "      <td>34</td>\n",
       "      <td>alice@example.com</td>\n",
       "    </tr>\n",
       "    <tr>\n",
       "      <th>1</th>\n",
       "      <td>2</td>\n",
       "      <td>Bob Johnson</td>\n",
       "      <td>28</td>\n",
       "      <td>bob@example.com</td>\n",
       "    </tr>\n",
       "    <tr>\n",
       "      <th>2</th>\n",
       "      <td>3</td>\n",
       "      <td>Charlie Davis</td>\n",
       "      <td>40</td>\n",
       "      <td>charlie@example.com</td>\n",
       "    </tr>\n",
       "  </tbody>\n",
       "</table>\n",
       "</div>"
      ],
      "text/plain": [
       "   customer_id  customer_name  age                email\n",
       "0            1    Alice Smith   34    alice@example.com\n",
       "1            2    Bob Johnson   28      bob@example.com\n",
       "2            3  Charlie Davis   40  charlie@example.com"
      ]
     },
     "execution_count": 336,
     "metadata": {},
     "output_type": "execute_result"
    }
   ],
   "source": [
    "df_customers.head(3)"
   ]
  },
  {
   "cell_type": "code",
   "execution_count": 337,
   "id": "52d1719b-25c5-4e85-a117-898de888f46a",
   "metadata": {},
   "outputs": [
    {
     "data": {
      "text/plain": [
       "array([[101, 1, 250, '2024-01-15'],\n",
       "       [102, 2, 150, '2024-01-18'],\n",
       "       [103, 1, 300, '2024-01-20'],\n",
       "       [104, 3, 500, '2024-01-25'],\n",
       "       [105, 5, 100, '2024-01-28']], dtype=object)"
      ]
     },
     "execution_count": 337,
     "metadata": {},
     "output_type": "execute_result"
    }
   ],
   "source": [
    "df_orders.values"
   ]
  },
  {
   "cell_type": "code",
   "execution_count": 338,
   "id": "8c2289f6-1435-4668-95c5-d201b7c50819",
   "metadata": {},
   "outputs": [
    {
     "data": {
      "text/html": [
       "<div>\n",
       "<style scoped>\n",
       "    .dataframe tbody tr th:only-of-type {\n",
       "        vertical-align: middle;\n",
       "    }\n",
       "\n",
       "    .dataframe tbody tr th {\n",
       "        vertical-align: top;\n",
       "    }\n",
       "\n",
       "    .dataframe thead th {\n",
       "        text-align: right;\n",
       "    }\n",
       "</style>\n",
       "<table border=\"1\" class=\"dataframe\">\n",
       "  <thead>\n",
       "    <tr style=\"text-align: right;\">\n",
       "      <th></th>\n",
       "      <th>survived</th>\n",
       "      <th>pclass</th>\n",
       "      <th>sex</th>\n",
       "      <th>age</th>\n",
       "      <th>sibsp</th>\n",
       "      <th>parch</th>\n",
       "      <th>fare</th>\n",
       "      <th>embarked</th>\n",
       "      <th>class</th>\n",
       "      <th>who</th>\n",
       "      <th>adult_male</th>\n",
       "      <th>deck</th>\n",
       "      <th>embark_town</th>\n",
       "      <th>alive</th>\n",
       "      <th>alone</th>\n",
       "    </tr>\n",
       "  </thead>\n",
       "  <tbody>\n",
       "    <tr>\n",
       "      <th>888</th>\n",
       "      <td>0</td>\n",
       "      <td>3</td>\n",
       "      <td>female</td>\n",
       "      <td>NaN</td>\n",
       "      <td>1</td>\n",
       "      <td>2</td>\n",
       "      <td>23.45</td>\n",
       "      <td>S</td>\n",
       "      <td>Third</td>\n",
       "      <td>woman</td>\n",
       "      <td>False</td>\n",
       "      <td>NaN</td>\n",
       "      <td>Southampton</td>\n",
       "      <td>no</td>\n",
       "      <td>False</td>\n",
       "    </tr>\n",
       "    <tr>\n",
       "      <th>889</th>\n",
       "      <td>1</td>\n",
       "      <td>1</td>\n",
       "      <td>male</td>\n",
       "      <td>26.0</td>\n",
       "      <td>0</td>\n",
       "      <td>0</td>\n",
       "      <td>30.00</td>\n",
       "      <td>C</td>\n",
       "      <td>First</td>\n",
       "      <td>man</td>\n",
       "      <td>True</td>\n",
       "      <td>C</td>\n",
       "      <td>Cherbourg</td>\n",
       "      <td>yes</td>\n",
       "      <td>True</td>\n",
       "    </tr>\n",
       "    <tr>\n",
       "      <th>890</th>\n",
       "      <td>0</td>\n",
       "      <td>3</td>\n",
       "      <td>male</td>\n",
       "      <td>32.0</td>\n",
       "      <td>0</td>\n",
       "      <td>0</td>\n",
       "      <td>7.75</td>\n",
       "      <td>Q</td>\n",
       "      <td>Third</td>\n",
       "      <td>man</td>\n",
       "      <td>True</td>\n",
       "      <td>NaN</td>\n",
       "      <td>Queenstown</td>\n",
       "      <td>no</td>\n",
       "      <td>True</td>\n",
       "    </tr>\n",
       "  </tbody>\n",
       "</table>\n",
       "</div>"
      ],
      "text/plain": [
       "     survived  pclass     sex   age  sibsp  parch   fare embarked  class  \\\n",
       "888         0       3  female   NaN      1      2  23.45        S  Third   \n",
       "889         1       1    male  26.0      0      0  30.00        C  First   \n",
       "890         0       3    male  32.0      0      0   7.75        Q  Third   \n",
       "\n",
       "       who  adult_male deck  embark_town alive  alone  \n",
       "888  woman       False  NaN  Southampton    no  False  \n",
       "889    man        True    C    Cherbourg   yes   True  \n",
       "890    man        True  NaN   Queenstown    no   True  "
      ]
     },
     "execution_count": 338,
     "metadata": {},
     "output_type": "execute_result"
    }
   ],
   "source": [
    "df.tail(3)"
   ]
  },
  {
   "cell_type": "markdown",
   "id": "7b34630d-380c-48b8-8731-b2cc5b939cda",
   "metadata": {},
   "source": [
    "### 2. SELECT Specific Columns\n",
    "Goal: Select specific columns from a dataframe.\n",
    "\n",
    "SQL Query: <br>\n",
    "```SELECT customer_name, age FROM customers;```\n"
   ]
  },
  {
   "cell_type": "code",
   "execution_count": 339,
   "id": "6a93b73a-1172-40a2-9e90-a483ffcc4c5e",
   "metadata": {},
   "outputs": [
    {
     "data": {
      "text/html": [
       "<div>\n",
       "<style scoped>\n",
       "    .dataframe tbody tr th:only-of-type {\n",
       "        vertical-align: middle;\n",
       "    }\n",
       "\n",
       "    .dataframe tbody tr th {\n",
       "        vertical-align: top;\n",
       "    }\n",
       "\n",
       "    .dataframe thead th {\n",
       "        text-align: right;\n",
       "    }\n",
       "</style>\n",
       "<table border=\"1\" class=\"dataframe\">\n",
       "  <thead>\n",
       "    <tr style=\"text-align: right;\">\n",
       "      <th></th>\n",
       "      <th>customer_name</th>\n",
       "      <th>age</th>\n",
       "    </tr>\n",
       "  </thead>\n",
       "  <tbody>\n",
       "    <tr>\n",
       "      <th>0</th>\n",
       "      <td>Alice Smith</td>\n",
       "      <td>34</td>\n",
       "    </tr>\n",
       "    <tr>\n",
       "      <th>1</th>\n",
       "      <td>Bob Johnson</td>\n",
       "      <td>28</td>\n",
       "    </tr>\n",
       "    <tr>\n",
       "      <th>2</th>\n",
       "      <td>Charlie Davis</td>\n",
       "      <td>40</td>\n",
       "    </tr>\n",
       "    <tr>\n",
       "      <th>3</th>\n",
       "      <td>Diana Evans</td>\n",
       "      <td>22</td>\n",
       "    </tr>\n",
       "    <tr>\n",
       "      <th>4</th>\n",
       "      <td>Ella Thompson</td>\n",
       "      <td>35</td>\n",
       "    </tr>\n",
       "  </tbody>\n",
       "</table>\n",
       "</div>"
      ],
      "text/plain": [
       "   customer_name  age\n",
       "0    Alice Smith   34\n",
       "1    Bob Johnson   28\n",
       "2  Charlie Davis   40\n",
       "3    Diana Evans   22\n",
       "4  Ella Thompson   35"
      ]
     },
     "execution_count": 339,
     "metadata": {},
     "output_type": "execute_result"
    }
   ],
   "source": [
    "#Pandas Equivalent:\n",
    "df_customers[['customer_name', 'age']]\n",
    "\n",
    "# Explanation:\n",
    "# This method is used to explicitly select one or more columns from a DataFrame. \n",
    "# It’s a straightforward and most common way to access specific columns by their names."
   ]
  },
  {
   "cell_type": "code",
   "execution_count": 340,
   "id": "dd3a3359-ad78-46bb-855e-4582619bccd2",
   "metadata": {},
   "outputs": [
    {
     "data": {
      "text/html": [
       "<div>\n",
       "<style scoped>\n",
       "    .dataframe tbody tr th:only-of-type {\n",
       "        vertical-align: middle;\n",
       "    }\n",
       "\n",
       "    .dataframe tbody tr th {\n",
       "        vertical-align: top;\n",
       "    }\n",
       "\n",
       "    .dataframe thead th {\n",
       "        text-align: right;\n",
       "    }\n",
       "</style>\n",
       "<table border=\"1\" class=\"dataframe\">\n",
       "  <thead>\n",
       "    <tr style=\"text-align: right;\">\n",
       "      <th></th>\n",
       "      <th>customer_name</th>\n",
       "      <th>age</th>\n",
       "    </tr>\n",
       "  </thead>\n",
       "  <tbody>\n",
       "    <tr>\n",
       "      <th>0</th>\n",
       "      <td>Alice Smith</td>\n",
       "      <td>34</td>\n",
       "    </tr>\n",
       "    <tr>\n",
       "      <th>1</th>\n",
       "      <td>Bob Johnson</td>\n",
       "      <td>28</td>\n",
       "    </tr>\n",
       "    <tr>\n",
       "      <th>2</th>\n",
       "      <td>Charlie Davis</td>\n",
       "      <td>40</td>\n",
       "    </tr>\n",
       "    <tr>\n",
       "      <th>3</th>\n",
       "      <td>Diana Evans</td>\n",
       "      <td>22</td>\n",
       "    </tr>\n",
       "    <tr>\n",
       "      <th>4</th>\n",
       "      <td>Ella Thompson</td>\n",
       "      <td>35</td>\n",
       "    </tr>\n",
       "  </tbody>\n",
       "</table>\n",
       "</div>"
      ],
      "text/plain": [
       "   customer_name  age\n",
       "0    Alice Smith   34\n",
       "1    Bob Johnson   28\n",
       "2  Charlie Davis   40\n",
       "3    Diana Evans   22\n",
       "4  Ella Thompson   35"
      ]
     },
     "execution_count": 340,
     "metadata": {},
     "output_type": "execute_result"
    }
   ],
   "source": [
    "# or\n",
    "# Select columns using filter\n",
    "df_filtered = df_customers.filter(['customer_name', 'age'])\n",
    "df_filtered\n",
    "#df_filtered = df_customers.filter(like='name','age', axis=1)\n",
    "# It selects specific rows or columns based on labels or patterns, \n",
    "#such as column names that contain a certain string or match a regular expression."
   ]
  },
  {
   "cell_type": "code",
   "execution_count": 341,
   "id": "84d5f614-d0f9-48a1-96f6-55f2cd1b7f4a",
   "metadata": {},
   "outputs": [
    {
     "data": {
      "text/html": [
       "<div>\n",
       "<style scoped>\n",
       "    .dataframe tbody tr th:only-of-type {\n",
       "        vertical-align: middle;\n",
       "    }\n",
       "\n",
       "    .dataframe tbody tr th {\n",
       "        vertical-align: top;\n",
       "    }\n",
       "\n",
       "    .dataframe thead th {\n",
       "        text-align: right;\n",
       "    }\n",
       "</style>\n",
       "<table border=\"1\" class=\"dataframe\">\n",
       "  <thead>\n",
       "    <tr style=\"text-align: right;\">\n",
       "      <th></th>\n",
       "      <th>customer_name</th>\n",
       "    </tr>\n",
       "  </thead>\n",
       "  <tbody>\n",
       "    <tr>\n",
       "      <th>0</th>\n",
       "      <td>Alice Smith</td>\n",
       "    </tr>\n",
       "    <tr>\n",
       "      <th>1</th>\n",
       "      <td>Bob Johnson</td>\n",
       "    </tr>\n",
       "    <tr>\n",
       "      <th>2</th>\n",
       "      <td>Charlie Davis</td>\n",
       "    </tr>\n",
       "    <tr>\n",
       "      <th>3</th>\n",
       "      <td>Diana Evans</td>\n",
       "    </tr>\n",
       "    <tr>\n",
       "      <th>4</th>\n",
       "      <td>Ella Thompson</td>\n",
       "    </tr>\n",
       "  </tbody>\n",
       "</table>\n",
       "</div>"
      ],
      "text/plain": [
       "   customer_name\n",
       "0    Alice Smith\n",
       "1    Bob Johnson\n",
       "2  Charlie Davis\n",
       "3    Diana Evans\n",
       "4  Ella Thompson"
      ]
     },
     "execution_count": 341,
     "metadata": {},
     "output_type": "execute_result"
    }
   ],
   "source": [
    "#Or\n",
    "# Select columns that contain the string \"name\"\n",
    "df_filtered = df_customers.get('customer_name') \n",
    "# df_filtered=df_filtered.to_frame()\n",
    "df_filtered=pd.DataFrame(df_filtered)\n",
    "df_filtered\n",
    "\n",
    "\n",
    "# df.get('column_name', 'default_value') \n",
    "# get() is a dictionary-style accessor in Pandas, mostly used for \n",
    "# safely accessing columns without raising a KeyError if the column doesn’t exist.\n",
    "# If the column isn’t found, it returns None or a specified default value."
   ]
  },
  {
   "cell_type": "code",
   "execution_count": null,
   "id": "2083fbd3-ee53-4f47-9a19-39ceef229695",
   "metadata": {},
   "outputs": [],
   "source": []
  },
  {
   "cell_type": "code",
   "execution_count": null,
   "id": "ade27a12-57d8-48d0-a2a5-e591b948d9ad",
   "metadata": {},
   "outputs": [],
   "source": []
  },
  {
   "cell_type": "code",
   "execution_count": null,
   "id": "b4f124b1-2e6f-48c9-8f51-726d52f888c4",
   "metadata": {},
   "outputs": [],
   "source": []
  },
  {
   "cell_type": "markdown",
   "id": "fef1e35c-d37a-48b0-8ee6-7328c5bc4bd9",
   "metadata": {},
   "source": [
    "### 3. Filtering Rows (Equivalent to WHERE Clause)\n",
    "Goal: Filter rows based on specific conditions.\n",
    "\n",
    "SQL Query:<br>\n",
    "```SELECT * FROM customers WHERE age > 30;```\n"
   ]
  },
  {
   "cell_type": "code",
   "execution_count": 342,
   "id": "782d7b61-d8fa-4254-85cd-31b2e1214ece",
   "metadata": {},
   "outputs": [
    {
     "data": {
      "text/html": [
       "<div>\n",
       "<style scoped>\n",
       "    .dataframe tbody tr th:only-of-type {\n",
       "        vertical-align: middle;\n",
       "    }\n",
       "\n",
       "    .dataframe tbody tr th {\n",
       "        vertical-align: top;\n",
       "    }\n",
       "\n",
       "    .dataframe thead th {\n",
       "        text-align: right;\n",
       "    }\n",
       "</style>\n",
       "<table border=\"1\" class=\"dataframe\">\n",
       "  <thead>\n",
       "    <tr style=\"text-align: right;\">\n",
       "      <th></th>\n",
       "      <th>customer_id</th>\n",
       "      <th>customer_name</th>\n",
       "      <th>age</th>\n",
       "      <th>email</th>\n",
       "    </tr>\n",
       "  </thead>\n",
       "  <tbody>\n",
       "    <tr>\n",
       "      <th>0</th>\n",
       "      <td>1</td>\n",
       "      <td>Alice Smith</td>\n",
       "      <td>34</td>\n",
       "      <td>alice@example.com</td>\n",
       "    </tr>\n",
       "    <tr>\n",
       "      <th>2</th>\n",
       "      <td>3</td>\n",
       "      <td>Charlie Davis</td>\n",
       "      <td>40</td>\n",
       "      <td>charlie@example.com</td>\n",
       "    </tr>\n",
       "    <tr>\n",
       "      <th>4</th>\n",
       "      <td>5</td>\n",
       "      <td>Ella Thompson</td>\n",
       "      <td>35</td>\n",
       "      <td>ella@example.in</td>\n",
       "    </tr>\n",
       "  </tbody>\n",
       "</table>\n",
       "</div>"
      ],
      "text/plain": [
       "   customer_id  customer_name  age                email\n",
       "0            1    Alice Smith   34    alice@example.com\n",
       "2            3  Charlie Davis   40  charlie@example.com\n",
       "4            5  Ella Thompson   35      ella@example.in"
      ]
     },
     "execution_count": 342,
     "metadata": {},
     "output_type": "execute_result"
    }
   ],
   "source": [
    "# Pandas Equivalent:\n",
    "df_customers[df_customers['age'] > 30]\n",
    "\n",
    "# Explanation:\n",
    "# In Pandas, filtering is done by passing a condition inside square brackets ([]).\n",
    "# df_customers[df_customers.age > 30]"
   ]
  },
  {
   "cell_type": "code",
   "execution_count": null,
   "id": "ce6823af-4b13-4fcf-af5c-bd6f34e45998",
   "metadata": {},
   "outputs": [],
   "source": []
  },
  {
   "cell_type": "code",
   "execution_count": 343,
   "id": "fdb1e149-fda7-4861-8071-79279b68f9b7",
   "metadata": {},
   "outputs": [
    {
     "data": {
      "text/html": [
       "<div>\n",
       "<style scoped>\n",
       "    .dataframe tbody tr th:only-of-type {\n",
       "        vertical-align: middle;\n",
       "    }\n",
       "\n",
       "    .dataframe tbody tr th {\n",
       "        vertical-align: top;\n",
       "    }\n",
       "\n",
       "    .dataframe thead th {\n",
       "        text-align: right;\n",
       "    }\n",
       "</style>\n",
       "<table border=\"1\" class=\"dataframe\">\n",
       "  <thead>\n",
       "    <tr style=\"text-align: right;\">\n",
       "      <th></th>\n",
       "      <th>age</th>\n",
       "      <th>fare</th>\n",
       "      <th>who</th>\n",
       "      <th>embark_town</th>\n",
       "    </tr>\n",
       "  </thead>\n",
       "  <tbody>\n",
       "    <tr>\n",
       "      <th>43</th>\n",
       "      <td>3.00</td>\n",
       "      <td>41.5792</td>\n",
       "      <td>child</td>\n",
       "      <td>Cherbourg</td>\n",
       "    </tr>\n",
       "    <tr>\n",
       "      <th>54</th>\n",
       "      <td>65.00</td>\n",
       "      <td>61.9792</td>\n",
       "      <td>man</td>\n",
       "      <td>Cherbourg</td>\n",
       "    </tr>\n",
       "    <tr>\n",
       "      <th>275</th>\n",
       "      <td>63.00</td>\n",
       "      <td>77.9583</td>\n",
       "      <td>woman</td>\n",
       "      <td>Southampton</td>\n",
       "    </tr>\n",
       "    <tr>\n",
       "      <th>297</th>\n",
       "      <td>2.00</td>\n",
       "      <td>151.5500</td>\n",
       "      <td>child</td>\n",
       "      <td>Southampton</td>\n",
       "    </tr>\n",
       "    <tr>\n",
       "      <th>305</th>\n",
       "      <td>0.92</td>\n",
       "      <td>151.5500</td>\n",
       "      <td>child</td>\n",
       "      <td>Southampton</td>\n",
       "    </tr>\n",
       "  </tbody>\n",
       "</table>\n",
       "</div>"
      ],
      "text/plain": [
       "       age      fare    who  embark_town\n",
       "43    3.00   41.5792  child    Cherbourg\n",
       "54   65.00   61.9792    man    Cherbourg\n",
       "275  63.00   77.9583  woman  Southampton\n",
       "297   2.00  151.5500  child  Southampton\n",
       "305   0.92  151.5500  child  Southampton"
      ]
     },
     "execution_count": 343,
     "metadata": {},
     "output_type": "execute_result"
    }
   ],
   "source": [
    "# Apply multiple conditions and fetch specific columns\n",
    "x=df[(df['fare'] > 40) & ((df.age <10) | (df['age'] >60))] [['age','fare','who', 'embark_town']]\n",
    "x.shape\n",
    "x.head()"
   ]
  },
  {
   "cell_type": "code",
   "execution_count": 344,
   "id": "ffd41f5a-3368-49dc-aafc-a94f75e31788",
   "metadata": {},
   "outputs": [
    {
     "data": {
      "text/html": [
       "<div>\n",
       "<style scoped>\n",
       "    .dataframe tbody tr th:only-of-type {\n",
       "        vertical-align: middle;\n",
       "    }\n",
       "\n",
       "    .dataframe tbody tr th {\n",
       "        vertical-align: top;\n",
       "    }\n",
       "\n",
       "    .dataframe thead th {\n",
       "        text-align: right;\n",
       "    }\n",
       "</style>\n",
       "<table border=\"1\" class=\"dataframe\">\n",
       "  <thead>\n",
       "    <tr style=\"text-align: right;\">\n",
       "      <th></th>\n",
       "      <th>age</th>\n",
       "      <th>fare</th>\n",
       "      <th>who</th>\n",
       "      <th>embark_town</th>\n",
       "    </tr>\n",
       "  </thead>\n",
       "  <tbody>\n",
       "    <tr>\n",
       "      <th>33</th>\n",
       "      <td>66.0</td>\n",
       "      <td>10.5000</td>\n",
       "      <td>man</td>\n",
       "      <td>Southampton</td>\n",
       "    </tr>\n",
       "    <tr>\n",
       "      <th>54</th>\n",
       "      <td>65.0</td>\n",
       "      <td>61.9792</td>\n",
       "      <td>man</td>\n",
       "      <td>Cherbourg</td>\n",
       "    </tr>\n",
       "    <tr>\n",
       "      <th>96</th>\n",
       "      <td>71.0</td>\n",
       "      <td>34.6542</td>\n",
       "      <td>man</td>\n",
       "      <td>Cherbourg</td>\n",
       "    </tr>\n",
       "    <tr>\n",
       "      <th>116</th>\n",
       "      <td>70.5</td>\n",
       "      <td>7.7500</td>\n",
       "      <td>man</td>\n",
       "      <td>Queenstown</td>\n",
       "    </tr>\n",
       "    <tr>\n",
       "      <th>170</th>\n",
       "      <td>61.0</td>\n",
       "      <td>33.5000</td>\n",
       "      <td>man</td>\n",
       "      <td>Southampton</td>\n",
       "    </tr>\n",
       "  </tbody>\n",
       "</table>\n",
       "</div>"
      ],
      "text/plain": [
       "      age     fare  who  embark_town\n",
       "33   66.0  10.5000  man  Southampton\n",
       "54   65.0  61.9792  man    Cherbourg\n",
       "96   71.0  34.6542  man    Cherbourg\n",
       "116  70.5   7.7500  man   Queenstown\n",
       "170  61.0  33.5000  man  Southampton"
      ]
     },
     "execution_count": 344,
     "metadata": {},
     "output_type": "execute_result"
    }
   ],
   "source": [
    "x=df[(df['fare']<=df['age']) & (df['age']>60)] [['age','fare','who', 'embark_town']]\n",
    "x.head(5)"
   ]
  },
  {
   "cell_type": "code",
   "execution_count": 345,
   "id": "51e21f5a-f12c-455e-83a7-b0f222d93fbb",
   "metadata": {
    "scrolled": true
   },
   "outputs": [
    {
     "data": {
      "text/html": [
       "<div>\n",
       "<style scoped>\n",
       "    .dataframe tbody tr th:only-of-type {\n",
       "        vertical-align: middle;\n",
       "    }\n",
       "\n",
       "    .dataframe tbody tr th {\n",
       "        vertical-align: top;\n",
       "    }\n",
       "\n",
       "    .dataframe thead th {\n",
       "        text-align: right;\n",
       "    }\n",
       "</style>\n",
       "<table border=\"1\" class=\"dataframe\">\n",
       "  <thead>\n",
       "    <tr style=\"text-align: right;\">\n",
       "      <th></th>\n",
       "      <th>age</th>\n",
       "      <th>fare</th>\n",
       "    </tr>\n",
       "  </thead>\n",
       "  <tbody>\n",
       "    <tr>\n",
       "      <th>275</th>\n",
       "      <td>63.0</td>\n",
       "      <td>77.9583</td>\n",
       "    </tr>\n",
       "    <tr>\n",
       "      <th>438</th>\n",
       "      <td>64.0</td>\n",
       "      <td>263.0000</td>\n",
       "    </tr>\n",
       "    <tr>\n",
       "      <th>745</th>\n",
       "      <td>70.0</td>\n",
       "      <td>71.0000</td>\n",
       "    </tr>\n",
       "    <tr>\n",
       "      <th>829</th>\n",
       "      <td>62.0</td>\n",
       "      <td>80.0000</td>\n",
       "    </tr>\n",
       "  </tbody>\n",
       "</table>\n",
       "</div>"
      ],
      "text/plain": [
       "      age      fare\n",
       "275  63.0   77.9583\n",
       "438  64.0  263.0000\n",
       "745  70.0   71.0000\n",
       "829  62.0   80.0000"
      ]
     },
     "execution_count": 345,
     "metadata": {},
     "output_type": "execute_result"
    }
   ],
   "source": [
    "x = df[(df.age <= df.fare) & (df.age > 60)][['age', 'fare']]\n",
    "x.head(4)"
   ]
  },
  {
   "cell_type": "code",
   "execution_count": 346,
   "id": "3e009eee-209d-4a87-9adf-1d2072621b7b",
   "metadata": {
    "scrolled": true
   },
   "outputs": [
    {
     "data": {
      "text/html": [
       "<div>\n",
       "<style scoped>\n",
       "    .dataframe tbody tr th:only-of-type {\n",
       "        vertical-align: middle;\n",
       "    }\n",
       "\n",
       "    .dataframe tbody tr th {\n",
       "        vertical-align: top;\n",
       "    }\n",
       "\n",
       "    .dataframe thead th {\n",
       "        text-align: right;\n",
       "    }\n",
       "</style>\n",
       "<table border=\"1\" class=\"dataframe\">\n",
       "  <thead>\n",
       "    <tr style=\"text-align: right;\">\n",
       "      <th></th>\n",
       "      <th>who</th>\n",
       "      <th>age</th>\n",
       "      <th>fare</th>\n",
       "    </tr>\n",
       "  </thead>\n",
       "  <tbody>\n",
       "    <tr>\n",
       "      <th>38</th>\n",
       "      <td>woman</td>\n",
       "      <td>18.0</td>\n",
       "      <td>18.0</td>\n",
       "    </tr>\n",
       "    <tr>\n",
       "      <th>312</th>\n",
       "      <td>woman</td>\n",
       "      <td>26.0</td>\n",
       "      <td>26.0</td>\n",
       "    </tr>\n",
       "  </tbody>\n",
       "</table>\n",
       "</div>"
      ],
      "text/plain": [
       "       who   age  fare\n",
       "38   woman  18.0  18.0\n",
       "312  woman  26.0  26.0"
      ]
     },
     "execution_count": 346,
     "metadata": {},
     "output_type": "execute_result"
    }
   ],
   "source": [
    "x = df.query('age == fare and age < 60')[['who','age', 'fare']]\n",
    "x\n"
   ]
  },
  {
   "cell_type": "code",
   "execution_count": null,
   "id": "8cbc53ed-9fe4-4ab1-9b34-0d39bf4632a3",
   "metadata": {},
   "outputs": [],
   "source": []
  },
  {
   "cell_type": "markdown",
   "id": "fdddc892-bd0a-4e69-aced-088b7b8da5c2",
   "metadata": {},
   "source": [
    "#### Column Manupulation"
   ]
  },
  {
   "cell_type": "code",
   "execution_count": 347,
   "id": "5f7539ff-2aaa-4726-87d0-2d474d5b91f2",
   "metadata": {
    "scrolled": true
   },
   "outputs": [
    {
     "data": {
      "text/html": [
       "<div>\n",
       "<style scoped>\n",
       "    .dataframe tbody tr th:only-of-type {\n",
       "        vertical-align: middle;\n",
       "    }\n",
       "\n",
       "    .dataframe tbody tr th {\n",
       "        vertical-align: top;\n",
       "    }\n",
       "\n",
       "    .dataframe thead th {\n",
       "        text-align: right;\n",
       "    }\n",
       "</style>\n",
       "<table border=\"1\" class=\"dataframe\">\n",
       "  <thead>\n",
       "    <tr style=\"text-align: right;\">\n",
       "      <th></th>\n",
       "      <th>who</th>\n",
       "      <th>age</th>\n",
       "      <th>fare</th>\n",
       "      <th>who_age</th>\n",
       "    </tr>\n",
       "  </thead>\n",
       "  <tbody>\n",
       "    <tr>\n",
       "      <th>38</th>\n",
       "      <td>woman</td>\n",
       "      <td>18.0</td>\n",
       "      <td>18.0</td>\n",
       "      <td>woman----------18.0</td>\n",
       "    </tr>\n",
       "    <tr>\n",
       "      <th>312</th>\n",
       "      <td>woman</td>\n",
       "      <td>26.0</td>\n",
       "      <td>26.0</td>\n",
       "      <td>woman----------26.0</td>\n",
       "    </tr>\n",
       "  </tbody>\n",
       "</table>\n",
       "</div>"
      ],
      "text/plain": [
       "       who   age  fare              who_age\n",
       "38   woman  18.0  18.0  woman----------18.0\n",
       "312  woman  26.0  26.0  woman----------26.0"
      ]
     },
     "execution_count": 347,
     "metadata": {},
     "output_type": "execute_result"
    }
   ],
   "source": [
    "y=x['who']+'----------'+ x['age'].astype(str)\n",
    "z=x['who_age'] = y\n",
    "x"
   ]
  },
  {
   "cell_type": "code",
   "execution_count": null,
   "id": "9d64d39a-7274-49db-a59e-109b0c4fc70b",
   "metadata": {},
   "outputs": [],
   "source": []
  },
  {
   "cell_type": "code",
   "execution_count": 348,
   "id": "13e2a94d-8caa-474f-be23-6b6438b93b53",
   "metadata": {},
   "outputs": [
    {
     "data": {
      "text/html": [
       "<div>\n",
       "<style scoped>\n",
       "    .dataframe tbody tr th:only-of-type {\n",
       "        vertical-align: middle;\n",
       "    }\n",
       "\n",
       "    .dataframe tbody tr th {\n",
       "        vertical-align: top;\n",
       "    }\n",
       "\n",
       "    .dataframe thead th {\n",
       "        text-align: right;\n",
       "    }\n",
       "</style>\n",
       "<table border=\"1\" class=\"dataframe\">\n",
       "  <thead>\n",
       "    <tr style=\"text-align: right;\">\n",
       "      <th></th>\n",
       "      <th>who</th>\n",
       "      <th>age</th>\n",
       "      <th>fare</th>\n",
       "      <th>who_age</th>\n",
       "      <th>age_fare</th>\n",
       "    </tr>\n",
       "  </thead>\n",
       "  <tbody>\n",
       "    <tr>\n",
       "      <th>0</th>\n",
       "      <td>man</td>\n",
       "      <td>22.0</td>\n",
       "      <td>7.2500</td>\n",
       "      <td>man--22.0</td>\n",
       "      <td>29.2500</td>\n",
       "    </tr>\n",
       "    <tr>\n",
       "      <th>1</th>\n",
       "      <td>woman</td>\n",
       "      <td>38.0</td>\n",
       "      <td>71.2833</td>\n",
       "      <td>woman--38.0</td>\n",
       "      <td>109.2833</td>\n",
       "    </tr>\n",
       "    <tr>\n",
       "      <th>2</th>\n",
       "      <td>woman</td>\n",
       "      <td>26.0</td>\n",
       "      <td>7.9250</td>\n",
       "      <td>woman--26.0</td>\n",
       "      <td>33.9250</td>\n",
       "    </tr>\n",
       "    <tr>\n",
       "      <th>3</th>\n",
       "      <td>woman</td>\n",
       "      <td>35.0</td>\n",
       "      <td>53.1000</td>\n",
       "      <td>woman--35.0</td>\n",
       "      <td>88.1000</td>\n",
       "    </tr>\n",
       "    <tr>\n",
       "      <th>4</th>\n",
       "      <td>man</td>\n",
       "      <td>35.0</td>\n",
       "      <td>8.0500</td>\n",
       "      <td>man--35.0</td>\n",
       "      <td>43.0500</td>\n",
       "    </tr>\n",
       "  </tbody>\n",
       "</table>\n",
       "</div>"
      ],
      "text/plain": [
       "     who   age     fare      who_age  age_fare\n",
       "0    man  22.0   7.2500    man--22.0   29.2500\n",
       "1  woman  38.0  71.2833  woman--38.0  109.2833\n",
       "2  woman  26.0   7.9250  woman--26.0   33.9250\n",
       "3  woman  35.0  53.1000  woman--35.0   88.1000\n",
       "4    man  35.0   8.0500    man--35.0   43.0500"
      ]
     },
     "execution_count": 348,
     "metadata": {},
     "output_type": "execute_result"
    }
   ],
   "source": [
    "m=df[['who','age', 'fare']]\n",
    "p=m['who']+'--'+ m['age'].astype(str)\n",
    "q=m.age+m.fare\n",
    "new_data = {'who_age': p, 'age_fare': q }\n",
    "m = m.assign(**new_data)\n",
    "m.head(5)\n"
   ]
  },
  {
   "cell_type": "code",
   "execution_count": null,
   "id": "3928a3e4-6a4d-4f4c-a89e-d2cb01065585",
   "metadata": {},
   "outputs": [],
   "source": []
  },
  {
   "cell_type": "code",
   "execution_count": null,
   "id": "407b2173-ad0b-4b06-9ea0-1297fc5841a4",
   "metadata": {},
   "outputs": [],
   "source": []
  },
  {
   "cell_type": "markdown",
   "id": "ef7cea93-02d3-4780-8ced-d86b744190d8",
   "metadata": {},
   "source": [
    "### 4. Sorting Data (Equivalent to ORDER BY)\n",
    "Goal: Sort data based on column values.\n",
    "\n",
    "SQL Query:\n",
    "\n",
    "```SELECT * FROM customers ORDER BY age asc,customer_id DESC;```\n"
   ]
  },
  {
   "cell_type": "code",
   "execution_count": null,
   "id": "322e75cb-34c3-4c6c-9d24-9dc9ba217895",
   "metadata": {},
   "outputs": [],
   "source": []
  },
  {
   "cell_type": "code",
   "execution_count": 349,
   "id": "fee1efd1-99fb-4b9f-b381-af3f3b0597fd",
   "metadata": {},
   "outputs": [
    {
     "data": {
      "text/html": [
       "<div>\n",
       "<style scoped>\n",
       "    .dataframe tbody tr th:only-of-type {\n",
       "        vertical-align: middle;\n",
       "    }\n",
       "\n",
       "    .dataframe tbody tr th {\n",
       "        vertical-align: top;\n",
       "    }\n",
       "\n",
       "    .dataframe thead th {\n",
       "        text-align: right;\n",
       "    }\n",
       "</style>\n",
       "<table border=\"1\" class=\"dataframe\">\n",
       "  <thead>\n",
       "    <tr style=\"text-align: right;\">\n",
       "      <th></th>\n",
       "      <th>customer_id</th>\n",
       "      <th>customer_name</th>\n",
       "      <th>age</th>\n",
       "      <th>email</th>\n",
       "    </tr>\n",
       "  </thead>\n",
       "  <tbody>\n",
       "    <tr>\n",
       "      <th>3</th>\n",
       "      <td>4</td>\n",
       "      <td>Diana Evans</td>\n",
       "      <td>22</td>\n",
       "      <td>diana@example.com</td>\n",
       "    </tr>\n",
       "    <tr>\n",
       "      <th>1</th>\n",
       "      <td>2</td>\n",
       "      <td>Bob Johnson</td>\n",
       "      <td>28</td>\n",
       "      <td>bob@example.com</td>\n",
       "    </tr>\n",
       "    <tr>\n",
       "      <th>0</th>\n",
       "      <td>1</td>\n",
       "      <td>Alice Smith</td>\n",
       "      <td>34</td>\n",
       "      <td>alice@example.com</td>\n",
       "    </tr>\n",
       "    <tr>\n",
       "      <th>4</th>\n",
       "      <td>5</td>\n",
       "      <td>Ella Thompson</td>\n",
       "      <td>35</td>\n",
       "      <td>ella@example.in</td>\n",
       "    </tr>\n",
       "    <tr>\n",
       "      <th>2</th>\n",
       "      <td>3</td>\n",
       "      <td>Charlie Davis</td>\n",
       "      <td>40</td>\n",
       "      <td>charlie@example.com</td>\n",
       "    </tr>\n",
       "  </tbody>\n",
       "</table>\n",
       "</div>"
      ],
      "text/plain": [
       "   customer_id  customer_name  age                email\n",
       "3            4    Diana Evans   22    diana@example.com\n",
       "1            2    Bob Johnson   28      bob@example.com\n",
       "0            1    Alice Smith   34    alice@example.com\n",
       "4            5  Ella Thompson   35      ella@example.in\n",
       "2            3  Charlie Davis   40  charlie@example.com"
      ]
     },
     "execution_count": 349,
     "metadata": {},
     "output_type": "execute_result"
    }
   ],
   "source": [
    "# Pandas Equivalent:\n",
    "df_customers.sort_values(by=['age', 'customer_id'], ascending=[True, False])\n",
    "\n",
    "# Explanation:\n",
    "# sort_values() is used to sort the dataframe by the specified column. You can specify ascending=False for descending order.\n"
   ]
  },
  {
   "cell_type": "code",
   "execution_count": null,
   "id": "3115c933-6b9c-4c7f-a84e-ea5887c866fd",
   "metadata": {},
   "outputs": [],
   "source": []
  },
  {
   "cell_type": "code",
   "execution_count": null,
   "id": "5968f5b1-8f2c-4a61-9705-8d8a94cb5714",
   "metadata": {},
   "outputs": [],
   "source": []
  },
  {
   "cell_type": "markdown",
   "id": "32df9bf6-0436-46fb-96c5-2015be4280da",
   "metadata": {},
   "source": [
    "### 5. Aggregating Data (Equivalent to GROUP BY and Aggregation)\n",
    "Goal: Group data by a column and perform aggregation, like SUM or COUNT.\n",
    "\n",
    "SQL Query: \n",
    "```SELECT customer_name, COUNT(*) FROM customers GROUP BY customer_name;```\n"
   ]
  },
  {
   "cell_type": "code",
   "execution_count": null,
   "id": "0ee30c07-84b0-4c08-9921-1c1173bd3972",
   "metadata": {},
   "outputs": [],
   "source": []
  },
  {
   "cell_type": "code",
   "execution_count": 350,
   "id": "f73f22d4-af6f-4509-8388-2ab9a6363b4b",
   "metadata": {},
   "outputs": [
    {
     "data": {
      "text/html": [
       "<div>\n",
       "<style scoped>\n",
       "    .dataframe tbody tr th:only-of-type {\n",
       "        vertical-align: middle;\n",
       "    }\n",
       "\n",
       "    .dataframe tbody tr th {\n",
       "        vertical-align: top;\n",
       "    }\n",
       "\n",
       "    .dataframe thead th {\n",
       "        text-align: right;\n",
       "    }\n",
       "</style>\n",
       "<table border=\"1\" class=\"dataframe\">\n",
       "  <thead>\n",
       "    <tr style=\"text-align: right;\">\n",
       "      <th></th>\n",
       "      <th>customer_name</th>\n",
       "      <th>count</th>\n",
       "    </tr>\n",
       "  </thead>\n",
       "  <tbody>\n",
       "    <tr>\n",
       "      <th>0</th>\n",
       "      <td>Alice Smith</td>\n",
       "      <td>1</td>\n",
       "    </tr>\n",
       "    <tr>\n",
       "      <th>1</th>\n",
       "      <td>Bob Johnson</td>\n",
       "      <td>1</td>\n",
       "    </tr>\n",
       "    <tr>\n",
       "      <th>2</th>\n",
       "      <td>Charlie Davis</td>\n",
       "      <td>1</td>\n",
       "    </tr>\n",
       "    <tr>\n",
       "      <th>3</th>\n",
       "      <td>Diana Evans</td>\n",
       "      <td>1</td>\n",
       "    </tr>\n",
       "    <tr>\n",
       "      <th>4</th>\n",
       "      <td>Ella Thompson</td>\n",
       "      <td>1</td>\n",
       "    </tr>\n",
       "  </tbody>\n",
       "</table>\n",
       "</div>"
      ],
      "text/plain": [
       "   customer_name  count\n",
       "0    Alice Smith      1\n",
       "1    Bob Johnson      1\n",
       "2  Charlie Davis      1\n",
       "3    Diana Evans      1\n",
       "4  Ella Thompson      1"
      ]
     },
     "execution_count": 350,
     "metadata": {},
     "output_type": "execute_result"
    }
   ],
   "source": [
    "# Pandas Equivalent:\n",
    "\n",
    "df_customers.groupby('customer_name').size().reset_index(name='count')\n",
    "\n",
    "# Explanation:\n",
    "# groupby() groups the data by the specified column.\n",
    "# size() counts the number of occurrences in each group.\n"
   ]
  },
  {
   "cell_type": "code",
   "execution_count": null,
   "id": "bc11c77d-c1a6-4c4c-9f26-b42b6874e127",
   "metadata": {},
   "outputs": [],
   "source": []
  },
  {
   "cell_type": "code",
   "execution_count": null,
   "id": "7287e13a-4a4d-4537-b861-3a25f068e88f",
   "metadata": {},
   "outputs": [],
   "source": []
  },
  {
   "cell_type": "markdown",
   "id": "b284ca2c-4271-4b77-8730-be7c9074fc6d",
   "metadata": {},
   "source": [
    "### 6. Joining DataFrames (Equivalent to JOIN)\n",
    "Goal: Join two DataFrames, similar to an SQL JOIN.\n",
    "\n",
    "SQL Query:\n",
    "```SELECT * FROM customers c JOIN orders o ON c.customer_id = o.customer_id;```\n"
   ]
  },
  {
   "cell_type": "markdown",
   "id": "d900a2e6-4de1-4acf-9337-0383f47bac17",
   "metadata": {},
   "source": [
    "<figure class=\"table\">\n",
    "    <table>\n",
    "        <thead>\n",
    "            <tr>\n",
    "                <th>Method</th>\n",
    "                <th>Purpose</th>\n",
    "                <th>Common Use Cases</th>\n",
    "            </tr>\n",
    "        </thead>\n",
    "        <tbody>\n",
    "            <tr>\n",
    "                <td><strong>Merge</strong></td>\n",
    "                <td>Combine DataFrames based on common columns or keys (like SQL JOINs).</td>\n",
    "                <td>When you need to combine datasets with related information based on key columns.</td>\n",
    "            </tr>\n",
    "            <tr>\n",
    "                <td><strong>Join</strong></td>\n",
    "                <td>Combine DataFrames based on their indices.</td>\n",
    "                <td>When joining two DataFrames where one or both are indexed.</td>\n",
    "            </tr>\n",
    "            <tr>\n",
    "                <td><strong>Concat</strong></td>\n",
    "                <td>Concatenate DataFrames along a particular axis (vertically or horizontally).</td>\n",
    "                <td>When you want to stack DataFrames either vertically (adding rows) or horizontally (adding columns).</td>\n",
    "            </tr>\n",
    "        </tbody>\n",
    "    </table>\n",
    "</figure>\n",
    "<h3>When to Use Each:</h3>\n",
    "<ul>\n",
    "    <li>Use <code><strong>merge()</strong></code> when you need to combine DataFrames based on keys.</li>\n",
    "    <li>Use <code><strong>join()</strong></code> when you want to combine DataFrames based on their indices.</li>\n",
    "    <li>Use <code><strong>concat()</strong></code> when you want to stack multiple DataFrames together, either row-wise or column-wise just like __UNION ALL__</li>\n",
    "</ul>\n"
   ]
  },
  {
   "cell_type": "code",
   "execution_count": 351,
   "id": "a80ba96d-da09-4d6c-9587-857237f1e171",
   "metadata": {},
   "outputs": [],
   "source": [
    "# Pandas Equivalent:\n",
    "\n",
    "df_merged = df_customers.merge(df_orders, on='customer_id')\n",
    "# Explanation:\n",
    "\n",
    "# merge() joins two DataFrames on a specified column. The on parameter is equivalent to the SQL ON condition.\n"
   ]
  },
  {
   "cell_type": "code",
   "execution_count": null,
   "id": "1fb800e4-2b3d-447a-b67c-6c819ab69267",
   "metadata": {},
   "outputs": [],
   "source": []
  },
  {
   "cell_type": "code",
   "execution_count": null,
   "id": "7967c696-0bcc-4b4e-8aca-78d3d064ccf4",
   "metadata": {},
   "outputs": [],
   "source": []
  },
  {
   "cell_type": "code",
   "execution_count": null,
   "id": "f1530d2e-b3cd-4cf3-8877-0c4612dfe688",
   "metadata": {},
   "outputs": [],
   "source": []
  },
  {
   "cell_type": "code",
   "execution_count": null,
   "id": "e6c9b69a-12e8-4a58-aa69-2835e7a78b69",
   "metadata": {},
   "outputs": [],
   "source": []
  },
  {
   "cell_type": "code",
   "execution_count": null,
   "id": "40b97b88-5eda-464b-8b0f-c750b28cf793",
   "metadata": {},
   "outputs": [],
   "source": []
  },
  {
   "cell_type": "code",
   "execution_count": null,
   "id": "00a08239-936c-4338-ab98-1f958b3144d1",
   "metadata": {},
   "outputs": [],
   "source": []
  },
  {
   "cell_type": "markdown",
   "id": "eb00c00d-ce04-45f6-82c8-3aeaffdae342",
   "metadata": {},
   "source": [
    "### 7. Handling Missing Data (Equivalent to IS NULL)\n",
    "Goal: Detect and handle missing values.\n",
    "\n",
    "SQL Query: \n",
    "```SELECT * FROM customers WHERE email IS NULL;```\n"
   ]
  },
  {
   "cell_type": "code",
   "execution_count": null,
   "id": "54930b14-5bb5-4cc0-bc02-1ad74ead7a3d",
   "metadata": {},
   "outputs": [],
   "source": []
  },
  {
   "cell_type": "code",
   "execution_count": 352,
   "id": "3d3ea23b-9fe0-49ee-95a8-79bc61fa57ac",
   "metadata": {},
   "outputs": [
    {
     "data": {
      "text/html": [
       "<div>\n",
       "<style scoped>\n",
       "    .dataframe tbody tr th:only-of-type {\n",
       "        vertical-align: middle;\n",
       "    }\n",
       "\n",
       "    .dataframe tbody tr th {\n",
       "        vertical-align: top;\n",
       "    }\n",
       "\n",
       "    .dataframe thead th {\n",
       "        text-align: right;\n",
       "    }\n",
       "</style>\n",
       "<table border=\"1\" class=\"dataframe\">\n",
       "  <thead>\n",
       "    <tr style=\"text-align: right;\">\n",
       "      <th></th>\n",
       "      <th>customer_id</th>\n",
       "      <th>customer_name</th>\n",
       "      <th>age</th>\n",
       "      <th>email</th>\n",
       "    </tr>\n",
       "  </thead>\n",
       "  <tbody>\n",
       "  </tbody>\n",
       "</table>\n",
       "</div>"
      ],
      "text/plain": [
       "Empty DataFrame\n",
       "Columns: [customer_id, customer_name, age, email]\n",
       "Index: []"
      ]
     },
     "execution_count": 352,
     "metadata": {},
     "output_type": "execute_result"
    }
   ],
   "source": [
    "# Pandas Equivalent:\n",
    " \n",
    "df_customers[df_customers['email'].isnull()]\n",
    "# Explanation:\n",
    "\n",
    "# isnull() checks for NaN values (missing data in Pandas).\n"
   ]
  },
  {
   "cell_type": "code",
   "execution_count": null,
   "id": "7adf3d34-e743-4588-9767-b0223b1c9fca",
   "metadata": {},
   "outputs": [],
   "source": []
  },
  {
   "cell_type": "code",
   "execution_count": null,
   "id": "c8d7e917-021a-41d6-80b7-e28018748876",
   "metadata": {},
   "outputs": [],
   "source": []
  },
  {
   "cell_type": "code",
   "execution_count": null,
   "id": "cd57fd53-eea4-4360-81e4-785a7fc07062",
   "metadata": {},
   "outputs": [],
   "source": []
  },
  {
   "cell_type": "markdown",
   "id": "b37627c7-2c9d-4d37-9ac7-da822d40c057",
   "metadata": {},
   "source": [
    "### 8. Adding a New Column (Equivalent to Calculated Fields)\n",
    "Goal: Add a new calculated column to the dataframe.\n",
    "\n",
    "SQL Query:\n",
    "```\n",
    "SELECT customer_name, age, age + 5 AS age_in_5_years FROM customers;\n",
    "    ```\n"
   ]
  },
  {
   "cell_type": "code",
   "execution_count": null,
   "id": "1dec17d2-5dbb-4799-adda-f73ef84f1374",
   "metadata": {},
   "outputs": [],
   "source": []
  },
  {
   "cell_type": "code",
   "execution_count": 353,
   "id": "319f21d2-3c01-4d99-8da7-485b0575e31e",
   "metadata": {},
   "outputs": [],
   "source": [
    "# Pandas Equivalent:\n",
    "\n",
    "df_customers['age_in_5_years'] = df_customers['age'] + 5\n",
    "# Explanation:\n",
    "\n",
    "# In Pandas, you can create new columns by simple operations on existing columns.\n"
   ]
  },
  {
   "cell_type": "code",
   "execution_count": null,
   "id": "62b93a05-20ff-497a-96d6-df25ac823c50",
   "metadata": {},
   "outputs": [],
   "source": []
  },
  {
   "cell_type": "code",
   "execution_count": null,
   "id": "888f259e-a8ba-4568-8f25-68f3df3a1429",
   "metadata": {},
   "outputs": [],
   "source": []
  },
  {
   "cell_type": "markdown",
   "id": "96b89ec0-1f41-481e-a373-76e00fe79bb2",
   "metadata": {},
   "source": [
    "### 9. Renaming Columns (Equivalent to AS in SQL)\n",
    "Goal: Rename columns in a dataframe.\n",
    "\n",
    "SQL Query:\n",
    "```\n",
    "SELECT customer_name AS name, age AS customer_age FROM customers;\n",
    "```"
   ]
  },
  {
   "cell_type": "code",
   "execution_count": null,
   "id": "219423a1-fa3e-459b-af97-015ba92fd779",
   "metadata": {},
   "outputs": [],
   "source": []
  },
  {
   "cell_type": "code",
   "execution_count": 354,
   "id": "019d4b3e-cd43-42bb-b3a0-d4ab8f311a79",
   "metadata": {},
   "outputs": [],
   "source": [
    "# Pandas Equivalent:\n",
    "df_customers.rename(columns={'customer_name': 'name', 'age': 'customer_age'}, inplace=True)\n",
    "# Explanation:\n",
    "\n",
    "# rename() allows you to rename one or more columns.\n"
   ]
  },
  {
   "cell_type": "code",
   "execution_count": null,
   "id": "2cf99f4c-c1e1-4a2b-8f0f-406022eef340",
   "metadata": {},
   "outputs": [],
   "source": []
  },
  {
   "cell_type": "code",
   "execution_count": null,
   "id": "86b99b9b-fa65-4364-98b1-4f542337d0ca",
   "metadata": {},
   "outputs": [],
   "source": []
  },
  {
   "cell_type": "code",
   "execution_count": null,
   "id": "470030dd-48a0-4ebf-a369-a17a92fea553",
   "metadata": {},
   "outputs": [],
   "source": []
  },
  {
   "cell_type": "markdown",
   "id": "86e09b67-4b32-417b-9f6b-fc34151f856f",
   "metadata": {},
   "source": [
    "### 10. Removing Duplicates (Equivalent to DISTINCT)\n",
    "Goal: Remove duplicate rows.\n",
    "\n",
    "SQL Query:\n",
    "```\n",
    "SELECT DISTINCT customer_name FROM customers;\n",
    "```\n"
   ]
  },
  {
   "cell_type": "code",
   "execution_count": 355,
   "id": "d6deb659-8463-485d-a7e6-e57509d91fed",
   "metadata": {},
   "outputs": [
    {
     "ename": "KeyError",
     "evalue": "\"None of [Index(['payment_method'], dtype='object')] are in the [columns]\"",
     "output_type": "error",
     "traceback": [
      "\u001b[1;31m---------------------------------------------------------------------------\u001b[0m",
      "\u001b[1;31mKeyError\u001b[0m                                  Traceback (most recent call last)",
      "Cell \u001b[1;32mIn[355], line 2\u001b[0m\n\u001b[0;32m      1\u001b[0m \u001b[38;5;66;03m# Pandas Equivalent:\u001b[39;00m\n\u001b[1;32m----> 2\u001b[0m dis\u001b[38;5;241m=\u001b[39mdf_orders[[\u001b[38;5;124m'\u001b[39m\u001b[38;5;124mpayment_method\u001b[39m\u001b[38;5;124m'\u001b[39m]]\u001b[38;5;241m.\u001b[39mdrop_duplicates()\n\u001b[0;32m      3\u001b[0m dis\n",
      "File \u001b[1;32m~\\anaconda3\\envs\\env1\\Lib\\site-packages\\pandas\\core\\frame.py:4096\u001b[0m, in \u001b[0;36mDataFrame.__getitem__\u001b[1;34m(self, key)\u001b[0m\n\u001b[0;32m   4094\u001b[0m     \u001b[38;5;28;01mif\u001b[39;00m is_iterator(key):\n\u001b[0;32m   4095\u001b[0m         key \u001b[38;5;241m=\u001b[39m \u001b[38;5;28mlist\u001b[39m(key)\n\u001b[1;32m-> 4096\u001b[0m     indexer \u001b[38;5;241m=\u001b[39m \u001b[38;5;28mself\u001b[39m\u001b[38;5;241m.\u001b[39mcolumns\u001b[38;5;241m.\u001b[39m_get_indexer_strict(key, \u001b[38;5;124m\"\u001b[39m\u001b[38;5;124mcolumns\u001b[39m\u001b[38;5;124m\"\u001b[39m)[\u001b[38;5;241m1\u001b[39m]\n\u001b[0;32m   4098\u001b[0m \u001b[38;5;66;03m# take() does not accept boolean indexers\u001b[39;00m\n\u001b[0;32m   4099\u001b[0m \u001b[38;5;28;01mif\u001b[39;00m \u001b[38;5;28mgetattr\u001b[39m(indexer, \u001b[38;5;124m\"\u001b[39m\u001b[38;5;124mdtype\u001b[39m\u001b[38;5;124m\"\u001b[39m, \u001b[38;5;28;01mNone\u001b[39;00m) \u001b[38;5;241m==\u001b[39m \u001b[38;5;28mbool\u001b[39m:\n",
      "File \u001b[1;32m~\\anaconda3\\envs\\env1\\Lib\\site-packages\\pandas\\core\\indexes\\base.py:6199\u001b[0m, in \u001b[0;36mIndex._get_indexer_strict\u001b[1;34m(self, key, axis_name)\u001b[0m\n\u001b[0;32m   6196\u001b[0m \u001b[38;5;28;01melse\u001b[39;00m:\n\u001b[0;32m   6197\u001b[0m     keyarr, indexer, new_indexer \u001b[38;5;241m=\u001b[39m \u001b[38;5;28mself\u001b[39m\u001b[38;5;241m.\u001b[39m_reindex_non_unique(keyarr)\n\u001b[1;32m-> 6199\u001b[0m \u001b[38;5;28mself\u001b[39m\u001b[38;5;241m.\u001b[39m_raise_if_missing(keyarr, indexer, axis_name)\n\u001b[0;32m   6201\u001b[0m keyarr \u001b[38;5;241m=\u001b[39m \u001b[38;5;28mself\u001b[39m\u001b[38;5;241m.\u001b[39mtake(indexer)\n\u001b[0;32m   6202\u001b[0m \u001b[38;5;28;01mif\u001b[39;00m \u001b[38;5;28misinstance\u001b[39m(key, Index):\n\u001b[0;32m   6203\u001b[0m     \u001b[38;5;66;03m# GH 42790 - Preserve name from an Index\u001b[39;00m\n",
      "File \u001b[1;32m~\\anaconda3\\envs\\env1\\Lib\\site-packages\\pandas\\core\\indexes\\base.py:6248\u001b[0m, in \u001b[0;36mIndex._raise_if_missing\u001b[1;34m(self, key, indexer, axis_name)\u001b[0m\n\u001b[0;32m   6246\u001b[0m \u001b[38;5;28;01mif\u001b[39;00m nmissing:\n\u001b[0;32m   6247\u001b[0m     \u001b[38;5;28;01mif\u001b[39;00m nmissing \u001b[38;5;241m==\u001b[39m \u001b[38;5;28mlen\u001b[39m(indexer):\n\u001b[1;32m-> 6248\u001b[0m         \u001b[38;5;28;01mraise\u001b[39;00m \u001b[38;5;167;01mKeyError\u001b[39;00m(\u001b[38;5;124mf\u001b[39m\u001b[38;5;124m\"\u001b[39m\u001b[38;5;124mNone of [\u001b[39m\u001b[38;5;132;01m{\u001b[39;00mkey\u001b[38;5;132;01m}\u001b[39;00m\u001b[38;5;124m] are in the [\u001b[39m\u001b[38;5;132;01m{\u001b[39;00maxis_name\u001b[38;5;132;01m}\u001b[39;00m\u001b[38;5;124m]\u001b[39m\u001b[38;5;124m\"\u001b[39m)\n\u001b[0;32m   6250\u001b[0m     not_found \u001b[38;5;241m=\u001b[39m \u001b[38;5;28mlist\u001b[39m(ensure_index(key)[missing_mask\u001b[38;5;241m.\u001b[39mnonzero()[\u001b[38;5;241m0\u001b[39m]]\u001b[38;5;241m.\u001b[39munique())\n\u001b[0;32m   6251\u001b[0m     \u001b[38;5;28;01mraise\u001b[39;00m \u001b[38;5;167;01mKeyError\u001b[39;00m(\u001b[38;5;124mf\u001b[39m\u001b[38;5;124m\"\u001b[39m\u001b[38;5;132;01m{\u001b[39;00mnot_found\u001b[38;5;132;01m}\u001b[39;00m\u001b[38;5;124m not in index\u001b[39m\u001b[38;5;124m\"\u001b[39m)\n",
      "\u001b[1;31mKeyError\u001b[0m: \"None of [Index(['payment_method'], dtype='object')] are in the [columns]\""
     ]
    }
   ],
   "source": [
    "# Pandas Equivalent:\n",
    "dis=df_orders[['payment_method']].drop_duplicates()\n",
    "dis\n",
    "# Explanation:\n",
    "\n",
    "# drop_duplicates() removes duplicate rows based on the specified columns.\n",
    "\n"
   ]
  },
  {
   "cell_type": "code",
   "execution_count": null,
   "id": "3ade1647-e76d-40c2-8e87-db5c52cc081a",
   "metadata": {},
   "outputs": [],
   "source": [
    "df_customers.to_csv('/directory/customers.csv', index=False)\n"
   ]
  },
  {
   "cell_type": "code",
   "execution_count": null,
   "id": "f264006e-ffaa-4f51-9345-e1f4e1e8e036",
   "metadata": {},
   "outputs": [],
   "source": [
    "#case when\n",
    "\n"
   ]
  },
  {
   "cell_type": "code",
   "execution_count": null,
   "id": "b2e64b34-c17f-41cf-8c34-e869453575d9",
   "metadata": {},
   "outputs": [],
   "source": [
    "df.case_when(caselist=[(a.gt(0), a),  # condition, replacement\n"
   ]
  },
  {
   "cell_type": "code",
   "execution_count": null,
   "id": "0a390944-bd90-4371-884e-1e4efd8badf7",
   "metadata": {},
   "outputs": [],
   "source": []
  },
  {
   "cell_type": "code",
   "execution_count": null,
   "id": "c577cf96-ab5c-43e2-a2f1-ebed1aa69859",
   "metadata": {},
   "outputs": [],
   "source": []
  },
  {
   "cell_type": "code",
   "execution_count": null,
   "id": "c92c4bd4-ea43-481e-b3a8-b352ac090505",
   "metadata": {},
   "outputs": [],
   "source": []
  },
  {
   "cell_type": "code",
   "execution_count": null,
   "id": "420ebb83-2556-49fb-bfc6-d51a165d3f4e",
   "metadata": {},
   "outputs": [],
   "source": []
  },
  {
   "cell_type": "code",
   "execution_count": null,
   "id": "e07f3181-0ae5-4a89-933f-dca1a759c3c0",
   "metadata": {},
   "outputs": [],
   "source": []
  },
  {
   "cell_type": "code",
   "execution_count": null,
   "id": "72bf17c3-c2d8-4df3-a7fe-b621ce81afb6",
   "metadata": {},
   "outputs": [],
   "source": []
  },
  {
   "cell_type": "code",
   "execution_count": null,
   "id": "0c95f0b2-12cf-47c0-83a4-e6138de7cf7c",
   "metadata": {},
   "outputs": [],
   "source": []
  },
  {
   "cell_type": "code",
   "execution_count": null,
   "id": "7b919a2d-a261-4719-b8d3-4b83bb71b80e",
   "metadata": {},
   "outputs": [],
   "source": []
  },
  {
   "cell_type": "code",
   "execution_count": null,
   "id": "c70adab8-dff7-4afe-bc40-a9c9d4570482",
   "metadata": {},
   "outputs": [],
   "source": []
  },
  {
   "cell_type": "code",
   "execution_count": null,
   "id": "71db78a9-7dfb-40fe-ba37-7661dd8bbdd3",
   "metadata": {},
   "outputs": [],
   "source": []
  },
  {
   "cell_type": "code",
   "execution_count": null,
   "id": "faa09638-7261-477f-b219-d51c40200eed",
   "metadata": {},
   "outputs": [],
   "source": []
  },
  {
   "cell_type": "code",
   "execution_count": null,
   "id": "e0d53fb4-35e8-4fc0-9c8c-d294b1b479b0",
   "metadata": {},
   "outputs": [],
   "source": []
  },
  {
   "cell_type": "code",
   "execution_count": null,
   "id": "147f5bae-b242-4d0d-bf49-4f54068c51df",
   "metadata": {},
   "outputs": [],
   "source": []
  },
  {
   "cell_type": "code",
   "execution_count": null,
   "id": "51ca0a65-cd03-45f0-9fbe-f394afbebd5f",
   "metadata": {},
   "outputs": [],
   "source": []
  },
  {
   "cell_type": "code",
   "execution_count": null,
   "id": "aad66cd8-7c22-401e-ad92-83cdaabe16ef",
   "metadata": {},
   "outputs": [],
   "source": []
  },
  {
   "cell_type": "code",
   "execution_count": null,
   "id": "24034672-375a-4d41-81f4-f6ca6f2a31ea",
   "metadata": {},
   "outputs": [],
   "source": []
  },
  {
   "cell_type": "code",
   "execution_count": null,
   "id": "26ed085b-0f51-4a89-b828-1c1405574bbf",
   "metadata": {},
   "outputs": [],
   "source": []
  },
  {
   "cell_type": "code",
   "execution_count": null,
   "id": "0a93bb49-59dd-4f2e-95bd-fe9778ce6946",
   "metadata": {},
   "outputs": [],
   "source": []
  },
  {
   "cell_type": "code",
   "execution_count": null,
   "id": "479bf486-b693-477a-b78a-7aeaf60e4483",
   "metadata": {},
   "outputs": [],
   "source": []
  },
  {
   "cell_type": "code",
   "execution_count": null,
   "id": "cf7f360c-6e3c-4010-913a-9364cfaa06ed",
   "metadata": {},
   "outputs": [],
   "source": []
  },
  {
   "cell_type": "code",
   "execution_count": null,
   "id": "47558fc4-97bd-4b8d-8d38-d78034893a60",
   "metadata": {},
   "outputs": [],
   "source": []
  },
  {
   "cell_type": "code",
   "execution_count": null,
   "id": "48e189c3-29c5-4c2c-ab7e-bd4898f11d8b",
   "metadata": {},
   "outputs": [],
   "source": []
  },
  {
   "cell_type": "code",
   "execution_count": null,
   "id": "5ea0ce87-824b-4fba-88d9-1eb694e34cc9",
   "metadata": {},
   "outputs": [],
   "source": []
  },
  {
   "cell_type": "code",
   "execution_count": null,
   "id": "e1430472-58a5-41ae-8c67-fefeb0ae0ce9",
   "metadata": {},
   "outputs": [],
   "source": []
  }
 ],
 "metadata": {
  "kernelspec": {
   "display_name": "Python 3 (ipykernel)",
   "language": "python",
   "name": "python3"
  },
  "language_info": {
   "codemirror_mode": {
    "name": "ipython",
    "version": 3
   },
   "file_extension": ".py",
   "mimetype": "text/x-python",
   "name": "python",
   "nbconvert_exporter": "python",
   "pygments_lexer": "ipython3",
   "version": "3.11.7"
  }
 },
 "nbformat": 4,
 "nbformat_minor": 5
}
