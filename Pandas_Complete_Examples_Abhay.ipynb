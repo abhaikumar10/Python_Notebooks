{
 "cells": [
  {
   "cell_type": "markdown",
   "metadata": {
    "id": "RH0fUph0K1Ck"
   },
   "source": [
    "Python Pandas Is used for relational or labeled data and provides various data structures for manipulating such data and time series. This library is built on top of the NumPy library. This module is generally imported as:\n",
    "\n",
    "import pandas as pd\n",
    "Here, pd is referred to as an alias to the Pandas. However, it is not necessary to import the library using the alias, it just helps in writing less amount code every time a method or property is called. Pandas generally provide two data structures for manipulating data, They are:\n",
    "\n",
    "Series\n",
    "Dataframe"
   ]
  },
  {
   "cell_type": "markdown",
   "metadata": {
    "id": "55tGJMRDKwgW"
   },
   "source": [
    "Series:\n",
    "\n",
    "Pandas Series is a one-dimensional labeled array capable of holding data of any type (integer, string, float, python objects, etc.). The axis labels are collectively called indexes. Pandas Series is nothing but a column in an excel sheet. Labels need not be unique but must be a hashable type. The object supports both integer and label-based indexing and provides a host of methods for performing operations involving the index.\n",
    "\n",
    "Pandas Series\n",
    "Pandas Series\n",
    "\n",
    "It can be created using the Series() function by loading the dataset from the existing storage like SQL, Database, CSV Files, Excel Files, etc., or from data structures like lists, dictionaries, etc.\n",
    "\n",
    "Python Pandas Creating Series"
   ]
  },
  {
   "cell_type": "code",
   "execution_count": 1,
   "metadata": {
    "colab": {
     "base_uri": "https://localhost:8080/"
    },
    "executionInfo": {
     "elapsed": 511,
     "status": "ok",
     "timestamp": 1687673362062,
     "user": {
      "displayName": "Abhay Patel",
      "userId": "03621184276517042201"
     },
     "user_tz": -330
    },
    "id": "1lyFoq-wKw1C",
    "outputId": "b16ac685-15d9-4bbd-dba2-9e51885a2331"
   },
   "outputs": [
    {
     "name": "stdout",
     "output_type": "stream",
     "text": [
      "Series([], dtype: object)\n",
      "0    g\n",
      "1    e\n",
      "2    e\n",
      "3    k\n",
      "4    s\n",
      "dtype: object\n"
     ]
    },
    {
     "name": "stderr",
     "output_type": "stream",
     "text": [
      "C:\\Users\\abhay\\AppData\\Local\\Temp\\ipykernel_19252\\2689989380.py:1: DeprecationWarning: \n",
      "Pyarrow will become a required dependency of pandas in the next major release of pandas (pandas 3.0),\n",
      "(to allow more performant data types, such as the Arrow string type, and better interoperability with other libraries)\n",
      "but was not found to be installed on your system.\n",
      "If this would cause problems for you,\n",
      "please provide us feedback at https://github.com/pandas-dev/pandas/issues/54466\n",
      "        \n",
      "  import pandas as pd\n"
     ]
    }
   ],
   "source": [
    "import pandas as pd\n",
    "import numpy as np\n",
    "\n",
    "\n",
    "# Creating empty series\n",
    "ser = pd.Series()\n",
    "\n",
    "print(ser)\n",
    "\n",
    "# simple array\n",
    "data = np.array(['g', 'e', 'e', 'k', 's'])\n",
    "\n",
    "ser = pd.Series(data)\n",
    "print(ser)\n"
   ]
  },
  {
   "cell_type": "markdown",
   "metadata": {
    "id": "yuIP2JjNMeGE"
   },
   "source": [
    "pnadas series\n",
    "\n",
    "Dataframe:\n",
    "\n",
    "Pandas DataFrame is a two-dimensional size-mutable, potentially heterogeneous tabular data structure with labeled axes (rows and columns). A Data frame is a two-dimensional data structure, i.e., data is aligned in a tabular fashion in rows and columns. Pandas DataFrame consists of three principal components, the data, rows, and columns.\n",
    "\n",
    "\n",
    "Pandas Dataframe\n",
    "\n",
    "It can be created using the Dataframe() method and just like a series, it can also be from different file types and data structures."
   ]
  },
  {
   "cell_type": "code",
   "execution_count": 2,
   "metadata": {
    "id": "cZwJOOQZMjUe"
   },
   "outputs": [
    {
     "name": "stdout",
     "output_type": "stream",
     "text": [
      "Empty DataFrame\n",
      "Columns: []\n",
      "Index: []\n"
     ]
    },
    {
     "data": {
      "text/html": [
       "<div>\n",
       "<style scoped>\n",
       "    .dataframe tbody tr th:only-of-type {\n",
       "        vertical-align: middle;\n",
       "    }\n",
       "\n",
       "    .dataframe tbody tr th {\n",
       "        vertical-align: top;\n",
       "    }\n",
       "\n",
       "    .dataframe thead th {\n",
       "        text-align: right;\n",
       "    }\n",
       "</style>\n",
       "<table border=\"1\" class=\"dataframe\">\n",
       "  <thead>\n",
       "    <tr style=\"text-align: right;\">\n",
       "      <th></th>\n",
       "      <th>0</th>\n",
       "    </tr>\n",
       "  </thead>\n",
       "  <tbody>\n",
       "    <tr>\n",
       "      <th>0</th>\n",
       "      <td>Geeks</td>\n",
       "    </tr>\n",
       "    <tr>\n",
       "      <th>1</th>\n",
       "      <td>For</td>\n",
       "    </tr>\n",
       "    <tr>\n",
       "      <th>2</th>\n",
       "      <td>Geeks</td>\n",
       "    </tr>\n",
       "    <tr>\n",
       "      <th>3</th>\n",
       "      <td>is</td>\n",
       "    </tr>\n",
       "    <tr>\n",
       "      <th>4</th>\n",
       "      <td>portal</td>\n",
       "    </tr>\n",
       "    <tr>\n",
       "      <th>5</th>\n",
       "      <td>for</td>\n",
       "    </tr>\n",
       "    <tr>\n",
       "      <th>6</th>\n",
       "      <td>Geeks</td>\n",
       "    </tr>\n",
       "  </tbody>\n",
       "</table>\n",
       "</div>"
      ],
      "text/plain": [
       "        0\n",
       "0   Geeks\n",
       "1     For\n",
       "2   Geeks\n",
       "3      is\n",
       "4  portal\n",
       "5     for\n",
       "6   Geeks"
      ]
     },
     "execution_count": 2,
     "metadata": {},
     "output_type": "execute_result"
    }
   ],
   "source": [
    "import pandas as pd\n",
    "\n",
    "# Calling DataFrame constructor\n",
    "df = pd.DataFrame()\n",
    "print(df)\n",
    "\n",
    "# list of strings\n",
    "lst = ['Geeks', 'For', 'Geeks', 'is',\n",
    "\t\t\t'portal', 'for', 'Geeks']\n",
    "\n",
    "# Calling DataFrame constructor on list\n",
    "df = pd.DataFrame(lst)\n",
    "df\n"
   ]
  },
  {
   "cell_type": "markdown",
   "metadata": {
    "id": "mahkrZBMMpV6"
   },
   "source": [
    "Creating Dataframe from CSV\n",
    "We can create a dataframe from the CSV files using the read_csv() function.\n",
    "\n",
    "Note: This dataset can be downloaded from here.\n",
    "[https://datahub.io/machine-learning/iris](https://datahub.io/machine-learning/iris)"
   ]
  },
  {
   "cell_type": "code",
   "execution_count": 1,
   "metadata": {
    "id": "krv5iLsjM033"
   },
   "outputs": [
    {
     "name": "stderr",
     "output_type": "stream",
     "text": [
      "C:\\Users\\abhay\\AppData\\Local\\Temp\\ipykernel_15768\\3241366560.py:1: DeprecationWarning: \n",
      "Pyarrow will become a required dependency of pandas in the next major release of pandas (pandas 3.0),\n",
      "(to allow more performant data types, such as the Arrow string type, and better interoperability with other libraries)\n",
      "but was not found to be installed on your system.\n",
      "If this would cause problems for you,\n",
      "please provide us feedback at https://github.com/pandas-dev/pandas/issues/54466\n",
      "        \n",
      "  import pandas as pd\n"
     ]
    },
    {
     "ename": "FileNotFoundError",
     "evalue": "[Errno 2] No such file or directory: 'Iris.csv'",
     "output_type": "error",
     "traceback": [
      "\u001b[1;31m---------------------------------------------------------------------------\u001b[0m",
      "\u001b[1;31mFileNotFoundError\u001b[0m                         Traceback (most recent call last)",
      "Cell \u001b[1;32mIn[1], line 4\u001b[0m\n\u001b[0;32m      1\u001b[0m \u001b[38;5;28;01mimport\u001b[39;00m \u001b[38;5;21;01mpandas\u001b[39;00m \u001b[38;5;28;01mas\u001b[39;00m \u001b[38;5;21;01mpd\u001b[39;00m\n\u001b[0;32m      3\u001b[0m \u001b[38;5;66;03m# Reading the CSV file\u001b[39;00m\n\u001b[1;32m----> 4\u001b[0m df \u001b[38;5;241m=\u001b[39m pd\u001b[38;5;241m.\u001b[39mread_csv(\u001b[38;5;124m\"\u001b[39m\u001b[38;5;124mIris.csv\u001b[39m\u001b[38;5;124m\"\u001b[39m)\n\u001b[0;32m      6\u001b[0m \u001b[38;5;66;03m# Printing top 5 rows\u001b[39;00m\n\u001b[0;32m      7\u001b[0m df\u001b[38;5;241m.\u001b[39mhead()\n",
      "File \u001b[1;32m~\\anaconda3\\envs\\env1\\Lib\\site-packages\\pandas\\io\\parsers\\readers.py:1024\u001b[0m, in \u001b[0;36mread_csv\u001b[1;34m(filepath_or_buffer, sep, delimiter, header, names, index_col, usecols, dtype, engine, converters, true_values, false_values, skipinitialspace, skiprows, skipfooter, nrows, na_values, keep_default_na, na_filter, verbose, skip_blank_lines, parse_dates, infer_datetime_format, keep_date_col, date_parser, date_format, dayfirst, cache_dates, iterator, chunksize, compression, thousands, decimal, lineterminator, quotechar, quoting, doublequote, escapechar, comment, encoding, encoding_errors, dialect, on_bad_lines, delim_whitespace, low_memory, memory_map, float_precision, storage_options, dtype_backend)\u001b[0m\n\u001b[0;32m   1011\u001b[0m kwds_defaults \u001b[38;5;241m=\u001b[39m _refine_defaults_read(\n\u001b[0;32m   1012\u001b[0m     dialect,\n\u001b[0;32m   1013\u001b[0m     delimiter,\n\u001b[1;32m   (...)\u001b[0m\n\u001b[0;32m   1020\u001b[0m     dtype_backend\u001b[38;5;241m=\u001b[39mdtype_backend,\n\u001b[0;32m   1021\u001b[0m )\n\u001b[0;32m   1022\u001b[0m kwds\u001b[38;5;241m.\u001b[39mupdate(kwds_defaults)\n\u001b[1;32m-> 1024\u001b[0m \u001b[38;5;28;01mreturn\u001b[39;00m _read(filepath_or_buffer, kwds)\n",
      "File \u001b[1;32m~\\anaconda3\\envs\\env1\\Lib\\site-packages\\pandas\\io\\parsers\\readers.py:618\u001b[0m, in \u001b[0;36m_read\u001b[1;34m(filepath_or_buffer, kwds)\u001b[0m\n\u001b[0;32m    615\u001b[0m _validate_names(kwds\u001b[38;5;241m.\u001b[39mget(\u001b[38;5;124m\"\u001b[39m\u001b[38;5;124mnames\u001b[39m\u001b[38;5;124m\"\u001b[39m, \u001b[38;5;28;01mNone\u001b[39;00m))\n\u001b[0;32m    617\u001b[0m \u001b[38;5;66;03m# Create the parser.\u001b[39;00m\n\u001b[1;32m--> 618\u001b[0m parser \u001b[38;5;241m=\u001b[39m TextFileReader(filepath_or_buffer, \u001b[38;5;241m*\u001b[39m\u001b[38;5;241m*\u001b[39mkwds)\n\u001b[0;32m    620\u001b[0m \u001b[38;5;28;01mif\u001b[39;00m chunksize \u001b[38;5;129;01mor\u001b[39;00m iterator:\n\u001b[0;32m    621\u001b[0m     \u001b[38;5;28;01mreturn\u001b[39;00m parser\n",
      "File \u001b[1;32m~\\anaconda3\\envs\\env1\\Lib\\site-packages\\pandas\\io\\parsers\\readers.py:1618\u001b[0m, in \u001b[0;36mTextFileReader.__init__\u001b[1;34m(self, f, engine, **kwds)\u001b[0m\n\u001b[0;32m   1615\u001b[0m     \u001b[38;5;28mself\u001b[39m\u001b[38;5;241m.\u001b[39moptions[\u001b[38;5;124m\"\u001b[39m\u001b[38;5;124mhas_index_names\u001b[39m\u001b[38;5;124m\"\u001b[39m] \u001b[38;5;241m=\u001b[39m kwds[\u001b[38;5;124m\"\u001b[39m\u001b[38;5;124mhas_index_names\u001b[39m\u001b[38;5;124m\"\u001b[39m]\n\u001b[0;32m   1617\u001b[0m \u001b[38;5;28mself\u001b[39m\u001b[38;5;241m.\u001b[39mhandles: IOHandles \u001b[38;5;241m|\u001b[39m \u001b[38;5;28;01mNone\u001b[39;00m \u001b[38;5;241m=\u001b[39m \u001b[38;5;28;01mNone\u001b[39;00m\n\u001b[1;32m-> 1618\u001b[0m \u001b[38;5;28mself\u001b[39m\u001b[38;5;241m.\u001b[39m_engine \u001b[38;5;241m=\u001b[39m \u001b[38;5;28mself\u001b[39m\u001b[38;5;241m.\u001b[39m_make_engine(f, \u001b[38;5;28mself\u001b[39m\u001b[38;5;241m.\u001b[39mengine)\n",
      "File \u001b[1;32m~\\anaconda3\\envs\\env1\\Lib\\site-packages\\pandas\\io\\parsers\\readers.py:1878\u001b[0m, in \u001b[0;36mTextFileReader._make_engine\u001b[1;34m(self, f, engine)\u001b[0m\n\u001b[0;32m   1876\u001b[0m     \u001b[38;5;28;01mif\u001b[39;00m \u001b[38;5;124m\"\u001b[39m\u001b[38;5;124mb\u001b[39m\u001b[38;5;124m\"\u001b[39m \u001b[38;5;129;01mnot\u001b[39;00m \u001b[38;5;129;01min\u001b[39;00m mode:\n\u001b[0;32m   1877\u001b[0m         mode \u001b[38;5;241m+\u001b[39m\u001b[38;5;241m=\u001b[39m \u001b[38;5;124m\"\u001b[39m\u001b[38;5;124mb\u001b[39m\u001b[38;5;124m\"\u001b[39m\n\u001b[1;32m-> 1878\u001b[0m \u001b[38;5;28mself\u001b[39m\u001b[38;5;241m.\u001b[39mhandles \u001b[38;5;241m=\u001b[39m get_handle(\n\u001b[0;32m   1879\u001b[0m     f,\n\u001b[0;32m   1880\u001b[0m     mode,\n\u001b[0;32m   1881\u001b[0m     encoding\u001b[38;5;241m=\u001b[39m\u001b[38;5;28mself\u001b[39m\u001b[38;5;241m.\u001b[39moptions\u001b[38;5;241m.\u001b[39mget(\u001b[38;5;124m\"\u001b[39m\u001b[38;5;124mencoding\u001b[39m\u001b[38;5;124m\"\u001b[39m, \u001b[38;5;28;01mNone\u001b[39;00m),\n\u001b[0;32m   1882\u001b[0m     compression\u001b[38;5;241m=\u001b[39m\u001b[38;5;28mself\u001b[39m\u001b[38;5;241m.\u001b[39moptions\u001b[38;5;241m.\u001b[39mget(\u001b[38;5;124m\"\u001b[39m\u001b[38;5;124mcompression\u001b[39m\u001b[38;5;124m\"\u001b[39m, \u001b[38;5;28;01mNone\u001b[39;00m),\n\u001b[0;32m   1883\u001b[0m     memory_map\u001b[38;5;241m=\u001b[39m\u001b[38;5;28mself\u001b[39m\u001b[38;5;241m.\u001b[39moptions\u001b[38;5;241m.\u001b[39mget(\u001b[38;5;124m\"\u001b[39m\u001b[38;5;124mmemory_map\u001b[39m\u001b[38;5;124m\"\u001b[39m, \u001b[38;5;28;01mFalse\u001b[39;00m),\n\u001b[0;32m   1884\u001b[0m     is_text\u001b[38;5;241m=\u001b[39mis_text,\n\u001b[0;32m   1885\u001b[0m     errors\u001b[38;5;241m=\u001b[39m\u001b[38;5;28mself\u001b[39m\u001b[38;5;241m.\u001b[39moptions\u001b[38;5;241m.\u001b[39mget(\u001b[38;5;124m\"\u001b[39m\u001b[38;5;124mencoding_errors\u001b[39m\u001b[38;5;124m\"\u001b[39m, \u001b[38;5;124m\"\u001b[39m\u001b[38;5;124mstrict\u001b[39m\u001b[38;5;124m\"\u001b[39m),\n\u001b[0;32m   1886\u001b[0m     storage_options\u001b[38;5;241m=\u001b[39m\u001b[38;5;28mself\u001b[39m\u001b[38;5;241m.\u001b[39moptions\u001b[38;5;241m.\u001b[39mget(\u001b[38;5;124m\"\u001b[39m\u001b[38;5;124mstorage_options\u001b[39m\u001b[38;5;124m\"\u001b[39m, \u001b[38;5;28;01mNone\u001b[39;00m),\n\u001b[0;32m   1887\u001b[0m )\n\u001b[0;32m   1888\u001b[0m \u001b[38;5;28;01massert\u001b[39;00m \u001b[38;5;28mself\u001b[39m\u001b[38;5;241m.\u001b[39mhandles \u001b[38;5;129;01mis\u001b[39;00m \u001b[38;5;129;01mnot\u001b[39;00m \u001b[38;5;28;01mNone\u001b[39;00m\n\u001b[0;32m   1889\u001b[0m f \u001b[38;5;241m=\u001b[39m \u001b[38;5;28mself\u001b[39m\u001b[38;5;241m.\u001b[39mhandles\u001b[38;5;241m.\u001b[39mhandle\n",
      "File \u001b[1;32m~\\anaconda3\\envs\\env1\\Lib\\site-packages\\pandas\\io\\common.py:873\u001b[0m, in \u001b[0;36mget_handle\u001b[1;34m(path_or_buf, mode, encoding, compression, memory_map, is_text, errors, storage_options)\u001b[0m\n\u001b[0;32m    868\u001b[0m \u001b[38;5;28;01melif\u001b[39;00m \u001b[38;5;28misinstance\u001b[39m(handle, \u001b[38;5;28mstr\u001b[39m):\n\u001b[0;32m    869\u001b[0m     \u001b[38;5;66;03m# Check whether the filename is to be opened in binary mode.\u001b[39;00m\n\u001b[0;32m    870\u001b[0m     \u001b[38;5;66;03m# Binary mode does not support 'encoding' and 'newline'.\u001b[39;00m\n\u001b[0;32m    871\u001b[0m     \u001b[38;5;28;01mif\u001b[39;00m ioargs\u001b[38;5;241m.\u001b[39mencoding \u001b[38;5;129;01mand\u001b[39;00m \u001b[38;5;124m\"\u001b[39m\u001b[38;5;124mb\u001b[39m\u001b[38;5;124m\"\u001b[39m \u001b[38;5;129;01mnot\u001b[39;00m \u001b[38;5;129;01min\u001b[39;00m ioargs\u001b[38;5;241m.\u001b[39mmode:\n\u001b[0;32m    872\u001b[0m         \u001b[38;5;66;03m# Encoding\u001b[39;00m\n\u001b[1;32m--> 873\u001b[0m         handle \u001b[38;5;241m=\u001b[39m \u001b[38;5;28mopen\u001b[39m(\n\u001b[0;32m    874\u001b[0m             handle,\n\u001b[0;32m    875\u001b[0m             ioargs\u001b[38;5;241m.\u001b[39mmode,\n\u001b[0;32m    876\u001b[0m             encoding\u001b[38;5;241m=\u001b[39mioargs\u001b[38;5;241m.\u001b[39mencoding,\n\u001b[0;32m    877\u001b[0m             errors\u001b[38;5;241m=\u001b[39merrors,\n\u001b[0;32m    878\u001b[0m             newline\u001b[38;5;241m=\u001b[39m\u001b[38;5;124m\"\u001b[39m\u001b[38;5;124m\"\u001b[39m,\n\u001b[0;32m    879\u001b[0m         )\n\u001b[0;32m    880\u001b[0m     \u001b[38;5;28;01melse\u001b[39;00m:\n\u001b[0;32m    881\u001b[0m         \u001b[38;5;66;03m# Binary mode\u001b[39;00m\n\u001b[0;32m    882\u001b[0m         handle \u001b[38;5;241m=\u001b[39m \u001b[38;5;28mopen\u001b[39m(handle, ioargs\u001b[38;5;241m.\u001b[39mmode)\n",
      "\u001b[1;31mFileNotFoundError\u001b[0m: [Errno 2] No such file or directory: 'Iris.csv'"
     ]
    }
   ],
   "source": [
    "import pandas as pd\n",
    "\n",
    "# Reading the CSV file\n",
    "df = pd.read_csv(\"Iris.csv\")\n",
    "\n",
    "# Printing top 5 rows\n",
    "df.head()\n"
   ]
  },
  {
   "cell_type": "markdown",
   "metadata": {
    "id": "w-VjpijhM168"
   },
   "source": [
    "**Filtering DataFrame**\n",
    "Pandas dataframe.filter() function is used to Subset rows or columns of dataframe according to labels in the specified index. Note that this routine does not filter a dataframe on its contents. The filter is applied to the labels of the index."
   ]
  },
  {
   "cell_type": "code",
   "execution_count": null,
   "metadata": {
    "id": "RCsWyuMNMqTY"
   },
   "outputs": [],
   "source": [
    "import pandas as pd\n",
    "\n",
    "# Reading the CSV file\n",
    "df = pd.read_csv(\"Iris.csv\")\n",
    "\n",
    "# applying filter function\n",
    "df.filter([\"Species\", \"SepalLengthCm\", \"SepalLengthCm\"]).head()\n"
   ]
  },
  {
   "cell_type": "markdown",
   "metadata": {
    "id": "HXyKTYyTNLfJ"
   },
   "source": [
    "Sorting DataFrame\n",
    "In order to sort the data frame in pandas, the function sort_values() is used. Pandas sort_values() can sort the data frame in Ascending or Descending order.\n",
    "\n",
    "Python Pandas Sorting Dataframe in Ascending Order"
   ]
  },
  {
   "cell_type": "code",
   "execution_count": 2,
   "metadata": {
    "colab": {
     "base_uri": "https://localhost:8080/",
     "height": 380
    },
    "executionInfo": {
     "elapsed": 59,
     "status": "error",
     "timestamp": 1687674030872,
     "user": {
      "displayName": "Abhay Patel",
      "userId": "03621184276517042201"
     },
     "user_tz": -330
    },
    "id": "US0_C_yANT2-",
    "outputId": "285120c1-07aa-4065-d990-1d8bc2af6364"
   },
   "outputs": [
    {
     "ename": "FileNotFoundError",
     "evalue": "ignored",
     "output_type": "error",
     "traceback": [
      "\u001b[0;31m---------------------------------------------------------------------------\u001b[0m",
      "\u001b[0;31mFileNotFoundError\u001b[0m                         Traceback (most recent call last)",
      "\u001b[0;32m<ipython-input-2-62cf1348c89b>\u001b[0m in \u001b[0;36m<cell line: 5>\u001b[0;34m()\u001b[0m\n\u001b[1;32m      3\u001b[0m \u001b[0;34m\u001b[0m\u001b[0m\n\u001b[1;32m      4\u001b[0m \u001b[0;31m# making data frame from csv file\u001b[0m\u001b[0;34m\u001b[0m\u001b[0;34m\u001b[0m\u001b[0m\n\u001b[0;32m----> 5\u001b[0;31m \u001b[0mdata\u001b[0m \u001b[0;34m=\u001b[0m \u001b[0mpd\u001b[0m\u001b[0;34m.\u001b[0m\u001b[0mread_csv\u001b[0m\u001b[0;34m(\u001b[0m\u001b[0;34m\"Iris.csv\"\u001b[0m\u001b[0;34m)\u001b[0m\u001b[0;34m\u001b[0m\u001b[0;34m\u001b[0m\u001b[0m\n\u001b[0m\u001b[1;32m      6\u001b[0m \u001b[0;34m\u001b[0m\u001b[0m\n\u001b[1;32m      7\u001b[0m \u001b[0;31m# sorting data frame by name\u001b[0m\u001b[0;34m\u001b[0m\u001b[0;34m\u001b[0m\u001b[0m\n",
      "\u001b[0;32m/usr/local/lib/python3.10/dist-packages/pandas/util/_decorators.py\u001b[0m in \u001b[0;36mwrapper\u001b[0;34m(*args, **kwargs)\u001b[0m\n\u001b[1;32m    209\u001b[0m                 \u001b[0;32melse\u001b[0m\u001b[0;34m:\u001b[0m\u001b[0;34m\u001b[0m\u001b[0;34m\u001b[0m\u001b[0m\n\u001b[1;32m    210\u001b[0m                     \u001b[0mkwargs\u001b[0m\u001b[0;34m[\u001b[0m\u001b[0mnew_arg_name\u001b[0m\u001b[0;34m]\u001b[0m \u001b[0;34m=\u001b[0m \u001b[0mnew_arg_value\u001b[0m\u001b[0;34m\u001b[0m\u001b[0;34m\u001b[0m\u001b[0m\n\u001b[0;32m--> 211\u001b[0;31m             \u001b[0;32mreturn\u001b[0m \u001b[0mfunc\u001b[0m\u001b[0;34m(\u001b[0m\u001b[0;34m*\u001b[0m\u001b[0margs\u001b[0m\u001b[0;34m,\u001b[0m \u001b[0;34m**\u001b[0m\u001b[0mkwargs\u001b[0m\u001b[0;34m)\u001b[0m\u001b[0;34m\u001b[0m\u001b[0;34m\u001b[0m\u001b[0m\n\u001b[0m\u001b[1;32m    212\u001b[0m \u001b[0;34m\u001b[0m\u001b[0m\n\u001b[1;32m    213\u001b[0m         \u001b[0;32mreturn\u001b[0m \u001b[0mcast\u001b[0m\u001b[0;34m(\u001b[0m\u001b[0mF\u001b[0m\u001b[0;34m,\u001b[0m \u001b[0mwrapper\u001b[0m\u001b[0;34m)\u001b[0m\u001b[0;34m\u001b[0m\u001b[0;34m\u001b[0m\u001b[0m\n",
      "\u001b[0;32m/usr/local/lib/python3.10/dist-packages/pandas/util/_decorators.py\u001b[0m in \u001b[0;36mwrapper\u001b[0;34m(*args, **kwargs)\u001b[0m\n\u001b[1;32m    329\u001b[0m                     \u001b[0mstacklevel\u001b[0m\u001b[0;34m=\u001b[0m\u001b[0mfind_stack_level\u001b[0m\u001b[0;34m(\u001b[0m\u001b[0;34m)\u001b[0m\u001b[0;34m,\u001b[0m\u001b[0;34m\u001b[0m\u001b[0;34m\u001b[0m\u001b[0m\n\u001b[1;32m    330\u001b[0m                 )\n\u001b[0;32m--> 331\u001b[0;31m             \u001b[0;32mreturn\u001b[0m \u001b[0mfunc\u001b[0m\u001b[0;34m(\u001b[0m\u001b[0;34m*\u001b[0m\u001b[0margs\u001b[0m\u001b[0;34m,\u001b[0m \u001b[0;34m**\u001b[0m\u001b[0mkwargs\u001b[0m\u001b[0;34m)\u001b[0m\u001b[0;34m\u001b[0m\u001b[0;34m\u001b[0m\u001b[0m\n\u001b[0m\u001b[1;32m    332\u001b[0m \u001b[0;34m\u001b[0m\u001b[0m\n\u001b[1;32m    333\u001b[0m         \u001b[0;31m# error: \"Callable[[VarArg(Any), KwArg(Any)], Any]\" has no\u001b[0m\u001b[0;34m\u001b[0m\u001b[0;34m\u001b[0m\u001b[0m\n",
      "\u001b[0;32m/usr/local/lib/python3.10/dist-packages/pandas/io/parsers/readers.py\u001b[0m in \u001b[0;36mread_csv\u001b[0;34m(filepath_or_buffer, sep, delimiter, header, names, index_col, usecols, squeeze, prefix, mangle_dupe_cols, dtype, engine, converters, true_values, false_values, skipinitialspace, skiprows, skipfooter, nrows, na_values, keep_default_na, na_filter, verbose, skip_blank_lines, parse_dates, infer_datetime_format, keep_date_col, date_parser, dayfirst, cache_dates, iterator, chunksize, compression, thousands, decimal, lineterminator, quotechar, quoting, doublequote, escapechar, comment, encoding, encoding_errors, dialect, error_bad_lines, warn_bad_lines, on_bad_lines, delim_whitespace, low_memory, memory_map, float_precision, storage_options)\u001b[0m\n\u001b[1;32m    948\u001b[0m     \u001b[0mkwds\u001b[0m\u001b[0;34m.\u001b[0m\u001b[0mupdate\u001b[0m\u001b[0;34m(\u001b[0m\u001b[0mkwds_defaults\u001b[0m\u001b[0;34m)\u001b[0m\u001b[0;34m\u001b[0m\u001b[0;34m\u001b[0m\u001b[0m\n\u001b[1;32m    949\u001b[0m \u001b[0;34m\u001b[0m\u001b[0m\n\u001b[0;32m--> 950\u001b[0;31m     \u001b[0;32mreturn\u001b[0m \u001b[0m_read\u001b[0m\u001b[0;34m(\u001b[0m\u001b[0mfilepath_or_buffer\u001b[0m\u001b[0;34m,\u001b[0m \u001b[0mkwds\u001b[0m\u001b[0;34m)\u001b[0m\u001b[0;34m\u001b[0m\u001b[0;34m\u001b[0m\u001b[0m\n\u001b[0m\u001b[1;32m    951\u001b[0m \u001b[0;34m\u001b[0m\u001b[0m\n\u001b[1;32m    952\u001b[0m \u001b[0;34m\u001b[0m\u001b[0m\n",
      "\u001b[0;32m/usr/local/lib/python3.10/dist-packages/pandas/io/parsers/readers.py\u001b[0m in \u001b[0;36m_read\u001b[0;34m(filepath_or_buffer, kwds)\u001b[0m\n\u001b[1;32m    603\u001b[0m \u001b[0;34m\u001b[0m\u001b[0m\n\u001b[1;32m    604\u001b[0m     \u001b[0;31m# Create the parser.\u001b[0m\u001b[0;34m\u001b[0m\u001b[0;34m\u001b[0m\u001b[0m\n\u001b[0;32m--> 605\u001b[0;31m     \u001b[0mparser\u001b[0m \u001b[0;34m=\u001b[0m \u001b[0mTextFileReader\u001b[0m\u001b[0;34m(\u001b[0m\u001b[0mfilepath_or_buffer\u001b[0m\u001b[0;34m,\u001b[0m \u001b[0;34m**\u001b[0m\u001b[0mkwds\u001b[0m\u001b[0;34m)\u001b[0m\u001b[0;34m\u001b[0m\u001b[0;34m\u001b[0m\u001b[0m\n\u001b[0m\u001b[1;32m    606\u001b[0m \u001b[0;34m\u001b[0m\u001b[0m\n\u001b[1;32m    607\u001b[0m     \u001b[0;32mif\u001b[0m \u001b[0mchunksize\u001b[0m \u001b[0;32mor\u001b[0m \u001b[0miterator\u001b[0m\u001b[0;34m:\u001b[0m\u001b[0;34m\u001b[0m\u001b[0;34m\u001b[0m\u001b[0m\n",
      "\u001b[0;32m/usr/local/lib/python3.10/dist-packages/pandas/io/parsers/readers.py\u001b[0m in \u001b[0;36m__init__\u001b[0;34m(self, f, engine, **kwds)\u001b[0m\n\u001b[1;32m   1440\u001b[0m \u001b[0;34m\u001b[0m\u001b[0m\n\u001b[1;32m   1441\u001b[0m         \u001b[0mself\u001b[0m\u001b[0;34m.\u001b[0m\u001b[0mhandles\u001b[0m\u001b[0;34m:\u001b[0m \u001b[0mIOHandles\u001b[0m \u001b[0;34m|\u001b[0m \u001b[0;32mNone\u001b[0m \u001b[0;34m=\u001b[0m \u001b[0;32mNone\u001b[0m\u001b[0;34m\u001b[0m\u001b[0;34m\u001b[0m\u001b[0m\n\u001b[0;32m-> 1442\u001b[0;31m         \u001b[0mself\u001b[0m\u001b[0;34m.\u001b[0m\u001b[0m_engine\u001b[0m \u001b[0;34m=\u001b[0m \u001b[0mself\u001b[0m\u001b[0;34m.\u001b[0m\u001b[0m_make_engine\u001b[0m\u001b[0;34m(\u001b[0m\u001b[0mf\u001b[0m\u001b[0;34m,\u001b[0m \u001b[0mself\u001b[0m\u001b[0;34m.\u001b[0m\u001b[0mengine\u001b[0m\u001b[0;34m)\u001b[0m\u001b[0;34m\u001b[0m\u001b[0;34m\u001b[0m\u001b[0m\n\u001b[0m\u001b[1;32m   1443\u001b[0m \u001b[0;34m\u001b[0m\u001b[0m\n\u001b[1;32m   1444\u001b[0m     \u001b[0;32mdef\u001b[0m \u001b[0mclose\u001b[0m\u001b[0;34m(\u001b[0m\u001b[0mself\u001b[0m\u001b[0;34m)\u001b[0m \u001b[0;34m->\u001b[0m \u001b[0;32mNone\u001b[0m\u001b[0;34m:\u001b[0m\u001b[0;34m\u001b[0m\u001b[0;34m\u001b[0m\u001b[0m\n",
      "\u001b[0;32m/usr/local/lib/python3.10/dist-packages/pandas/io/parsers/readers.py\u001b[0m in \u001b[0;36m_make_engine\u001b[0;34m(self, f, engine)\u001b[0m\n\u001b[1;32m   1733\u001b[0m                 \u001b[0;32mif\u001b[0m \u001b[0;34m\"b\"\u001b[0m \u001b[0;32mnot\u001b[0m \u001b[0;32min\u001b[0m \u001b[0mmode\u001b[0m\u001b[0;34m:\u001b[0m\u001b[0;34m\u001b[0m\u001b[0;34m\u001b[0m\u001b[0m\n\u001b[1;32m   1734\u001b[0m                     \u001b[0mmode\u001b[0m \u001b[0;34m+=\u001b[0m \u001b[0;34m\"b\"\u001b[0m\u001b[0;34m\u001b[0m\u001b[0;34m\u001b[0m\u001b[0m\n\u001b[0;32m-> 1735\u001b[0;31m             self.handles = get_handle(\n\u001b[0m\u001b[1;32m   1736\u001b[0m                 \u001b[0mf\u001b[0m\u001b[0;34m,\u001b[0m\u001b[0;34m\u001b[0m\u001b[0;34m\u001b[0m\u001b[0m\n\u001b[1;32m   1737\u001b[0m                 \u001b[0mmode\u001b[0m\u001b[0;34m,\u001b[0m\u001b[0;34m\u001b[0m\u001b[0;34m\u001b[0m\u001b[0m\n",
      "\u001b[0;32m/usr/local/lib/python3.10/dist-packages/pandas/io/common.py\u001b[0m in \u001b[0;36mget_handle\u001b[0;34m(path_or_buf, mode, encoding, compression, memory_map, is_text, errors, storage_options)\u001b[0m\n\u001b[1;32m    854\u001b[0m         \u001b[0;32mif\u001b[0m \u001b[0mioargs\u001b[0m\u001b[0;34m.\u001b[0m\u001b[0mencoding\u001b[0m \u001b[0;32mand\u001b[0m \u001b[0;34m\"b\"\u001b[0m \u001b[0;32mnot\u001b[0m \u001b[0;32min\u001b[0m \u001b[0mioargs\u001b[0m\u001b[0;34m.\u001b[0m\u001b[0mmode\u001b[0m\u001b[0;34m:\u001b[0m\u001b[0;34m\u001b[0m\u001b[0;34m\u001b[0m\u001b[0m\n\u001b[1;32m    855\u001b[0m             \u001b[0;31m# Encoding\u001b[0m\u001b[0;34m\u001b[0m\u001b[0;34m\u001b[0m\u001b[0m\n\u001b[0;32m--> 856\u001b[0;31m             handle = open(\n\u001b[0m\u001b[1;32m    857\u001b[0m                 \u001b[0mhandle\u001b[0m\u001b[0;34m,\u001b[0m\u001b[0;34m\u001b[0m\u001b[0;34m\u001b[0m\u001b[0m\n\u001b[1;32m    858\u001b[0m                 \u001b[0mioargs\u001b[0m\u001b[0;34m.\u001b[0m\u001b[0mmode\u001b[0m\u001b[0;34m,\u001b[0m\u001b[0;34m\u001b[0m\u001b[0;34m\u001b[0m\u001b[0m\n",
      "\u001b[0;31mFileNotFoundError\u001b[0m: [Errno 2] No such file or directory: 'Iris.csv'"
     ]
    }
   ],
   "source": [
    "# importing pandas package\n",
    "import pandas as pd\n",
    "\n",
    "# making data frame from csv file\n",
    "data = pd.read_csv(\"Iris.csv\")\n",
    "\n",
    "# sorting data frame by name\n",
    "data.sort_values(\"Species\", axis = 0, ascending = True,\n",
    "\t\t\t\tinplace = True, na_position ='last')\n",
    "\n",
    "# display\n",
    "data\n"
   ]
  },
  {
   "cell_type": "markdown",
   "metadata": {
    "id": "uChyLorANuqy"
   },
   "source": [
    "Pandas GroupBy\n",
    "Groupby is a pretty simple concept. We can create a grouping of categories and apply a function to the categories. In real data science projects, you’ll be dealing with large amounts of data and trying things over and over, so for efficiency, we use the Groupby concept.  Groupby mainly refers to a process involving one or more of the following steps they are:\n",
    "\n",
    "Splitting: It is a process in which we split data into group by applying some conditions on datasets.\n",
    "Applying: It is a process in which we apply a function to each group independently.\n",
    "Combining: It is a process in which we combine different datasets after applying groupby and results into a data structure.\n"
   ]
  },
  {
   "cell_type": "markdown",
   "metadata": {
    "id": "VfwQieRDOHHP"
   },
   "source": [
    "Applying function to group:\n",
    "\n",
    "After splitting a data into a group, we apply a function to each group in order to do that we perform some operations they are:\n",
    "\n"
   ]
  },
  {
   "cell_type": "code",
   "execution_count": 2,
   "metadata": {
    "id": "fHiZdodMNu7Z"
   },
   "outputs": [
    {
     "name": "stdout",
     "output_type": "stream",
     "text": [
      "Original Dataframe\n"
     ]
    },
    {
     "data": {
      "text/html": [
       "<div>\n",
       "<style scoped>\n",
       "    .dataframe tbody tr th:only-of-type {\n",
       "        vertical-align: middle;\n",
       "    }\n",
       "\n",
       "    .dataframe tbody tr th {\n",
       "        vertical-align: top;\n",
       "    }\n",
       "\n",
       "    .dataframe thead th {\n",
       "        text-align: right;\n",
       "    }\n",
       "</style>\n",
       "<table border=\"1\" class=\"dataframe\">\n",
       "  <thead>\n",
       "    <tr style=\"text-align: right;\">\n",
       "      <th></th>\n",
       "      <th>Name</th>\n",
       "      <th>Age</th>\n",
       "      <th>Address</th>\n",
       "      <th>Qualification</th>\n",
       "    </tr>\n",
       "  </thead>\n",
       "  <tbody>\n",
       "    <tr>\n",
       "      <th>0</th>\n",
       "      <td>Jai</td>\n",
       "      <td>27</td>\n",
       "      <td>Nagpur</td>\n",
       "      <td>Msc</td>\n",
       "    </tr>\n",
       "    <tr>\n",
       "      <th>1</th>\n",
       "      <td>Anuj</td>\n",
       "      <td>24</td>\n",
       "      <td>Kanpur</td>\n",
       "      <td>MA</td>\n",
       "    </tr>\n",
       "    <tr>\n",
       "      <th>2</th>\n",
       "      <td>Jai</td>\n",
       "      <td>22</td>\n",
       "      <td>Allahabad</td>\n",
       "      <td>MCA</td>\n",
       "    </tr>\n",
       "    <tr>\n",
       "      <th>3</th>\n",
       "      <td>Princi</td>\n",
       "      <td>32</td>\n",
       "      <td>Kannuaj</td>\n",
       "      <td>Phd</td>\n",
       "    </tr>\n",
       "    <tr>\n",
       "      <th>4</th>\n",
       "      <td>Gaurav</td>\n",
       "      <td>33</td>\n",
       "      <td>Jaunpur</td>\n",
       "      <td>B.Tech</td>\n",
       "    </tr>\n",
       "    <tr>\n",
       "      <th>5</th>\n",
       "      <td>Anuj</td>\n",
       "      <td>36</td>\n",
       "      <td>Kanpur</td>\n",
       "      <td>B.com</td>\n",
       "    </tr>\n",
       "    <tr>\n",
       "      <th>6</th>\n",
       "      <td>Princi</td>\n",
       "      <td>27</td>\n",
       "      <td>Allahabad</td>\n",
       "      <td>Msc</td>\n",
       "    </tr>\n",
       "    <tr>\n",
       "      <th>7</th>\n",
       "      <td>Abhi</td>\n",
       "      <td>32</td>\n",
       "      <td>Aligarh</td>\n",
       "      <td>MA</td>\n",
       "    </tr>\n",
       "  </tbody>\n",
       "</table>\n",
       "</div>"
      ],
      "text/plain": [
       "     Name  Age    Address Qualification\n",
       "0     Jai   27     Nagpur           Msc\n",
       "1    Anuj   24     Kanpur            MA\n",
       "2     Jai   22  Allahabad           MCA\n",
       "3  Princi   32    Kannuaj           Phd\n",
       "4  Gaurav   33    Jaunpur        B.Tech\n",
       "5    Anuj   36     Kanpur         B.com\n",
       "6  Princi   27  Allahabad           Msc\n",
       "7    Abhi   32    Aligarh            MA"
      ]
     },
     "metadata": {},
     "output_type": "display_data"
    },
    {
     "name": "stdout",
     "output_type": "stream",
     "text": [
      "After Creating Groups\n"
     ]
    },
    {
     "data": {
      "text/html": [
       "<div>\n",
       "<style scoped>\n",
       "    .dataframe tbody tr th:only-of-type {\n",
       "        vertical-align: middle;\n",
       "    }\n",
       "\n",
       "    .dataframe tbody tr th {\n",
       "        vertical-align: top;\n",
       "    }\n",
       "\n",
       "    .dataframe thead th {\n",
       "        text-align: right;\n",
       "    }\n",
       "</style>\n",
       "<table border=\"1\" class=\"dataframe\">\n",
       "  <thead>\n",
       "    <tr style=\"text-align: right;\">\n",
       "      <th></th>\n",
       "      <th>Age</th>\n",
       "      <th>Address</th>\n",
       "      <th>Qualification</th>\n",
       "    </tr>\n",
       "    <tr>\n",
       "      <th>Name</th>\n",
       "      <th></th>\n",
       "      <th></th>\n",
       "      <th></th>\n",
       "    </tr>\n",
       "  </thead>\n",
       "  <tbody>\n",
       "    <tr>\n",
       "      <th>Abhi</th>\n",
       "      <td>32</td>\n",
       "      <td>Aligarh</td>\n",
       "      <td>MA</td>\n",
       "    </tr>\n",
       "    <tr>\n",
       "      <th>Anuj</th>\n",
       "      <td>24</td>\n",
       "      <td>Kanpur</td>\n",
       "      <td>MA</td>\n",
       "    </tr>\n",
       "    <tr>\n",
       "      <th>Gaurav</th>\n",
       "      <td>33</td>\n",
       "      <td>Jaunpur</td>\n",
       "      <td>B.Tech</td>\n",
       "    </tr>\n",
       "    <tr>\n",
       "      <th>Jai</th>\n",
       "      <td>27</td>\n",
       "      <td>Nagpur</td>\n",
       "      <td>Msc</td>\n",
       "    </tr>\n",
       "    <tr>\n",
       "      <th>Princi</th>\n",
       "      <td>32</td>\n",
       "      <td>Kannuaj</td>\n",
       "      <td>Phd</td>\n",
       "    </tr>\n",
       "  </tbody>\n",
       "</table>\n",
       "</div>"
      ],
      "text/plain": [
       "        Age  Address Qualification\n",
       "Name                              \n",
       "Abhi     32  Aligarh            MA\n",
       "Anuj     24   Kanpur            MA\n",
       "Gaurav   33  Jaunpur        B.Tech\n",
       "Jai      27   Nagpur           Msc\n",
       "Princi   32  Kannuaj           Phd"
      ]
     },
     "execution_count": 2,
     "metadata": {},
     "output_type": "execute_result"
    }
   ],
   "source": [
    "# importing pandas module\n",
    "import pandas as pd\n",
    "\n",
    "# Define a dictionary containing employee data\n",
    "data1 = {'Name': ['Jai', 'Anuj', 'Jai', 'Princi',\n",
    "\t\t\t\t'Gaurav', 'Anuj', 'Princi', 'Abhi'],\n",
    "\t\t'Age': [27, 24, 22, 32,\n",
    "\t\t\t\t33, 36, 27, 32],\n",
    "\t\t'Address': ['Nagpur', 'Kanpur', 'Allahabad', 'Kannuaj',\n",
    "\t\t\t\t\t'Jaunpur', 'Kanpur', 'Allahabad', 'Aligarh'],\n",
    "\t\t'Qualification': ['Msc', 'MA', 'MCA', 'Phd',\n",
    "\t\t\t\t\t\t'B.Tech', 'B.com', 'Msc', 'MA']}\n",
    "\n",
    "# Convert the dictionary into DataFrame\n",
    "df = pd.DataFrame(data1)\n",
    "\n",
    "print(\"Original Dataframe\")\n",
    "display(df)\n",
    "\n",
    "# applying groupby() function to\n",
    "# group the data on Name value.\n",
    "gk = df.groupby('Name')\n",
    "\n",
    "# Let's print the first entries\n",
    "# in all the groups formed.\n",
    "print(\"After Creating Groups\")\n",
    "gk.first()\n"
   ]
  },
  {
   "cell_type": "code",
   "execution_count": null,
   "metadata": {},
   "outputs": [],
   "source": []
  },
  {
   "cell_type": "markdown",
   "metadata": {
    "id": "sYv9EVbQN4AG"
   },
   "source": [
    "Aggregation: It is a process in which we compute a summary statistic (or statistics) about each group. For Example, Compute group sums or means\n",
    "Transformation: It is a process in which we perform some group-specific computations and return a like-indexed. For Example, Filling NAs within groups with a value derived from each group\n",
    "Filtration: It is a process in which we discard some groups, according to a group-wise computation that evaluates True or False. For Example, Filtering out data based on the group sum or mean"
   ]
  },
  {
   "cell_type": "code",
   "execution_count": 3,
   "metadata": {
    "id": "wGkOT07fOdIb"
   },
   "outputs": [
    {
     "name": "stderr",
     "output_type": "stream",
     "text": [
      "C:\\Users\\abhay\\AppData\\Local\\Temp\\ipykernel_15768\\469065828.py:26: FutureWarning: The provided callable <function sum at 0x000001B52C475940> is currently using DataFrameGroupBy.sum. In a future version of pandas, the provided callable will be used directly. To keep current behavior pass the string \"sum\" instead.\n",
      "  grp1.aggregate(np.sum)\n"
     ]
    },
    {
     "data": {
      "text/html": [
       "<div>\n",
       "<style scoped>\n",
       "    .dataframe tbody tr th:only-of-type {\n",
       "        vertical-align: middle;\n",
       "    }\n",
       "\n",
       "    .dataframe tbody tr th {\n",
       "        vertical-align: top;\n",
       "    }\n",
       "\n",
       "    .dataframe thead th {\n",
       "        text-align: right;\n",
       "    }\n",
       "</style>\n",
       "<table border=\"1\" class=\"dataframe\">\n",
       "  <thead>\n",
       "    <tr style=\"text-align: right;\">\n",
       "      <th></th>\n",
       "      <th>Age</th>\n",
       "      <th>Address</th>\n",
       "      <th>Qualification</th>\n",
       "    </tr>\n",
       "    <tr>\n",
       "      <th>Name</th>\n",
       "      <th></th>\n",
       "      <th></th>\n",
       "      <th></th>\n",
       "    </tr>\n",
       "  </thead>\n",
       "  <tbody>\n",
       "    <tr>\n",
       "      <th>Abhi</th>\n",
       "      <td>32</td>\n",
       "      <td>Aligarh</td>\n",
       "      <td>MA</td>\n",
       "    </tr>\n",
       "    <tr>\n",
       "      <th>Anuj</th>\n",
       "      <td>60</td>\n",
       "      <td>KanpurKanpur</td>\n",
       "      <td>MAB.com</td>\n",
       "    </tr>\n",
       "    <tr>\n",
       "      <th>Gaurav</th>\n",
       "      <td>33</td>\n",
       "      <td>Jaunpur</td>\n",
       "      <td>B.Tech</td>\n",
       "    </tr>\n",
       "    <tr>\n",
       "      <th>Jai</th>\n",
       "      <td>49</td>\n",
       "      <td>NagpurAllahabad</td>\n",
       "      <td>MscMCA</td>\n",
       "    </tr>\n",
       "    <tr>\n",
       "      <th>Princi</th>\n",
       "      <td>59</td>\n",
       "      <td>KannuajAllahabad</td>\n",
       "      <td>PhdMsc</td>\n",
       "    </tr>\n",
       "  </tbody>\n",
       "</table>\n",
       "</div>"
      ],
      "text/plain": [
       "        Age           Address Qualification\n",
       "Name                                       \n",
       "Abhi     32           Aligarh            MA\n",
       "Anuj     60      KanpurKanpur       MAB.com\n",
       "Gaurav   33           Jaunpur        B.Tech\n",
       "Jai      49   NagpurAllahabad        MscMCA\n",
       "Princi   59  KannuajAllahabad        PhdMsc"
      ]
     },
     "execution_count": 3,
     "metadata": {},
     "output_type": "execute_result"
    }
   ],
   "source": [
    "# importing pandas module\n",
    "import pandas as pd\n",
    "\n",
    "# importing numpy as np\n",
    "import numpy as np\n",
    "\n",
    "# Define a dictionary containing employee data\n",
    "data1 = {'Name': ['Jai', 'Anuj', 'Jai', 'Princi',\n",
    "\t\t\t\t'Gaurav', 'Anuj', 'Princi', 'Abhi'],\n",
    "\t\t'Age': [27, 24, 22, 32,\n",
    "\t\t\t\t33, 36, 27, 32],\n",
    "\t\t'Address': ['Nagpur', 'Kanpur', 'Allahabad', 'Kannuaj',\n",
    "\t\t\t\t\t'Jaunpur', 'Kanpur', 'Allahabad', 'Aligarh'],\n",
    "\t\t'Qualification': ['Msc', 'MA', 'MCA', 'Phd',\n",
    "\t\t\t\t\t\t\t\t'B.Tech', 'B.com', 'Msc', 'MA']}\n",
    "\n",
    "\n",
    "# Convert the dictionary into DataFrame\n",
    "df = pd.DataFrame(data1)\n",
    "\n",
    "# performing aggregation using\n",
    "# aggregate method\n",
    "\n",
    "grp1 = df.groupby('Name')\n",
    "\n",
    "grp1.aggregate(np.sum)\n"
   ]
  },
  {
   "cell_type": "code",
   "execution_count": null,
   "metadata": {
    "id": "gwEhkSErOlBU"
   },
   "outputs": [],
   "source": []
  },
  {
   "cell_type": "markdown",
   "metadata": {
    "id": "CUkCSX_oOlPY"
   },
   "source": [
    "Concatenating DataFrame\n",
    "In order to concat the dataframe, we use concat() function which helps in concatenating the dataframe. This function does all the heavy lifting of performing concatenation operations along with an axis of Pandas objects while performing optional set logic (union or intersection) of the indexes (if any) on the other axes."
   ]
  },
  {
   "cell_type": "code",
   "execution_count": 4,
   "metadata": {
    "id": "vKkR80jtOoI2"
   },
   "outputs": [
    {
     "data": {
      "text/html": [
       "<div>\n",
       "<style scoped>\n",
       "    .dataframe tbody tr th:only-of-type {\n",
       "        vertical-align: middle;\n",
       "    }\n",
       "\n",
       "    .dataframe tbody tr th {\n",
       "        vertical-align: top;\n",
       "    }\n",
       "\n",
       "    .dataframe thead th {\n",
       "        text-align: right;\n",
       "    }\n",
       "</style>\n",
       "<table border=\"1\" class=\"dataframe\">\n",
       "  <thead>\n",
       "    <tr style=\"text-align: right;\">\n",
       "      <th></th>\n",
       "      <th>key</th>\n",
       "      <th>Name</th>\n",
       "      <th>Age</th>\n",
       "    </tr>\n",
       "  </thead>\n",
       "  <tbody>\n",
       "    <tr>\n",
       "      <th>0</th>\n",
       "      <td>K1</td>\n",
       "      <td>Jai</td>\n",
       "      <td>27</td>\n",
       "    </tr>\n",
       "    <tr>\n",
       "      <th>1</th>\n",
       "      <td>K1</td>\n",
       "      <td>Princi</td>\n",
       "      <td>24</td>\n",
       "    </tr>\n",
       "    <tr>\n",
       "      <th>2</th>\n",
       "      <td>K200</td>\n",
       "      <td>Gaurav</td>\n",
       "      <td>22</td>\n",
       "    </tr>\n",
       "    <tr>\n",
       "      <th>3</th>\n",
       "      <td>K3000</td>\n",
       "      <td>Anuj</td>\n",
       "      <td>32</td>\n",
       "    </tr>\n",
       "    <tr>\n",
       "      <th>4</th>\n",
       "      <td>extra</td>\n",
       "      <td>row</td>\n",
       "      <td>36</td>\n",
       "    </tr>\n",
       "  </tbody>\n",
       "</table>\n",
       "</div>"
      ],
      "text/plain": [
       "     key    Name  Age\n",
       "0     K1     Jai   27\n",
       "1     K1  Princi   24\n",
       "2   K200  Gaurav   22\n",
       "3  K3000    Anuj   32\n",
       "4  extra     row   36"
      ]
     },
     "metadata": {},
     "output_type": "display_data"
    },
    {
     "data": {
      "text/html": [
       "<div>\n",
       "<style scoped>\n",
       "    .dataframe tbody tr th:only-of-type {\n",
       "        vertical-align: middle;\n",
       "    }\n",
       "\n",
       "    .dataframe tbody tr th {\n",
       "        vertical-align: top;\n",
       "    }\n",
       "\n",
       "    .dataframe thead th {\n",
       "        text-align: right;\n",
       "    }\n",
       "</style>\n",
       "<table border=\"1\" class=\"dataframe\">\n",
       "  <thead>\n",
       "    <tr style=\"text-align: right;\">\n",
       "      <th></th>\n",
       "      <th>key</th>\n",
       "      <th>Address</th>\n",
       "      <th>Qualification</th>\n",
       "    </tr>\n",
       "  </thead>\n",
       "  <tbody>\n",
       "    <tr>\n",
       "      <th>0</th>\n",
       "      <td>K0</td>\n",
       "      <td>Nagpur</td>\n",
       "      <td>Btech</td>\n",
       "    </tr>\n",
       "    <tr>\n",
       "      <th>1</th>\n",
       "      <td>K1</td>\n",
       "      <td>Kanpur</td>\n",
       "      <td>B.A</td>\n",
       "    </tr>\n",
       "    <tr>\n",
       "      <th>2</th>\n",
       "      <td>K2</td>\n",
       "      <td>Allahabad</td>\n",
       "      <td>Bcom</td>\n",
       "    </tr>\n",
       "    <tr>\n",
       "      <th>3</th>\n",
       "      <td>K3</td>\n",
       "      <td>Kannuaj</td>\n",
       "      <td>B.hons</td>\n",
       "    </tr>\n",
       "  </tbody>\n",
       "</table>\n",
       "</div>"
      ],
      "text/plain": [
       "  key    Address Qualification\n",
       "0  K0     Nagpur         Btech\n",
       "1  K1     Kanpur           B.A\n",
       "2  K2  Allahabad          Bcom\n",
       "3  K3    Kannuaj        B.hons"
      ]
     },
     "metadata": {},
     "output_type": "display_data"
    },
    {
     "data": {
      "text/html": [
       "<div>\n",
       "<style scoped>\n",
       "    .dataframe tbody tr th:only-of-type {\n",
       "        vertical-align: middle;\n",
       "    }\n",
       "\n",
       "    .dataframe tbody tr th {\n",
       "        vertical-align: top;\n",
       "    }\n",
       "\n",
       "    .dataframe thead th {\n",
       "        text-align: right;\n",
       "    }\n",
       "</style>\n",
       "<table border=\"1\" class=\"dataframe\">\n",
       "  <thead>\n",
       "    <tr style=\"text-align: right;\">\n",
       "      <th></th>\n",
       "      <th>key</th>\n",
       "      <th>Name</th>\n",
       "      <th>Age</th>\n",
       "      <th>key</th>\n",
       "      <th>Address</th>\n",
       "      <th>Qualification</th>\n",
       "    </tr>\n",
       "  </thead>\n",
       "  <tbody>\n",
       "    <tr>\n",
       "      <th>0</th>\n",
       "      <td>K1</td>\n",
       "      <td>Jai</td>\n",
       "      <td>27</td>\n",
       "      <td>K0</td>\n",
       "      <td>Nagpur</td>\n",
       "      <td>Btech</td>\n",
       "    </tr>\n",
       "    <tr>\n",
       "      <th>1</th>\n",
       "      <td>K1</td>\n",
       "      <td>Princi</td>\n",
       "      <td>24</td>\n",
       "      <td>K1</td>\n",
       "      <td>Kanpur</td>\n",
       "      <td>B.A</td>\n",
       "    </tr>\n",
       "    <tr>\n",
       "      <th>2</th>\n",
       "      <td>K200</td>\n",
       "      <td>Gaurav</td>\n",
       "      <td>22</td>\n",
       "      <td>K2</td>\n",
       "      <td>Allahabad</td>\n",
       "      <td>Bcom</td>\n",
       "    </tr>\n",
       "    <tr>\n",
       "      <th>3</th>\n",
       "      <td>K3000</td>\n",
       "      <td>Anuj</td>\n",
       "      <td>32</td>\n",
       "      <td>K3</td>\n",
       "      <td>Kannuaj</td>\n",
       "      <td>B.hons</td>\n",
       "    </tr>\n",
       "    <tr>\n",
       "      <th>4</th>\n",
       "      <td>extra</td>\n",
       "      <td>row</td>\n",
       "      <td>36</td>\n",
       "      <td>NaN</td>\n",
       "      <td>NaN</td>\n",
       "      <td>NaN</td>\n",
       "    </tr>\n",
       "  </tbody>\n",
       "</table>\n",
       "</div>"
      ],
      "text/plain": [
       "     key    Name  Age  key    Address Qualification\n",
       "0     K1     Jai   27   K0     Nagpur         Btech\n",
       "1     K1  Princi   24   K1     Kanpur           B.A\n",
       "2   K200  Gaurav   22   K2  Allahabad          Bcom\n",
       "3  K3000    Anuj   32   K3    Kannuaj        B.hons\n",
       "4  extra     row   36  NaN        NaN           NaN"
      ]
     },
     "execution_count": 4,
     "metadata": {},
     "output_type": "execute_result"
    }
   ],
   "source": [
    "# importing pandas module\n",
    "import pandas as pd\n",
    "\n",
    "# Define a dictionary containing employee data\n",
    "data1 = {'key': ['K1', 'K1', 'K200', 'K3000','extra'],\n",
    "\t\t'Name':['Jai', 'Princi', 'Gaurav', 'Anuj','row'],\n",
    "\t\t'Age':[27, 24, 22, 32,36],}\n",
    "\n",
    "# Define a dictionary containing employee data\n",
    "data2 = {'key': ['K0', 'K1', 'K2', 'K3'],\n",
    "\t\t'Address':['Nagpur', 'Kanpur', 'Allahabad', 'Kannuaj'],\n",
    "\t\t'Qualification':['Btech', 'B.A', 'Bcom', 'B.hons']}\n",
    "\n",
    "# Convert the dictionary into DataFrame\n",
    "df = pd.DataFrame(data1)\n",
    "\n",
    "# Convert the dictionary into DataFrame\n",
    "df1 = pd.DataFrame(data2)\n",
    "\n",
    "\n",
    "display(df, df1)\n",
    "\n",
    "# combining series and dataframe\n",
    "res = pd.concat([df, df1], axis=1)\n",
    "\n",
    "res\n"
   ]
  },
  {
   "cell_type": "markdown",
   "metadata": {
    "id": "GfPo-QlROtBt"
   },
   "source": [
    "<b>Merging DataFrame</b>\n",
    "When we need to combine very large DataFrames, joins serve as a powerful way to perform these operations swiftly. Joins can only be done on two DataFrames at a time, denoted as left and right tables. The key is the common column that the two DataFrames will be joined on. It’s a good practice to use keys that have unique values throughout the column to avoid unintended duplication of row values. Pandas provide a single function, merge(), as the entry point for all standard database join operations between DataFrame objects.\n",
    "\n",
    "There are four basic ways to handle the join <b>(inner, left, right, and outer)</b>, depending on which rows must retain their data.\n",
    "\n",
    "<br><b>Merge Syntax elements</b>\n",
    "<br>\n",
    "dataframe.merge(right, how, on, left_on, right_on, left_index, right_index, sort, suffixes, copy, indicator, validate)\n",
    "<br><br>\n",
    "how:<br>\n",
    "'left'<br>\n",
    "'right'<br>\n",
    "'outer'<br>\n",
    "'inner'<br>\n",
    "'cross'<br>\n",
    "\n",
    "<br>\n",
    "on: <br>\n",
    "String<br>\n",
    "List<br>\n",
    "\n",
    "<br>oss'\n",
    "\n",
    "\n",
    " ![image.png](data:image/png;base64,iVBORw0KGgoAAAANSUhEUgAABLAAAALnCAIAAAAWGCntAAAgAElEQVR4nOzdfUBUVf4/8HOZYUYZiRwUY0TDMZNJRRPbxIopjb6pW5mJ24OWu2XZZg+mpWuZumapqW1u/XLT2nYza8M10y3dJS1sE9rCFHXBUESloRBGR7zqPNy5vz8OHGfxEZx7z9x7368/3ANLzieCOfecz/l8jiDLMgEAAAAAAADjieMdAAAAAAAAAPCBBSEAAAAAAIBBYUEIAAAAAABgUFgQAgAAAAAAGBQWhAAAAAAAAAaFBSEAAAAAAIBBYUEIAAAAAABgUFgQAgAAAAAAGBQWhAAAAAAAAAaFBSEAAAAAAIBBYUEIAAAAAABgUFgQAgAAAAAAGJRZtVeqra39uq680uv56Zj3p2P1daKvIXBctVcHAAAAAACIZYmWhN6dnJe1s1/SxtatferALr3aWdoq/aKCLMvK/e2yLP/30P4NPxR/XLZ5q+cH5V4IAAAAAABAZ+7q5c5J7zfSOSjZnqzQSyi1IJRleXnJP+Z88Ze640eU+PsBAAAAAAAMwp3eb+HQib1S0qP+N0d/QSjL8sbKklmb3kFKEAAAAAAAIFru6uVelPNISkpKFP/OaC4IZVk+dOjQA+sXFFZtO+MX9Hdc2a196mXtki9rZ3faHYnWhGi9NAAAAAAAgKbtO1xz9KRIW64U7tt+trOWj1078uXcR8wmU1ReNJoLws/3fveb1fNOj9ud3u/m7gNuvXJgsxSnLMuCIETr1QEAAAAAADSKLY7oAk0Kh7+s+v6fFf/5245NZ1xhrRo122azXfzrRm1BuOy7dU9++lqzTyp31BUAAAAAAED3ZFleU/bVk58uabYs7JBw6foHFl78UisKC0JZlp/955tvfLM68pP9HVfOGvybm7sPOPc/G5Ik/8mToVAoJIWkkBQKhcLh8EXGAwAAAAAAoA9xcXFms5kQ8t4Pm14rWhW5LOyQcOk7I6edd811blFYEC7694czNi6P/Mx5T7X6/f6TJ082NDT4/X62ApQk6SIjAQAAAAAA0KsjR46M/mphszXhReYJL3ZB+Pne725fMS3yM68Nf3L8gNvO9vWiKB4+fPjEiROEEEmSFL0FEQAAAAAAQB8EQZBlORgMTv3+r5FdPPs7rtzwwKJWX2F/UQvCXbVVQ/8yJXKFunbMvLOlLNlSEOtAAAAAAACA1gkGg6/88MnfdxWyz7jT+60bM791fUdbvyAMSdKN7zweedng+3kv3HlVzhm/0ltf39DQEAwGT385s9kcHx9vsVjMZrPJbDKbzK2LBwAAAAAAQGdYs5VAIBAMBkOhEP38+H//MXIt1uq7KFq/IGzWVvSxa0e+cutvT/8yv99fU1Nz8uTJZi9ksVgSExOtVmubNm1M5sZFoCkujhAihcOmuDj8iT/xJ/7En/gTf+JP/Ik/8Sf+xJ8S67oSCp08eVIUxRMnThw5cuTOTS9HntYsGf1Hp9NptVpbtKxr5YLwWODEVa+NZS/vTu/32f2vnH6poCiKhw4darYabNu2bfv27W3t2hFCTHFxuIoQAAAAAADgQsiyTNeHPt+Rih8qBv/zefZ/3dXLPWfA2I4dOyYkJFz4IiuudUH86T+fRC5GFw6dePpL1nvrf/rpp8jVoMViSemUkpqaeskll5hNJrPJhNUgAAAAAADABRIEga6k7O3tV1999WPXjmT/1993Fe7fv/+nn346fvz4haf9WrMgFIMnXytaxT587NqRp/c59fl8Rw4fCQQCLJTExMS0tDR7e7vVasU6EAAAAAAAoNUEQbBarbNueKBDwqXsk/Oq1gUCgRatCVu8IJRluWDPt5HpwWm/+FWzr/H7/YcPHw4EAuwzycnJHTt2tFgsWAoCAAAAAABcPFmWExISZtz0APtMYdW2YDAYCAQOHToUuRw7hxYvCAVBWP3fUx1OH7t2ZLI9OfILQpJEu8iwr0/plGJPTkZiEAAAAAAAIFoEQRAE4f4+t0QmCQuO/pcQcvLkyUOHDoUk6bx/SYsXhH6/v3Dfdvbh//X4RbMvqP3558i6QbvdnpR0aevuxAAAAAAAAIBzsFqt7m592YfbfqoghMiyfOzYMZ/vyHkPjrZ4QfhV9Q52XrRDwqU3pPWJ/H9FURRFMbJu0J6cjNUgAAAAAACAQkZe5WZjlr2TZdlb7z3vwdEWLwj/WfEfNnZ36xt5zYUsy4cPH5aa8pJt27bt2LEjVoMAAAAAAAAKkWU594pr2Id1x4+Uy4foOBQK1dfXn/vgaIsXhD8dq2fjfpf1iPy/jh49euLECZYebN++vcViaenfDwAAAAAAABdIEIR2lrb9HVc2+yQdiKLo/99r4Ztp8YKwTvSxsdPuYONm6cHExERbu3boIgMAAAAAAKC0REsCG9cd97Vp04aOQ6GQz+ejd9mfUYsXhA2B46de1XrqVY8fPx4MBunSUxCE9u3bm+Jac8khAAAAAAAAtEjvTk42PnpSTLwk0Ww20w9FUZRCobP9gy1es231/MDGqYkd2FgURZYebNeunbVNG6QHAQAAAAAAVPbTMW9S0qVxTfm5UCh08uynRlu2IGxWj3j5pZ3oQJbl48ePs9dom9AW6UEAAAAAAAB1XNmhCxv/dKzebDK1bds2spLwbKdGW7BsO0clIj0vSseCILSzoXoQAAAAAACAG5vNZmq68UEUxbN9WQsWhOdY4530n2TjNm3amJqOqwIAAAAAAID6bO3aRZ4a9Z88ecYvi06GUApJrIAwISHhbF8GAAAAAAAAKjCbTFarlWX1QmfpKxOdDGHk324ym1BACAAAAAAAwFdcxLosJF30gvAcGcJwRIWi2YTzogAAAAAAAJyZI0r5pJB0xq+JWoaQLRfNKCAEAAAAAADgzWQ2sb4yUTgyeq4awojrKMxmM1qMAgAAAAAA8BV5eDN88ddOYJkHAAAAAACgJ9HJEAIAAAAAAIDmIEMIAAAAAABgUMgQAgAAAAAAGBQyhAAAAAAAAAaFDCEAAAAAAIBBteDOQGQIQUNEUTx48KAoiseOHTt+/PjJkydDodCxY8dEUQwEAvSTCQkJ7dq1s1gsNpstPj7eZrO1adOGfjIhISGlU4q9vR0/9hcoJEk/1dR4vd7jx4+Loki/536///jx48eOHQsEAoFAgBBisVgsFgv9DlutVvoNp9//Tp06XZaaam66KgcAQB2yLNfU1NTV1dG3LzpH0LcvOj7v21dycnJqaqrVauX9r6IZoih6PJ6jR4+ee46m3/Bmc7TVak1KSsIcDRBFLVgQIkMIsYkuRaqrq2tqan788cfq6uoDBw6Ionjxf7PNZuvUqVOXJpdddhmmfEKILMtHjx71eDwej+fAgQMHDx6sqampqf1ZDknn/4fPSTCbUlM6paam0u92586dO6d1xpQPAFFEtwt//PHHmpqa6urq/fv3R+vtq/0lSd26dbvsssu6dOmCty/m9Dn6559/9nq9F/83Y44GiBZkCEGTamtrd+zYsX379oqKilbM5XTT0e/3n3vdKIpiZWVlZWVl5CftdnvPnj379u3bp0+fzp07G+T3wu/37969u7S0dOfOna1YbwtmU4K1DSHkuP/kOf5jySGJrjNLSkrYJ202W9euXXv37u1yuXr37o3JHgBaJCRJFT/8sHPnzpKSktZtFwpmU9hqjvOHzv325fV6m61zLBZLWlqay+XKzMzs06ePzWZrzb+ABnGfo3v16nX11VcbZ44GuEjIEIJm1Hvrd+7YuWPHjl27dnk8nrN9md1u79SpU1paWufOne12u9VqTUhIaEsltG1jbZOQkMBmCFmWA4HAMfGY/6T/xIkToigGg8Fjx44dPXq0pqamsrLy9I1Mr9dbVFRUVFREX6tPnz50cZiSkqLov776Ip+iyit+ONuMTtN6l19+eVpaWmpqKj3bQ7/n9GyPrV27yIOgIUkSm45jnTx5kn7PRVGku/U///xzdXU1PaBFiaJYVlZWVlZGXyujx5W9e/fOzMy8qlcvnC8FgDOSZXnPnj07d+7csWPHjh07It9Smgl3SCRtLeGOiXLKJYQQ2WYlhMgJFtLWQgiRLWYS/z/vM4LoJ4SQEwHheIB9KIh+4dBRoe6Y6cjxyLfKQCBAVyyffvopIcTpdGZlZel1b8vn823btu28czTd41N5jna5XKmpqVgcApwNMoQQ00KStH3btpKSku+///6ME4zD4WBLkc6dO3fp0qVFW7CCIFit1nNPzKIo/vTTT9XV1QcPHqQrFrYf6fV6CwsLCwsLCSF2uz0rK6tPnz4DBw7U9ExfW1v79ddfn+0pymKxdO/enc7lXbt2TU1NjZxl6bbRud8rzCZTUlJSs0/Kshz5lxw6dOjgwYMej2f//v2RZ4DlkEQXh/n5+RaLpU+fPi6X67rrrnM4HFH5dwcATav31m/5esuuXbtKS0tPTy4JZpOUeqlss8gdLwmnXCInWOQOiS19CbpiJDbr2fbIBdEv1B+Lqz1KRH/coQbBe6xxDUkIS2exva3rr78+PT29pTHEjliYo/1+f3V1tXHmaAAlCBee95NlWQqHL3nx/9hnan+3rp2lLSFk79697MHR6XTiNw0ukizL+/fv/+KLLzZv3nx6pQF7W+/dp3eyPVn98Hw+X1lZWWlp6RmnQJvNNmjQoCFDhmRkZGhoG0UUxeLi4oKCApqLi8SWXn369LmiRw/183Ln3ex3uVxutzsnJ8c4J7IAgPH7/cXFxYWFhZGnzZlwl+RweodwyiXh1EubpfvUIdQ1mKrqhENHzXtqTz9q4XQ6c3Jyctw5XKazVquqqjr3HO1yufpd3Y/Lv5Qoijt27Dj3HJ2Tk9OnTx8NzdEAF2LZd+ue/PQ1Or6rl/u9UTMIIT6fr7a2NhQKEUISExPT0tJO/wdbsCAkhIQkCQtCUFS9t35z4ebNmzefXhUQm4czz3GQ1W63DxkyZPDgwbGcv6L7uwUFBSUlJZELrZg9nBl5kDXynYcQIphNA6/5xY033jjgmmtiJ2AAUIgsyzt27Ni8efOWLVua5QPDHRLDXZPD3TryWgSeDV0cxlXVmWqONFscZmVlud3uGM9fnXeOjrXDmeedo2+88cYzPh8DaJEaC0JkCEE5Z9vftdvtOTk5N9100+WXXx47E8zZeDyer7/+etOmTc1mndjMX51xf1cwm/r37XfLLbdcffXVsf+L7Pf7v//++y+//LL42/9EPlrZbLYbb7zxpptu6tGjB8fwAEAhHo9n06ZNGzdubJaeCndJlnp1lq7oFFOLwDMLSnE1R0y7qpulDWMzf6WPObq2trawsPD0OdrpdN5yyy2xNkcDtAIyhKBVoij+61//Wrt2beS8brFYsrOzb7755piaES8QPd/4xRdffPnll5Gb1haL5Y477rjttttOr6BTGa3BazavO53OwYMH5+Tk0PAii/pin8/n27JlS2FhYbPzri6X695779XiTxEAnNHevXvz8/NpyxAm3CEx7HJILkdjgZ+2BCXTnp9Nu36MO1gf+Wmn0/mrX/3q2muv5fv25ff7P/vsszPO0W63u3///pp7dz3HHD1s2LDb77hdW2d3ASIhQwjaI4riZ5999vHHH0e+I2dlZV133XXXX3+9Dn6KQpL03bffNstfWSyW3Nzcu0bdpf6UI8vy1q1b8/PzI1dN9MyM1hsbMGfMG8TIcxUAXIzy8vKPPvoocidLtlmlnqlSr86t6A0TgwTRbyrzxJV54uoa2CcdDsfdd9993fXXq38M/vQ5mpYS5ObmDhw4UAfJtHPM0SNGjIip4hSAC4QMIWiJz+dbvXr1Z599xn5sbDbbsGHDhg4bqsudOZ/Pt2nTpsgdVsFsuvmmwSNHjlSnvFCW5W+++eZvf/tbZNWHy+XKy8vT4v7uedHKojVr1kQ+OzqdzhEjRuTk5Ojv3xdAx+iv88qVKyN3ssIdEqUB3bRxNLTlhLoG87eVpvIa9hmHw3H77bfn3nKLOstCn8+3bt26zz77jC0F6Rx9yy236HKZJIripk2bVq9ezWuOBogWZAhBG+q99X9f9feCgoLIpeCdd945bNgwHWw3npvf79+0adNHH30Umbxyu92jR49WrqJdluXNmzd/+OGHkSUTWVlZo0ePzsjIUOhFY8fpp8scDseoUaPcN96IrjMAMe6MhxrCXZJDv3CGu+pw67CZ05eFdrt95MiRt9xyi3JPWYado+kjbsG//nX6HD1y5Eh9nKABI0CGEGJdSJI+Xr36o48+Yj8qdrv99ttvHzZsmKF+YEKSVPjll6tWrYpcoQ0fPvy+++6L+nRbXl7+pz/9KTIrmJ2dfffddxttbquurv7oo4/oVVSUw+F49NFHMzMzOUYFAOdQXV39+uuvG3MpGEkQ/abv9sWXHmRnGu12+yOPPBL1M/CYoyk152iAqEOGEGJaaWnpm2++yd5e7Xb76NGjBw8ebNgfFZq4W7NmDVut2e32cePGRetAo8/ne++99woKCuiHgtmUc931iqYiY5/H41m9evXnX2xiz1Vut/vBBx/k3uMHACL5/f6VK1d+8o917FdVykgNXePUR6Fg65y+LMzKynrooYeidaARc3Qzp9dZ2O32MWPGDB48GEUHEMuQIYQYVe+tX/bWMnZmz2azjR07VrVCiBhHp5w//elP7ICKy+WaMGHCxWTwZFnetGnT22+/zWo/srOz77//fhRCUPXe+r+8+xeWLaQ/kLfeeivmeADuTn9LDHdJDt6YYeSlYCS6LDRvraIfWiyW0aNH3zly5MXMp2d8S8QcTQihj8dRn6MBFIUMIcSckCStW7t25cqV7GcjNzd37NixSMg04/f78/PzV328mm79CmbTHb+87d57723F71FVVdXSpUvZISuHw/HQQw9lZWVFOWLta7Yd7nQ6f/vb3+LSQgCOPB7P8uXLWSMo2WYN3dBTcmEnqzmhriF+fSnrRNrq9/mQJK3/7LMPPviA7R7i0MQZnXGOHj16NE6QQgxChhBiS7PqNafT+fDDD7tcLr5RxbJmBTO0SmTgwIEX+I+Lovj+++9/+umn9EN652FeXh5+Gc/m9IKZ3NzcX//615jjAVR2+i9jqH96aFAPXXYQjRZTmcf81W5B9NMPs7Ozxz88/sLbdGOObqnq6up33nmHbVi0dI4GUAcyhBArZFletWrVihUr6IcWi+X+++8fOmwYzp9ciMLCwnfffZedTsnNzR0/fvx5f6Gqqqrmz5/P8l3RrS3Rt9ra2nfeeYcdabbb7dOnT0eqEEA1tbW1L7/8MluZ4IzohRNEv3lzOWtDarPZJk+efN5UIZ2j3//wA5rvslgs995772233445+rxo8X8r5mgA1bR6QWiaNWvWBb6GIAhhWX558wr2mWduuNdiiieEHD58WJIaC53bt29vNpsv4t8FNMzn8y1YsOCf//wn/dDtdj8/4/l+/frFxcXxDUwr0tPTc3NzT548WVFRQQiprKwsKSnp3bv3JZdccsavl2V5w4YNCxYsOHLkCCHEbrc/9dRT995779m+Hpqx2WzXX3/9lVdeWVFR0dDQcOLEiYJNG20JCVdeeSWqCgGUVlxcPHv27NraWkLPiA7pFXJnkAQ8Xl8Yiznc47Jw5/bCoQbheCAYDBYWFkqSdFWvXmebc0/N0WGZEJKdnT1z1sz+/ftjjr4QgiDQOVqSpN17KkhYPu8cDaCyrZ4fNlR8Q8dXpaSPvMpNCPH7/aIohsNhQojVaj3jj2sLFoSyLMtYEMLZlZaWzpo1i2702my2KVOm5OXlJbRN4B2XxlgslqysrH79+m3duvXEiROHDx/+/PPPO3XqdHoVuyiKr7/++t///nf625ednT179myn04mVTEs5HI7c3Nza2tr9+/eTsLx169aKiooBAwZYLBbeoQHoU0iSli9f/s477wSDQUITgyMHhB3tecelPXJSgtS3KwmE4mqOEEL++9//7igtvbr/1adPvs3m6Mcff3zMmDGYo1vKYrFcffXV/fr2jZyjk5OTnU4n79AAVFkQIkMIZ0OPoLz22msnTpwghDidztmzZ6Ma4WJ07NjxpptuOnDgQE1NjSRJRUVF9fX1ffv2Zb9ce/funTVr1s6dOwkhgtk04eFHxo0bhwVMq5nN5uzs7JSUlO+//16SpJqami+++CIjI6NDhw68QwPQG4/HM2vWrP/85z/0w9ANPYM39yIWPDm0Xji9Q7hz+7gD9UJQqqur+/zzz9PT01nhwBnn6D59+nANWds6dOiQm5tbVVVF5+hvvvmm2RwNwAUyhMCNz+ebNWvWpk2b6IfDhw+fOm0a2pRdvDZt2uTk5LRp02b7zh2RR1MSExM3bNjwyiuv0GOiDodj9sxZv/jFL5AYvHhOp3PQoEHbtm2jx0c3fvmF1WLJyMjA9xYgWoqLi+fMmcOOiQZv749WolEhJ1jDvTrH1TYIR0/Q46MnT57sk5nZ0NAQWcoxfPjwKVOmtG+PZOzFslgsbrc7co7++uuv+/Xrh+OjwFGrF4ToMgoXpaKi4qWXXqIF1jab7YknnkDTragrLy+fP38+/SZbLJbu3buzZqTZ2dmPP/44GmNGl9/vX7ZsWUFBAf0wOzt70qRJeFsDuEiyLL/77rtr1qyhH4a7JAeHZso2/GZFVVAyb6lgdxU6nc4jR45gjlZUszl68uTJ+CYDL61uKtOCMuIWLR3BCEpKSqZPn07fBJ1O5x/+8Ae8CSohIyPj9ddfp73jAoEAXQ1aLJYJEyZMnToVq8Gos1qtEydOfOKJJ+gR3KKiopkzZ7KrugCgFUKS9Oqrr7LVYOiGnoFR12A1GH3xppA7I3BX4/e2srKSzdELFy7EHK0EOkdnZ2cTQgKBwMsvv7x+/XreQQG0TAsWhDg0BZEKCwvnvDSXZoZzc3NfWbgwJSWFd1C6ZbPZ7r//fsF8qi14Wlrarbfeit9K5QwZMuTVV1+lRThlZWVTpkyp99bzDgpAk0RRfGnu3MLCQkKIYDYF7romNKAb76D0LNw1OdzFHvmZX/3qV7iLSDk2m23q1Knjxo2jHy5dunTFihXIo4CGIEMIrbFu3brFixfTW4zy8vIee+wxXGGkqLKysqcmP02/4VRlZeXTTz8dkqRz/FNwkdLS0l6c+yLtHefxeKZMnlJdXc07KACN8fl8zz//PL3RW7ZZT94zMNz1Qu9Ph9aJX7+d3U9Ivfzyyxs3buQVjxEIgnDnnXc+/fTTdOs2Pz//jTfewJMzaAUyhNAysiz/+c9/Xr58Of1wwoQJY8aMwc+GooqLi3/3/HN0NRjukhy8NZPON5WVleMfesjv9/MOUM+S7ckvvvgibZnr9XqfffZZekUkAFyI2traadOm0asOwh0SA/cNwqXzSrOs+patBkM39JQyUul4yZIl+fn5/OIyBLfbPWP6c7TcoKCgYP78+ZijQROQIYQWCEnSG2+8QYtABLPpd7/73dChQ3kHpXMbN258+eWX2WowcEd/yeXw39Gfrgm9Xu+ECRN8Ph/vMPXMZrPNnj2b1oeIojh9+nSa6wCAc6uqqpo6darH4yGEhDskBkcOQNGg0izvfR13sPFwe/DWzNCAbsGhfUP9G6+xXbFixZ///Gd+0RlCVlbWSy+9RMv7UYIOWoEMIVyokCS9NHcubb1os9l+P3MWytOV9vHHHy9ZsoSOpYzUwB39SbyJEBLumnzynoH00crr9T766KMob1OU1WqdOnVqbm4uISQQCMx5qbEaCgDOpry8nHUdC3dJDtw9EKtBZQUl61tfxNU1kKZCTXafR8idwdaEa9asWbx4MbcgjaFHjx4LFiyw2+2EkLKysueffx77thDjkCGECyLL8sJXXqGJEbvdPmfOnMzMTN5B6dy6deveffddOpYyUoND+9LVICV3SAw0bbeLovj4xMexJlSUIAgTJ07My8sjhMgh6dUlryFPCHA2VVVVv//972liJHIzC5Rj/fNmQfQTQgSzyX9H/2aFmiF3RuiGnnRcWFiINaHS0tLSFi5aSBv5VFZWzpo1C2dHIZYhQwjnJ8vysmXLioqKCCF2u33u3Lndu3fnHZTObdy4kRVqhvqnB4f2Pf1rZFqQE7EmxLkUpY0ZM+ahhx4ihMghad68eeXl5bwjAog5tbW1s2fPpm9HjW9fWA0qzPLe1+dYDVKhAd0i14RvvfWWqiEaT7I9eeHChbQtWWVl5fz589EHDmIWMoRwfqtWrfr0008JITabbebMmWhdrbTS0lJ2UjTUPz3kzjjbV8o2a+C+QeEOiYQQURQnTpyI+UZpt91225gxYwghgUDg97//PfqOAkTy+XwzZ86kJ0WljNRzvH1BtFhWfUtPip63iWtoQLfgrY2nez799NN169apFKJR2Wy2WbNm0aemkpKSJa+9hmdpiE3IEMJ5rF+/fsWKFYQQi8XywgsvpKen845I56qrq1+YPYuOz70apGSblbVq8Hq9z0yZoniIhjdq1Kjhw4cTQkRRnDFjBg7rAlB+v3/WrFmNXWS6JAdv7s07Iv2LX7+ddpERzKbAyAHnbeIquRxsTbh8+fLi4mLFQzS2pKSk2bNn03rCwsLCd999F2tCiEHIEMK5FBcXL126lBAimE3Tpk3LyMBer7J8Pt+kSZNoT9EL31yXbdbAyAHsLop58+YpG6XhCYIwfvx42nfU6/U+/9zzOKwLEJKk+fPnn7phAnWDyjN/t4/dMOG/o/8FXukhuRysx8y8VxbgKh2lpaSkzJw5k/YdXbNmzapVq3hHBNAcMoRwVqWlpYsWLaLjx3/7WFZWFt94dM/v9z/11FOBQIDQFu0t2VyXOyT67+hPx0VFRWgsrjRBEKY88wy9n9Dj8cyZMwcNA8DIZFle8lpjpyV6wwRWg0ozlXnMX+2m4+Ctmec4KXq6kDuD3k8oh6Tp06fX1tYqEiI0SU9PnzFjBr2fcMWKFRs3buQdEcD/QIYQzqy6unrevHl0cTJu3LghQ4bwjkjnZFmeNm0aLbyhp0Bb+sApM/kAACAASURBVDgV7prMDgKtWbNm/fr10Y8SIphNphkzZtCGAWVlZfPnz8ebJBjW+++/T+9iiTzEDsqJO1Afv6GUjkP909kNExcueHNvWn8eCASeeuopbGkpzeVyTZ48mY7/+P/eQJ9qiCnIEMIZ+P3+uXPn0lNwI0aMGDFiBO+I9O/VV1+lR60a60Ba9TgVeRBo6dKlVVVV0QwRTtOsYQAOAoExFRcX5+fnk4t7+4IWCErWT7bSYes798SbghF3F02bNi2KAcIZDRw48IknniCEyCFp0aJFqD+H2IEMIZzBsmXLaFeArKyscePGYS9AaevXr2cXnV94HcgZsYNAhJDp06ejtk1pSUlJ7CDQ+x9+UFZWxjsiAFXV1tayrsgX+fYFFyQoWT4spqXmLS0uaKZZ/fnrr78etSDhLAYPHkzvsxVF8ZUFr6AxOMQIZAihucLCwoKCAkKI3W6fPHky/rsrzePx/Gn5MjoO3dCzRXUgZxS8uXe4SzIhRBTF559//mLjg/NxOBwTJ04khMghacGCBT6fj3dEACoJSdLixYvZlYMX//YF5xX/+U52ycTF12pG1p8XFBSg6ajSBEG4+557aP15WVnZhx98wDsiAEKQIYRmqqur6R6hYDZNnTqVNsUC5ciy/Nxzz9G93lD/9NCAblH4S+NNwaGZ9CBQZWUlPcoFinK73bm5uYQQr9f7Gm6aAsN4769/pVnxcJdkXDmogrgD9bStaBRP50bWny9atAjnSpRmNpmeefYZ+nyVn5+PYkKIBcgQwil+v3/RokW0kcwDY8bikgkVvPrqq7SRTLhDYmhQj2j9tbLNyib4FStWoJhQBePHj6cNZkpKStasWcM7HADFsR912WYNDs3kHY4BRJQOBm7uFcXTuZLLQWsNAoEAzpWoINmezBrMoJgQYgEyhHDKsmXLaF+TrKwsNJJRQUlJCS0dFMym4NDM6HZpD3dNZg1mZs+ejUIFpVmt1smTJ9Niwr+seK+8vJx3RAAKqvfWs3uJgrdmopGMCk6VDnZJbkVb0XML5WTgXIma2IMWigkhFiBDCI0iSweffPJJ/OdWmiiK7Ab5YPYVSnRiCA3qQbuKe73eha+8EvW/H5pJS0tjxYTz589HMSHoVUiSXlnwCkoH1WT+bt+p0kEF8rE4V6K+sfffj2JCiBHIEAIhhPh8vj/96U+kqXQwKSmJd0T6N2fOnMY76LskR6d08HTxJvbcUFRUhEIFFUQWE7733nu8wwFQxLq1a1E6qCZB9LM76EM39FQoH9vsXAme+pRmNpmefvppVky4d+9e3hGBcSFDCIQQ8vbbb9O93vvuvgelgyooLi6mj1ONh0UVI3dIDN3Qk44XLVqEQykqGD9+PL2ZsKCgALdQgP7Ue+tXrlxJlH/7AiZ+9Xd0IGWkRv2waKTQoB50ten1et99913lXgiolJQUejMhIeT111/HIhx4QYbQ6GRZLisro5VsDofjzpEjeUekf7R5Dx0Hbu6ldO1NaEA3dgvFktdeU/S1gBBitVofffRROn7rrbewCAedWfbWMnq6IZh9BUoHVfA/h0Uv4tbBCxJvYgdH16xZQ28kBkVde+21WVlZhJDKysoNGzbwDgcMChlCo5PCYXan8KOPPmo2RbOvCZzR/Pnz2WFRRfd6meCNGfTq4cLCwoqKChVe0eAyMzOzs7MJIZWVlevWruUdDkDUlJSUFBUVEdoYWaGz7hApKLHDosFbo9x77IwiD47OmTNH6ZcDQRAmTJhAG5K99957KD4HLpAhNLp1a9fSLUC3252ZicM/iquqqqK1fGo2apc7JAZu7kXHixcvVudFDW78w+NpZcjKlSvRUhz0we/3L1++nI5ROqgOS9M9E2o272ENyTwez8aNG9V5USNLSUkZPXo0IUQURRSfAxfIEBoaKwWx2WwPjHuAdziGMH/+fDpQrjHAGUkuByZ4NSXbk++55x5CSCAQWPbWMt7hAETB2qYNRCkjFZ1FVSDUNcQdrCeEyDZrFC+qPb94E1vwv/3228gHqODOkSNRfA4cIUNoaKwU5J577km2Y3ZXXGFhIX2cCndIVOewaCQ2wS9duhSFbSoYOmwYvaq+qKiotLSUdzgAF8Xj8Xz00UeELk5ykB5UQ/z6xvcNqX+6CodFI4W7JrPi82XLsKWlOFNcHIrPgSNkCI2LlYI4nc6hw4bxDkf/ZFmmd3sQQiQetTdsgg8EAkvffFP9AIzGbDI9/PDDdPzmm29iggdNW758Od1AVPl0g2GZyjysl0yob1f1Awje2Ljs/+yfG1DYpjRBECKLz9d/9hnviMBYkCE0KFmWV6xYQcePPPIIesmo4P3336d3e6jWS+Z0bIL//ItNNBhQlMvlotcSejyegn/9i3c4AK1Bm1HT4meOb19GY/l8Fx2EbuipcnqQkjskShmphBA5JL2GDtWqGP/weNpd5oMPPvD7/bzDAQNBhtCgtm7dWllZSQjJzs7GxYMqkGX5k08+oePQL5zcwoiY4Fm6EhQ1duxYOsF/9NFHSBKCFgmCkJ+fT8cc374MxfzdPjkkEU71BUwop7FDdUlJCZpjqSDZnsy6y3yGJCGoCBlCI5Jlmc3ud999N99gDOL9999nV03wbcbAJvjNX/8bSUIVJCUl0SSh1+st/PJL3uEAtFhFRQVLD6KXjDrii/bQAd9urrLNGszsQsdvvP4Gx0iMY9iwYbRD9dq1a5EkBNUgQ2hEO3bsoD2ssrOz09PTeYejfyFJYulBdmiTFzbByyHpj3/8I99gDOKuUXfRRfiqVauwswaa88EHH9AB0oPqOJUejIEVuDSgGy0ZLSkpqa2t5RuMEdhstmHDhhFCvF7vpk2beIcDRoEMoeHIsrxmzRo6vuuuu/gGYxDvvP02TQ9KGalyh0Te4RBpQDe6PikqKkKrABUk25NvvmkwIcTj8WzevJl3OAAtwK5OjYXFiUGw9CD3DURCiGyzSk331OMaW3XcdtttKDQAlSFDaDi7d++ms3tWVlaPHirea2RUsiwXFBQQQgSzKUZ6tcs2azD7Cjp+++23+QZjECNHjqSDNWvWYHMNNGT16tV0gPSgOlh6MEY2EAkhob5daZKwrKwMe4gqSEpKYklCFBqAOpAhNBx6kRQhJC8vj28kBvGPf/yjsVf7FSmx06s91LcrqyTEBqQKHA6H2+0mhFRWVm7dupV3OAAXxOPxFBYWEkLCHRKRHlSHaWsVHYSuiZkVeLyJJQmxh6iO2++4nRUaYI4GFSBDaCzs8I/L5XK5XLzDMYRT++uxM7sTQuJNoStSCCFySPqwqUAIFEV7xxFC8vPzsb8GmsDevrhcnWpAcQfqBdFPCAl3SY6R9CAluRzYQ1RTZKHB1//+N+9wQP+QITQWNrsjPaiO0tJSr9dLCAl3SIyp2Z1ELFDR21odaWlp9NLhsrKy8vJy3uEAnEe9t/7zLzYR3jcfGIq5sPGdQerVmW8kzcg2K/YQVTZ69Gi6CGd9HwCUgwyhgYiiWFRURAhxOp39+/fnHY4hrFy5kg5icH9d7pAY7pBICBFFsbS0lHc4hsDaOG3cuJFvJADntblwc2MxW+y9felTUIqrayC0j8sVnXhH05zUK40O8PaljpSUlJzrrieEVFZWVlVV8Q4HdA4ZQgMpLi6mxWyDBw/G8l5psiyHJKm84gdCiGA2xeDsTiKe89jCFRR1xRVXOBwOQsiWLVtwwRTEONoRN2bfvvTHvKWCDqSeqSTexDeY04W7JtM9RK/Xi/WJOmjlOSHkiy++4BsJ6B4yhAbCel0Oum4Q71j0TxCEj1evpvvrwcwuMTi7E0KkKzrREynlFT+gLEQFgiAMHjyYECKKYnFxMe9wAM6qqqqqsrKSEBK6IiU23770x7S7hg5i7bwoE246OfzXv/6VbyQG0bdfP7vdTgjZvHkz5mhQFDKERlFbW0svo+/ft1+yHc3i1MBq82J2difxJnZJ/cdN9aWgKLbjS5s3AsQmlpFgBwVBUTHbTiYSa0+9dfs2PBOqwGwy5eTkEEK8Xu/2bdt4hwN6hgyhUbCnT/Y8CoqqqqpqbCcTw7M7iVisorWMOlJSUmiD35KSknpvPe9wAM4gJEn0vKhss+K2CXWY/1NJB7G7gUj+Zw9xw4YNvKMxhJtuuokOsIcIikKG0BBkWd60aRMhxGazDRw4kHc4hvDhhx/SQUzP7rS1TJdkQojX6/V4PLzDMYTc3Fw62Fy4mW8kAGe0fds2up8l9UzlHYtRxB2sJ7SdTGw3dGUz2tq1a/lGYhDp6elOp5MQUlRUJIoi73BAt5AhNIQ9e/bQZ/1BgwZZrbFyN7q+0b6dmujHwCb41Tg1qoqBAwdaLBbS1LQDINawXESM72fphqmscTMu9lfgrD21x+NBZyx10MrzQCCAynNQDjKEhsCqQYYMGcI3EoPYu3cv3cnTRD8GdiSspKSEbyQGYbPZ6IWEaCYOMYhdUBSDt6fqlem7fXQQ7taRbyQXgk0ZKDRQB2sESFsDAigBGUL9k2WZzu52uz0jI4N3OIbwySef0EE4XQOzu2yzsmbiPp+PdziGwEp5//3vf/ONBKCZ7777jl5QFI7ts4t6Qq8fFMymcOqlvGM5P7ZqxRkHdSTbk7OysgghZWVlmKNBIcgQ6t/+/ftpNUh2djZW9erYsWMHHWilHwOL81//+hffSAyib79+NpuNELJz507esQD8D/b2FePFbLoRd6CxuZQmTpQQQsJdk2mv0X0H9uPJUB3XXHMNHWxDr1FQBjKE+sdmd7rDBErz+/2N/UU7JMo2bVRssh3fLVu28I3EIMwmE03Xl1f8gD4BEFN27dpFCJFtVq28fWmdaVc1HWjiRAkVuiKFECKHpN27d/OOxRD69u1LB+yJDiC6kCHUPzq7E0JwXlQdtKEr0U56kETs+FZXV/OOxSiuvvpqQogcksrLy3nHAtCotraWdiALd7HzjsUo4g566UBLU0bT2hVlhOpwOBz0hnr2RAcQXcgQ6pwsy7TdpdPppEfUQGmsQZ8m2gMwdMc3EAjs3buXdyyG0KdPHzqgv6EAseDUcXftZKu0rvE+eu2cKCERa1ckrFRDD3l5PB5cYAtKQIZQ5/bs2UMPpOG8qGoOHDhAtNMegGHPf+vXr+cbiUFcfvnldI8GC0KIHdu3b6cDDWWrNI1dOKGtb3hkK7KQJPEOxxBcLhcdbPseZYQQfcgQ6hxrWcHeSkBR9d56DV04EYk9juBEijoEQcjMzCSEVFZWonEcxAJZlmnCR1vZKk0z7fqRDrR1ooRETBmFX37JNxKD6Hd1PzpguzYAUYQMoc7R2V0wm3r37s07FkNY/1ljek1zB67Yjq/H48EvuzpYn4CysjK+kQAQQn788cfGhliaylZpmuA9RjR4ooRErGC//vprvpEYRLI92eFwEEJ27NiBORqiDhlCPQtJEl0QZvS40mrFdq8aWEo23FF7Fzqzp0C0OVEHygghprB6MDnlEr6RGEVQogWEUuql2jpRQghhK9h9+/bxjcQ4evXqRQjxer01NTW8YwG9QYZQz/ZUVND7hZEeVA0tICSEyEkJfCNpBfYUWFxczDcSg+jcuTNtHIcMIcQCFBCqLK7mCB1ocQORxJtYGSGeD9XB9hAxZUDUIUOoZz/+2FicgAJCdciyTAsIwx0SNbfdSwhhVUO4WkodgiB069aNELLvwH40ZgDufv75Z4ICQhXF7TtEBxpNycod2tEBElbqYM9ybOsZIFqQIdQz9paRmprKNxKDOHSoaXZvmia1hR0Bos+FoIIuXboQQuSQVIvvOXAly3LjNaRtLbxjMYq4Qw10oNEVuNyxcR2LNifq6Nixo8ViIYQcPHiQdyygN8gQ6hl9yxDMppROnXjHYgglJSV0wKZJjYk30eeSY8eO8Q7FKLp27UoH2GIHvg4dOkRLDDR5fFGbaEcZErEZpy1sHYvba9UhCEJaWhrBfAEKQIZQz+hbRmpKJ7NJe8cXtYhNihrd7iWEyPZ2hJBAIIATjOqgXeMIjgABbyznoNHji1oU5w8ROl9osMSAROwdYEGomk6dOhFCPB4P5miILmQIdSskSTW1PxNCLr/8ct6xGAWbFLW7xc4i/y9uI1QFWxCyil8ALjyexhvStbufpTlySCJN23BaJHdIFMwmQsiRI0d4x2IUNENICPkJSUKIKmQIdeunmho62bC3D1AanRQFs0nuoNUFIUsO4CIEdSQlJdlsNkJIY/kWACf79++nAzlZq+sTbYk7UE8H2t1AJIRIlyYQQg4f9fEOxChYSwhMGRBdyBDqFnuzQEcZ1dBJkU6QGsUeTSorK/lGYhy0jBCNfIAvOmUIZhMyhOrQeotRinZQk0OSz4c1oRpY2Tn6ykB0IUOoW6zmuHPnznwjMQifz9d4/kebLUYpdn0iatZVQ3P4Xq+X3lkCwAXdktD0fpa2sBajms4Qsg5q27Zt4xuJQbAqAywIIbqQIdQtVpJE+9qD0vbs2UMHWm0xSjU1GsV2r2o6NTUBZkVcACoTRdHr9RKN72dpzIkA/V+2DadFLJ+MQyXqsNlsdrudEFJbW8s7FtAVZAh1i87uNpuNViiB0nTzNC+3tRBCjvtP8g7EKFJSUuigvr6ebyRgWIcPH6YDbe9naYrQtCDUaItRii0IcehdNXQPEd9wiC5kCHXr+PHjhBCrFdUgKmEpNc1X4LS1kKb2d6CC9u3b0wGOjAIvJ06c4B2CQdEundolJ1jogF5iCSpISEgghPj9ft6BgK4gQ6hb9M2iTZs2vAMxCroCB2gpi6XxiQo/QsALWxBqfj9LO+glhGGrmXcg0YG3L9XQKUMURTyWQxQhQ6hb9AqEpKQk3oEYxbFjx+hA609Usq1xfYJ7b9XBdm1OnsQxXeADT/O80CP6GtYUPxJWqmnXrrHQF1lZiCJkCHWLvjvTowWgglMLwgSNT/BNvChpUwX7JcUTFfDCjitrfT9LQxqP5Wt8QShbGjOc2M9SDTtUgu85RBEyhLpFm4KwNw5Qmm622OWExidCNBpVByv01c2PEGgOUg3QSk0dcbA4UQ3bQ0TZOUQRMoQ6JMtySJLo7iMWhKo5ld7R+I4vaUoRoOmlOmxN539YkhlAZfo74KAV7Ii+dtGsMg44qIa1jkcvKIgiZAh1SBAEsWl2Z2fNQWlsf5QdodE67D6qw2wy0U6DyNIAL3iaV5kgNn7D2YkMrQsGg7xDMApWdo4pA6IIGUJ9YrM7aghVc+rAjJYvlSIRRUT0KktQQYK1DcHsDvycOq6s9QMOWnFCP7/stC9OMIwmZCphz3WoMoAoQoZQn9jbBO4hVA1dhOupJQNOMKqG/p5idgde2GaEbg44xDjheNOCUAdTBjYR1MWe6zBHQxQhQwgAAAAAAGBQyBDqExrZq49u2rHKEB1AAapqcEkM8MXajwmBEN9IDOJU8x4dTBknAoSQ+Dht10poCHuuwxwNUYQMoT6hkb36WJ03CWq7lIKtae12O99IjAOXxABfpzYjdFTbFtOajlkKxzW/IBTwM6Mu9lyHPUSIImQI9QmN7NXHFoS62WJnva1BUbgkBrjDL7vK9FRtTsXHx/MOwShYBztMGRBFyBDqExrZq+9U/x6tb5c2ZQiTk5P5BmIQuCQGuDu1n3Vc429fWiOImv+G00Ml6GCnGnYjVNu2bflGAnqCDKFuoZG9ynRzeIMdYbIn48ioGnBJDHCHVAO0UlOJxKmiCVAYOzKKxD5EETKEuoVG9ipj6R3dbLEnJV3KOwRDwCUxwB17stRTW6wYR0/xaP1ECSuRwIJQNWyjH99ziCJkCHXr0ksvJYT4fD7egRjFqQWhxp+o2BEmswld49Rw4sQJOsDsDrwgO82L5juyNMWP/SzVsN4QSOxDFCFDqFv03ZkVH4PS8EQFrYOWccAdK0bS+n6WhoStZkJInF8nTcjw9qUamiG02WzI00AUIUOoW/TdGfcQqiYpKYkONP9EdSJA2HEmUB7b7kVBCPCC7hS80A7D2sVKJJCtUg3dQ0RKFqILGULdopfIiaKIU6PqcDgcvEOIDnqEiTYlAhXU1tbSAdq6Ai8dO3akA+HQUb6RGIfcdBWhpq+uZRugnTp14huJcfz8888E33CINmQIdatz5850UFNTwzcSg8jIyKADbT9RBSU6wbOEJyjt4MGDdKCbPQXQHKvVSvcQhTpcXasWdje9T8O939iC0Ol08o3EIERR9Hq9hJC0tDTesYCuIEOoW127dqWDH3/8kW8kBmGz2egxS00/UbFHk9TUVL6RGAfNENrtdhwZBY5owsF0RMOLE20Jd0ykg7hDDXwjuRhsA3TAgAF8IzEIj8dDB8gQQnQhQ6hb7IEeGULVtL8kiWj8iYo9mmC7Vx2yLB84cIBgdgfe6K+8HJI0XwWtEeFuTcd0azV8qIRugApmE/az1EHnC0JIly5d+EYCOoMMoW6ldOpEE1bV1dW8YzEKetWHHJKEOq3u+LJHk8zMTL6RGMTRo0dFUSQ4/wO8sT1EoV7DZxw0JNy1sWZY0xlCugFKN0NBBWyLH1MGRBcyhLplNplSUzoRQvbv3887FqPo3r07HWh3gmeRX9WrF99IDIKd/2FFvwBcsBJWZAhV01hl4NXqClyoa6BdUulmKKiAbvELZtNlKOuAqEKGUM/ojm9N7c8hScNNzLRClmWXy0XH2n2ioo8mFosFt9KrQJZltiBkRb8AXLATaJo+wagt9CpCQfRrtNEo20Bkm6GgNNpiNDWlE+ZoiC5kCPWMTvBySKr9+WfeseifIAh9+vRpHGu00WhTi9F27drxDsUQBEFgBSHo4gN8dezYkV4lp90DDpoj2xvfaeNqjvCNpHXY1icWhOqQZZlmCDFfQNQhQ6hnLOeAvjLqOHWXlzYbjbKHEjQ4UQ29c0Iwm1LwPQfeaFWSdk8wag5rNKrRQyVs6zMrK4tvJAZx6NChQCBA0FEGFIAMoZ6xBWFZWRnfSAxCEATaaS2urkGLR4DYQ0nPnj35RmIQsizv27ePENKt6+U4/wN8CYJAnzIF0a/R9YnmaL3RKNv6ZJuhoCj2LIcSA4g6ZAj1rJvTSY8A7dy5k3csRsHeprV41zB7KMnOzuYbiUH8+OOP9IphVn0KwBH7OYw7UM83EoMIpzb2YtHkMd2gFFfXQAix2+1IGKhjx44ddIApA6IOGUI9M5tMtKqtvOIHvx87vmro3bs3HZiq6vhG0grsKRAZQnWw2R2XfEAs6Nu3Lx1oNGGlPfEm2WYlhJhqjmjuUAkrMejWrRvfSIxj165dhBC73Y4aQog6ZAh1ji4I5ZCEJKE6hg4bSgdxWlsQCqKfbvc6HA7s/qhj+/btdMDaEQFwlJqaarfbCTKEKqJ9ZeSQpLm+MnH7DtGB2+3mG4lB1NbW0q7UWVlZmKMh6pAh1DmWeSgtLeUbiUEk25NpGaHmdnzZI2Av3ECoClmW6W+l0+mkPzMAfLFWyXF1DSgjVIfUq/ECUra+0go2ZVx3/fV8IzEInBcFRSFDqHPsWRMLQtXQMkLN7fjGVTU+jvzyl7/kG4lBVFZWiqJIcF4UYgk7NYokoTokl4MOtPUNZydK7HY7GmKpg50o6Xd1P76RgC4hQ6hzgiDQx0329AlKy83NpQNt7fia99QSQiwWS3p6Ou9YDIHt0WBBCLGDnV5mO0SgNFpGqK2sLFu+4sIJdciyTDOEDocj2Z7MOxzQIWQI9Y+dAGTnDUBR1zedn9HQjm/cgXo5JJGmi8hABfT3UTCbMjIyeMcC0CglJcXhcBBC4g56ecdiFOEudjrQ0pTRtF/wf//3f3wjMYiamhrakho1HaAQZAj1j+344tSoOqxWa2NjBu3s+LJk5qBBg/hGYhAhSSovLyeEZPS4EgWEEFPoEyduI1SN1KtxG05DWVl6okQwm6644gresRgCOy86YMAAvpGAXiFDqH+XX345XZ8UFRXhP6I62CLcVObhG8kFYjvTt9xyC99IDGL7tm30CDe7pwQgRmju7Uvrwl2TBbOJ0FWWFlqRsRMl3bpejlSBOr799ls6QEcZUAgyhPonCAK9Z9zr9eLUqDpGjhxJB5q4fCKyPUBSUhLvcAyhsLCQDq5Hgz6IMQMGDLBYLISQOCwI1SKlXkq004qMnSjJycnhG4lB1HvrS0pKCCFZWVmYo0EhyBAawk033UQHmzdv5huJQaSnp2vo8gm0B1CZKIpFRUWEEKfTiRY+EGtsNhvdQ4yraxDqGniHYwjaunyCTRm33X4730gMYnNh45PbddddxzcS0DFkCA3hiiuuoH0CtmzZ4vejLEQNtHWkHJJMe37mHct5mHb9SAcssQmKKi4uDgQChJDBgwfzjgXgDNhV4+zNARTFLp8w7a7hG8l5CXUN9ESJw+HAhRPqoFv5Fotl4MCBvGMB3UKG0BAEQaCPnqIoFhcX8w7HEMaMGUMHMf5EJdQ1xB2sJ4TY7Xa6awBKKygoIIQIZhMOXEFs6t+/P608j/31iW6EuyQTQgTRH+Olm2xGux3pQVVUVVVVVlYSQrKzs9GBDJSDDKFRsB1fVrwEikpLS2vsNXqwPpaPXbHZfdiwYXwjMYja2tqysjJCSP++/VANArFJEAS6WyGIfg3dhaBpwRsbr5+J6T3EoBRfepAQYrFYbr31Vt7RGMIXX3xBBzfffDPfSEDfkCE0ipSUFNqcqqSkpN6LCV4NbIkVuxN80+wumE134ryoKtiODNujAYhBrPLctKuabyQGIXdIbLyhPob3EM3bD9D+on369EGSQAUhSaLnRe12O2v/C6AEZAgNJDc3lw5YgTIo6s6RI2kz8fjSg7HZWsa052c6u2f0uBLVICqQZXnTpk2EEJvNhmoQiGXp6elOp5No5y4EHZB6ptJBzO4hssazv/nNb/hGYhDbt22j99Hn5OTgIRwUhQyhgQwcOJA2E9+8eTP+a6rAbDJl9LiSxHBrGdN3++jgQoY1JwAAIABJREFUgQce4BuJQezevdvj8RBCBg0aZLVaeYcDcC608jxm3770JzSoBx3E5h5i3IF6dkFRWloa73AMgRack4iMPYBCkCE0ENZMvLKycuvWrbzDMYR7772XDtjSK3awZnE2mw133apjzZo1dDBkyBC+kQCcV05ODj3jEINvX/oUbwp3SCSxughnh4dRcK4Oj8eDC4pANcgQGgu7VyA/Px//QVWQmZnZ2FqmriHWejOYv62kgzvvvJNvJAZRVVVFZ3eXy5WRkcE7HIDzSEpKuvmmwYSQuLqGGG99qRshd1NrmRhbhAui31ReQ1BwrqLVq1fTwYgRI/hGAkaADKGxpKen0yRhWVnZjh07eIdjCKNHj6aDmOrNIIh+855aQojFYhk1ahTvcAyBze55eXl4OwVNYHuIsbY+0atw1+TG1jJ1DTHVWobtCORcdz0KzlVQ763//ItNhBCHw4ELikAFyBAazl133UUH7PQaKOrWW2+lpZvmPbWC6OcdTiNTmYe2k8nOzsbiRAUej4f2F3U6nf379+cdDsAFcTgctB1uDJ5x0KvQDT3pgB3i4C8ombZW0eGDDz7INxaD+Puqv9M5etSoUZijQQXIEBpOjx49srKyCCElJSUVFRW8w9E/QRBoxYUcksyby3mHQwghguiPL9pDx5jd1cHSg7/61a/wXgoawpKE5sKYePvSPcnlaCzdLK+JkSShefsBupvpcrlwe6oKfD4fbSdjt9vdN97IOxwwBGQIDUeW5by8PDr+4IMP+AZjEGPvv58mCWNkgjd9t4+lBzG7q6C2tpYd/rn22mt5hwPQAqzQAElC1QSzr6CD+C/5L8IjNxCfefYZvsEYxLp16wKBACFk9OjROKAL6kCG0HAEQXC5XOyS+qqqKt4R6Z/ZZLrjjjvomPsEL4h+89YqQohgNj3++ON8gzGINWvW4PAPaBfbQzT/J2YOMepaaEA3miSMO1jPfRHONhCzsrKS7cl8gzECURQ/+eQTQojdbqdXvwCoABlCg2IT/Icffsg3EoO47777aJKQ+wTPjq3mXHe9zWbjGIlB1Hvr6eEfh8OBwz+gRd27d6eFBtzfvoyDJQn5ntQVRH986UE6fmziYxwjMY6PP/6YpgdHjhyJ62pBNcgQGlT//v2dTichpKioqKysjHc4+icIAms3ynGCF+oaWOvwxx7D7K6Gv7z7Fzq733777Tj8Axp1KkmISkJVhAZ0Y+1GOd75Yd5cjvSgmuq99TQ9aLPZbrnlFt7hgIEgQ2hQgiD8+te/puO33norJEl849E9WZZHjRpFM3IcJ3h2YHXY/92KrUelybJcVlZGm4s6HI5czO6gWS6XqzFJiDsJ1XKq3ehXu0mQwxwduYH45JNPqh+AAS17axndQLznnnswR4OakCE0rszMTNpPvLKyct3atbzD0TlBEARBeOSRR+iHXC71ijtQH3ewnhBis9l+g+aiypPC4SVLltDxo48+ivQgaNqECRMab9D5anfs3KCjY5LLEe6QSGjh9/YD6gfANhDv+OVtaD+mgpKSkqKiIkKI0+kcOmwY73DAWJAhNLQHxj1Ac1YrV66s96IyRHFut9vhcBBC4uoazKqvCdlZrwcffBCLExWsW7vW4/EQQtxud2ZmJu9wAC5KSkoKPfcuiP4YuUFH94JDG983TFurVE4SRm4gjhs3Ts2XNia/3798+XI6fuSRRzBHg8qQITS0ZHvyPffcQwgJBALL3lrGOxxDeO655+jAtLVKzV1283f74uoaCCEOh2PIkCGqva5h1XvrV65cSQix2WwPjHuAdzgAUXDnyJF0S8tUXoPuMiqQOySGuyQTugjfouK9wUGJbSA+8sgjePxTwdqmDcTc3NyMjAze4YDhIENodEOHDWPdZUpKSniHo39paWn0Ui9B9MevL1XnRYW6BnaR1JQpU9R5UYOLLAVBMwbQB1Nc3KOPPkrH6C6jjsAd/ekVFOatVaotws1bKtgGIi0tAUV5PJ6PPvqIEGKz2caOHcs7HDAiZAiNzmwyscK25cuXo7uMCqY88wy7gkKd9gzx60tppzi32929e3cVXtHgUAoCuiQIQmZmJrunXv1z70YUbzp1T/2GUhXOlcQdqKd31RJCZs+erfTLgSzLy5cvpxuIDz74IMo1gQtkCIFkZGTk5uYSQjwez4cffMA7HP0zm0yTJ0+mY8vnu4S6BmVfrumwqM1mmzRpkqKvBQSlIKB34x8eT4vP44v2oLuMCkIDup3qLqN09WZQit/QeHQlLy8vJSVF2ZczPFmWv/nmG3o+y+Vy4SZ64AUZQiCEkLFjx9IJPj8/H9cSqmDgwIEul4sQIock1slNCUJdg/mr3XQ8bdo0/BarYNmyZSgFAR1jxedySFLt3LvBBUcOoANTeY2i50riP99JF/l2u/2+++5T7oWAOnToEGtGPWHCBMzRwAsyhEAIIUlJSezg6IIFC3w+H994jGDGjBns4KhSJ6+Cpx7XsrOz0ehSBRs3biwoKCCE2O12dtUngM4MHTaMbmnFHaxHMaEKZJs18lpChRKzcQfq6cWDhJA5c+ZgcaK0kCS9/PLLoigSQvLy8tLT03lHBMaFDCE0crvdw4cPJ4R4vd7XXnsN63+l2Wy2adOm0bH5q91KHBxljQHsdvuUZ56J+t8PzVRXVy9dupQQIphN06dPp1l3AP0xm0zPPPsM/QlXs9mJkUUeHFUiMSuIfnZYdMyYMWlpaVF/CWjmvb/+tbKykhDicrmQjwW+kCGEUx544AHacbSkpGTVqlW8w9G/rKwsWr1JCIlfXxrda6YiGwPMmTMHlWxK8/v9c+fObWwMMO7XPXr04B0RgIKS7cmsFlqdZicQuHsg7TiqREMy8+Zy+h/R6XTm5eVF9y+H0xUXF69Zs4YQYrfbn3n2GSRdgC9kCOEUq9X6TFMDzPc//ADFhCp47LHH7HY7oS37onfNFPZ61cdKB7Oysn75y1/yDgdAcVlZWXTloOYlOoYWb/Lf0Z8Oo9uQzFTmoYdFLRbLiy++GK2/Fs6mtraWlQ5OmjQJVxMBd8gQwv9wOBwTJ04khMghCcWEKhAEYe7cueyaqegUEwal+NXfYa9XTZGlg5MnT8b2GRjE3ffcg2JCNYW7JksZqYQQOSRZmt7nL1LcgXq2gTht2jScdVdaSJIWL17MSgdR3g+xABlCaM7tdtNzjCgmVIfD4Xj8t4/Rsfmr3RdfjRP/+U52z8S8efMuNj44n8jSwalTp+JxCowDxYTqCw7te6qYcPV3F1lrINQ1WD/ZSsfDhw/PysqKQohwTu/99a/0BJbL5br7nnt4hwNACDKEcEbjx49nxYTLli3Df3qlDRkyhBUTWj/ZejEHgcyF5fTkj2A2vfTSS1arNTohwln4fL4ZM2bQ0sEHxozFPRNgNJHFhBf59gUX6FQxYV2DpWk51wqC6Les/k4OSYQQp9P58MMPRy1EOIv169dHlg6ivB9iBDKEcAa0mJBu+n766adoMKOCxx57jC7CL+YgkKnMwxrJPP7bx9DDWmmiKM6aNcvr9RJCsrOzR4wYwTsiAA5YMWHj2xfWhEqLN528ZyAdtv6wbkRxAY6TqKO4uJgdJ0HpIMQUZAjhzBwOB7sob8WKFRs3buQdkf69snAhbTDTuoNAkXUgeXl5Q4YMiX6IEMHv98+ZM4c1DZ80aRJ2zcCwxowZ43a7SVPSCU1HlSZ3SAze2lh71rr6c1ZcYLFY/vj6H3GcRGmlpaXzXllAx4//9jGUDkJMQYYQzsrlck2bNo2eS1myZElxcTHviPRMEASzyfSHP/yBJmZbehAosg7E7XaPGTNGkSihSUiSXn31VVoH4nQ6Z8yYgccpMLgnnnySVqBFpbYNzktyOSJvq29RAWdkccErr7yCVJXS9u7dO2/ePHo6d9y4cdixhViDDCGcS1ZWFut3smjRIlxEobSkpKSFCxeym6Yu8CBQZB2Iy+V6+umnlY3S8GRZXvrmm0VFRYQQu93+/Izn0UgGwGwyTZ06tbHpKN3SwppQYaEB3UL9G0sDLryAM7K4YMb051BcoDSPx/Piiy/StqIjRoy48847eUcE0BwyhHAeQ4YMoemmQCAwZ86cqqoq3hHpnMPh+P3MWXRs3lp13jUh3YynB7QcDsfLL7+seIiG9/7779NLJmw229y5c7G5DkBZrdYZM2Y4HA5CSNzB+vjPd/KOSP9C7oxwl2RywQWcpjIPKy6YMGEC2ooqzefzzZkzh5aau93ucePG8Y4I4AyQIYTzGzVqFO2WIYri7Nmzq6ureUekc5mZmU888QQdm7dWxa/ffravFOoaLO9vYZdMLFy4EBs3Svv444/z8/MJIRaLZfbs2fTZFwAom8324twXaTm0qbzmHG9fEC2BUdewiyjafFB8jrOj5u/2sdXgiBEjhg4dqlKIRuXz+WbNmuXxeAghWVlZTzz5JOZoiE3IEML5CYIwbtw42jDA6/U+++yzFRUVvIPSuSFDhjz00EN0fLaHKqGuwRLRI+7NN9/EwUVFybK8YsWKd999lxAimE3Tpk3r0aMH76AAYk6yPXnOnDn07ajx7QtnRxUWGHsdXRPKIcn6ydYzrgnNheXmr3bTcW5u7q9//WtVQzSe2traadOmscZjU6dOxSUTELOQIYQLIgjCE08+mZ2dTQgRRXH69OklJSW8g9K52267LXJNaFn1beRDVbPV4B9f/2NSUhKfQI0hJElvvPEGzQ0KZtO0Z57FUSuAs0lLS5s9ezZbE6KeUAWBuweyNaHl79+ayjyR/6+5sJzVDebm5k6cOJFDiEZSVVU1depUmhtE4zGIfcgQwoWiDQPo/emBQGDOS3MLCwt5B6Vzt912Gzs7Gnewnj1UxR2ob/NBMV0N2u32ZcuWoYxNUX6//6W5c2ndoMVi+f3MWQMHDuQdFEBM69Gjx4IFC+jZ0biD9ZYPi3EXhbLiTSxPSAiJ31DK1oTx67ez1WBeXh5Wg0orKyubPn06rRvMysp68cUXcX4HYhwyhNACgiBMnDiRXUC8ePHidevW8Q5K54YMGfLCCy+wvqOWD4tNZR7rJ1tpT1GHw7F06VLMNIoSRXHmzJk0JW632+fNm4f7owAuRFpa2sJFCxt7zNQ1xON+QuUFxl5He8wQQuI3lJq/2xe/fju9YYIQMm7cOFxKpLSSkpIXXniB9hR1u93Tn3sOczTEPmQIocXGjBkzYcIEOl6+fPmKFSuwWaCorKysV+bNb1wT1jXEbyilq0Gn0/n//t//wykURdV7659//nl64Yrdbp87d2737t15BwWgGcn25IULF566i+L9LRd4NQK0WmDUNVJGKh2bv9rNVoNPPPEELjxQ2saNG+e8NDcQCBBChg8fPmnSJNQNgiYgQwitMXTo0KeffpouUfLz89944w2/H/u+CurRo8frry2h33DK5XItXrwY2zSKqqqqmjJ5Cm0J4HQ6Wa4DAC6czWabPXs2u7P+3G0wISqCQ/uyNSH1u9/9DpehK0qW5fz8/CVLltAd2zFjxowfPx5zNGgFMoTQSm63+/czZ1ksFkJIQUHBtGnTaPE0KMHn873zzjt0mqHKK374xz/+gW0ahciyvHHjxmeeeYYWgbhcrhdffBGFmgCtY7Vapz/3HG1VTVuenPeGVbgYcQfq4w56Iz/zt7/9DVdGKYdeNrhixQr64RNPPJGXl4fHZtAQZAih9TIzM+fNm0d7BlRWVk6ZMgVtZpRQVlb21FNP0Ro2i8VCD1/JIWn58uXz58+nhQoQRX6//9VXX12yZAk99pOdnc36JQJA65hNpkmTJtESdEKIeWuVZdW3KCmMvqBkLiy3/L3xe+t0OtkcPWnSJMzRSmg2RyMZC1pkmjVr1gV+qSAIYVl+efMK9plnbrjXYoonhBw+fFiSGnMX7du3N5vNUQ8UYpPdbr/pppsOHDhQU1MTDAaLiorq6+v79u2Ln4GokGV51apVixcvPnHiBCHE6XTOmTNnxIgRKSkp33//vSRJ1dXVRUVFPXv2TE5G8io6qqqqZsyYsXPnTkKIYDY99JsHf/Ob3+DnGeDiCYKQmZnZrVu377//PhgMCkdPmMpr5I6XyEkJvEPTCUH0W/L/Y9pbSz/My8t7evLkIYMH0zlakiTM0dFF5+hXl7x2QjxOCHE6nbNnz77qqqt4xwXGtdXzw4aKb+j4qpT0kVe5CSF+v18UxXA4TAixWq2XXHLJ6f9gCxaEsizLWBDCadq0aZOTk2M2m0tLSwkhlZWVJSUlmZmZiYmJvEPTNp/Pt2DBgn/+85/0w+HDh0+ZMqV9+/aCIDidzl/84helpaUNDQ0NDQ0FmzbaEhKuvPJKHFC5SOvXr1+wYMGRI0cIIQ6HY+aMF7Kzs/FdBYiitLS0G264Yc+ePXV1dUJQMpV5SCAUTu/AOy7NiztQ3+bDYuHYSUKI3W6fPn16bm5uXFwcnaPbtGmzfecOEpbpHN27d+8zPhTChTs1R4dlQkhubu7UqVNpPhaAFzUWhMgQwtkIgtCrV69+/fpt3br1xIkThw8fLigo6NSpU3p6Ou/Q/j979x4XVZ3/D/xzmJsyIDogxjgoQiSzOkOKpWjLFEWbuJZa0L01tdJf7rbdtrZyu1CtbbXVLn2T1Vwr04ISLyu2oWz4zdDNsWT0C66BCONQBCg6R53r+f1x7OzxDJcZmPt5Pf/oMXOaOfNxgPM578/7/fl8IlV9ff1zzz3HLmeiVCp//etf33zzzfy/rJEjRxYUFHR0dBw/fpy4mQMHDhw/fnzKlCnsrE7wFU3TpaWln376KXspy83NXbFixSWXXBLqdgFEIaVSefU119httsbGRkJITPupmBMn3eOTiBw3D4PicEm//I+s5v/YyESr1T7/wvMT0iZw/5+iKK1Wm63Xc330zp07ExMT09PTQ9foyNbQ0LBixQq2j5bL5Q899FBxcTHufiHkkCGE0Bs9ejRXPsqWphw/flz7M23scJQD+YCm6XXr1pWVlXFlos8//7xOp/N8pVQqnTFjBr989F//+teoUaPGjx+PpJb3GIbZt29fSUkJe29KSSVL739g4cKFCK0BAicmJmbKlCmXXXbZ/v372fJR2cE2Iolxq0eFumkRJqa1S7b9W36Z6MMPPxwb20u3K+ij9+3bd/z48csuuwwTpH3C9tHvvPMOfypHr300QPAhQwhhgSsfNf3fYeJmzGbzjh07ZDJZ5mWXxcT4sIKRODEMU1NTs3LlSrb4lvDKRPt6i6B89Ny5c3V1dQcPHszKykI5kDcsFsubb75ZXl7Odu1qtfr5Z5+78sorEVEDBIFarebKR4mbiWntivnuB/fYUSQW26sOjKJtsl2HZf97hDprJ7wy0X4uX4LyUbPZ/M9//pOiqIlZWeijB8QwzO7du19++WWuj2bLRPvpowGCbNABIeX92qEMw7jc7hEv/oI70vH7bXHy4YSQpqYmdjk+Qkh6ejp2yoajR4/+z//8D1tNQQhRq9XLli3T6/WhbVU4a2lpWbVqFbsBOiFEpVItX76c3bnLGzabbcOGDVv+sY3dmoKSSm6Zv6CoqAh/jH2x2Wxbt24tLy/nrl1z5sy58847MVgOEGROl6ty0yb+H6Nzappr2gRGictXn6T7j8nqvuP2IjIYDIsXL05ISPDy7eijfWU2m0tLS/l99AMPPDBjxozQtgpAYPX+bQ9tf4t9fPMkwwe3rCCE9PT0dHR0OJ1OQkh8fLxGo/F8ow8BISHE6XIhIAQvMQzzj3/8Y+PGjdy+CAaD4VcLf4XN3ARomi4vL/dLLOcZVaLH6pXRaFyzZg23c2Z6evry5cszMjJC2yoAMevo6Fi7dm1dXR37lFEqnD+f6NKqQ9uqMER1npHtqI/pPMM+HXQsxzDMZ5999sEHH6CP7h/GWyGCBCMgRIYQBqGru+u9de9xex8plcrbb799dmGhVCIJbcPCAVt/sm7dOnb3c0JITk7OokWLev1b9f6cNTU169ev559zyZIlajXuqwjxuOlUKpV33333DTfcgBpRgHBgNBpLS0u5y5c7NdFxdRaThDWrCSGEom2S/cekB1rYp3K5vLi4eP6CBUPpT3t6et5991300b3y7KO1Wu3y5cuH0kcDBBQyhBDW6uvr33nnHS4ho1KpFixYcP3114v2V8Xpcu358suPPvqI/50sXLgwLy/PL5EJTdMffvjh9u3buSMGg2HBggViXvfVbDaXl5fv3vMlV2RVUFBw9913e19kBQBBYLPZKioqPqncxP2pulMTnVemu8eJN3PFhoKy+jbuO8nNzV20aFFycrJfzt/Q0PCXv/wFfTQn0H00QIAgQwjhzulybdu6dcOGDdyvikqlKiwsLCwsFNWsLafLVf3551u3buW6GUoquemXc4uLi/3+PTQ1NZWWlnKzRAghubm5N998c2Zmpn8/KMy1tLR89NFHXFaQEJKenv7AAw9kZWWFsFUA0A+LxbJmzRqj0cgdEWdYSNE26e5GSWM7d0StVi9ZssT7GeZe8uyjlUrl/PnzRdhH137xxSeffML10QQzzCFyIEMIkaGru2vrlq1VVVX8LqewsHDu3LlRn6ix2Wyff/75pk2buOITSiq57pr8BQsWBK6ek91T4eOPP+aHhTk5OUVFRVqtNkAfGj6OHj26ceNG/j2lWq2+7bbbZl11FQqiAMIcwzAHDhyoqKjg5kUTMYWFVOcZ6dfN/FBQpVIVFxfn5+cH7i4LfbSgj86bdVVxcTFqRCFSIEMIkaSnp2fbtm1VVVXcXHa5XF5YWDhnzhx/FcCElZ6ens8//7yqqorrZuRyeUFBwbx584Lz7+31vkqr1RYVFWVffnn0hUbsv3f79u38UDA9Pf3WW2+dPn06Cn4AIktDQ0NFRcVF2cKkeNe0Ca5LxxBZtF2+CCExrV2Sw2ZBVvCWW24xXH11cC7XNE1XVlZ69tG/+MUvonI6ek9PT01NzdatWwXDtcXFxVF5TwJRDBlCiDw0TVdVVVVWVnJdDiFEq9UWFBTMmDEjCmozbDbb3r17a2trDxz8lpv4wXarN950Y/BXcmMYxmQybdiwgR8WqlSqvLy8a665Jjq2s29pafnXv/61e/durl8nP4W+U6dOjYJ/IIBoHT169NNPP+XXflNSiUOf6p4wOjoShhRtkzRYYhos3AqihJD09PR58+aFZOoa20fzhzIJIVqt1mAw5OXlRUcf/c0333z++edh0kcDDB0yhBCpPIs0CCFyuTwnJ6egoCAS81cMwzQ2Nu7ateurr77ix7rhU3jT2NhYXl7OH24nhKSnp+fl5eUZ8iKxF+zp6dm9e3dNTQ2/MpYQkpOTM2/ePJ1Oh1AQIDq0tLRs2rSJWxWT5U6Kd2vVLq06ErcupGhbTGuX5PCJmLYu/vEwGclCHw0QQZAhhMjmdLn2f/21YKCO/JS/ysvLS09PD/N7eoZhTpw48cUXX+zZs4c/GZ2Ea9rTbDZXV1cLkmmEkJycHIPBMG3atLBqba96zcESXtpTzKuqAkSxjo6O2trampoawcXWnZromjTWPS4xAiJDhyum/ZTksFn6XQf/8qVUKmfOnHnddddNnDgxfHq9fvro3Nzca6655tJLLw2f1vaKYZj29vY9e/Z4/tpEU9oTRA4ZQohsDMOwfUlfqR6lUqnX67Ozs3U63dixY8On4+nq7vr2m28PHjxoMpkEkZVarc7PzzcYDOE8CYGtI925c2ddXR33V0wIoaSSrMzLJk+erNfrJ06cGD5/1Dab7ciRI/X19YcOHWo8+h/+rYlcLs/NzTUYDJE4aA0AvmIY5siRIzt37hSkegibMxyX6J4w2p0yMqzmGca0dsV0nI5p6ZS0n+JfviipZGr25ddff/2UKVPC53rLieI+etasWVE5MRLECRlCiDYtLS1ffvnlrl27BFdwQohKpdLpdGzHE5JYq6en59tvvzWZTIcPHxYMNBJClErl1VdfnZeXF1bjuwOy2Wxffvnlnj17BKWk5KfgMCcnZ/LkyZmXXRb8WMvpcn139KjJZDIajfyrDSc8c7AAEBx95a9YIQ8Oqc4zkpZOzyCQlZ6enp+fn5eXF1mVimaz+YsvvojQPjoMc7AAfoEMIUQnNn9lNBrr6+sF45EslUo1YcKE1NTUSy65ZOzYsWM1Y1WjVP69xNM03dbWduLEifb2drPZfPz4cc8OhhCiVqsnTZo0bdq0aVdcEdHpqa7urq/2fPXNN980NjYKBt0JIXK5PCMjQ6PRjBkzJjU1VaPRXJKS4t9/r9Pl+r693Ww2t7e3nzhxwmw29xoEyuVynU6n0+lmzZoVzjlYAAg0fv7qq6++OnjwYH19veflixDiTopnkuKY0SMYpcI9Op5JiPV7iEh1nqHO2mM6ThPaFvPjmV6DQPbypdVqc3NzI3pLA/TRAGEFGUKIfj09PQ0NDfX19d98802vl3uWUqlkY5XU1FSVSqVUKmUyWWxs7PDhw2NjYxUKxbBhw+RyOdshOV0u2/nzNE2fPXv2/PnzNE07HA6apk+fPs2GIj/88IPn8CdHpVLl5ORotdrLp1weiWux9M/pch1rbv72228bGhpMJpNnSMaipJKU5DEpKSlsl89+yewXPnz48OGxw4cphsXGxrJfOMMwZ8+ePW87f+7sOZvNxn7hVqv17Nmz33//fVtbW3t7e3vHD573TyzuLkqn012amYlOHQD60tLSYjKZ+hrb4jBKBaOKc4+OJ0oFo1Swkw+ZWDkhhAyXM3LpRRGjw0XZneScnRBCnbUTQijaRgihOk5TZ21Up1Vy6mxfl6+wrcP3l6H30XK5XKlUoo8GGDRkCEFcurq7DpkOsQUh/cQPfaGkkljFMIfD0VeQ088bU5LHZGZmZmdna7XalJQUkRScOF2uo//5z6FDh4xGY/8dcF/kcjkhxNcvnBCiVCrHjRsXxXdRABBQ/LGtY8eODeLyRUklhBBfOxplQxTTAAAgAElEQVTy0+Vr4sSJer1+8uTJ4rl8cX10U1OT2WweRFcbqxh21nZ+EJ17SvKY8ePHZ2dnZ2dni6ePBmANOiCUev8Z+KOC8JGoSjQYDAaDgfy0dFh7e7vFYjl+/PiAQ4aEEMbpop19Dhhz2L5co9GMHTs2JSUlEOWRkUIqkWi1WnYZdEIITdMWi6W1tZUr0RkwLPfmhoDryzUaTUpKytixY1NTUzEtEACGQiqRZGZmZmZmsk9pmv7+++/NZnNbWxvbXwwYsXgTlghqJdLS0tRq9YgRI8R57yToo3/88ce2tjaLxdLe3t7c3Iw+GiDc+BAQ+lRcChA0FEWp1Wq1Wp2Tk8MdZLt8ts6Eqzax2Wxnz561Wq12u91ut8vlcrlcHhcXx5WSxsbGsuUrI0aMUKvVCEX6olQq+TdY5KewvLOzkysB5Zf32O12q9VKCGG/cPZLZkuDYmNj4+LiZDJZUlJS8pgx6MsBIKCUSmVGRkZGRgZ3hGGY7pPdHT90sB2E0+lkr2BWq3XAyxdbIa9SqRCK9IWiqOTk5OTkZP/20cnJyZG1DA9AOEOGEKIT2+WHuhUiwoXloW4IAIBvKIpKVCVijlkwoY8GCCsx3r8UGUIAAAAAAIBo4kNAiAwhAAAAAABANEGGEAAAAAAAQKSQIQQAAAAAABApZAgBAAAAAABEChlCAAAAAAAAkUKGEAAAAAAAQKSQIQQAAAAAABApZAgBAAAAAABESur9S5EhBIBeOV0u2mqlaVoxTJGQMFIqkYS6RQAAAADgFR8CQmQIYehsNtsrr7zCPdXpdPPnzxe8hmGYTz75pKGhgX9w0aJFGo1mwPMzDFNSUsI9vf322zMzMwWvoWn69ddf5x9RqVQPPvigN0Me9fX1mzdvZh/L5fInn3zS8zVGo3H79u1yudxut3vzX5VKtXz5csFJSktLu7u7PU8ul8tVKtXo0aNVKtWoUaMyMjKUSuWAze5fRUUF/9t+6umnvYnoenp69u/ff/DgwaNHj3Z2dvL/V1xc3MSJEydNmjR9+vTk5ORBtGHFihWePw7+l8+64oorZs+e7c35KysrTSYT+7jX3zoAAAAAcUKGEILK6XRy9+WEkLi4OM/XUBTV0NDAfxkhZO3atb0GCQIut5v/xjlz5gzYBpZWq7322msHbP/Jkye59/baeEKIxWLxPH8/kpKSPA8ePnxYEGX1SiaTFRQUzJkzx8u4q1dNTU0+NZim6aqqqsrKSofD0esLrFar0Wg0Go3vv/9+QUHBzbfcnKhK9KkNLrfbMyjlf/msxsbG7OxstVo9YJuPHTs24A8OAAAAQIQwhxAig8lk2r17d+DOv379+p6ensCdP0AcDkdVVdWDDz64fv364PyFtrS0PPbYY+Xl5X1FgwLV1dWPPfpYfX19IBrjcDjWrFmDSxMAAADAoGGVUYgY69atC1zMZrVaP/jggwCdPAi2bNlSU1MT6E+pr69//vnn+0pd9pV5s1qtK1eurK2tDUSTTCbTvn37AnFmAAAAADHAHEKIGFar9eOPP77//vsDdP7a2tq8vDy9Xu/f095xxx0ZGRn9vEAul/d/hqSkpGXLlrGPz549e/Lkya6uLqPRaDab+S979913MzIy0tLShtjgvnR1d73xxhtWq5V/UKPR5Ofnjx8/fvz48QkJCTabrbW1tbW1dc+ePfzyTofDUVZWNn78+EA0r6ysTKfTDX0uJQD0o7Gx8ejRo9zTmbNmDlgKLlBfX3/8+HHvXz969OgZM2bwjzhdrh1VVT59KNvO2tra06dP+/RGPqlU6uV05b7QNN3Y2FhfX9/W1nb27Fl2cDMhIWHkyJEajUav1/9s0iQvl+MyGo0Wi4V7ev311ysUigHf1c+PT3DCQZhdWMg1vqGh4bvvvvP+vSNGjDAYDIKD27Zt6/XFUql01KhRiYmJqkSVapTKL4kK/u+G9z9ohmHa29sPHjzY0NBgtVpPnjx5/vz5YcOGjRo1Ki4uTqvVZmdnp6SkeNlCb9pw9OjRxsZG/hGdTudll8o///jx4/1+nwNRAHMIIZJUV1fn5eVlZWUF6Px///vfX33tNf8ukpmRkTHEi++wYcM8z3DnnXeaTCZ+hOZwOP7xj394rk/jFwzDvF36tiAazM3NffDBB/n3IgqFIjMzMzMzMz8/f/PmzRs2bOD+l8PheOutt1auXOnNvYtPrFbrhx9+GLiRAgAghJhMpvLycu5pVlaWrwHh3r17q6urvX+9TqcTBIQup/P999/36UMzMzMTVYk7duxoamry6Y18cXFxgw4Iu7q7Pv3k0y+++MKzzJ6ttjAajVu2bImLiyssLCwsLBxwbKuuro5fcJGXl+fNRbWfH5/ghINw/fXXc/0m+8/x/r0ZGRmeAaGXP2WdTjdv3jydTjeUG1T+74Y3P2iGYQ4cOFBRUdHrbxQ7UFtXV0cIycjIKCoqmjp16oDN86YNhw4d4nephBCNRuPlHUttbS03RFtYWIiAEDxhDiGEu9zcXP7TsrIyp8vlr5MnJSXx03dms7ly0yZ/nTygKIrS6/UPP/ww/6AgZ+hHJpNJsKDLPffc8/DDD/d1I0JR1Pz581esWCGTyfjN81dda05ODv/M1dXV/MFvAICQYxhm27Ztv17+6+rq6gEnXVut1vLy8uXLlwdoxnVUMplMJSUlv//97wf9pfl6Z9vT01NSUrJy5UpvxheamppWrlxZUlJC0/Tgmtc/s9m8bevWAV+Gu3fwBuYQQrgzGAyCmM2bK6CXzp8/v3TpUv6RysrKIRbPBJNer+fP3GttbfVjtMxXdXGZlkaj+eUvfzngNUGv18+cOZN/5PPPP/dL5xQXF1dUVMQ/8u677wbo3w4AITFgOX3QDBs2zNe3OF2u1atXv//++16uv8WyWq0lJSW7du3y9ePErKmp6Y033hhcx+3Tna3FYnnyySd9WpSbEGIymZ555pmOjg4fm+aVioqKAc9MUdTZs2cD8ekQTTCHEMKdw+FYvHjxU089xR2pqKiYNWvWUDZa4NhstrS0tMLCQi7gYReu9GaLizAxYcIErn9yOBzft7d7s2GjT2iaNhqN/CO33nqrl9/PggUL+MVIZrP5u+++89wc0ldWq3XujTfu3r2bS4o2NTXtqKqaO3fuEM8MAMFRUFAQGxvbzwtSUlL6P4NGo8nJyen/NSqVihAyffr09PR0z//b3d3Nv7hlZGT0+rL+2+mJYZjKTZs862PZ82dkZIwbN87lch07dqytra2hoUFQ3LFq1aqRI0cO+E/zF51O12vsbbVa2dJHlkaj0Wq1vZ5BIu3zZtJgMIwcObKfT09MHKDwOCkpadasWezjs2fPdnd3nzp1SpCgs1qtr7766iCmJHh/Z0vTdElJSa+b7mZkZKSmpl5yySVdXV3Nzc1NTU1Hjhzhz7Awm81//OMfAzFjwuFwrF279oknnui/R/b1FxhECHMIIdzZbLbMzMyCggKuc/XyCugNh8PBMExxcfG///1v7kLPLlwpmLsStgQjf/Hx8X7/CMHIa1JS0vTp0718r1qtzs3N5d9VtLa2Dj0gtNvtUonk/vvv/8Mf/sAd3Lhx4yAWugCAkJg3b94Qx/UyMjLuuusub145f/78Xo+zO6ZyTw0GwxAXj2E1NjbyJ+wRQmQy2eLFiwW73bLz4RmGEcy4JoSUlpa++eabCQkJQ2/MgAwGg+csPkKIxWLhX7r1ev29997r68l/+ctfDnEtsZSUFM+fckdHx/bt2/mlK2azuaqqqq8fdF+8vItgGKasrEwQDWZkZDzyyCP83+G0tDQ2jO/q7nr1T6/yo1az2fzee+8FYq670WiMoDsWCFuYQwjhjg147rzzTn5tJHsF9Mv57Xa7Uqn81a9+xT9YVlYWoKJ//2IY5ocffuCeymSyESNG+P1TBAHhlVde6VMonp2dzX/a3t4+9CaxvxVarZZ/H+NwON5b997QTw4AMGgMw/ztb3/jH0lKSnr55ZcF0SCHm3HN7+MifSekQEtOTl64cGFhYSH/4LFjx3w9j5d3to2NjfzYmBBiMBief/75vkY0ElWJL770UkFBAf9gdXX1UFY24hMsXf7ee+/1c8eCu3fwBuYQQrhzOp2EEKVSuXDhQv7x/q+A3jt//jwhZPr06fz6HHbhyqGfPNA+++wzfl2KXq8PxN+pYIpCUlKST28fPXp0P2cborvvvpt/F1VXVyeobgUACCaTySQoAV22bNmAWTK9Xl9cXMw/8tVXXwVu690oQFGU4Btra2sbxEm8edmOHTv4TzUajWCFbU9SieS+++4TzOAQnGfQJk+erNPpuKednZ2CjDQf5hCCN5AhhHDHBmyEkLy8PO+vgN6z2WyEEIqiFi1aFIiFK994441l/RpcgOR0uWprawVDyIJ1VvyFn4QkHgHegAQBpF8CQvanRghJSEgQVBOtWbOG+78AAEG2c+dO/tOMjAx+z9WP/Px8/vCWw+Hw17LM0UqpVPL7F7PZ7OvF35s7267uLkF6cN68ed5EkhRFzZs3j3/EX0G+w+FYsmQJ/46lqqqqpaWlr9djDiEMCBlCCHfc9Z2iKJ+ugF7iRs6Sk5MDsXCl1Wrt7BebAu3H+fPnjT+pra2trKz8+9///uvly0tLS/nr1xUWFgrKSPxFMNo94BoAAoLX//DDD0MfXeKGCQgh+fn5gpGCioqKIZ4fAGBwBCOJRUVFXt4+KRSKG2+8kX9kEDWQYjOIBWD5vPnRnDCf4D9NSkqaddVVXp5/1lVX8UNWh8Phl2XMaZpWq9WCCZOrVq1C5gYGDRlCCHf8mCcQV0AXL+Sbe+ON/AIPduHKoZzcLzo7O1f+pLS0dMOGDVVVVYLZ7YWFhYKSWj8SjGj6us6BQqEQzI0ZevkKPyCkKOqee+7x+0gBAICvnC4X/4IZFxc3depU79+eZ8jjPw3QXgVRw+ly8QtYkpKSArHK6IkTFwWEs2bN8mYveJZUIuGWSGX5JSC02+2EkPkLFgjuWD777DPPF+PuHbyBDCFEmPkLFvDH2wRXQEmMD7/SntiFK/lHNm7c2NXdNZRzBppGo3n00UcXLlwYuL9QQQToazjndLn4Ex1lMpnfy1fYvUO4pw6HA2OlABB83V1d/EHMMWPG+HRlVo1S8ce2/FJPEcX2f/01/9seP368r2fw5qfT1XXRPcCAu6EICF7vl2XV2IBQKpEI1n0tLy/3vGPB3Tt4A/sQQoSRSiTLli0rKSnhjpSXl8+cOZMNWoZ+4WMXruS2zmMXrnzkkUcGfcJHH320/wkkQ4mONBrNq6+95v1o5eAkJyfz10br6uryaRnxnp5T/Ke+3iF5qaioaM+ePVzitKmpqaamhlvWL3x2uAYA1vr16/v/w1y+fHnQGuMXDMN8//33/CP9b8HniaKohIQE7jpmtVpPnz4dnM0nAuSjjz7iV4h4Wrps2eC6sJaWlrKyMv4RwYQ9b3hzZyuYNOHTLHqGYQKxrBobEBJC9Ho9/47FarV63rHg7h28gX0IIfLo9Xr+1nZWq/Xdd9/lroAymYw/ZDgId999t9Fo5JJa7MKV7Bqkg9hVNjY2VqlUDqU9cXFxubm53NPvv/+e24nebDbv//rrQG9AJFhZ29f+7MeOH/lPx4wZ44c2eVAoFEuWLFm5ciV3ZP369dOmTYvoeymAKCZYqMPTgAGh2WyurKzs5wVarZbd6y84KIoSlBcO4nKXkpLCnxHQ0dER0RexAZd9vu+++wYMCLmlBKy0tburu6ur66uvvhL8/uTk5AziZ+3Nna1gWTWVSuXT+QWv90tAyK/T8bxjqa+v1+v1/DZglVEYEDKEEJEWL15sMpl6vQIqFIohBoTswpWrVq3ijqxZs2by5MkKhYJfzBM0I0eO5Bey0jS9fPly7t9eVlam0+mGGHP2T1DxIqif6R/DMKdOCTOE/mmWh5ycHMFIwQcffMDeUyJDCBB9mpqa+t/Yrbi4OJgBISFEkCH0dZMehmEE8YPFYsnMzPRDyyKWyWTy3JheQKfTPfzww4M4+YB3toLNfonv62yPGjWK/7S1tZVhGD+mWBISEoqLi9euXcsdeeedd958803++DVWGYUBYQ4hRCT2Csg/8s477/hxs4H8/Hz+ip3cwpUhCQgFlEolv3e0Wq1///vfA/qJarWa/7S5udn791IU9d133/GPXHLJJf5pVm9+tfBX/J9RbW1tQ0MDCY8fHABEPcGlZsBFpAUoiuKqAVmDKEsRFZlMdtNNNz319NOD+6IGvLOlKEpwZl9/pgIKhcLvt9M33HCD4I5l69at/v0IiHrIEEKkuuGGG2pra7nhYfYKWFRUNGzYMP4SJoNDUdTSpUufeuopLtlYVVV11VVXDR8+fIhn9otrr722urqa+7fX1tbm5eXxS0T8K3nMRSWjJpOppaXFy2mENE3v2rXrorNdXIDqX4mqxNtvv/3999/njvztb3979bXX+p/EAgDBt2jRIkHyJAoI6il+/PHHvl7ZF0FJoa/5qHBzzz339P9PkEh9uBEVyMjIePx3jyeqfNsJic+bO9sxY8bwbyp+/PFHn0pyBL8DgaiRYe9YHn/8ce5IZWVlbm4ufw1SgP5hDiFEqr6ugEPclYjDLly5ZcsW9im7cOXSpUv9cvKhu++++5588knuqWeJiB+pRqkyMjL4pVmbNm3ycqGdmpoaflcaFxc3efJk/zeRZ3Zh4Z49e7jWms3mbVu3SodwzwEAgZCTkzPE4SGNRsPO7u7LxIkTh3L+QRDUU3R3d/t6BsE2PwEtqQgCnU7n0yJknmQyGX8W5fnz57k+pbW1dUiN8+7OdojLqgkmWQRoSJS9Y6n6aaMsh8Oxdu3aFStWsP9ATJqAASFDCBGs1yugH4Miz4Urv/zyS3+dfIgyMjL4/3a2qHXAiRaDQ1HU7NmzS0tLuSN1dXXeJAlpmq66eCPHa6+9NtAVUFKJZPHixU899RR3pKKioqCgIKAfCgDBl5GREaCL3qAJ6ikE088G5HS5+CvKxMXFDZiMcrqGVMEY/rKysv7whz9wTxsaGrinDodj9d9WP/HEE4POWHhzZysI4QSz4gckSPmmpqb69HbvFRcX//vf/+Z+f0wm0+7duw0GQ4A+DqIM5hBCZCsuLubP2jeZTEMfMuSwC1fyj1SFwT71nOLiYn4l5JYtWwK3G/usq64SrI7w/PPP9798nNlsfuaZZ/g3NzKZbHbh7AC1kC8zM5MfATocjurq6iB8LgCInGAjwVOnTjldLu/f3n1xNqnX8kJBiHjm9Blvznzy5En+08idVs1uDcU9NRqN+/btG/TZvLmzFZQB+3qPEZwMISFEqVT+6le/4h9Zt24dTdMEGULwgg8BITKEEIY8r4BDXGJUICcnh1+S5N+TD5FgdRlCyKpVq3y6+fCeJCbmN7/5Df+I1WpduXLl+vXru7q7BBcHdt7g7373O8H2TQ888MBQJnv45M477+RHy2H1gwOAaEVRFD+Ks1qte3ypK/n888/5T3udAyYoIhWsa9oXwcsid/YmwzB33303//JeVlYmqLP16WwDvkZQBrx7927vV7Cz2WyCWfSCs/nX9OnT+XcsVqv1ww8/JAgIwQuYQwgRj70CDrjZ0aDdd/999cvrBx1RvPHGG/1Pa0xISODvnueT/Px8/uoyTU1NO6qq5s6dO7iz9YOiKK1WW1xcXF5ezj++ZcuWLVu2xMXFTZgwITU19Ycffjh+/Dg/K8gxGAx5eXl+b1hflErlwoUL+WWuAABBoNVq+WNhmzdvzsvL8+YOyrPGXqvVer5MUKvf3t4+4JkZhuG/TCaTjRgxYsB3hSeKohISEhYsWMAtHsbfYWgQZxvwNePGjePvb2y1WmtqambP9qraxXMW/bhx4wbRTi9RFLVo0aL6+v/esVRXV+fl5QV0YyqIDsgQQsRjr4CBK4BhF64c9NutVmtnvwY9tEl+WlmHf2Tjxo1+2fe2V0VFRYsWLfI8brVaTSZTVVWV0WjsNRosLCx88MEHgzyolJeXp9PpgvmJAADXX389/6nZbPayprGqqoo/8hgXF3fVVVd5vswzYTVgYciBAwf4V+asrKxIH+KfXVjIT5/W1tbW19cP4jze3Nkqlcqrr76af2Tr1q3eFOM4XS7B9g95eXmBnkWfnJxcVFTEP1JWVha5FcIQNJhDCNHA8wroX7MLC/mb/ISVtLQ0wXy5VatWBW74Zvbs2StWrPB+MeukpKTly5ffe++9wb+AUBS1ZMkSdIQAEExpaWmCoaiysrL+wxWGYXbt2lVZWck/2NcSXAkJCfwZ3WazufriQlMBp8u1Zs0a/pEoWGhEKpHcf//9/COD24vYy46psLCQ/7Szs/Pll17qfzCXpunXXn1VMIt+zpw5vrZwEObeeCO/jzabzYKyVQBPyBBClBBcAf2LXbgyQCcfOsF8OXZtMe/fzt8HWSaTSWIGuCzo9fo///nPy5cvz8nJ6SvckslkOp1u0aJFfy0tDeHNh1qtnj9/fqg+HQDESTAUZbVaS0pKKioqer2Pstlsb7/99qpVq/jpQY1G088o57Jly/hPP/jgg4qKil7DoZaWlmeeflqwcumMGTN8+ueEJ8HqMuxS276exMs7W41Gc9NNN/GPmEymJ5988ujRo72+vqmp6bHHHhPMZCkqKgroNrwcz2h56JszQ9TDHEIIKqVSuapsFfdUKun9N/Chhx7iltIepvBqX0GpRPLiiy+et53nH4xT9rId+YgRI/htSEgY6c35MzMz+e/qR35+/sxZM715ZT9efOlF7nFf3xJHqVS++eab/MXHB3wLH39uyZgxY7z5S6coymAwGAwGp8v13dGjp06dOnnypNVqjYuLi42NHTVqVEZGhk+TFpYtW8Zvf69B6YwZMybrfN7DcP6CBfnX5vOP+PTlAECvNm7cyB+H6pXBYOhnn8D169f3v9bF+PHjAzEjOgjUavXixYtXrbqoyygvL6+pqRk/frxGo7n00kttNltbW1tzc/OxY8cE9+symeyhhx7qp7ZQr9cbDIba2lr2qcPhYE8+ZcqUlJQUtVpttVo7Ojra2trq6uoE712+fHmgqxb5Pvroo/5/T8aMGTPoAp/b77jdaDRy396WLVtyc3N9Kufx/s72tttvP3ToEH9Dws7Ozqeeekqj0WRkZIwfP16tVlssluPHj5vN5tbWVsG6Azqdbt68ed43bIjYaJn7DQEYEPYhhGDzZp1J/i603lMqld4EIRRFDW6tSy/f5WUz/PJZnMF9Y4QQmqb5dS+9rnLeD6lEkpWVNbiP5vOm/QqFYhD3MVKJJGhLmwKIh8lkGvA1va6JwvGMVQR0Ol2EBoSEkGuvvdZut69du5Z/kJ033v8SaHFxcb/73e8G3OX13nvvPXz4MD/119nZOeD+OsXFxf2E6IEw4HpvGRkZgw4IE1WJ/NVlCCGrV69+8aWXpBKJl2fw/s5WKpGsWLHi9ddfF/zmm81mwXrannQ63aOPPhrktMrdd9/Nj5YB+oc5hACiJljGwNeAEAAAejV79uwnn3xywDwqX0ZGRklJSf+BNEupVK5cudL7gvy4uLjly5ffcsst3jcmIghWl2GX2vb+7T7d2SqVyqeefpo/ad8bhYWFTz39dPDX+UxISBBsTAXQD8whBBCRjo4Os9nMLo/W09NTUVEh2Eai10XtAABgEHJyclatWnXHHXfwl4HplUajefTRR//4xz96Pxk+ISFh+fLlJSUl/RdJxsXFGQyG115/zWAwRN/Ivud8OV+X2ubPvex/jyju4954443c3Nz+VyyTyWS5ublvvfXWvffe633G0r/y8/Ox1DZ4CXMIAURk3759bHVNXFycZyVJbm5uZmZmKNoFAOHuiiuu8HVJDEGgcs0110ycONH7t3tuni6RSvnbzQ19iY60CWn8EwZiNWmFQjF//vx58+adOHHCZDJ9//337IxrQohKpVIqlenp6ZN1kwdd2Z6VlfXHP/6xvb29vb3dYrG0t7d///33crlcpVKNGjUqPT09+/LLBxeQsAEn99TLHdVzc3NTU1O9/5ReM6j8z/X8NRDQarWPPvooP647c+aM978bp06d4h57OflCo9E88sgjNpvtyJEj9fX1p06dslqtdrtdLpfHxcWNGTNm4sSJP5s0yfuvvaioaMDazilTpqhUKvaxl2lndmOqhoYG/kEvf44gNphDCCBGnn2PTCZDeQkA9CUtLW3AiW39y8zMHOKQk1Qi8e+qxYmqxOAsg0xRlEajCdBS2BRFqdVqtVrt3/mBSqVyEF9ORkbG0ONqXz930Oum0jTN7w19+gEpFAq9Xq/X6wf30Xze/OAG9weYnJwcnKVNIdIhQwgAJCMj4ze/+Q26DQAAEI/PL97CEbPoQbSQIQQQkdGjR2dkZHArYiclJY0fPz47O/uGG27AiA8AAEQxhmH4PZ3RaNy6dSv/BZMn+7yzEUB0QIYQQERmzJgxY8YMhmG6T3bHKeOCuRsVAABACK1bt+7f//53SkpKXFxcW1ubYLuInJwcb9Z3BYhKyBACiM6gd2IEAACIXOxWkL3+L8yiBzFDhhAAAAAARIrdpDFAS/4ARARkCAEAAAAgynnuHCiTyaZNm7Z48WIvN5wAiFbIEAIAAABAlLvzzjvnzp1rsVg6OjpGjRo1VjNWNUqFm1sAggwhAAAAAEQ9iqISEhISEhK0Wq1gxVEAkYvx/qX4ywEAAACASId7WgA+HwJCZAgBAAAAAACiCTKEAAAAAAAAIoUMIQAAAAAAgEghQwgAAAAAACBSyBACAAAAAACIFDKEAAAAAAAAIoUMIQAAAAAAgEghQwgAAAAAACBSyBACAAAAAACIFDKEAAAAAAAAIoUMIQAAAAAAgEghQwgAAAAAACBSyBACAAAAAACIFDKEAAAAAAAAIoUMIQAAAAAAgEghQwgAAAAAACBSyBACAAAAAACIFDKEAAAAAAAAIrGVGwEAACAASURBVIUMIQAAAAAAgEghQwgAAAAAACBSyBACAAAAAACIFDKEAAAAAAAAIoUMIQAAAAAAgEghQwgAAAAAACBSyBACAAAAAACIFDKEAAAAAAAAIoUMIQAAAAAAgEghQwgAAAAAACBSyBACAAAAAACIFDKEAAAAAAAAIoUMIQAAAAAAgEghQwgAAAAAACBSyBACAAAAAACIFDKEAAAAAAAAIoUMIQAAAAAAgEghQwgAAAAAACBSyBACAAAAAACIFDKEAAAAAAAAIoUMIQAAAAAAgEghQwgAAAAAACBSyBACAAAAAACIFDKEAAAAAAAAIoUMIQAAAAAAgEghQwgAAAAAACBSyBACAAAAAACIFDKEAAAAAAAAIoUMIQAAAAAAgEghQwgAAAAAACBSyBACAAAAAACIFDKEAAAAAAAAIoUMIQAAAAAAgEghQwgAAAAAACBSyBACAAAAAACIFDKEAAAAAAAAIoUMIQAAAAAAgEghQwgAAAAAACBSyBACAAAAAACIFDKEAAAAAAAAIoUMIQAAAAAAgEghQwgAAAAAACBSyBACAAAAAACIFDKEAAAAAAAAIoUMIQAAAAAAgEghQwgAAAAAACBSyBACAAAAAACIFDKEAAAAAAAAIoUMIQAAAAAAgEghQwgAAAAAACBSyBACAAAAAACIFDKEAAAAAAAAIoUMIQAAAAAAgEghQwgAAAAAACBSyBACAAAAAACIFDKEAAAAAAAAIoUMIQAAAAAAgEghQwgAAAAAACBSyBACAAAAAACIFDKEAAAAAAAAIoUMIQAAAAAAgEghQwgAAAAAACBSyBACAAAAAACIFDKEAAAAAAAAIoUMIQAAAAAAgEghQwgAAAAAACBSyBACAAAAAACIFDKEAAAAAAAAIoUMIQAAAAAAgEghQwgAAAAAACBSyBACAAAAAACIFDKEAAAAAAAAIoUMIQAAAAAAgEghQwgAAAAAACBSyBACAAAAAACIFDKEAAAAAAAAIoUMIQAAAAAAgEghQwgAAAAAACBSyBACAAAAAACIFDKEAAAAAAAAIoUMIQAAAAAAgEghQwgAAAAAACBSyBACAAAAAACIFDKEAAAAAAAAIoUMIQAAAAAAgEghQwgAAAAAACBSyBACAAAAAACIlNT7lyJDCJGFYRi73X7+/Hmapu12+7lz586ePWu1Wp1O59mzZ8+fPy+VSocNGxYbGxsXFyeTyZRK5fDhwxXDFHHKOLlcjl/4QXC6XDbeF85+5+xTq9VKCGG/cKVSGRsbK5fLuaeKYcOkEkmomw8A4mWz2dj+4ty5c3a7ne0v2M7C6XTabDalUsleshQKRWxs7HBW7PBhimGxsbHoMnzFMAzbQbBfMvudc09tNptCoeD6CJlMxn7n7PevjItDlwHgRz4EhMgQQjijadpisVgslra2NrPZ/MMPP5jNZrvdPrizUVJJSvKY8ePHazSalJSUsWPHpqSkJCQk+LfNEY1hmPb29vb2dovFcvz4cfY77+7uHvQJVSrVmDFjNBrN2LFjx40bl5KSkjxmDLp8APA7p8vV8cMP7e3tra2tJ06cGPrlSy6XazSa1NTU5OTk1NRUjUaj0WgUCoUf2xzRGIY5ffo020e3tra2tbW1t7e3d/zAOF2DPqdKpZowYcIll1ySmpo6duzYsZqxqlEqhOUAg4MMIUSqjo4Ok8nU0NAw9L7cE+N0sV0X/6BSqRw3bpxGo8nIyNDpdGPHjhXVH4XNZjty5Eh9fb3ZbD5+/HhnZ+eg4+1edXd3d3d3NzQ0cEf4YblWq508eTJusABgELjLV3Nz89BDEU92u725ubm5uZl/kB3kSk9Pnzhx4uWXXy6qIUWGYU6cOMH20R0dHa2trTRN+/cj2C6Df4QLyydMmKDX69PT00XVRwMMBTKEEEm6ursOmQ6ZTKbDhw8LojUBtVqdkpKiUqnkcjlbYRIXFyeXy9lixeHDh8tkMofDwdY02mw2tkaFpmmHw0HTdHd3t+dNA03TDQ0NDQ0N1dXVhBCVSqXT6bKzs3U6XXJycsD/8aHgdLmO/uc/hw4dMhqNjUf/088tFKNUMMPlTFIcE6sghBClgj343//Gygkh1Fk7IYSibdx/Cfv4rI2i7VS39cJB9pwXh+WUVJKVednkyZP1ev3PJk1C8hAA+uHb5UsVxyjl3OXL89rF6usKFvPjGcHli/AGubZv304ISU9P12q1er1ep9MplUq//3vDATtQe/DgQZPJ1P8orTspfsD+gvTfZXRaJafO8n+sXFheW1tLCFEqlXq9ftKkSTqdbvz48QgOAfqBDCGEO5qmTSZTfX39N99802sQyCbu2EKd1NTUSy65JCUlxS+ppP7Lirq7u2tra9mOR6VS5eTk6HS6KBgGZhimubm5vr7eZDKZTKZe04DupHgyXO4eHc8kj2CUCiYxju3FBz75QC+gaBvVZaVoG9Vxmu3yYzrPXHiv08UG5BUVFXK5XKfTabXayy+//NJLL8XVCQDIT5evAwcONDQ09HP5YkMRXy9fZMArmMNF9ZyN+fEMRduoH08LIhY2VuGCQ71er9fro6Dwoaen59tvv+1noJaNt92j44lS4U4ewcTKmaR4L0/uZZcR03Ga0DZBWE7TdF1dXV1dHSFEpVJNnDgxOzs7JycnWgdwAYaC8j7vxzCMy+0e8eIvuCMdv98WJx9OCGlqauIuu+np6ZF+dYNw4HS5Dn77bXV1tdFo9OzUuQBssm5ykKcN9PT0NDQ09BOg5uTkGAyGGTNmRNwfgsVi2bNnT01Njee/i5JKXCkj3WlJrrQkJiGWyIKanaM6z0haOmNaOiXtpzyH+VUq1bXXXnv11VdrNJpgtgoAwkdHR0dtbe3Aly+vQxF/oTrPxPx4Jqblx5i2bkEKkRCiVCpnzpx53XXXTZw4MbIGtpwu1/6vv/78888PHPzW87LsTop3j0tkkke4xyV6H2/7h8MV034q5tiPMa1d3Hgin1arLSgomDFjRrTmaUHMVu/f9tD2t9jHN08yfHDLCkJIT09PR0eH0+kkhMTHx/d6s+RDQEgIcbpcCAghoNjx3V27dtXV1QkKTsKwRLOfEla5XG4wGPLy8nQ6XZh38zRN7969u7a2lj9/j+VOTXSnJbmTR7hTRgY5COwd29N3nO41OExPT7/++utnzpwZ6UlaAPASTdN79+6trq6OgMvXT2Nb1I+npd91CC5farU6Pz9/1qxZarU6VM3zBsMwR44c2blz51dffSWYFsgoFe5UlTttdAiCwD5cyB/2FhzK5fKcnJyCgoLsyy/HBASIGsEICJEhhIDq6u6q2VXjOb6bnp6en58/ZcqUMF/EhZ07sWfPHqPRyD8etvmrvnKwlFTi0Ke6J4wOn7uo3v00DCw50s4fd6ekkhlXXHn11VdPu+IKdPMAUSniL19c4UODRRCoaLVadjAx3PJXfZWQuFMTXZPGhk8Q2BeKtsW0dkkOn4hp6+IfV6lUubm51157LRahgSiADCFEsKNHj3766adsoT8nbOOo/jEM032yu9fIVqvVFhUVTZ06NeRdDk3TVVVVVVVVghysKyvFnTbademYML+R8hTT2iU5bBYMuiuVyvnz5xcWFobbfRUADJrNZquqqtq6davg8sWGJRF6+Yo59qOsvo1/+ZLL5QUFBfPmzQuHchh25rZgrNOdFO/Wql1a9YU40OGKlG+eom2SBotnKJ6enn7rrbdOnz495H00wKAhQwgRybObiaBKy/5xta9ffPEFv64mtF1OT0/Ptm3bqqqq+E0S9usRq9cBYKVSWVhYOHfuXNSRAkQ0diSrsrIyKi9fhBBJgyWm5UdJYzt3hJJKrrsmf8GCBSGpI2UYxmQybdiwQbAb0IUc7LjE4DfJv6jOM5LDJwQ1Jmq1+rbbbpt11VUoMIFIhAwhRBKGYQ4cOFBRUcHvZrRa7ezZsyNxLZb+saVN27dv58e96enp8+bNy8vLC1pY2NXdtXXL1qqqKu5Ple3XXZPGBn+VhUDz7ObZ4fabb7k5URXxNzEAYuM5khXNly/aJmmwSA608KOU3Nzc2267LS0tLThtYBhm3759H3/8MX9nxcjNwQ6IrTHhh+JqtfqWW24xXH01wkKILMgQQmTotZvJycmZN29epKcEB9TS0vLRRx/xK2OD0+V0dHRs3ry5urqa+yNllArX1DRn9rjo69cv4nBJD7by76tCO9wOAL7yHMliL1/RkRLsn6TBItl/jF/WmJOTc/vtt2dmZgbuQxmG2b179+bNmwWhoPPK9ChICfaP6jwj/bqZHxaqVKoFCxZcf/31uK2FSIEMIUSAhoaGv/3tb4JQsLi4OCsrK4StCjKz2VxeXr57z5fcdBGVSvXAAw8EooiUpuny8vIt/9jGfZZYQkE+j7CQEFJQUHDvvfdibiFA2LLZbBUVFZ9UbhL15auPsHDp0qWBmFtYX1//zjvv8Ge/u7JSnFekR18ath8UbZPsP8af0qlSqe666678/PzoHrOG6IAMIYS1np6eDz74oLq6mjsS5AKYcNPR0VFeXr7zXzVcl5OTk7NkyRJ/Za7YUd5169Zx6y4wSoXz5xOjstrHS4L7KqVSuXjxYvTxAOGGLSQpKyvjX75EGAryxbR2Sf/dzM2OlsvlxcXF8xcs8Fd1SVd313vr3qutreWOiDAU5PMMC7Va7dKlS0V70wKRAhlCCFMMw3z22WcffPABN/cjNzf3rrvuiqy1QwOkq7vr008+3b59O/uU7eNvvPHGIf4Fmc3m0tJSbn7mhVBQiyJJQgiRNFik/3uEyxaijwcIKxaLZc2aNdyMa4xk8cW0dklrG7lRLbVavWzZMr1eP5RzOl2uHVVVGzdu5PpokYeCfGxYKD3QcuGpVHLTL+fecccduMuFsIUMIYSjpqam0tJSrkbUL71X9GlpaVm1ahUXv6nV6iVLluTk5AziVJ5FVs6pac6ZmbiXuojDJT3YKqv7jv2W2D6+uLgYFaQAIWSz2bZu3VpeXs7dTuDy1SvBqFZubu599983uOWyGhsby8rKuD7anRTvNGRF/VxBX1GdZ2RfNHLp2cDN8gAYOmQIIbzQNP3hhx8Kcl9+rG+JMgzD1NTUvPvuu/w8qq99/N69e/lFVu7URMfVWRjl7YtnH79w4cJgrvsKAByj0bhmzRpu9po7Kd4xW4/LV18o2ibd3cgtfyKXy++5557ZhYXe97CCeRyUVOLIvdQ5bUJAmhsVBHG4f2d5APgLMoQQRhoaGv70pz9xkUngZsBHGUEPrVQqH3jgAYPBMOAbbTbb22+/zU3/QI2o9zzH2n/9618jVQgQNDabbfXq1dx1D5cv7wkqSLVa7SOPPOJNV1tfX//GG29wfbQrK8WZlxX1q7b6gcMl/eooV0Eql8uXLl2KiegQVgYdEEqee+45Lz+Doig3w/xx93ruyOM/v0MukRFCTp486XJdKFEbNWqUVCodwr8FIhjDMJ988smf//znc+fOEUJUKtXjjz9+++234w7bG8OGDbvyyiunTJnS3Nx88uRJh8NRV1fX1dWVnZ3dz99US0vLihUrDh06xD51Tk1z3DiVGYNN2L3CjI536ccRpzum/RQhxGw219XVTZw4MTERRVMAAWexWF544QVuxqArK8Uxd4pbPSq0rYoUTEKsK3sckUkkllPEzXR2dtbU1IwdO7afKfoMw3z44YelpaVsH+1OinfMznZNm0DkuG3zgiTGnZbkyhwTc/Isdfqcy+Xat29fe3v71KlTcd8LYeKA5T+fHd3HPv5ZctqCnxkIITabjaZpt9tNCFEoFCNGjPB8ow8BIcMwDAJC6FtPT8+f/vSnf/7zn+zTOXPmPPPMM6mpqaFtVcRJSkr6xS9+IZVKTf93mLiZ5uZmo9Go1+vj43upntqxY8ef/vSnU6dOEUIYpcJ+2wz3z8YSSUzQWx3JuD7ecoo6az9z5kx1zS5lbOxll12GcV+AwKmtrX3hhRc6OzsJIYxS4bhxKiKTQXCrR7kma2I6zlCnzzkcji+//PL8+fM6vT4mRtgRdHV3vfDCC1wtiXNqmmN2NqPCcK2PYhWun40lMklMaxch5Pjx43v27Jk8efLIkSND3TKAoASEyBBCP+rr65977jl2brpSqXzsscduuukm/CYMDkVRkyZNytbrDxw4cO7cuZMnT1ZXV48ZM4a/GCZN06WlpZ9++in7p+fKSrHffAWJHxa6Vke4WIXrZ2Op0+diOq3EzRw4cOD48eNTpkyRy+WhbhlAtLHZbKtWrfrwww/Zy5c7NdGxYBozGjMGB0sudf1sLLE72UqHxsbG/V9/PXXqVH5tTn19/QvPv9DW1kYIoaQS+/xpruxxGD0cNLd6lCtzjKSpg3K4zpw5U1NTEx8ff+mll2IYEUILGUIIGbZM9K233mJLUNLT059//nmtVhvqdkW80aNHX3PNNa2tre3t7S6Xi18+2tLS8uyzz7JlopRU4px1mdOQha59qCQx7sxLmJGx0pZO4mbMZvO//vWvSZMmoXwUwI/MZnNJSQlXJur8+UTHdZOQGBw6d1qSe+yomNYuyuE6efIkVz7qdLk2bNjALxO135GL8NsPYhUu/Th2GNHlcu3fv7+9vV2v12MYEUIIGUIIDc8y0SeefDIhARPY/GPYsGF5eXnDhg07eMjElY+eOXPmzTffZMtE3Unx9vk57kvHhLql0YMZHe/KSGbLR8+dO8eWj06cODHU7QKIBnv37n322WcvKhPF+jH+wyTEurPU/PLRrq6uzZs3C8pEyTBZaNsZPSQx7sxLuGmcx48fr6uru/zyy3u94QYIgkEHhD5Ebj5tUAFi0NXd9czTz7ALhSuVyt/85jczZswIdaOiDUVR8+fP12q1r7zySnd3d3NzM7dnlCsrxXHdZGzS5XdMUrz9thmynYckje2M07VmzZrOzs6FCxeiFghgKLZt27ZmzRr2sTs10TFbj5Ut/Y5RKuw3TZUebJX+7xFCCH9jCdtNU7HHYCA4p01wpSXJdtTHdJ6xWCy/+93v/vCHP2RlZYW6XQA+8KHGDDdDwNfS0vLYo4+x0WB6evprr72GaDBwsrKyXnv9NX4hiisrxTE7G9FgoMgkjtnZjhv0lFRCCNm8efMbb7zh/KkOAgB8wjDM+vXruWjQ+fOJ9luuQDQYKDKJc9oExw16/jFEgwHFDiO6slIIITRNr1ixgiuKBogIPgSEyBACp7Gx8amnnmJ3McrJyXnxxRexPWtA0TT92KOPcbt9EkIkje3S2sYQNkkMXFq17aapbExYW1v78ksv2Wy2UDcKIMI4Xa633367oqKCfeq4QY8N0AMtprVLvvMw/4hiywHqpx0LISBkEsd1k51T0wghdru95OWXdu3aFeo2AXgLGULwmdFoXLFiBU3ThJDc3Nynnn4a2wwGVFd313333ceG34xSwY5BEkKkB1pkOw6GtGnRzz0u8fztM9hUhtFofPbZZ3t6ekLdKICIYbPZXn7pJbZwkZJK7DdfgUmDgRbT2qXYcoBxXljB1Z0UTwhhnC7FB3vYnRIgUGQSpyHL+fOJhBDG6frLX/5SWVmJbApEBGQIwTe7du0qefklNlU1Z86cJ554QipB1WIAmc3mpQ8sZcNvRqmwL5jmmJ3N9jeEEElju/yTr0PawOjHJMXbF0xjb6oaGhqefPLJjo6OUDcKIALQNP3ss8+ytXOMUnH+9hmoWgw0SYNF/unXbDTonJpmv+UKx4Jp7tQLX7v8068REwYav1533bp169atw/0zhD9kCMEHlZWVf/nLX9ie5q677rrvvvvwWxFQR48eXf7Qb9jw250Ub79zJpMUTy7ub2LauuQf7AllK0WASYp3/BQTWiyWJ554oqWlJdSNAghrXd1dzzzzTENDA/lpMIu9fEHgSBosss/q2cfOqWlOQxb5aZkZfkwoabCErIni4NKqMQUdIgsyhOCtbdu2rVu3jn28dOnSoqIiRIMB1dTU9PiTT1wo+0mKdyyYxl+Dge1v2McxnWcQEwYao1TYb5vB3lR1d3c///zz7IpKAOCJpulnnn6GXRKZP5gFgSPdf+y/0eDPJ7LR4AUyif2mqdx0A9ln9YgJA00wBX3VO+/gLhrCGTKE4JXa2lp2gThKKvn9738/e/bsULcoyrW0tDz6u8f7igZZLq3afvMVbH+DmDAYeDdV3d3dJSUlmE8I4Mlms5WUlLAjJu7URPttM7CgaKBJ9x9j95kgfS3bI5M4ZmcjJgwm/hT06upqbkgdIAwhQwgDMxqNb/zlLfbxw795CNtLBFpPT8/jjz/OLQnQz+2Ue1wiNwYZ03kGa8wEnEzimJ3N5gktFstzzz3HTu8EAJbT5XrllVfYSlF3Urz9pqnYHSfQJA0WfjTYz7I93DKYhBDZZ/WYTxho7BR0rna0srIy1C0C6B0yhDCAo0ePrly5kg1OlixZYjAYQt2iKGez2X77299emDeYmjjg7RQ/JsReFMHBTchpbm4uKSnB5BAAFsMwq955h1tFxrFgGqLBQOPvMNF/NEjIT8tg/hQTKrYcoGhspRNYTFI810evW7cOe1FAeEKGEPpjsVieffZZNjgpKiqaO3duqFsU5RiG+e1vf8vuMOFOinfM1ntzO+Uel2i/bhL7WHqgBYVAASeTOGbruXVHX3v1VVweAQgh69atY3eYuLCKDCpFA4yibbLP6i+sKfrziV5u6eE0ZLFDWozTNWztbuLAkFZg8fvov/7P29izHsIQMoTQp67urqeffpqtiCsoKLjzzjtD3aLox028YZQKx2y997dTLq2a24sChUBBwGY/2B9QXV3d6tWrEROCyFVWVm7evJmw+w1iTdEgcLhkm/azKT7n1LRe5g32zX7T1P/uT/j33YFqIfyEWweOcbpWrlzZ2IhaHggvyBBC72iafrHkRTZVlZubu3TZMowIBFppaSk7cEhJJY4b9L7eTjmnTeAKgeSffk11nvF/E4GHnwPZvn37J598EuoWAYRMbW0tu2YGJZXYbpqKaDDgHC75lgMxnWcIIe7UxIvWFPWGTMINaVG0DWuSBQE3bmu321944QWz2RzqFgH8FzKE0AuGYf7617+yK4ZrtdqHH34Yu88H2q5du9hSK0KI/bpJg9u+mSsEIoQM27gXhUCBxiTFc5tNrV+/HoVAIE4tLS2lpaXs40FfvsAnsp2HYtq6CLdyj+/YIS2sSRZMzmkT2IVeaZp+6aWXbDZM4IRwgQwh9OKzzz6rq6sjhKjV6hUrVigUmAcSWC0tLX/9n7fZx97PA+kVvxBI/tFe/7QP+sYu6sM+fv3117u6UawL4mKz2V555RV2qvkQL1/gJen+Y5LGdjLklXvY9U7Yx5LGdsw/DwL+OtWrV68OdXMALkCGEISamprK1qwmhMjl8ieeeEKpVIa6RVHOZrM99dRT7KoArqwUn+aB9IJXCIRB3+Bwj0tki3Vpmn71T69i0VEQlbfffpud+eyHyxd4Iaa1i91k4sJczaGt3OMel8iff465BkFgv2kqtzlhbW1tqJsDQAgyhCBA0/Rrr73GBieLFi1KS0sLdYui37PPPsuu3ONOTXRcN3noJ+QXAkka27HATBBwxboNDQ0fbdwY6uYABMmuXbvYO1pGqfDL5Qv6xy4ryj7211zNi+afb9o/9BPCAGQSdoEZQkhpaSkmE0I4QIYQ/oudOsiO9RoMhhtuuCHULYp+O3bsYHdwZpcV9deeXUxSPLfItWLLAUwmDAJuVdiKigpMJgQxaGlpWbVqFfvYji0Hg0K6u5FbVtSPczWdhix2rgFF21BXEgRcYtZut7/++uuYTAghhwwh/Bd/6uADDzyAIYBA6+joYKtzCSHOn0/0755dLq2a22kKkwmDgJFL+YO+mEwI0U0wdRDLigaBpMHCTh10J8U7Z2b69+SO2XrUlQSTc9oEto9ubm7GZEIIOWQI4QJMHQwyhmGeeOIJbupgIFZi4HJWMZ1npPuP+f38cBGZhJtM2N3djcmEEN1Wr16NqYPBRNE2+c7D7GM/lpNwmKR4R+6l7GPUlQQH10djMiGEHDKEQAghTpcLUweDbPXq1ew2j4Gbe8MoFdxqAdL/PcIWGkFA8ScTVm7aFOrmAATE3r172W1yGKXCmefjDngwKLId9WwfHbh8LJezQl1JcDBKBVdXUlZWhroSCCFkCIEQQio3bWLHenNzczF1MAjMZvP27dvZx44b/D/Wy3Fp1eyuR4QQGVYLCAqu8qq8vLyjoyPUzQHwM5vNVlZWxj4e+iqX4A3p/mMXdh1MTQxoPpa7fMV0nsEuFEHATSakaXr131A4CiGDDCGQjo6O8vJyQohSqVy2bBki/yBYsWIF+8C/CwP0ypmXhcLRYGKUCrbyym63r127NtTNAfCzDRs2sNUNzqlpmDoYBFTnGVndd4QQSipxXB3YfCyjVHALksl3HkbhaBA4p01gV/Spq6urr68PdXNApJAhBLJ27Vp2YYC77747ISEh1M2JfuvXr2dvpwKxMIAnflEKCkeDg9/BY8VRiCZms3nLP7YRtlg08JcvILxiUUfupUGIwLm6Esbpkm85EOiPA0KI03Ahzn/nnXcw+RxCAhlCsTMajezKounp6SgWDQKapj+pvDC1LBALA/SKW+yEECLbgQHIYHDMvhCEr1mzBkuKQ3RgGKa0tJSbyYZ9JoJA0mCJ6TxDAl8syvffupK2Lqw4GgTucYlsEG6xWDD5HEICGUJRs9lspaWl7OP/9//+H37EQfD6669fuJ0KbrWVc2Ym18FTnWeC9rmixSTFs0G4xWKpqKgIdXMA/GD37t3svqnu1MRALIwMQg6X9H+PELZY9KcxpiDgL0gm+wxjiMHABeGYfA4hgQyhqFVUVLC1i3PmzMnMRPFPwLW0tLAFhJRU4gryQu0yCdfBy7G6TFC4pk1gO/hPKi8s2gQQuWiaXrduHfs40DPZgCU92MoW+Tv0qUFeiF0o3wAAIABJREFUvMelVXNb1WN1mSDggnC73b5q1apQNwdEBxlC8bJYLGztokqluvPOO0PdHFF45ZVX2AeO3EuDvzQfOvgg4zp4xulas2YNxtQgon344YdYSyaYKNrGrSUT7AFEQghvYhtWlwkOro82Go1792LbDwgqZAjF6/3332drF++66y5sQx8Ee/fuZdNEjFLhzB4XghY4XBd18BB4Lq2a3dfLaDQeOIDlGSBSWSwWdqccrCUTNJL9x/67lkwo9vZwj0vktiWUfnU0+A0QIa4w+L333sNdNwQTMoQi1dLSwq4lo9Vq8/PzQ90cUeB27grZYgwyyUUdPLagCAquuK6iogIdPESoTT8tdIG1ZIKDom2y+jYSwgFEQgjv8iU90IIkYRAwSfHc6jK7d+8OdXNARJAhFCmudy8qKkKoHwS1tbXcVhOhXYzBeWU6+4AtRoJA4zr4hoYGk8kU6uYA+Kyjo2Pnv2pIGFy+xEO6uzEcVnPlLl+EENnOQ6Fqhqg48y4E4Zs3b8aNNwQNMoRiZLFYamtrCSHp6elTp04NdXNEgVuMgSvaDBVueWskCYPGNUnDPti8eXNoWwIwCJs3b2aDk5DMZBMhqvOMpLGdhEcEzsUnksZ2JAmDgFEq2D66ubl53759oW4OiAUyhGLEpQdvvfVWxPlBsGvXrgvpwdRE97jEUDeHOK9AkjCouEpdo9F49Cim4kAk6eruqq6uJux9aqiDE5GQfdHIPgj5ACJha1a5bWyRJAwKro/++OOPce8NwYEMoehwxT9qtXr69Omhbo4orF+/nn0QJmu1c1VASBIGDVepu3HjxtC2BMAnW7dstdvthK1dhMCjOs/EtHWRsBlAJIS4pk2gpBKCJGGwcH10c3MzViOD4ECGUHS44p9bbrkFQX4Q1NfXc+nB8Fmr/b9VQAdaQtsSkeAnCVta8J1DZOjp6amqqiJsevDSMaFujihIDp9gH3CjSCHHKBUO/f9n7/zjm6jvx/++XH4gSUlJS0tDgdpSaQapjDBpwbUCK4MqiswiKgjIUJyoA3QgDtEBG9vErzo/H3Vj6IRNBwoCW3Ew+JBOaRWK0uAKlpZSSiolLYQmQH71vn+823fP668kTe5yd6/nHzzeFy6XV66X9/v9+j0Uj6HcKD8QJ+GOHTuElQSQCeAhlBck+MdoNObfcYfQ4siCd955Bw8Co4YIKwkbRqvB+gn0JOQNsr374IMPhJUEAIJk79692D0YGJsGxUX5wBfAxUVbE+NixD2IIesXFg+INkxiHF6jKysrKysrhRYHkD7gIZQX+4r34dX97rvvVtKwukcdu91eU1ODYjL9hugnNESN8kLrsATcdLi0tBR3pASAWMbj8RD3oICdD2QFfeYiDuFpjbH1gugnjD8ANkR+IGs0OAkBHgAPoYzwBwIHDx5ECBkMhoKpU4UWRxa89957eBBoT8qPHVpT4nGzY4WjhXJ7hBZHFpAijYcOHRJWEgDolU8//dTtdiNwD/IINs9RSjrWDIiI5SQEGyI/sBMNmpqbhBYHkDjgIZQRJ776Ciez5eXlgXuQBxiGKS8vx+MYXN2RiiZqqrLklLCyyISAyYiV8IMHD8KMCsQ4n332GR7E4vQlRRR1TQpHC0LIPyIJTxQxBZm+wIbIG0QJP3QQbIhAdAEPoYzAvQcRQpMmTRJWEplQUlLSln6TlRKDqzti7fOUZxqFlUQ+BEamIISam5uhST0QyzQ1N2F7VuvQhNicvqQH/XU9HpDOpbEGsSGCk5AfAiOScX3XQ4cOgQ0RiCrgIZQLbre7tLQUIZSenp6WFnPhi5KEdCGP2dWdNMCFtBDeIBbfkpISYSUBgB4gHomYqoYlYSi3BxvmYq2cDBtiQ4TSMjyhov0jkhCrHgEARAnwEMqFsrIy7K2aPHmy0LLIArfbjafvWF7dEUtZBYsvPzCJcbi0jNVq9Xgg7AqIRRiGwWmulJKGbhP8QFfaY7OcDBu2DVFRB1ltfEDWaFwDAgCiBHgI5QLuNkEp6by8PKFlkQV//etf8SCWV3fEKn2pcLRAx2F+wI+E1+stKysTWhYA6IKamhpcCNc/IgnKyfCDotKOEKKUdIwXdCX6ifILcFjxQeuwtpjt0tJSfwDWaCBagIdQFjQ2NuI+NmNvHaPX64UWRxbgAF0khnoMRGVVnqgTVhKZQB4JktYLADEF8UXEbLi7xKAcLaScTIxr4EQ/UZwHDyFPkMzzE199JbQsgGQBD6EsIPvO/Px8YSWRCU3NTbigqyjqMQTSEvFAAWmEvMBoNVBMHIhZ/IEAtmcxWk0sh7tLCbrWgQetaYOElSQYsH6CEILMc34gebw41AsAogF4CGUBzgbRarU5OTlCyyIL9uzegwet7bpWLMMkxpFi4hA1yg9kgT/y2RFhJQEADqRBEdn3A9FG0a4QiiJjk0kagAf01xeElUQmkMzz8vJyyDwHogR4CKVPU3MTzgYZN26cRhPr3ipp8MUXX+BBQAwKIWJbfM9cFFYSmUC2fV9++aWwkgAAh4qKCjyA+qI84QvQDVcQQq1DE2I8XhRDeiFgsQEeIJnnJ0+eFFoWQJqAh1D6fPVlW9D5rbfeKqwkMoFhmIbGiwghRqthEuOEFicowOLLNyoaR43abDaoEwDEFFghFNH0JXYUDVfa6ouKxICIVHQgJR4hxPgD0KGeH4hxmdhrACCygIdQ+uByMgihMd8fI6wkMuH48eNtq/tQg9CyBAtxWIHFlzdaB8UhhLxe75mqKqFlAYA2nE5nW78c8UxfYkdx9hIeiCWiBLF0V+hXxA8kswMUQiBKgIdQ4jAMU15ejhAyGo0JBigPwAck7VsU5QHaaHdYgcWXN1pvbns8bDabsJIAAIEYEJlBA4SVRD7QpxuQ2FyyHaXIoBshX2AbTU1NjdvtFloWQIKAh1DiNDQ04PIAo0aNEloWuXD69Gk8EFeBvg6LLxSO44XWlHich4NNNgAQC3QkEIrHWyVqKEcLtsGJq4TPd0qRAbxAbDRgQwSiAXgIJc6JEyfwwGw2CyuJTPB4PCJqOMEGmk/wTXseTnV1NRSOA2IEXOVIXN4qUUMaTpBEbrFANFhwEvIDpBECUQU8hBKnI4FwDCQQ8gHu8IFEVB6gHWLxpa9cE1oWuYAfEq/XS7zKACAgpCQ1JBDyhrgaTrAhQe/01/XCSiITyBpN9nUAEEHAQyhlGIbBoQXp6el6vV5ocWTB0aNH8aBVbOZe1L4LZPwBCqKAeIE8JGDxBWKBk7a2ivZiyn8WOVSzC4mn4QSb1pR4PFCcbxZWEvlA0gidTqfQsgBSAzyEUubChQs4fNFkMgkti1w4e7at5BpZLEUESVEgUUxAVGkdloDTCKG1FBALkNwkceU/ixfK7cEJhLjmsMhQ0dhhBXXIeINYar766ithJQGkB3gIpUx1dTUejBw5UlhJ5MPlq06EEKPViM7ci1gOKwUohHxB0gjB4gYIDl4yGK1GXPnP4oVqcrWNxHnDGYMOD0An5AdiODh//rywkgDSAzyEUoZMGcOHDxdWEpngdrtxB0KyTIoLJqFd7OteQQWREaQbYfNlCLsChIRhmIsXLyLRTl9iRNF4FQ/EmGKAWPoJ1JXhB0bfHw/q6yFvE4gw4CGUMo2NjXiQkiKmetbipSPgSozxPyzPANSV4Y92z8CF+gvCCgLInObLzbi/mUinL1HS7ljrMMaJClIZlWrXbIHooqJbE+MQQth2AwARBDyEUgZ7CA0Gg0YjynAU0UFKg4iugDgBOwewnxPgAeIZuHABFEJASDpMEuIMXxQjikstSMwxuh0ewktQh4wvblIjhOrr62FPDkQW8BBKFoZhcFDBzTffLLQscqGmpgYPxGtiJ5JDoVF+IJ4ByAkBhIWYJEQavihG6IYrSMwxuiSCEddKBXiAZBlcunRJaFkASQEeQsnSfLnZ6/UihAYPHiy0LHKBRHGQZVJ8tBuqodAoPzBaDS40+u233wotCyBryBMo0vBF0UG5PTgWQ7wGRBLBqPD4hRZFLpD4I7AhApEFPISShcT/DB06VFhJ5IPL5UIItSbGibHEKIY4B6hLkBPCE4H4/gihhoYGoQUBZA3eX1JKWqThi6JD7CVGMUxie5aBDxIN+ID8PO12u7CSABIDPISShcT/DBkyRFhJZILH48EuWbxAihTiHKAcEALEE/iBsdvtHg+UbgcEA5sksHkC4AGxlxjFMP3b9BNFwxVhJZEJZI0+d+6csJIAEgM8hJKFhBMMSQWFkA9Onz6NB2SBFCOkvAEFnSf4gjww4CQEhMIfCGCHg6jtWSJD5CVGMSSCUXEWUtr4gGQZQOcJILKAh1Cy4IQQtVptGGgQWhZZ0FElUszxPwgh5iY1gpwQHiE7KkgjBISikeQ/i9meJS6oa+0KoZiXDCI8+TpAtMFufOg8AUQW8BBKlmvXriGEdDod/OH4AScQIpGv7gToPMEb5IHBXeAAgH+uX7/eNpLE9CUKKLcXIYS9PRIAfx2AD25SI4QgxQCILOAhlCx4sujXr5/QgsiFy5cvCy1ChLhJLbQEMgXnoAIA/xBjhDTsWSKiVaMUWoQ+wfSH9YJvGK0aIXTNc0NoQQBJAR5CyXLjxg0ECiGPSMZDiBcbgDfIjoo8QgDAMz6fT2gR5Md1L2oP0RcxRH5IO+cXxh/wByCQB4gY4CGUJgzDYIVQoxG3ciIipLebp9wQkcIrEAIECIVk7FkiQhqFuxi1uD2cYoQk+rolt+sABAQ8hNKEoii8wPfvDzXEeQInbSLxh9B0VJWQxH5FBLSb2MkjBAA8A8+eYIjdQ9jedFca+q24ABsiEEHAQyhN/IEAzkfS6URcz1pcdEzNYl/g26GuwQLPB8TEDjmEgFDgiBIkfnuWiMAhGBII0ZdMXRzR0O7GBzsOEEHAQyhNPO2ru1ot+sVGLHTsqMQeQkPKiEPIKD+0m9ilF3UMiAWocMs3Pulkf+G6ONCpiH86igMDQJ8BD6E0udFefkqr1QoriXwgCiHZ34sUBhRC3sEmdvAQAkLRUVRGKgEOMQ7lbVOfJND4UfR1ccQGAx5CIAqAh1CaXL/WZjeCkFGekVTwDCiEfIFN7LC6A0LR0XZC7AEOYoFk3Emgis9NagSta4UAgkqACAIeQmni90PwBt/gHEKxN5UCBAQqBAAAAAA9A6WAgWgAHkJpQlIHYYvJG7jDh6TyKGDV4RdoEgMIBVkySCgjEF1ImKUEAjGue5HEomNiG5LNAUsGEEHAQyhNSOogBKHxRr9+/RAOmxF5tQBIHeQfbEeAJjGAUMCzxzMQmgv0HfjZAhEEPITSBCsnCMpU8Ai555IxsUNcCm/g9BvI+AWEosPVAN3k+IG077smegMcdCDkGWK0vemmm4SVBJAS4CGUJiT+B3KOeUM6O6r2xQYUQp5odylDkxhAKDrsWdB9lC9wjCXlFv0NxwEOkD/PP6AQAhEEPITShKIoHDUKHkLekF7wBrSo5gfiUoYmMYBQSG/6in0kokH5AlBflG+Ih7A/KIRAxAAPoWTBDivIIeSNjqoMIjexkxAmRg97RF5odylDyCggFMQYASnEvNHWvk/kESUdDRWhGyFfkDW6n6afsJIAUgI8hJIFhwBBlVHekMxuviOESQVV43iFhO0BAM+Ah1AAblIjCSTgEflBIeQd+NkCEQQ8hJIFby5v3LghtCByIT4+Hg/AxA6EBHEpw+oOCEVHgANMXwAQ22CjrVqtBj8NEEHAQyhZBg4ciBByOp1CCyIXpBNzJXaLtdggD4xSKYmcIkCEgHeafxitGol/vSD2LPx1AN6QTFASECOAh1CaMAyDJwu32w1RozzAMExKSorQUkQGCroM8wvZEWIjDgDwT8ezJ3L9RJSIvHUthukPVal5gmp2IVZQEgBEBPAQShOKooYOHYrHDQ0NwgojByiKSk9PbzsQ9Y7KF8D6iUQq4ImC9gdmSOoQYQUBZIter8cxDopLLULLIheIBkU5RVz7TdF4FQ+YpAHCSiIX2tfo5ORkoUUBJAV4CCVLUlISHpw7d05YSWQCueGi3lGRrQljgHAUnsAPjFarNQw0CC0LIF+GDRuG2p0PAA8QDUrcS8alNoWwdViCsJLIBLJGp6amCisJIDHAQyhZhg8fjgeNjY3CSiIfsImdbrgitCDhQ7YmrYPihJVEPuAteHJyMsyxgIDg/SXl9kgjgjH2IXMs1e5kEyOUo82CwGghZJQPyBpNosAAICKAh1CykJS28+fPCyuJfMAhHIw/IN46ARTE//BMe/wPrO6AsJAINFFHMIoI0uiVtJUTI/SVawhyznmE7C7AQwhEFvAQShaNRmMwGBAohDzSsaNqEmvYFdmaBEZAfgIfkM03KISAsJAnUNQRjGJCRbcmxiGWk010UG4P4w8ghALx0DKHJ0iMLiiEQGQBD6FkYRjm5ptvRgjV19fD344fRo4ciQcK0YYAdWxNoCs9L0D8DxAjkP2lqCMYxQWTqEMIKRwtIg3TJaZP/EUAHsBrtMFg0GggRheIJOAhlCwURQ0ePBgh5PV6my83Cy2OLPj+97+PB8SGJzJ8AYWjBUE2CI+Q+B/8awUAoRickoID/0QdwSgumEFtkfkiDdPtKDE6CFIMeALH6GJzPwBEEPAQShmSRnih/oKwksgEUshHpCFAHSVGb4IWwzxBbAeS6WMJiBQlTackJSPRTl9ihJjeRBqmS6avQFqisJLIBBKjCwZEIOKAh1DKEP2kurpaWElkAkVRarUatdvwRAfZlED8D2/gzbfRaIT4H0BwsFVCvBGMokPshUY7SowmQlVqPiAxumBABCIOeAilTEZGBg4BstlsQssiF3AejkgLjZJNSWvaIGElkQmU24NjdDMzM4WWBQCQyWTCA4WYe+eICKJHidRDiE2fkGLAG4qzl/Dge9/7nrCSANIDPIRSRqvVZmXeghA6deqUPwAWXz7o2FHVNQkrSRiQTQmUGOUH8pDceuutwkoCAAihMWPG4AHZdwLRpq3QaLP4wnQpRwsOX2QMEFHCE3jJ0Gq16enpQssCSA3wEEqc0aNHI4TcbvfZmhqhZZEFkyZNwgNFrdh2VL6A4nwTwuZeKDHKC+QhMZvNwkoCAAihm9PTtVotEqc9S6S0DktACFFuD+UQmZOQrnXgQSskEPICiSjJzs4GDw0QccBDKHGys7Px4KuvvhJWEpmQmZmJ0wgV50VW2ZUEibUONQgriXzAD4nRaExKShJaFgBASprOyspCkEbII603t8XnE/1KLCjaBfbfOkxYSWQCSSCEiBIgGoCHUOKMHDkSpxFWVlYKLYtcwGmEorP40l/X40FgFLS75QPK7cGJpqNGjRJaFgBog/TOgTRCfmhNicdrtEJcCiFElPAOCeSGiBIgGoCHUOJoNBqcRmiz2SCNkB8mTJiAB+Ky+BKXJg5hAqINicqD1R2IHcjTCGmEPKGiAynxCCHF+SYRlSKjz1zEA4go4Q28ZBgMhiFDhggtCyBBwEMofSwWC0LI6/VWffON0LLIgqlTp+KBiCy+lKMF70VaoXo4X5AEwtHm0cJKAgCE4cOHGwwGBGmEPEJy8ER0z8n0BREl/EASCM1mM7hngGgAHkLpg+vKIIROnjwprCQyQa/XtxVmEI/Ft6M8ALgH+YIkECYY4J4DsQJFUSNHjkQIKdqNREC0CZiMeCCiUmQQUcIzUJIaiDbgIZQ+mbfcgsucHDlyRGhZ5AIuzIDEY/ElzszAKIhF4QPikiUpWwAQI5Adp1imL7HDaDU4NEMspcjI9AUdCHmDGAtIaysAiCzgIZQ+SprGUaM1NTX19fVCiyMLWFGjYrD4tpcHoJQ0AyGjvEB/fQEPcnJyhJUEADjcNv42PCBPKRBtxNV8gkSUBEamCCuJXPAFlGcaEULp6elGo1FoaQBpAh5CWVBQUIAHhw8fFlYSmTB+/Pi2wnFisPiScoK4tgHAA/TpBoSQwWCAijJArJFgSMA2RBEFvYsdcTWf6IgoGXezsJLIBPrMRcYfQAjl5eUJLQsgWcBDKAtuHTMGZ7UdPHgQFHseoCgKF3el3J7YD7siDSf8t6ULK4lMUNS17bPz8vJgXgVikPz8fDygK+3CSiITOppPxPwNp9we0nACQkb5gfjq8/JBIQSiBXgIZYGSpu+44w6EUHNzs81mE1oc6cMwTFFRER4TdSs2odwe+lQDQohS0lAegB/IIzFp0iRhJQGALsnJycGZ57Gvn0gEFe0fkYQQUjhaYtyGSB87iwcQL8oPRAO3WCxQgQyIHuAhlAtTpkzBg5KSEmElkQMURVksFuyVpU81xHLYFfEA+LKHCiuJXGBlg6SlpQktDQB0gUajwU5ChaNFFFltEsD/g7YAjRi3IeJwd4SQf0KmsJLIBLJGE789AEQD8BDKBZKLbLVaPZ7Y1U8kA8MwHR3qY9jKTh+vxQPIBuEHkg0yefJkoWUBgG4h2UpQWoYfmMQ4XGs0lm2IdKW9o2OtihZaHFmAvfRqtRoqkAFRBTyEcoGiKLwB9Xq9ZWVlQosjfSiKmjdvHh4TpSvWIMlsrYlxkA3CD3h7TSlpKA8AxDJmsxl3qCceISDaEKtczNoQiXXAn58lrCQygXK04H70+fn5Gg2s0UAUAQ+hjJg8pc0jYbVahZVEJuj1euyVjdnSMsovavAA3IP8QLJBxt46Rq/XCy0OAHQLRVE40SBmpy/pERiRjEvLxKYNkXK0kAZFkHDODx3lZMCACEQZ8BDKCFJMvLy8vLY2Ftcb6XH33XfjAVG9YgeinFBKOmCC1kZ8QOoxQDYIEPvgUmQoJqcvaaKicS53bCrhHe7BEUnCSiITKLdHVXEeQYMigBfAQygjGIa588478Xjnzp3CCiMTpk2b1lasL/Y6ehHlBFZ3fmCv7hNvv11ocQCgF1JTU0lDwhjUTyRJYNQQPIi50jK+AJ6+EEL+PIgX5QO60o4Tzu+++25wyQDRBjyEMoKiqLFjx6anpyOErFar3R6jWQpSgqKogoICPCYKWIxAUoN8PxotrCQygT52Fq/us2fPVtJQjwEQAaR9DjgJ+YFJjGsdmoBir7QMqYbVOjQBEs75wBfAkcNarbawsFBoaQDpAx5C2XH//ffjATgJ+WH+/PltaSGnG5AvILQ4bXQUixuaAMXieIDtHoT6ooBYMJlMJpMJ4RgH6D/BCx1OwliyIRJhfHeAe5APlCfq8Bp97733QjkZgAfAQygvKIoaP348rnTy7/871NjYKLRE0kej0Yy9dQxCiHJ7lCfqhBYHIYSQL6D8z+m2IazuvMAO/oHVHRARDz74IB4oj4KTkA8CI5KxC05VcT5GnIR0pR3XumxNjGMS44QWRwaAexDgHfAQyg6Kou677z6EEOMPfPzxx0KLIwuefvppPFCVnomFBZ6YHmF15wlY3QHRYjabcaIBfaoBnIR8oKL9PxyJEGL8AWXJKaGlQcgX6Eg4h24TvEDW6MLCQq1WK7Q4gCwAD6Ecyb/jDuwkPHDggNPpFFoc6aPX63NzcxFCjD8gfBRQu3KCEPJNzxZWFpkAwT+AeKEoiiQagJOQHwIjkjua1AuthCtP1BH3IHSb4IP2NVqtVs+YMUNoaQC5AB5COaKkadwOwev1QiYhPzz55JM4k1B5vFZYJ6HySBXJHgT3IB+AexAQOePHjwcnIa+oaNIbVmAlHAyIvEOfuUjcg9CuFuAN8BDKlIKpUw0GA0KouLgYMgl5QKvV5vzgNjwWMAqIlDZBkD3IFxD8A4gdiqJmzpyJx+Ak5IeAyUjKjQrY8wPyC/imPcNfrVbffc/dQksDyAjwEMoUJU3Pnj0bIeT1erds2SK0OLKAOAkFtLKTzgfgHuQHyu1RlZ5BCGm1Wgj+AcRLXl4ecRJCT0J+8N+WjgdC9fwg0xcC9yBfkBCewsLCBAME6AL8AR5C+TJt2jS8wJeWlpaXlwstjvTRarX33NWmEqgOC+AkpBwtSgj+4RdlySmsgc+bNw+CfwDxQlHUo48+isdK66nY6aAjYVqHJWAnoeJ8E10pQN9gMCDyDFmjDQYDNtkDAG+Ah1C+UBT1s5/9DI83b97s8Qhf/VLyLFiwAAcNKs438W9lJ7Fe/rFp0FmYBxR1TfSpBoRQenr6tGnThBYHAPqEyWQqKChACCkcLbHSQUfqkMB+/quRsQ2I3nvG8vzp8oRYislWAQB4AzyEsiYzMxMv8Ha7fceOHUKLI30oinrqqafwmGcrO1FOKCUNpcP5wBdQfVKBhz/72c9g/gQkwLx58/A+NUY66EgeJjEukJWCsBLOr05IlBP/2DSkovn8aHlCV9oV55sQQiaTKS8vT2hxANkBHkK5s3DhQrzAf7hrp90uQFCK3MjJycE9PxSOFuWRKp4+laWceH80iqcPlTckFaSgoCAzM1NocQAgAuj1+nnz5iGEGH9Ata9CaHFkgT8vCyefq0rP8JZ8TpQTMCDyRHstGUpJL126FAyIAP+Ah1DuaLXaRYsWIYQYf2Dz5s2g9vPASy+9hAfK47X8BI6q/n2SVIoLmIw8fKLMoRwtuJqrwWBYuHCh0OIAQMQgyeeCxL3LEEarwVY83pRwyu1R//trPPZAsCgvEAPifffOSk1NFVocQI6AhxBAkydPNplMCKHy8vLPP/9caHGkT1JSUlFRER6rPqmIduAoCRZFCPlmjYvqZwEY1eG2WjJz586FVBBASlAUtXTpUjzmYfoCEKsFBT+Bo6p9FaSWDHSi5wF2LRmyNwAAngEPIYAoilqyZAkOSnn99debmsHoG3Ueeugh3AeScnuiGjhKuT0kWNT/w5FQS4YHlMfOklSQyZMnCy0OAESYjIyMO++8E+Hp5d8nhRZHFvimZ+PZW/mf01ENHCXTF6WkoZYMH/g6HL+PPfaYRgNrNCAM4CEEEEIoLS3tvntnIYTcbvfvf/d7fwCMvtGFoqi1a9ficVQDR5VTgEF2AAAgAElEQVQlp0iwqH/czVH6FIBAOVpIW2FIBQGkCjFp0acaBOmIIDcYrcb/w5F4rNoXLccs5WghjQe9PxoFtWR4QPXvkwpHC0IoNzc3JydHaHEA+QIeQqCNOQ88gANHKysrP3j/faHFkT5paWlz587FY9UnFdEo2UdX2kllUQgW5QNfQL3zGB4uWbIEUkEAqaLValevXo3jStT//pq3YidyJmAydlQcjUZciS9AgkUDWSmQbc4DZI02Go1PPvmk0OIAsgY8hEAbSpp+9hfP4nynHTt2QKt6HigqKsLlGSi3R1kS4Vb17MIA3h+NgmBRHiDFe/Lz8yFYFJA2mZmZixYsRKTYCSQTRh9/XlZb4GgU4kqUR6qwq4rRanzTb43sxYHOUI4WvEZTSvqZZ56BbHNAWMBDCHSQYEhYsWIFHm/atAmSCXlg/fr1arUaRSHyil0YAGy9PKA8dpbYep944gmYMAHJc9ddd1ksFoSQwtECyYQ8wGg1vmnZeBzZuBJFXVNHG3oIJ+EBlj920YKFGRkZQgsEyB3wEALfwWKxzJw5E0EyIV9otVqihKv//XWkjL5K6ylcGIDRarz3/SAi1wR6gOTeqNXqlStXQmEAQA5QFLVixQpIJuST1mEJ/rFpCFf0iZBjlnK0fKf2WGJc368J9Aw7dfCuu+4SWhwAAA8h0Il5Dz8MyYR8kpOTU1BQgHDk1ScVfc/GUR47C7ZeXmHZepcsWZKWlia0QADAE1qtduXKlZBMyCf+CZmtiXEIIcX5pr47ZrFi2VZ7bGgC1B7jAU7qIOyugVgAPIQAF04yodVqFVoi6fPEE0+QZEKyNocHXWnHVS4RQr5p2WDr5QH17uPY1gupg4AMycrKmj93HmpPJoxGfSzgO6ho36xxOJmQPtWgtPYh/9wXUO2rIKmDEE7CA4q6JpI6uHz5ckgdBGIE8BACXcBOJvx/r79WUVEhrDySh6KojRs34oVB4WgJOxCIJKkjKBPHF6p9J3B0LqQOArJl5syZHcmEO49BgZlow2g13lnjsGNWebw27GBd1b9P4ukLIeR9aELE5AO6gXK0aHYfJ6mDmZmZQksEAG2AhxDoGovF8tOf/hQhxPgD69atq6qKYvN0ACGk0WhefvllvMCHFwhEuT3qncdIIRkoE8cDSuspHPljMBheeuklSB0E5AlFUStXrsRhDgpHi3r3cdAJow2TGOdpbxyv+qQijPxzUgcLIeT9yQ+gEnW0Ya/Rd955J6QOAjEFeAiBbpkxY0ZRURFCyOv1rl271m6HggHRxWg0/mb9BjymTzUoj50N4c2+gGrnMRysBZE//EByNbVa7dq1a5OSkoSWCAAEQ6PRvPjii0ajEUUotw3oldZhCaToqGb38ZASODnJBa3DEiIvH8CCcnvIGp2fn7948WLYVAMxBXgIgZ546KGHcL0Tt9v9/PPPQyOKaGMymZYvX47Hyv+cDj4QiKSxMVqNZ2FetOQD2iHbKbVavWbNGigkAwB6vf6ll14iRUf7lNsGBEfAZMRFRxl/QN2ub/QKSWNDCPnHpkFyQdTxBVQ7j+E12mKxPPX006ANArEGeAiBnqAoasnjj+fm5iKEmpub169b73a7hRZK4uTn58+dOxePg2pE4QuQNDZKSXsfmoBUdLSFlDmKuiZSpX3FihW4Ki8AAElJSWvXrsXp0MrjtaGFOQBh4c/PCmSloO/6oHpAUddE0tgCWSn+/Cw+pJQzvgCx2Kanp69cuVJJwxoNxBzgIQR6QUnTy5Ytw1vempqadevWeTxQRC66FBUVkUYU6o+O9uQn9AXUu4+TPJAbD+RAHki0wdspPH7qqadycnKElQcAYoq0tLQ1a9ao1WoUYpgDEDa+H41ua0ThaOlZJ2Rrg5Bqzg+kco/RaHzxxRch1RyITcBDCPSORqNZs2YNLhhQWVm5du1a8BNGm6VLl+KqfQgh1ScVXRvasd2R1Ij7yQ+gyUS0YW+n5s6dO2XKFKElAoCYw2QyrVq1CpfI6nb6AiKIivbNGkd0QvVfj3SpE35HG0yMg1TzqOMLqPadYBce0+v1QssEAF0DHkIgKLRa7S/X/BIXDKisrHzmmWcgnzDavPDCC0QnVP7nNGdTRbk96g/K2NogVAWINnSlXf3RUbydmjlz5n333Se0RAAQo1gslid/9gQeK/9zGvIJow2j1Xjn5LQOTUB4dfjrEU6NGfb01ZoY5503URhB5QMrfgcKjwGxD3gIgWBJMCRs3LgR+wntdvszK56pr68XWiiJ88ILL+Tn5+Mxe1OFc0UU7es9aIM8oDx2luQNzp07d8GCBTAlAkAPTJky5bnnniO98lT7TggtkdRR0d57xnbohDuPEZ2QrrST6at1aAJog9GGbbE1GAy/+93voPAYEOOAhxAIgQEDBmzcuBHnEzY3N//iF784dQrsvtFl+fLlM2fOxGPl8Vql9RRbG6SUtGfeRNAGo43SeoqUaF+yZElRURFogwDQKzk5Ob9a+yKuMUOfalB/eBT6E0YXFe29ZyypMdPv/TJFXRPbmNU6NAEiRaMN5WhR//UIqSLz8qaXU1NThRYKAHoBPIRACFAUpdFo1m/YgOuOut3uNWvWlJeXCy2XxFm4cCGpO6o8XttvSwnRBm88kgd5g9FGte8E7jdIKennnntu+vTpQksEAKIhOzt73bp1uBeF4nyTevfxIFsjAGGion3Tb8U6IS5LRoxZgawU0AajDeVoIf0/TCbT+vXrEwxgsQVEAHgIgZChFYqVK1feeeedCCGv17vu1xsOHjwotFASp6ioaMmSJXiMk0AYrebGI3lQUzS6+ALqD4+SJJBfrX0RaooCQKhkZGRs2LCho2d90O3ygLDxTb8V9yck+MemQU3RaKOoa+r3fhl+vC0Wy0svvYTd4wAQ+4CHEAgZiqIoilq8eDF2WzH+wOuvv/7HP/4R2lFED4ZhXC7Xd165SY2ue4WSRw5QjhZ2Esi6deuys7OFFgoARInRaCQp6LgMZu8dVoE+QDlaOHeYuuaBeN2oojx2lpTtKSgoWP3889BhAhAR4CEEwoSiKLbb6p///OeqVavsdmg5FXmcTue6deu2bduGD7HFUeFo6fd+GdRzjxJ0pb3f+2U4NNdoNG7YsCEjI0NooQBAxOj1+vXr1+PKyZTbo/7oKJQejRLs6Uur1eK6PvSpBvUHZZzSo0BEoNwe9YcdoblFRUVPPPEEdJ8HxAV4CIE+MX36dJIfUlNT88wzz1itVqGFkhSVlZU///nPcaKmWq1evnz5n/70J1x6lPEHlP85rdp3Auy+kcQXUO07ofqkAht6c3NzX375ZRztBgBAX9Bqtauff76oqAgfKo/Xqj88CuGjkcQXUFpPkenLYrG8+eabv9/427YcTkdLv/fL6Eqw20YSRV2T+q9HcCyJVqt97rnn5s6dCxtmQHTQL774YpCnMgzDMMxvSraRV5794YNqWoUQunz5ciDQtiUdOHCgUqmMuKBAzJKcnDxp0qS6urqGhgafz1daWtrS0jJ69Gh4DPoIwzAffvjh/3v9tevuawih9PT0devWmc1mtVqdk5OTlJT05ZdfBgIBhcNFf32hdXgi6g/RKX2FcrSoPy6n65oQQpSS/ukjix555BG1Wi20XAAgERQKRXZ29i233HLs2DGfz0ddvU6famAGDWD0/YUWTfS0TV/Vjfhw7ty5jz/+eL9+/RISEgoKCux2e319PWpl6DMXqSvu1rRBiA7BJQB0gS+g/PKc6pMKyhdACKWnp7/00ku4DDsACMVx+zefVH2Ox99LSpv1vXyEkMfjcbvdra2tCCGNRjNgwIDObwxBIaQoqhUUQqAr+vXrl5eXp1QqKyoqEEJVVVXl5eXZ2dlxcVAAM0ycTufvfve7f/3rX6iVQQgVFBSsXLly4MCB+H8pikpPT7/tttsqKipaWlooX0BZcR6p6FbjQEGlFjd0pV2z50vKdQMhZDQa1655ITc3Fwy9ABBxjEbjHZPu+OabbxwOB+UL0JV25PW3DhkIKkrYsKcvg8GwevXqyZMnk+lLrVZPnDhRp9N9WXECtTIKh0tRc6l1yEAwI4YN5fao//EVbTuPD++8886Vq1bp9XphpQIAPhRC8BACPUBR1KhRo8aMGXP8+PHr169fvnz5wIEDcXFxI0aMgC11SDAM8/nnn2/YsKGmpgYhpNVqn3zyydmzZ3f+WcXHxxcUFDQ2Np47dw4hpKhrUly43Do8EanhBxgalNujOvi1sqwaq9+5ublr1qwZPHiw0HIBgGTpf1P/OyZNYlpb//vf/yKEFA1XQEUJD870ZbFYXnzxxeHDh3NPo6iRI0daxo49efJkS0sLdc2r+q8d0YrWQQNADw8VutKu+sdXJEvzmWeeueeeexQKuI2A8ICHEIgJBg0aRMJHA4HAsWPHvvjii4yMjIQE6MMTFHa7/dVXX92+ffv169dRewiK2Wzu7nylUskOH6WuXledOA9rfEgoj53V7P2SaryKEKKU9JJHH1uwYAGEiQJAtCHhozab7fr169Q1r7LiPPL6mUFxYNUKEvb0hVhhot2dn5CQMGnSJBI+qqhrUtRcYgZqIWQ3SChHi7q4Qnm8loSJbtiwYeTIkULLBQBtgIcQiBVw+Gi/fv3++9//BgKBy5cv79+/v6mpadSoUbDJ7gGPx/PBBx/8/pVN9gsXEEKUkp559z3Lli0jYaLdQcJHv/nmm8uXL8MaHzyKuibVni/pU3ZsWU9PT1/z/C9vu+028GkDAG8YjcYf5v2wvr6+oaEBIaRouEKfakD9NcwgyDjoCcrRov7oGJm+jEbj888/n5+f3+v0hcNH4+PjKysrfT4fdc1LV9qpK27GOBD08J7wBZSffqP+l426eh0hRCnpop/ct3zFCkiNAWKKsBVCKqRmEv5AYMD6H5PDxuf26tQ3IYSqq6u93raWaOnp6dB6BUAINTY2btmypbS0FB9qtdpFixaxsxoAQnl5+ebNm0nTDpPJtGTJkrS0tJ7fxYFhmE8++WTr1q1utxu/EshK8edlQfP6zlBuj7LkFO44jxBSq9UPP/zw9MJCKBQOAEJRVlb29ttvNzc348PWoQm+O7KYRNhtc6HcHvrYWeXxWnyoVqtnz55976xZoU5fTc1Nf3n3L6QwOKWkfbkj/ONujrC4koCutCv/c5pUxDWZTEuXLk1NTRVWKgDozJ+O7X36n6/h8U9G5W+9bw1CyOl0NjY2+v1+hFBcXFyXj24ICiHDMIHWVlAIgZCIiKojYSKuNjudzq1btx44cAAfwhrfGbrSrv7317gsO0IoPz9//oL5CQaIagYAgfF4PDt27Phw107y8/SPTfNPyEQqsNS0wdFMcnNzH3nkkaSkpLAvWFlZ+frrr5M1ujUxzp+f1ToM5sM2KLdHta8Cd5VACBkMhgULFuTl5YFpG4hN+FAIEXgIgbDovMbn5ubOmTNH5mphY2Pjxx9/fODAAfLbKSgoWLhwIe4730cqKyv/+Mc/4rI0CCFGq/H/cGRgRLLM91V0pZ0+dlbR3prZaDQ+/vjj2dnZwkoFAACb+vr6LVu24OarCCFGqwmMTfPfOgymL/b0ZTAYli5darFY+n5lfyCwd8+ev/3tb2Qxah2a4L8tXeZqIeVoUR6tIYEkCKE777zzoYceisgaDQBRAjyEQKxjt9s3b95M1niEkMVieeCBBzIzMwWUShDsdvvOnTv//X+HiIacnp7+s5/9LLK3ovMaL999lS9An7nINquHHWQFAAAPMAxTUlLy7rvvkghSSkn7socGxt0suxh4X4A+c5GtClJK+r57ZxUVFUV2r8UJV0EyVgs7q4Imk2nx4sUZGRkCSgUAwQAeQkAE4IYKf//734nnCiFksVhmzpxpNpvlEIBRW1v7wQcfsFdco9F43333RS+1sqm56aMPP2L7IeWlFvoCyhN19PFaogpSSvpHkybPnj27L0FWAADwgNvtLi4u3rVrF8mLlpda2NX0lTfx9jlz5hiNxih9ZkVFxd/+9rfKykryiqzUws6qYLTXaACILOAhBEQDwzDHjx/fsWMHe8kxmUxFRUVjx46V6pxbVVX1/vvvsx2kRqNxzpw5E2+/nQcnVVNz057de4qLi8nvFOcWBkxGye6rOu2l1Gp1QUHBT+77CaQLAoCIcLvd+/fv37Nnj4y8hd1YsmbNmhU9VZBNZWXljh072AtWa2JcYNzNARMfny4Iirom5Rc1JFcQIZSenn7//fePHz9eqtsSQJKAhxAQGQzD2Gy2jz/+mKMjTZw4cfLkyfyseTzQ1NxUYi0pKSlhO0WFWmacTufevXuLi4vZ5nb/iKTAqFQpWX8VdU301/XKM40kIletVhcWFs6aNUuv1wsrGwAA4eHxePbv379z506iFiKEWocmBEYNkVJ2dHfT19333M2/Jauqquqjjz5ih7QwWk1gZEpg1BDJVH+l3B660q6otJOIXPRdCzXDMKAQAiICPISAWOnsOkMImUym/Pz8vLw8kWZvezyesrIyq9Xa+XsJ7gjtHIWFJLHMU44W+usL9OkGYlNHCGm12sLCwnvvvVekDxIAAGz8gYD18OEPP/yQVMVEkjBs9TB9zZgxQ1hLVm1t7c6dO0l3CkxrYlyrySjiGBOcmfn1BbZLECFkMpkefPBBmeSwAJIEPISAuKmtrd2/f//hw4fZWgqlpHN+cFtBQcGtY8aIovgHdnuWlJQcOXKE/UXUanVubu706dNNJpOA4rHxeDyHDh3av38/23WJRLjMd2nfRQilp6dPnjx58uTJoAoCgMTwBwKfffppZ4ub6AxbPUxfeXl5U6dOjZ3py263/+tf/yopKWF7aJEInbSdfbAIIbVanZ+f/6Mf/SgrK0tA2QCg74CHEBA9+AE7dvTo4cOHy45+wZ6stVptdnb2rbfeajabhwwZEmumu8bGRpvNduLECZvNxlksTSZTQUFBTk5O7KzrHOrr6w8fPnzw4EHuMp8Y1zosofXmQa0p8TG30vsCioYrirOXFJdaOPZdg8GQl5c3adIkmTc1AQA50GVMPmqfvpikAa3DEmLOtiXm6csfCJz46iur1VpaWkp2fQghSkkHUuJb0xIDaYkxqI1TjhbFpRZF7SXF+Wa2DxYhZLFY8vPzc3JyYOMKSAPwEAKSwul0HjlypLP/CiFkMBjMZjNWDgUsFOl0Or/66iubzfb111+zg5cwRqNx8uTJ+fn5YillSXybVquVvcxjWocmtKYltiYNEFY5VNQ1KRqvKmoddMMVtr0Atftg8/PzJVyXCACA7qitrf2///u/zv4rFCO2LawE9jZ9iSUWBiHkdrvLysoOHDjALg6HYbSa1qEGZtAAYZVDyu1R1DV1qQSidh9sXn4e1BgDJAZ4CAFpgv1X5eXlnTVDhJDRaBw1atSQIUOGDRuWkpKSlJwcpdWUYZhLly59++23586da2ho+PLLLzsrgVie73//+5MmTRoxYoRI1RKS/Xjq1Cl21CumzQw8KI5JGtA6KI7R94/iBssXoJzXFJdaqMarikstnXdRCCG1Wm02mydOnBjLPlgAAPiB+K86B2tgsHKItJrWpAFMgi6KzkNfQNFwhXJ7JD99NTY24tjdU1XfdP6ORDlktJpoLxmUo4W65lU0XqUuXaUcLk4ULiY9PT07OzuWfbAA0EfAQwhIHKfTWVlZWVFR0Z0yhhCilHRKUvLw4cNTU1NTUlKGDBliMBg0Go1WpwtSUfQHAp4bN9xut9PptNvt58+fr6+vv3jxYn19fWe/GcZgMFgsFrPZPNo8Wkq2Rn8gcLam5quvvqqsrLTZbN19fUarYQy61kFxbXus/mp0k5pRK0NY9X0ByutH1714LUduj+JSC9Xs6mzTxeBdlMlkMpvNIzIzxWJQBwCANxiGaWhoOHHixIkTJ06fPt2lcoiwhSu+P5OoIxoLQiiEGQzPXQiR6Yu6dJVye+U5fbnd7lOnTlVUVFRUVHRpwMX0dclgrRdY36auebpT/zDYcDxu3DiTyQSFpgHJE7ZCqAz+M0JSHQEgsuj1+pycnJycHIRQU3PTSdvJzuGajD9gt9u7VBcpJd1f00+j0cTHx2s0mv79+6vVaq/Xe+3aNY/Hc+PGDafT6fP5ulN7OJCwVZPJlJKSIlJnYM8oaTozMzMzMxMh5A8Eqr755uTJk53NwJTbQ7k9nEyYtv9S0q0aJXOTGiGEblIjhBitmnJ70XUvQoi67lV4/J0tyl1CKemszFtGjx6dnZ09cuRIMDkBANADFEUZjUaj0Th9+nSGYc6dO4fXi4qKiu9UV/YHFI4W5GhBrEbkHRfpNIMhhNB1L3XdixAKb/r63qhRUlIC2Wi1WovFYrFYEEJut9tms3VpwA1pyUAIhbFeoHZDrclkGvP9MVIy1AJA9AhBIZTkrhcQIwmGhPz8/Pz8fIQQduXZ7fa6urrz5883NDQ0NF7sInDFH3D73W63uztTcQ8YjcaUlJTBgwcPHTp0yJAhQ1KHGAYaZPVzUNK0yWTCPTP8gcC3DQ319fXnz58/f/58Y2NjXV1d5+BShBDjD1D+QHeWcoRQdxYmrVabnJw8tJ3BgwenpKSAEggAQBhQFJWWlpaWljZjxgxO8P+333579uzZ7haFnmewHqavYcOGpaam4kksNTV1cEqKVJXA7tBqtcSA63a7v/32W7xk9BxxE94N7xwZlJKSAp5AAAgV8BAC4kav1+v1enY7B6KxNDQ0uN3ua9euuVwur9eL/YFOp/PGjRsej+ea5wb2Gfbr169fvzbnoVqt1ul0KpVKp9OBKtIlSppOTU1NTU3Fiz1CiGGYq1evYrW8oaHB5/O53W6v1+tyuYgD9saNGy6XCyGk0+nIDcd+Wp1Op9VqVSpVQkJCWlqa0WgcMGCArPRtAAD4gaKopKSkpKSk7Oxs8qLH42loaDh37lxzczNeMvD0RUJIrly54vF4EEJ4vdDr9XjuwtNX//79NRqNwWAAVaRLtFptRkZGRkYGeYVhmObLzRfqL1y4cMHlcrlcri6XDI/Hw16gOeuFXq/Httro1Q4AAFkBHkJAahCNRWhB5AJFUZ3VcgAAAFGg0WiwCzH4tzAMAzuisKEoKsGQkGBIYKvlAAAIiyL4U8FDCAAAAACAzAFtEAAAiRGCQggzIAAAAAAAAAAAgJQADyEAAAAAAAAAAIBMAQ8hAAAAAAAAAACATAEPIQAAAAAAAAAAgEwBDyEAAAAAAAAAAIBMAQ8hAAAAAAAAAACATAEPIQAAAAAAAAAAgEwBDyEAAAAAAAAAAIBMAQ8hAAAAAAAAAACATAEPIQAAAAAAAAAAgExRBn8qeAiBPuJ0Oh0Oh9vtvnbtGkIoISHBkGDQ6+OVNC20aMLAMMyFCxeam5uvXbvmdru1Wq1er9fr9SkpKfBzEylut9tut1+9etXlciGEdDrdgAEDjEajVqsVWjQAAAAAAIAuCEEhBA+h6Fi2bNnFixc7v67RaOLj4wcOHGgwGJKTk0eOHGk2m3vWQNxu9+LFi8nhhAkTli5dGowMDMN8/vnnx44d+/rrrx0OR5fnJCYm3nbbbTk5OZm33NKlcmi1Wt9++21y+NRTT+Xk5PT60Zx3PfbYY/n5+XhcUVGxcePGYOTvjkWLFk2ZMiW89zIMU1JSUl5ebrPZsNrAITExcdSoUXl5ednZ2b1ezW63P/PMM+SwoKBg4cKFwYjx4IMPknF2dvaqVavwuLGx8ec//3kwV+iOwsLCuXPn4rHH4wlSHsKqVas4X3zXrl07duzo8mSsQiclJSUlJaWkpOTk5PRR9SovL9+0aRM5nDdv3vTp03t9V1Nz06GDh8rLy6urq7s8ISMjw2KxTJ06Va/XhypDdw/bwoULPR4POdRoNC9vejnBkNDr9TnP/5/+9CfQVwEAAABAtoCHUMrcuHHD5/N1ft3n87lcrvr6evJKRkbGzJkzx/3gBz0469iX8nq9vX46Vns+/vhj9gd1icPhKC4uLi4u1ul0K1euzMrK4pzg9/u7/CK90sO7wrtg3ykvL9+2bVvP98ThcFitVqvVajabH3744bS0tJ6vyf4uwX+vHv6gkb05fb9aDw+Aw+FwOBxEDdu2bduUKVNmzJgRjN7VHSEJ7Ha7d+3aVVxc3PO7qqurq6urd+3aVVhYWFRUpNFogpehu5+bx+Ph/On/8u5fli9fHozYQj3/ACBnGIa5evVqS0tLS0sLQiguLi4uLm7AgAGwvxIvHo/H6XS2tLTgMJ+4uDi9Xt/rDA8AsQZ4CAGEEKqurt60aVNGRsb6DRsiEsDpdrs3bdpks9lCfePNN9/c90/vGQGf5G3btu3evTv482022+rVq4P0iAIIIZfLtXv37uLi4pdeeikzMzPUt4f6bDQ1N61ft75XkwfB5/Pt3r375MmTzz33XF9U1u4oLS2tqKgIxrEMAD2zatUqtv+5VxYuXMh+8P74xz9WVlaSw9+//HIwK8uuXbtKSkrI4XPPPZeUlMQ55+DBg//4xz/I4dKlSzMyMoKXs/On/HLNL4Pxq/cFt9tdVlZ24sSJLqNCcEjIuHHjerbJErZt21ZeXk4OX3zxxWAmk3379u3fv58cPv3008TUyLlgGGzcuJGoQHv37j106FDw7x06dGhnM9ayZcu6PBnHNyUnJ8fHxxsMhtHm0X3/273yyivnz58n1w8yeqi2tvbTTz89efJkl1EhGRkZo0ePvv3223u153aWYeDAgS+88ELnczhPPkJo6tSpwQSwIITeeOMNImdeXt69994bzLsAWQEeQqCD6urqLX/+86OPPtrH69jt9nXr1vUQIJqSkoIQamhocDqdbE9FXl4eD3Y1QZ5khmH+53/+x2q1dv4vlUo1bNiw+Pj4ixcvdlYtfD7fpk2blixZEnaEqgzx+XyvvPLKxo0bQ1W6Qno2Ghsb165d2+VzrtPpsGnj7Nmznfd/1dXVq1atWu1OO10AACAASURBVL9hfTS2oW+++earr74K9mmgj9TV1YXkRuac/O233wZvKCFcuXKF/S6/39/5nKtXr7LPCSZcpedPCfgDoV4heDwez/79+3fu3NlldgCGhISkpqbef//948eP73ki4sgfJJywIPbfK7wLdofT6Qzpal1OVkFeQaVSTZgwYebMmampqcF/IofGxkbycTqdrtfz6+vrt2/fXlpa2sM5OCRk9+7dubm5c+bMMRqNwctw5cqVLs/hPPkIoa1bt1osls5Gk840Nzf3en1A5oCHUC6kpqb+/uWX8djtcl2+fPnq1atlZWWlpaXsherAgQPZ2dl98Ue53e7f//73nF2ySqUqLCy0WCxGo5G9R8dVVUpLS48cOVJfX3/nnXeG/bnBwzDM90aN2rx5c5f/++KLL7LXhldffbXL0/r16xfShx46dKizNnjPPffcfvvtqUOHEquwPxA4V1t78ODBAwcOsM/885//nJGREaStsY8YEhK6uzlvvvkm25D82muvdZl71sPNsVgszzz7bM8C0Ipeqh//6le/yrzlFoRQwO93Op3Nzc1VVVWHDh1iL5YOh+O1117r0s7aA8HPcv5A4JVXXuE854mJifPnz8+8JdMw0EC2dE6n88yZM5s3b2af7HA4/ueN/1mzZk3EzRMOh2PPnj1FRUWRvSwA9IxYgpD53Mk4nc7f/OY33eUVd6a+vn7Tpk35+flLHn9ctrXWQsLn82FdurCwMNRkdUyoz0NZWdnrr78e/NNeWlp67NixFStWWCyW0KXrBZ/Pt2XLFpL/3x2weweCATyEMoIsMLgOB0IoOzv7oYce+uUvf8neSR8+fDhshZBhmD/84Q8cI1Zqamp3UT0URaWmphYVFd13330NDQ3BGLr6DkVRSpruznfEsVZGJK6vsbHxz3/+M/sVnU63bNmyzqF9SprOaOfPf/4zWXV8Pt9rr70WZNhVH+nh5qjVavahXq8PtRiJWq3GX6GHJarXqQb/BbGouJxMVlbWXXfd9eGHH27fvp2cZrPZcFJH8OIFP8vt2rmTs88zm81PP/1051un1+stFktWVtYf/vAHtjpts9k++eSTIAN+QmLXrl25ubl9MZkDgFThbSfTQwQBQig1NfXGjRtd/q/Vam1ubl79/POgEwZPcXFxeno6qRsXPCE9D/v27duyZUuX/4UjfS5evNjZFYzDfNhl7SJIeXl5eXl5z9omRVG4tDsA9AB4COWOVqt97rnnnnjiCfLKuXPnwr6azWbjpCIEaeykKKrXmArx8s9//pNtUNTpdL/97W971n6nTJkybNiw1atXk1fq6+uPHT0qmWTCiG/LKIq67777Kisr2ZmrdXV1JpMp+IsEOct5PJ7i4mL2K7m5ucuWLevhS2m12pUrV3LChvfs2VMwdWrft33YA0/SU7HZOBruR0CemM3mRx55pOdzBg4cyI8wfYSfnQzDMJ0jCHQ63ezZs0eMGDFs2DBseXS73efPn6+srNyxYwd7jbDZbB+8/z6p1RxtZs2a9eMf/7jz601NTexyx7m5uTNmzOjyChxbIZsVK1b0bJzq4b2YjIwMUtX8+vXrTU1Nly9ftlqtHJPc22+/PXz48FDjaIJ/HqqqqrZu3cp50WKx3HHHHcOGDcPNohiGuXTpUk1NzZEjR9gxpT6fLzzxgmHz5s2jR4/uOU2gf//+Ef9cQGKAhxBASUlJqampxK2HWwWGUYaeYZi//e1v7FcSExMXL14sczOnx+NhFzBACE2ZMiUYX2hmZqbFYmEr2Pv375eMQhgNKIr6/ve/z1YIa2trQ1IIg5zlPv30U44ZeO7cucE4NmfPnn3kyBGy83M4HBFR8n0+34wZMz777DOyAbXZbCUlJdEwSAMyRK1WS8bhzM9O5sMPP+SoKxkZGc/+4llO2rBWq83KysrKyvrBD36wadMmdnDN7t27s7Oz+SkQ1Z01lrMNGDhwYBiVugYPHtzHh6d///7sK2AZpk+fXlVV9etf/5pMxT6f79NPPw1V4wryefB4PK+88gonUvTBBx+cOXMm+woUReGglfHjx5tMpq1bt/IQ5uNwOHbs2MGb+QCQKr3k6rABD6GESU5OZh9eunQpjIvU1NRwlsD58+dDcYuTJ0+ylQeVStWdkbUzP/nJT9iHNpvN6XRGUjjJwdnZfPvttyG9PchZ7ujRo+zD/Pz8IKOdk5KSJkyYwH7lyJEjwYvXMz/96U/Zh++++y48LQDAgYedjNvt7hxBsH7Dhh6KSKWmpq5fv56TWMExsAIcMjMzOf2Qa2pqQr1IkM/Dp59+yvH3rlmz5t577+1On6Qoatq0aWvWrGG/WF9f/9mnn4YqYZfk5+erVCpyuHv37tra2u5Oht07EAwhKITgIZQwnKpT4QX/VFRUsA/NZvP48eP7JJYkaGxsZB8WFBQEn5eYmZlpNpvZrzQ0NERMMinCuduJiYkhvT3IWe7ixYvsw5kzZwb/EXfddRf7kJQa7yMej8disbAzSVwu19///veIXBwAQqXXOECh4GEnU1JSwjECzl8wv1e/kFarnT9/PvsVXKkyKiJKhVvHjGHrRWfPng1V+QnmeWAYhtPvITc3t1fnLUVRJpMpNzeX/eK+ffsiop7Fx8dzWke89dZb3V0ZcgiBYAAPIYD8gUBdXR051Ol0AwYMCOM6nK6DEydOBCMC6uSkSk9PD/69DMNwzueoIgAHjn41aNCgkN4ezCzHMAz7r6DT6UIKiBo+fDh7B3Px4sWITK14vV/86GL2xQ8cOHDq1Km+XxwAQiWMbhD8wMNOhlNQesKECUE2mMnKyuI4CTnpBgAHJU0PGzaMHLpcrlA1n2Ceh3PnznFK5d1zzz1BXn/WrFnsw+rq6ohYda9du3bvrFnspae6uvqTTz7p7nzIIQR6BTyEANr63nvsyPjc3Nzw/tZnz55lHw4ZMqSvknXDpUuX6oOgubk5SgKEBEeFC6mSKkVRCQnf2UlwPGCiw+VyNfaI2+0O++JVVVWHDx8mhzqdjuNf7ZVgnvxLly6xfy/x8fGhfgQ7Qtvn8zVfjsCDikVKMCQ88MAD7NfffvttfyCKbdYAQFzwsJPhzPkclaAHKIriNIwBC2CvsAPjVSpVqJpPMM8Dx6prNpu7rJreJWlpadEI8/F6vUqa5nTa2L59O6QJAGEDVUZlTWNj48cff8xueadSqUKKfyMwDMMps4G7z0eD995777333ovSxSMOZ0XnKHi9wgnfjVSEoVDYbDZ2SdvO3HPPPWEkx/sDgQP792/fvp2tqt19992h1kYKZpbjbA44+bfBMHDgQLa9ufFiY9871F+/fh0PphcWslsy1tfX792zhxNcBACyJdo7GbfbzV4KExMTQyqgnZWVxT4EhbBn3G43O7UvOTk5VIU/mOeBo8KFamc0m83s+Cm73d73noTYA5+dnZ2bm0vKmbpcrq1bt3LyKhHs3oHggCqjcuHKlSvbtm3D42vXrjU3N1+5cqVzfsKiRYvCawbIidPoIe5048aNV65c6d+//7Vr1zr/O3r0aCkVy/IHApwV3RCiQsgJehS7hzAiFBcXHzt2DCHk8/kuX77c2NjYufuT2WwuLCwM9cpBegjZhwaDIdRP4bzFbreHVAq1S4gmrKTpxx57jF3MYMeOHRMnTuSnyScAYGSbQ8iZH0I1jGq1Wp1OR2azixcv+gMBmVfq7oG//vWv7MMwFK0w5vxQ/6acCT9SHkI8WLRokc1mIw+M1WrNy8vj5DfC7h0IBvAQygWXy0XalHWJSqXqS+PUG54b7MP4+Pju5qDTp0937tzKfmN4AsQmbpeL04Ew1KU9Li6OfQgBIQghdn+nLrFYLM88+2wYu6hgZjlOKHIYuRmch/zq1auhXqEz7McsKyuroKCAeP5xW8KVK1fCtgDgDdnmEHIiCMIwGMXHx7NbKTQ3NYnamvPss8/2fMK2bdvCqEbudDr37t3LiW8KvoI3IYyokFB3KZw/X6i1r7uE/L70ev3s2bO3bNlC/uudd97hNLeA3TsQDOAhBBBCKD8/f/bs2X1ZdfT6eJVKRXalnLKlkUWn0/Xr16/X027cuNGD5skPAwYMYN8Wl8sVqrmXowEGX6E0NtHpdD2vpn38gqmpqXPnzh07dmx481Uw7+L8TMJ41DlvCWPL2CsPPfRQaWkpef7Ly8s///xzaGIJhEdFRcWyZct6OGHChAmc5LeYJdo7GY7/JwwTJyek/NtvvxW1Qth3Ll++vG/fPjy+cePGlStXLl68WFFRwekKuGjRojCWj2CeB87fdFBSaLXKOHkikSoqQ8bTpk2zWq0k4Ku+vn7Xzp3s3yPs3oFgAA8hgBITE5c8/ngfg1KUNK3X60k0v8vlCq+7fTA89thjwWxtrVbrG2+8EQ0BggdXEPluwtjFkFJKmpqa2Idibw9tNpuXL18evesvXLiwL62cg5nlOEmDYdQu4rwlpOchSLRa7YIFC9jP/1/+8hez2Yx/kjEbzgfEJj6fj1NlkcPly5d5E6aPRHsnwzH3hKGicCxE4bUFlhL19fVsD1iXLFmyZMqUKWFcvNfngWGYTmbZ0JR8Tp6I0+lkGCaCShpFUUuWLGF7Ynft2jVx4kSyssDuHQgG8BDKhcTExDlz5pDDmpoa0jnX4XBw7EnhMXz4cHZ696VLl7pUCDtbmjdu3Mgx9UkJjkLocDhCUgA4u4EwSphID443+9133yWusDfffPPVV18NIwAJE8wsx0kgCWMrzLEQR0MhRAjl5eVZrVZSzMDhcGzfvh1XpWO3pgAAWRHtnQzHJRhGkD8nsEXsaRTRnm0sFsucOXPS0tLCe3uvzwNFUWxjN0LI6bwSUhkwp5NrI4j4Q5iWllZYWEg2dT6fb/PmzWvWrMEfBLt3IBjAQygX+vXrx84PnHj77adPnyYxBrt27crNze2j94mjqzQ1NXU5R2MHDnmcJD9VpaamlpeXk8NQ9Qf2OoQQGjp0KOcEpfI7v+IgU3c8Hk9IYsQUZrOZXYvv6tWrpOqsw+HYsWNH2HWJgpnlOGHAuJFg8I8xx96s0+mi5EinKOqRRx75xS9+QUQtLi6eNGlSWloaDTUqALkS7Z0Mx2AURkg5pw5Z9Op188Ovf/3rsLW1XjGbzatWrerLFYJ5HlJSUtgLcXNTc0gK4aXGPtWkCZLZs2d/8cUXRE6bzVZSUhJ2VQhAhoCHUKYoaXrBggWkFKHP53vjjTd+85vf9OWvPHjwYPZheXl5DyW/5PM4cWZ/m80W/BzNMMzp06fZr3TutG5ISGDrJ0FGMPa9VGbswGm0sHv37ttvvz28LUgwjyVFUcOGDSPGFJ/Pd+bMmczMzCA/4syZM2x/eFRdvqmpqffee+/27dvJK2+99dZvfvMbCBkFQiIjI2PJkiU9nBA3IK6H/40por30cKboMELKOTpkkuyjQhITEydPnkwOKysrSeCDzWbreafRK8E8D4MHD2b3jWhqagp+wked/qCcnVKk0Gq18+fP37RpE3nl3XffHTduHKQJAEESQmN68BBKjKysLLZmUl1d/cknn4R9NYZhOJ3oDx8+bLfbw5dPKnD2B1arNfjWETabjdMapPNaoqRptlIRZMI6xwgt6qgkJU0/+uij7Ffeeuut8OarIN/FqfHw0UcfBf8RnJOjnRR69913JyYmkkP8M9f0CzOkFpAn8fHxaT3Sq8Mk4PcH80E85A5EeyfDmaJDrSDi8Xg4bQx7Te/3B4K6t+KNCklJSSli8fTTT+t0OvK/mzdvdrvdYV88mOeBs4iHmtXZx64VwTN+/Hi2buxyuUhbDlAIgV4JQSGUj0tHPsybN489sW7fvr2puamH83uAoqjvjRrF3nr6fL4PPvigryKKH85tQQj985//DPK9H3/8MfvQYrF0GV7IjiN1OBzB/BErKyvZh2KPSjKZTBzrxj/+8Y8wrhPkLMfx8ZaXl9fW1gbzxtraWnb8MEIoLy8vePHCQKPRPP744+xXtm/f7rkh1q0hIBY4elGQe2hORf5oFFWO9k4GNxIkh06nM6RVtaamhn3Y5czMsd81XgzKwsjxU0UpUp0HcKMFcuhwODjdCEMijLzxqqqqkD6Cc37nMJ9IgdME2EmbBw4cCFVaQLaAh1DWcCZWl8v1pz/+Kew/NK1QTJ06lf1KaWkpZ/srQ5Q0zbktBw4c4Pj9uqSsrIwdpoIQuueee7o8k5NY+Jd3/9LzlRsbG0n2OUJIpVKNGzeuV3linAcefIC9D3v//feD98QSgnz4x44dy1Hy33vvvV4N8P5AgGMiSU1NNZvNoQoZKtnZ2bm5ueTQ5XKBpQaINpxJiROS0B1sf5pKpQqjyWev8LCTYYds+Hy+fcX7gn8vp11w56Txzi8GOdFx6sRyeiGIi2nTpmVkZJDDAwcOnDp1KrxLBfM8cKwbpaWlwUc/NTY2chrnRjUqJCkpiVMg8H//93/9gQB7cQSALgEPodwpmDqVPbHifmXhXYqiqKlTp3I2yhs3bnznnXfEG6wSETi3xefzrVmz5uDBg92dzzDMjh072MkAqFMlFTYTJ05kGwVLS0vLysq6u7jb7X7rrbfYoVnjxo0Te3tDhFCCIWHWrFnk0OfzhRE4GuQsR1EUu2YvQshms61du7aHnVljY+Mvn3+eYx+5//77+ZlX5y+Yz94QcDYoABBxOBkEHMdXlzidTna9peTk5Gj8Onj4xU2cOJF9WFxcHGRMY+cIgi4bLA0fPpx9GMy99Xg8bJ1cp9OFXYo5FqAoatGiRexX3n77bX8gEN6lej1n+PDhHC0u+AgUTphPamoq56cRcWbcfTdb2vr6+n3FxVBZGugV8BDKHVxdhv3K22+/HXZEvlar5cSnIYSKi4tXrVpltVpra2vZUzbDME3NTXKIZ+h8W7C68sYbb5SXlzc1N+EfF8Mwdru9rKxs3bp17EIgCCGdTvfE0ie6W7qMRuMDDzzAfmXTpk0bN25k33Bc3NJqtS5dupTteFSpVN05HqOBy+Vq7I2wzQfTCwvZCyEusxbSFYKf5fLy8thuN4RQdXX1ypUr9+7dW1VVRb6Cx+Opqqrat2/fypUrOW7hgoIC3jrFJxgS2LEAABBtOEpLMErR3//+d7ahqi+VQnqAh53M5MmT2ftvn8+3ffv2Xj+3cwRBRkZGl0bA1O96CA8cONBrVOqOHTvYqYlRurd8kpmZyQ7dx93Yw7hOMM8DNnazXzl8+HDPnTkxdrv98OHD7FfuuuuuaJskOifVv//++31JswRkAlQZBdqqy1itVnzocrneeeedpUuXhne17Ozshx9+mLQBwNTX1+Me2SqVKjk5WaPRYGOwhNsPcujytlitVnzbdTpdcnJyXV1dlzdEpVItW7as57INd91112effcZWOcrLy7GxOTExUa/XX7x4kdPeCrNo0SK2izja2Gy2J554oudz1qxZE15zebwQvvDCC+SVd999d8yYMcH7P4Of5SiKeuyxxxobG9n33OVykT8xVk272zRkZGTMnz8/yM+KCNOmTbNarcHEKgNA3xkwYEBGRgZ53vCysuTxx7srkVJZWXngwAH2K+zCkhGEh52MVqstLCxkB39ifXjx4sXd+eWcTudrr73GyRGYOXNml9IqadpisRBfos/n+8u7f3nq6ae7u7e1tbXsHAGE0I9//OOQvlFsMm/evPLycrKuhdc9K8jnIS8vb8+ePaSpAw7zeeyxx3ow6pWXl7/xxhvsNT0xMfH2228PSbzwwEn1ZFPn8/nIGAC6AzyEAEKdqstYrdaKioqwrzZjxowVK1Z0GaLg8/nq6+urq6sdDod8tEHMjBkzli5d2uVtcblc1dXVXd4QnU63bt26XhUkiqKWL1/e5VrocDiqq6u71AZnz549ZcqU4MQXB5zqMi6Xa+vWrcG/PaRZTqvVvvTSS93Z2uvr67vTBnNzc9dv2MBzyBZFUYsXL+bzEwE5Q1HUU089xZ7urFbrL59//tSpU5xfmdvtfuedd9h2HISQxWIxGo3BfJDP5/P0Rs/BhF6vt49X6MycBx7gzMZWq3XVqlUVFRXssFgcJlNWVrZq1SqONpifn9+DsrH40cWcIPBnn3mmoqKCc289Hs+2bdtWr17NXlzMZvOIESNC+jqxCacIAu6eFepONcjzO4f5uFyuTZs2vfPOO5zQJ38gUFtbu23bto0bN3KW3eXLl/M27XM2dQDQK+AhBBBqn1i3bNlCXnnzzTdfffXVsCev8ePH/+53v9u+fXtI2UoqlSraVfiFJT8/f/jw4R988EEwtXZUKlVBQcGsWbOCdHAlJSX9/uWXD+zfv3379i7VPzaJiYlPP/10d0mJouaBBx9gm42tVmteXl6QLkeKokKyU2g0mmeefdZ6+PCHH37I7lzcHYmJiXPmzMnLyxNkOs3IyCgsLOT4CgAgSuBQdnZYRHV19Zo1a3BARFJSksvlamho6PzDSUxMfPLJJ4P8lHXr1vV6zsMPPzxjxozu/nfZsmW9XmHp0qUh9fhW0vSKFSvWrFnDnorr6+uxtImJicOHD/d6vWfPnu1yrs7IyOjZfJNgSFiwYAGOu2FfHMfgDB06tLt723P2QTR49tlnez4hIyNj48aN4V2cE/iA2+pMnz49+CsEfyuys7Nnz57NyeYoLi4uLi5WqVTDhg1LSkpqbGzsLtLnkUceCal7YR/R6/Vz58596623ePtEQOyEoBCCh1B0sBWJgQMH9nxywdSpR48eZRd5O3ToEJlYlUoluyxKr5YniqJSU1OXL19eW1t79OjR8vLy7mLVdDrdzTffbDabTSbTiMzMLoNetFot+9ODTI/WaDTsdwWp3MbHx5N3RaPUSlpa2qpVq6qqqj7//POTJ092vi0qlSorK8tsNk+cOJHT765XlDQ9ffr0CRMm7N27t6ampvOGQKfTWSyWvLy8740a1Wt7q84MHDiQUzQoGEJ9S+e/r06nC/4BwPlye/bsIa98/PHHwX9fTgZjrz8cJU1PmTIl/447Pvv0U9wlufMOLzExcdSoUWazeeLttwcjhkqlYn/f7motJicn37hxo+dzOMyePbuiooK8CwCiyl133VVVVcUxC7pcLhwT0eVbEhMTV65cKd6mCITU1NTf/va3a9eu7ayVORyOHuxHFotl2bJlvS5YeXl5NpuNEwqIY3C6i03Q6XSrV6/utWmkuFi0aNHq1avJ4fbt228bf1vw3zGknW1RUZFOp2ObzjE+n6+6urq7R1qlUj322GMhGRQiwpQpU4IsaQ4ACDyE0iYkq5uSpjlBO2w0Gs2bb74Zhgy4bXFRUZE/EHA6r7Rcbbl+/f+3d//BUZX3Hsefw1myyf7IbpJlSVJ+BCi5hRAUiAr+yCrSqUDBElB0uJ00FsZSuWaucpXOlNaWTnUsTofeWkflyqVX5+rVhAIFHPFHQ4tIgYDK6m0UCeQ2CZslZJPNJll2OfePUw/HTUj2R37A7vv1155nz3nOkzWl+ez3Oc/TlZaWZrVazWazyWSK5vdq7ty5cSy/Ed9VGzZsiPWSOEydOlX9srCnp8ff6W+70BYMBjMyMqyZVpvNHkdU01O/GlRfh8Lh5qYmv9+fmZmZk5OT4HyVioqKioqKmC6J+zdHb+HChTF96Rvr+XoRK4VGuWeUQZZdLpfL5VIUJRAI+Hy+9vZ2IURmZqbNZovy91wzc+bMaD60X//619H3qTKbzXFcBcRHncp+7NixrVu3RlNCd7lcFRUVV2EajO9fTqfT+dRTT1VXV+/fvz+aqQcWi6WsrGzhokXR/F+AJEnr1q0rLS3dtm1bNAuczJkzZ+3atUmwoLSeJEnq6jL6RRBefOHFxx9/PPolo2O648KFCwsKCrZv3x5l0CouLr7//vuHszaot27dusceeyzVHs9BfKgQYpgYZDknOyfJvptMnNFoNBqNQ/exGGQ5uWfhDrpPP/1UfxixA9WAJEkym81msznKJ6CApDdnzpwZM2bs2rXr2LFjfa5u5XA4brzxxltvvXWk/m4eUNxLH9tstoqKisWLF7/11lt9TgkRX84KmTVr1vz582MNwzNnzvzV5s379u49ePBgn5+txWKZN2/ebbfd9o1vfCNZv9aPWF1G3T0r+q+D9U912u32Ac+fNm3ak08+WVtbq+603OekX3VWSGlpaXFx8Qh+7OPGjYtY3wi4EimmmBcKhzN/cXlxKs+PdlvSMoQQp06dCgaDauPkyZOv6f1tAKSsjz76SP9IksVi2bZt2wiOBxgpEX8bDNYftYqitLe3NzU1nTt3zmg05uTk2Gy2MWPGRN9/fN9N6/tPvIe4+Xw+j8fT3t6upoisrCyz2Txu3LjB+qtJ7b+xsdFoNNrt9uzs7OycnLinnPT+oKL5EOL4eHt3G+uvX3xDVS9ctWqVVkMrLi7uZ6pUn5c3NTWpq6Z3dnaazWabzWaz2fLy8mL6hYnm543vf5J9/udI1q8GIIR48ejuyj1b1NfLi1z/tWKj+PJfhlAoJISwWq191gmoEAJIRYqihC9d2rd375gxY3Jzc7u6uk6ePLljxw79OUuXLh2p4QEja4j+ZJQkSf2LOe4VrRIf2Aj+Naz+7EPd/2AVWuP7oAbl4421k7hveubMGf2MyjimhOTn5yc+HySa8Y/gfw6kAp4hBJCKJEnq6e6O2BlSz+FwLFq0aDiHBAAYNoqiVH91O/u8vLyRGgwwsqgQAkCk0aNHl5eXM/sdAJLGqVOnOjs7vzbuaxaz5ezZs7t379YvgTt69Oibb7l5BIcHjCAqhADwFVOmTPnBD35QUFAw0gMBAAyaAwcO9LMR67Jly1j3DimLCiGAFGVMT7/33nsbGhoaGhq6u7snTpw4bty48ePHR7lbIAAgOTgcDh4aRyqjQgggRRlkecWKFfzLBgCpTN0Ak2cEkMqoEAJIXaRBAEgR06ZNa2hoaGpq8nq9Fotl0qRJubm5c+fOnTlz5kgPDRhhVAgBd/nnogAAEYlJREFUAACQ5ObOnatuWB8Kh3kuANAbFf2pVAgBAABwTSMNAhFiCIRUCAEAAAAgmVAhBAAAAIAURYUQAAAAAFIUFUIAAAAASFFUCAEAAAAgRVEhBAAAAIChddWGKfYhBAAAAJAk/MGuDxrceVZHkbNAa3R76t8/+3Gdt6HZf/70haazbR5voM1hsk+wOydl5V2fO/Wuwrn68xOnKMonLWferPvg7VNHO4KB3necnJ1fmluUk52jnf/OF8eEELcXzBrmzVFiCIRXbagFAAAAACHEBw3upS9vEEIcWbu1yFnw9qmjz/zl1Zr6E73P9AbavIG22sa6KnfNxne2zs4vXDatdN0Ny4xGYyID8Pl8vzj0ymsfv+sNtPVzR7VleZFrQ+l3i5wFW4/9sXLPFiFEw7+8pqXE4UGFEAAAAECyeXDn00KI2sY6rcVhsq8snn/zhBmFjglCiKYO7+kLTQfqT6jxrLaxrraxbsuhNzbeUb56zrfjyD7+YNfzf9255dAbWhTU7mg1mvKsjqYOb0dP4P2zJ7W4WOWuqXLXuAqud3vq1UvCoXDCP3psqBACAAAASBIdPQH1hT4KCiE23bn6kVtWqjFPURRJktQ5omtKljy3dP3zf9258Z2tQghvoK1yz5Zqd82r39los9miv6/bU79w+3p9FNx4R3nFrEUGWVZvJ4QochYoivKdabf9dH7F2l2btTqhvoDZIgLOuH/4uLDKKAAAAIBk9so9P3n01vu0w4hcYx6d/sgtK4+s3eow2dWWmvoTxS98X6vaDejtU0f1aXB2fuEHq36zpmSJ+jSg/naSJEmSZEnL+P3yH2+6c3UiP9RgYZVRAAAAAMmgd2BxmOxH1m5dNr1UXLm+pbZPHzNxX/lmLRN6A20Lt6+PJhO+fero0pc36GuDe+59Mj8/f8ALH7ll5Sv3/GTA04YaFUIAAAAAyUCSJG/Ap2+pnLdCnag54IXqJNKXyjZojd5A24M7n/YHu/q50O2pf6D6Ke3QYbIfLf9dNHNN1Tsum166vMg14MlDigohAAAAgCTkMNkr590jYqlsLZhSok9otY11a3dtvtLJ/mDXgzuf1q8mWjlvhdMZ2zOAz5Q+GNP5g44KIQAAAIAktGXxw3Hs6ffbbz6sTRwVQlS5a3Z8cqDPM3/27jb90jWz8wvV/BkTp9P50E1l2mFThzfWHhJEhRAAAABAspmdX6g+OhirzMzMlcXz9S2Ve37TOwr5fL5nD1frW8pnLYxvT/mfzq+I46rBQoUQAAAAQJJo7+5UX8wbPyO+HiRJ+tbUG/Ut3kDbHz79c8Rpvzj0SkTLvVPjyZ9CCEtaxgg+SUiFEAAAAECy+d7sRXFfu2BKiX7WqBDimYOv6g/9wa6I8qCr4PqY9i2MUFpwfdzXJogKIQAAAICk4jDZ1X3n4+aadJ3+sLaxzuPxaIf7Pz8Scf6MsZMTud39MxckcnkiDNGfSoUQAAAAwFVLUZS7CudmppsnZeUl2E+uJSeicefZw2ucS9TX7589GfFuoWN8Ine0pGW8cs9PvAHfTOuERPqJQwyBkAohAAAAgKuWupdggrVBtZ9cS3ZE44H6E2tKlgghFEV57eN3I95NMIIKIeJbAidxPEMIAAAAAJcpijI5Oz+iseb0h+qLQCCg33tQlWd1DMfIhgDPEAIAAADAZZIkFToip25qIbC+s6X3JRPtY4d8WEODCiEAAAAAXBYKh3MN1t7t/mCX6GvveIfJbknLGI6RDQEqhAAAAABwmUGWs7MinyEUQpxpOyeE6OgJRLRPsDuHY1hDgwohAAAAAHxFMBgc6SEME1YZBQAAAHCt8ge7/vujt6M5s72780TzZ7mWnGi2iGjv7uzd+GbdB++f/bjO2xDRXttY9+LR3dGMoc7b0Ow/L6LeiV5d13RIsQ8hAAAAgGvVmbZzlXu2DM+9Nr6z9UpvxTqGKndNNKddXYGQCiEAAACAq8o4Y9ZDN5WdPPeF21PfezcIjcNkV/cndJht1+dOHbDbE82fRWQ2h8leOW+F+rp3MnzoprLeWxf22e3pC01CiLNtnv5H65p0Xa4lZ8AOE0eFEAAAAMC1ymaz/equHwohQuHwj/Y//+zh6ogTZucXPn/3Y7HuVv9vb/4uoqXIWfDorfcJIRRF2XLojYg4d/OEGdHvLK8oSvjSpT/VH3+g+qnesXDL4srVc749bNU4VhkFAAAAcM0zyPKv7vqh66vP5jlM9jfLn4k1DQoh1Cf99BZMKVFfSJLkmnRdxLtftDZG37kkSQZZXjClZF/55oi3HrqpbE3JkuFMXqwyCgAAACBJzBg7WX9Y5CyIY4dARVHUiZ16dxXO1d4tm+6KePdE82ex3kUdnsNk17fcPGFGHP0kggohAAAAgCQR8SCfw2yLo5NPWs7UNtZ9pZ8vH0EUQkiSNP9rkRXCKneNum19rCL2MLQaTXF0kggqhAAAAACSU3zrsvxn7d6Ilo13lOsPbTbb8qLIIuH+z4/Eca8RR4UQAAAAQHLq/SjggPzBrtc+flff4jDZK2YtijjtmdIHI1sOvnotltCoEAIAAABITnFUCH/27raIlT833lFukOWI05xO50M3lelbahvrth77YxyDHFlUCAEAAAAkp1grhG5PfcTGFa6C61fP+XafJ/90fsXs/EJ9y6b3tvt8vlgHqdfRE0jk8jhQIQQAAACQDBIMLOdbzy/cvl7f4jDZX79/05UKY+ly2vN3P6ZfJtQbaFv8Pz/q6emJ/qZn2zzxjXawUCEEAAAAkAx6B5beu0dcyfnW83dXbdRPFnWY7PvKN/eza4VBloucBVsWP6xvrG2sW7376fhWHB0RVAgBAAAAJIlmf6v+8GybZ8cnBwa86u1TR2f9x4P6rSZm5xfuK98czY72y6aX7vrnp/R1wip3zV3bH3V76vu/MBQOv3h0d8TzisPPEP2pVAgBAAAAXM0KHeMdJruWsryBtlWv/3x2fuET8x+YlzvNbDbrTw6Fw7v/dvCFI7tq6k/o25cXuZ5buj76He0XTCk5Wv67sp1PaJGytrHuhudWLy9ylc9aeOfkOfokpShK64XWA83uyj2/iUiDDpN9+PchjCEQUiEEAAAAcDVbU7KkYtaiP9Uf3358X83pD9XEVdtYt/TlDeLL/eVnjJ3c7D9/+kLT2TZPRCRTo+OCKSWxZh+n0/mnB/592/G9m97brvVZ5a6pcteoN3WYbbmWnJPnvnB76nvnwJXF8783e9H0MROHvwhHhRAAAABA8jDI8oIpJQumlPT09Ow9dbj6kxotGXoDbTX1JyLqgUIIh8numnRd2XTXd6bdpqaeOLKPQZbVOLrt+N5qd412F/Wmvc9Xc+C3pt6olhBHqvxGhRAAAABAEjIajcumly6bXiqE8Ae7zrSdq/Oe9QZ8dd4GdTuKXEtOoWP8pKy82wtm9d5pMD5qLFxTssQf7Nr/+ZEvWhub/a0Rt8uzOibax1rSMhRF0ZLnSJXfqBACAAAASHKWtIwiZ0E0i8QM4h3VLNqPqyFhscooAAAAAKQo9iEEAAAAgBQVQyAUQhhkWb/Dxpm2c4M9HgAAAABADELhcHt3p3aYa8mJ/trYAqEQYoLdqb1u6vDGejkAAAAAYBAZZPlE82faYa4lO/prYwuEiqJY0y5vldjRE4jpcgAAAADAoPN2+rTXmenm6C+MLRBKkuQw27TDL1obY7ocAAAAADDoOoKXa3WTsvKivzCGbSdU+gmp+rokAAAAAGCYKYoSCARqG+u0ljyrI/rLY36G8FtTb9ReV7lr/MGuWHsAAAAAAAwKSZLeOnNMO3SY7NPHTIz+8pgD4e0Fs/QLje7//EisPQAAAAAABoWiKNWf1GiHK4vnx7RfYMyB0CDLrknXaYf6e6tCoRBb2AMAAADAMAgGgzWnP9QO9TM6Q+HQgJfHHAiFEGXTXdrrKneNx+ORZVmLoaHQwHcFAAAAACTut0d2eANt6muHyX57wSztrXAoHA6H1ddpaWl9Xh5PIPzm12/Qzxp99MDzBsPlxWmiiaEAAAAAgAR1dnZuOfSGduiadJ1BlrVDfa1ONsiiL/EEQktaRuW8Fdphlbvmf3uatcNwKBy+dCmObgEAAAAA0Xviz9u18qAQ4pnSB/XvXtLlMoPc9wYT8QRCIcS6G5bpi4RPvPuS9txgMBiMr08AAAAAQJTcnvpnD1drhw/dVOZ0OrVDRVF6enq0mKaf1KkXZyBMS0vbsvhh7bC2se6X7n9UKru6usI8RggAAAAAQ8bn8y3cvl47dJjsP563Sn9CIBDQKoQGg2GQA6EkSUv+6ZbZ+YVaS5W75qUz7wkhQqFQd3c3C40CAAAAwFAIhcP3/WGTfrJo5bwVNptNf05nZ6e2okxGRoY8uIFQCCGPGlV99xP6iaPPHq7ee/5DIURHRwePEQIAAADAoAuFwxU7fllTf0JrWV7keuSWlfpzFEUJBAJalS7DlCGP6jv6xR8IJUlyOp0vlW3QN258Z+tLZ97z+/09FAkBAAAAYFD5fL4lLz9e5b68G/zs/MLnlq6P2Iy+vb394sWL6mtJkixmy5V2q48/EKoWTCnZsrhS3/Ls4ep/Pby1paWFIiEAAAAADBa3p774he/ra4MOk7367icsaRn60xRFuXDhgjZf1GKxXGm+qEg8EAoh1pQs2XTnan1LTf2J0tfX7/7bQYqEAAAAAJAgf7Drmb+8esNzq/XPDTpM9n3lm/Uri6paL7RevHhRzWKSJFmt1ivNFxVCSIlnNrWHP3z651Wv/zziLVfB9Y/eet+CKSUJ3gIAAAAAUlAoHN52fO+m976y36AQYnZ+YfXdT/ROg6Fw+P8aGrq6utRDq9Wam5en360+wiAEQo3bU79w+/qIgapjXTat9K7CudPHTLzS1FUAAAAAgMof7Nr/+ZHqT2pqTn/YO2EtL3I9t3R9xExRIYSiKH//+9/9fr9WHhw/frzJZOonhQ1aIFT7aWlpKd/3tH5Wq57DZC9yFswYOznXkp2ZbnaYbH2eBgAAAACpxhvw1Xkbmv3nvZ2+fiJV5bwVj9yysnfGUxSlpaXF5/OFQiEhhCRJmZmZzrFj+ykPisGtEKp6enp+//Fb24/vq22sG9yeAQAAACBlPXRT2YYbV+Zk5/R+S1GU1gutredb1TQohMjIyMjLyzMajf33OfiBUN3yorGxcde5Y1sOvdG7vgkAAAAAiN7yIteG0u8WOQv6fDeiNiiEMBgM+fn5/U8WVQ1+IBRfjacej+ePXe5DDScpGAIAAABAlBwmu2vSdWXTXd/8+g29HxfUhMLh5qamrq4uLQ1KkpSXl5eZmRnNAi5DEghFXyXLQCBQqzQKIdq7O5v9rerU2KG4NQAAAABccxxmW64lJ9eSPTk732o03V4wq//H/xRFaW9vv3DhQnd3txbrYkqDYugCoTY+j8ejj6qyLGdkZGRlZUVTvgQAAAAARNCi4MWLF8PhsJbpDAaD0+mMPg2KoQ6EQohAINDc3BwMBi/fUpJkWR49erQ105puTCcZAgAAAMCA1OVaunu6O9o7IqKgECIjI2PMmDGxxqshDIQqRVGCwWBLS4u2G8Y/bixJsiwLIUaPHp2WlmYwGGSDbJANBoNhSMcDAAAAANeKUCgUCofCoXAoFAoGg2oOFF+W31TqDhM5OTlpaWmxFtuGPBCqQuFwp98fMb318iAkSQgh9ztBFgAAAABSU+8QqLFarVlZWcb09P4fOLySYQqEqv5jIQAAAAAgGpIkpaenZ2VlmS0WedSouJ/CG9ZAKIRQFCV86VJPd7c685VkCAAAAABRMhgM2mosxvT0RKKgargDoUq9afjSpXAo1N3drZ8UO/yDAQAAAICrk8FgGDVqlLbkSnp6umwwJJ4DNSMTCAEAAAAAI27USA8AAAAAADAyCIQAAAAAkKIIhAAAAACQogiEAAAAAJCiCIQAAAAAkKIIhAAAAACQogiEAAAAAJCiCIQAAAAAkKIIhAAAAACQov4fd+gw6S0iXaMAAAAASUVORK5CYII=)"
   ]
  },
  {
   "cell_type": "code",
   "execution_count": null,
   "metadata": {},
   "outputs": [],
   "source": []
  },
  {
   "cell_type": "code",
   "execution_count": 15,
   "metadata": {
    "id": "POSfR4eQOtqX"
   },
   "outputs": [
    {
     "data": {
      "text/html": [
       "<div>\n",
       "<style scoped>\n",
       "    .dataframe tbody tr th:only-of-type {\n",
       "        vertical-align: middle;\n",
       "    }\n",
       "\n",
       "    .dataframe tbody tr th {\n",
       "        vertical-align: top;\n",
       "    }\n",
       "\n",
       "    .dataframe thead th {\n",
       "        text-align: right;\n",
       "    }\n",
       "</style>\n",
       "<table border=\"1\" class=\"dataframe\">\n",
       "  <thead>\n",
       "    <tr style=\"text-align: right;\">\n",
       "      <th></th>\n",
       "      <th>key</th>\n",
       "      <th>Name</th>\n",
       "      <th>Age</th>\n",
       "    </tr>\n",
       "  </thead>\n",
       "  <tbody>\n",
       "    <tr>\n",
       "      <th>0</th>\n",
       "      <td>K00</td>\n",
       "      <td>Jai</td>\n",
       "      <td>27</td>\n",
       "    </tr>\n",
       "    <tr>\n",
       "      <th>1</th>\n",
       "      <td>K1</td>\n",
       "      <td>Princi</td>\n",
       "      <td>24</td>\n",
       "    </tr>\n",
       "    <tr>\n",
       "      <th>2</th>\n",
       "      <td>K2</td>\n",
       "      <td>Gaurav</td>\n",
       "      <td>22</td>\n",
       "    </tr>\n",
       "    <tr>\n",
       "      <th>3</th>\n",
       "      <td>K3</td>\n",
       "      <td>Anuj</td>\n",
       "      <td>32</td>\n",
       "    </tr>\n",
       "  </tbody>\n",
       "</table>\n",
       "</div>"
      ],
      "text/plain": [
       "   key    Name  Age\n",
       "0  K00     Jai   27\n",
       "1   K1  Princi   24\n",
       "2   K2  Gaurav   22\n",
       "3   K3    Anuj   32"
      ]
     },
     "metadata": {},
     "output_type": "display_data"
    },
    {
     "data": {
      "text/html": [
       "<div>\n",
       "<style scoped>\n",
       "    .dataframe tbody tr th:only-of-type {\n",
       "        vertical-align: middle;\n",
       "    }\n",
       "\n",
       "    .dataframe tbody tr th {\n",
       "        vertical-align: top;\n",
       "    }\n",
       "\n",
       "    .dataframe thead th {\n",
       "        text-align: right;\n",
       "    }\n",
       "</style>\n",
       "<table border=\"1\" class=\"dataframe\">\n",
       "  <thead>\n",
       "    <tr style=\"text-align: right;\">\n",
       "      <th></th>\n",
       "      <th>key</th>\n",
       "      <th>Address</th>\n",
       "      <th>Qualification</th>\n",
       "    </tr>\n",
       "  </thead>\n",
       "  <tbody>\n",
       "    <tr>\n",
       "      <th>0</th>\n",
       "      <td>K0</td>\n",
       "      <td>Nagpur</td>\n",
       "      <td>Btech</td>\n",
       "    </tr>\n",
       "    <tr>\n",
       "      <th>1</th>\n",
       "      <td>K1</td>\n",
       "      <td>Kanpur</td>\n",
       "      <td>B.A</td>\n",
       "    </tr>\n",
       "    <tr>\n",
       "      <th>2</th>\n",
       "      <td>K2</td>\n",
       "      <td>Allahabad</td>\n",
       "      <td>Bcom</td>\n",
       "    </tr>\n",
       "    <tr>\n",
       "      <th>3</th>\n",
       "      <td>K3</td>\n",
       "      <td>Kannuaj</td>\n",
       "      <td>B.hons</td>\n",
       "    </tr>\n",
       "  </tbody>\n",
       "</table>\n",
       "</div>"
      ],
      "text/plain": [
       "  key    Address Qualification\n",
       "0  K0     Nagpur         Btech\n",
       "1  K1     Kanpur           B.A\n",
       "2  K2  Allahabad          Bcom\n",
       "3  K3    Kannuaj        B.hons"
      ]
     },
     "metadata": {},
     "output_type": "display_data"
    },
    {
     "data": {
      "text/html": [
       "<div>\n",
       "<style scoped>\n",
       "    .dataframe tbody tr th:only-of-type {\n",
       "        vertical-align: middle;\n",
       "    }\n",
       "\n",
       "    .dataframe tbody tr th {\n",
       "        vertical-align: top;\n",
       "    }\n",
       "\n",
       "    .dataframe thead th {\n",
       "        text-align: right;\n",
       "    }\n",
       "</style>\n",
       "<table border=\"1\" class=\"dataframe\">\n",
       "  <thead>\n",
       "    <tr style=\"text-align: right;\">\n",
       "      <th></th>\n",
       "      <th>key</th>\n",
       "      <th>Name</th>\n",
       "      <th>Age</th>\n",
       "      <th>Address</th>\n",
       "      <th>Qualification</th>\n",
       "    </tr>\n",
       "  </thead>\n",
       "  <tbody>\n",
       "    <tr>\n",
       "      <th>0</th>\n",
       "      <td>K00</td>\n",
       "      <td>Jai</td>\n",
       "      <td>27</td>\n",
       "      <td>NaN</td>\n",
       "      <td>NaN</td>\n",
       "    </tr>\n",
       "    <tr>\n",
       "      <th>1</th>\n",
       "      <td>K1</td>\n",
       "      <td>Princi</td>\n",
       "      <td>24</td>\n",
       "      <td>Kanpur</td>\n",
       "      <td>B.A</td>\n",
       "    </tr>\n",
       "    <tr>\n",
       "      <th>2</th>\n",
       "      <td>K2</td>\n",
       "      <td>Gaurav</td>\n",
       "      <td>22</td>\n",
       "      <td>Allahabad</td>\n",
       "      <td>Bcom</td>\n",
       "    </tr>\n",
       "    <tr>\n",
       "      <th>3</th>\n",
       "      <td>K3</td>\n",
       "      <td>Anuj</td>\n",
       "      <td>32</td>\n",
       "      <td>Kannuaj</td>\n",
       "      <td>B.hons</td>\n",
       "    </tr>\n",
       "  </tbody>\n",
       "</table>\n",
       "</div>"
      ],
      "text/plain": [
       "   key    Name  Age    Address Qualification\n",
       "0  K00     Jai   27        NaN           NaN\n",
       "1   K1  Princi   24     Kanpur           B.A\n",
       "2   K2  Gaurav   22  Allahabad          Bcom\n",
       "3   K3    Anuj   32    Kannuaj        B.hons"
      ]
     },
     "execution_count": 15,
     "metadata": {},
     "output_type": "execute_result"
    }
   ],
   "source": [
    "# importing pandas module\n",
    "import pandas as pd\n",
    "\n",
    "# Define a dictionary containing employee data\n",
    "data1 = {'key': ['K00', 'K1', 'K2', 'K3'],\n",
    "\t\t'Name':['Jai', 'Princi', 'Gaurav', 'Anuj'],\n",
    "\t\t'Age':[27, 24, 22, 32],}\n",
    "\n",
    "# Define a dictionary containing employee data\n",
    "data2 = {'key': ['K0', 'K1', 'K2', 'K3'],\n",
    "\t\t'Address':['Nagpur', 'Kanpur', 'Allahabad', 'Kannuaj'],\n",
    "\t\t'Qualification':['Btech', 'B.A', 'Bcom', 'B.hons']}\n",
    "\n",
    "# Convert the dictionary into DataFrame\n",
    "df = pd.DataFrame(data1)\n",
    "\n",
    "# Convert the dictionary into DataFrame\n",
    "df1 = pd.DataFrame(data2)\n",
    "\n",
    "\n",
    "display(df, df1)\n",
    "\n",
    "# using .merge() function\n",
    "res = pd.merge(df, df1, on='key', how='left')\n",
    "\n",
    "res\n"
   ]
  },
  {
   "cell_type": "markdown",
   "metadata": {
    "id": "4T5jX0DmPQhi"
   },
   "source": [
    "Joining DataFrame"
   ]
  },
  {
   "cell_type": "code",
   "execution_count": 1,
   "metadata": {
    "id": "4MsbDgNsPOjP"
   },
   "outputs": [
    {
     "data": {
      "text/html": [
       "<div>\n",
       "<style scoped>\n",
       "    .dataframe tbody tr th:only-of-type {\n",
       "        vertical-align: middle;\n",
       "    }\n",
       "\n",
       "    .dataframe tbody tr th {\n",
       "        vertical-align: top;\n",
       "    }\n",
       "\n",
       "    .dataframe thead th {\n",
       "        text-align: right;\n",
       "    }\n",
       "</style>\n",
       "<table border=\"1\" class=\"dataframe\">\n",
       "  <thead>\n",
       "    <tr style=\"text-align: right;\">\n",
       "      <th></th>\n",
       "      <th>Name</th>\n",
       "      <th>Age</th>\n",
       "    </tr>\n",
       "  </thead>\n",
       "  <tbody>\n",
       "    <tr>\n",
       "      <th>K0</th>\n",
       "      <td>Jai</td>\n",
       "      <td>27</td>\n",
       "    </tr>\n",
       "    <tr>\n",
       "      <th>K1</th>\n",
       "      <td>Princi</td>\n",
       "      <td>24</td>\n",
       "    </tr>\n",
       "    <tr>\n",
       "      <th>K2</th>\n",
       "      <td>Gaurav</td>\n",
       "      <td>22</td>\n",
       "    </tr>\n",
       "    <tr>\n",
       "      <th>K3</th>\n",
       "      <td>Anuj</td>\n",
       "      <td>32</td>\n",
       "    </tr>\n",
       "  </tbody>\n",
       "</table>\n",
       "</div>"
      ],
      "text/plain": [
       "      Name  Age\n",
       "K0     Jai   27\n",
       "K1  Princi   24\n",
       "K2  Gaurav   22\n",
       "K3    Anuj   32"
      ]
     },
     "metadata": {},
     "output_type": "display_data"
    },
    {
     "data": {
      "text/html": [
       "<div>\n",
       "<style scoped>\n",
       "    .dataframe tbody tr th:only-of-type {\n",
       "        vertical-align: middle;\n",
       "    }\n",
       "\n",
       "    .dataframe tbody tr th {\n",
       "        vertical-align: top;\n",
       "    }\n",
       "\n",
       "    .dataframe thead th {\n",
       "        text-align: right;\n",
       "    }\n",
       "</style>\n",
       "<table border=\"1\" class=\"dataframe\">\n",
       "  <thead>\n",
       "    <tr style=\"text-align: right;\">\n",
       "      <th></th>\n",
       "      <th>Address</th>\n",
       "      <th>Qualification</th>\n",
       "    </tr>\n",
       "  </thead>\n",
       "  <tbody>\n",
       "    <tr>\n",
       "      <th>K0</th>\n",
       "      <td>Allahabad</td>\n",
       "      <td>MCA</td>\n",
       "    </tr>\n",
       "    <tr>\n",
       "      <th>K2</th>\n",
       "      <td>Kannuaj</td>\n",
       "      <td>Phd</td>\n",
       "    </tr>\n",
       "    <tr>\n",
       "      <th>K3</th>\n",
       "      <td>Allahabad</td>\n",
       "      <td>Bcom</td>\n",
       "    </tr>\n",
       "    <tr>\n",
       "      <th>K4</th>\n",
       "      <td>Kannuaj</td>\n",
       "      <td>B.hons</td>\n",
       "    </tr>\n",
       "  </tbody>\n",
       "</table>\n",
       "</div>"
      ],
      "text/plain": [
       "      Address Qualification\n",
       "K0  Allahabad           MCA\n",
       "K2    Kannuaj           Phd\n",
       "K3  Allahabad          Bcom\n",
       "K4    Kannuaj        B.hons"
      ]
     },
     "metadata": {},
     "output_type": "display_data"
    },
    {
     "data": {
      "text/html": [
       "<div>\n",
       "<style scoped>\n",
       "    .dataframe tbody tr th:only-of-type {\n",
       "        vertical-align: middle;\n",
       "    }\n",
       "\n",
       "    .dataframe tbody tr th {\n",
       "        vertical-align: top;\n",
       "    }\n",
       "\n",
       "    .dataframe thead th {\n",
       "        text-align: right;\n",
       "    }\n",
       "</style>\n",
       "<table border=\"1\" class=\"dataframe\">\n",
       "  <thead>\n",
       "    <tr style=\"text-align: right;\">\n",
       "      <th></th>\n",
       "      <th>Name</th>\n",
       "      <th>Age</th>\n",
       "      <th>Address</th>\n",
       "      <th>Qualification</th>\n",
       "    </tr>\n",
       "  </thead>\n",
       "  <tbody>\n",
       "    <tr>\n",
       "      <th>K0</th>\n",
       "      <td>Jai</td>\n",
       "      <td>27</td>\n",
       "      <td>Allahabad</td>\n",
       "      <td>MCA</td>\n",
       "    </tr>\n",
       "    <tr>\n",
       "      <th>K1</th>\n",
       "      <td>Princi</td>\n",
       "      <td>24</td>\n",
       "      <td>NaN</td>\n",
       "      <td>NaN</td>\n",
       "    </tr>\n",
       "    <tr>\n",
       "      <th>K2</th>\n",
       "      <td>Gaurav</td>\n",
       "      <td>22</td>\n",
       "      <td>Kannuaj</td>\n",
       "      <td>Phd</td>\n",
       "    </tr>\n",
       "    <tr>\n",
       "      <th>K3</th>\n",
       "      <td>Anuj</td>\n",
       "      <td>32</td>\n",
       "      <td>Allahabad</td>\n",
       "      <td>Bcom</td>\n",
       "    </tr>\n",
       "  </tbody>\n",
       "</table>\n",
       "</div>"
      ],
      "text/plain": [
       "      Name  Age    Address Qualification\n",
       "K0     Jai   27  Allahabad           MCA\n",
       "K1  Princi   24        NaN           NaN\n",
       "K2  Gaurav   22    Kannuaj           Phd\n",
       "K3    Anuj   32  Allahabad          Bcom"
      ]
     },
     "execution_count": 1,
     "metadata": {},
     "output_type": "execute_result"
    }
   ],
   "source": [
    "# importing pandas module\n",
    "import pandas as pd\n",
    "\n",
    "# Define a dictionary containing employee data\n",
    "data1 = {'Name':['Jai', 'Princi', 'Gaurav', 'Anuj'],\n",
    "\t\t'Age':[27, 24, 22, 32]}\n",
    "\n",
    "# Define a dictionary containing employee data\n",
    "data2 = {'Address':['Allahabad', 'Kannuaj', 'Allahabad', 'Kannuaj'],\n",
    "\t\t'Qualification':['MCA', 'Phd', 'Bcom', 'B.hons']}\n",
    "\n",
    "# Convert the dictionary into DataFrame\n",
    "df = pd.DataFrame(data1,index=['K0', 'K1', 'K2', 'K3'])\n",
    "\n",
    "# Convert the dictionary into DataFrame\n",
    "df1 = pd.DataFrame(data2, index=['K0', 'K2', 'K3', 'K4'])\n",
    "\n",
    "\n",
    "display(df, df1)\n",
    "\n",
    "# joining dataframe\n",
    "res = df.join(df1)\n",
    "\n",
    "res\n"
   ]
  },
  {
   "cell_type": "code",
   "execution_count": 70,
   "metadata": {},
   "outputs": [
    {
     "data": {
      "image/png": "[encoded data removed]",
      "text/plain": [
       "<Figure size 800x300 with 1 Axes>"
      ]
     },
     "metadata": {},
     "output_type": "display_data"
    }
   ],
   "source": [
    "import pandas as pd\n",
    "import matplotlib.pyplot as plt\n",
    "\n",
    "# Define a dictionary containing employee data\n",
    "data1 = {'key': ['K1', 'K1', 'K200', 'K3000','extra'],\n",
    "\t\t'Name':['Jai', 'Princi', 'Gaurav', 'Anuj','row'],\n",
    "\t\t'Age':[27, 24, 22, 32,36],}\n",
    "\n",
    "data=pd.DataFrame(data1)\n",
    "x=data['Name']\n",
    "y=data['Age']\n",
    "\n",
    "plt.figure(figsize=(8, 3))\n",
    "plt.title('Age graph')\n",
    "plt.xlabel('Names')\n",
    "plt.ylabel('Age')\n",
    "plt.plot(x,y) \n",
    "plt.show()"
   ]
  },
  {
   "cell_type": "code",
   "execution_count": null,
   "metadata": {},
   "outputs": [],
   "source": []
  },
  {
   "cell_type": "code",
   "execution_count": null,
   "metadata": {},
   "outputs": [],
   "source": []
  }
 ],
 "metadata": {
  "colab": {
   "authorship_tag": "ABX9TyM67Dq5M9BrmsvO6FePwrGt",
   "provenance": []
  },
  "kernelspec": {
   "display_name": "Python 3 (ipykernel)",
   "language": "python",
   "name": "python3"
  },
  "language_info": {
   "codemirror_mode": {
    "name": "ipython",
    "version": 3
   },
   "file_extension": ".py",
   "mimetype": "text/x-python",
   "name": "python",
   "nbconvert_exporter": "python",
   "pygments_lexer": "ipython3",
   "version": "3.11.7"
  }
 },
 "nbformat": 4,
 "nbformat_minor": 4
}
