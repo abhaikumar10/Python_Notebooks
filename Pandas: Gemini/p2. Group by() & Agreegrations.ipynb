{
 "cells": [
  {
   "cell_type": "code",
   "execution_count": 2,
   "id": "83537413",
   "metadata": {},
   "outputs": [
    {
     "name": "stdout",
     "output_type": "stream",
     "text": [
      "DataFrame (now 'df'):\n",
      "   Product     Category Region  Price  Units Sold\n",
      "0       A  Electronics  North    100          10\n",
      "1       B     Clothing  South     50          25\n",
      "2       A  Electronics   East    120          15\n",
      "3       C   Home Goods   West     30          30\n",
      "4       B     Clothing  North     60          20\n",
      "5       C   Home Goods   East     40          35\n",
      "6       A  Electronics  South    110          12\n",
      "7       B     Clothing   West     55          22\n"
     ]
    }
   ],
   "source": [
    "import pandas as pd\n",
    "\n",
    "data = {'Product': ['A', 'B', 'A', 'C', 'B', 'C', 'A', 'B'],\n",
    "        'Category': ['Electronics', 'Clothing', 'Electronics', 'Home Goods', 'Clothing', 'Home Goods', 'Electronics', 'Clothing'],\n",
    "        'Region': ['North', 'South', 'East', 'West', 'North', 'East', 'South', 'West'],\n",
    "        'Price': [100, 50, 120, 30, 60, 40, 110, 55],\n",
    "        'Units Sold': [10, 25, 15, 30, 20, 35, 12, 22]}\n",
    "\n",
    "df = pd.DataFrame(data)\n",
    "print(\"DataFrame (now 'df'):\\n\", df)"
   ]
  },
  {
   "cell_type": "code",
   "execution_count": 3,
   "id": "dba44f7d",
   "metadata": {},
   "outputs": [
    {
     "data": {
      "text/html": [
       "<div>\n",
       "<style scoped>\n",
       "    .dataframe tbody tr th:only-of-type {\n",
       "        vertical-align: middle;\n",
       "    }\n",
       "\n",
       "    .dataframe tbody tr th {\n",
       "        vertical-align: top;\n",
       "    }\n",
       "\n",
       "    .dataframe thead th {\n",
       "        text-align: right;\n",
       "    }\n",
       "</style>\n",
       "<table border=\"1\" class=\"dataframe\">\n",
       "  <thead>\n",
       "    <tr style=\"text-align: right;\">\n",
       "      <th></th>\n",
       "      <th>Product</th>\n",
       "      <th>Category</th>\n",
       "      <th>Region</th>\n",
       "      <th>Price</th>\n",
       "      <th>Units Sold</th>\n",
       "    </tr>\n",
       "  </thead>\n",
       "  <tbody>\n",
       "    <tr>\n",
       "      <th>0</th>\n",
       "      <td>A</td>\n",
       "      <td>Electronics</td>\n",
       "      <td>North</td>\n",
       "      <td>100</td>\n",
       "      <td>10</td>\n",
       "    </tr>\n",
       "    <tr>\n",
       "      <th>1</th>\n",
       "      <td>B</td>\n",
       "      <td>Clothing</td>\n",
       "      <td>South</td>\n",
       "      <td>50</td>\n",
       "      <td>25</td>\n",
       "    </tr>\n",
       "    <tr>\n",
       "      <th>2</th>\n",
       "      <td>A</td>\n",
       "      <td>Electronics</td>\n",
       "      <td>East</td>\n",
       "      <td>120</td>\n",
       "      <td>15</td>\n",
       "    </tr>\n",
       "    <tr>\n",
       "      <th>3</th>\n",
       "      <td>C</td>\n",
       "      <td>Home Goods</td>\n",
       "      <td>West</td>\n",
       "      <td>30</td>\n",
       "      <td>30</td>\n",
       "    </tr>\n",
       "    <tr>\n",
       "      <th>4</th>\n",
       "      <td>B</td>\n",
       "      <td>Clothing</td>\n",
       "      <td>North</td>\n",
       "      <td>60</td>\n",
       "      <td>20</td>\n",
       "    </tr>\n",
       "    <tr>\n",
       "      <th>5</th>\n",
       "      <td>C</td>\n",
       "      <td>Home Goods</td>\n",
       "      <td>East</td>\n",
       "      <td>40</td>\n",
       "      <td>35</td>\n",
       "    </tr>\n",
       "    <tr>\n",
       "      <th>6</th>\n",
       "      <td>A</td>\n",
       "      <td>Electronics</td>\n",
       "      <td>South</td>\n",
       "      <td>110</td>\n",
       "      <td>12</td>\n",
       "    </tr>\n",
       "    <tr>\n",
       "      <th>7</th>\n",
       "      <td>B</td>\n",
       "      <td>Clothing</td>\n",
       "      <td>West</td>\n",
       "      <td>55</td>\n",
       "      <td>22</td>\n",
       "    </tr>\n",
       "  </tbody>\n",
       "</table>\n",
       "</div>"
      ],
      "text/plain": [
       "  Product     Category Region  Price  Units Sold\n",
       "0       A  Electronics  North    100          10\n",
       "1       B     Clothing  South     50          25\n",
       "2       A  Electronics   East    120          15\n",
       "3       C   Home Goods   West     30          30\n",
       "4       B     Clothing  North     60          20\n",
       "5       C   Home Goods   East     40          35\n",
       "6       A  Electronics  South    110          12\n",
       "7       B     Clothing   West     55          22"
      ]
     },
     "execution_count": 3,
     "metadata": {},
     "output_type": "execute_result"
    }
   ],
   "source": [
    "df"
   ]
  },
  {
   "cell_type": "code",
   "execution_count": 4,
   "id": "168c156f",
   "metadata": {},
   "outputs": [],
   "source": [
    "grouped_by_region = df.groupby('Region')\n"
   ]
  },
  {
   "cell_type": "code",
   "execution_count": 5,
   "id": "f8934634",
   "metadata": {},
   "outputs": [
    {
     "data": {
      "text/plain": [
       "Region\n",
       "East     80.0\n",
       "North    80.0\n",
       "South    80.0\n",
       "West     42.5\n",
       "Name: Price, dtype: float64"
      ]
     },
     "execution_count": 5,
     "metadata": {},
     "output_type": "execute_result"
    }
   ],
   "source": [
    "grouped_by_region['Price'].mean()"
   ]
  },
  {
   "cell_type": "code",
   "execution_count": 6,
   "id": "14a86b56",
   "metadata": {},
   "outputs": [
    {
     "name": "stdout",
     "output_type": "stream",
     "text": [
      "\n",
      "Mean and Median Price per Category:\n",
      "               mean  median\n",
      "Category                  \n",
      "Clothing      55.0    55.0\n",
      "Electronics  110.0   110.0\n",
      "Home Goods    35.0    35.0\n",
      "\n",
      "Sum and Count of Units Sold per Region:\n",
      "         sum  count\n",
      "Region            \n",
      "East     50      2\n",
      "North    30      2\n",
      "South    37      2\n",
      "West     52      2\n"
     ]
    }
   ],
   "source": [
    "# Group by 'Category' and calculate the mean and median price\n",
    "price_summary_per_category = df.groupby('Category')['Price'].agg(['mean', 'median'])\n",
    "print(\"\\nMean and Median Price per Category:\\n\", price_summary_per_category)\n",
    "\n",
    "# Group by 'Region' and calculate the sum and count of 'Units Sold'\n",
    "units_summary_per_region = df.groupby('Region')['Units Sold'].agg(['sum', 'count'])\n",
    "print(\"\\nSum and Count of Units Sold per Region:\\n\", units_summary_per_region)"
   ]
  },
  {
   "cell_type": "code",
   "execution_count": 7,
   "id": "52583c9a",
   "metadata": {},
   "outputs": [
    {
     "data": {
      "text/html": [
       "<div>\n",
       "<style scoped>\n",
       "    .dataframe tbody tr th:only-of-type {\n",
       "        vertical-align: middle;\n",
       "    }\n",
       "\n",
       "    .dataframe tbody tr th {\n",
       "        vertical-align: top;\n",
       "    }\n",
       "\n",
       "    .dataframe thead th {\n",
       "        text-align: right;\n",
       "    }\n",
       "</style>\n",
       "<table border=\"1\" class=\"dataframe\">\n",
       "  <thead>\n",
       "    <tr style=\"text-align: right;\">\n",
       "      <th></th>\n",
       "      <th>Product</th>\n",
       "      <th>Category</th>\n",
       "      <th>Region</th>\n",
       "      <th>Price</th>\n",
       "      <th>Units Sold</th>\n",
       "    </tr>\n",
       "  </thead>\n",
       "  <tbody>\n",
       "    <tr>\n",
       "      <th>0</th>\n",
       "      <td>A</td>\n",
       "      <td>Electronics</td>\n",
       "      <td>North</td>\n",
       "      <td>100</td>\n",
       "      <td>10</td>\n",
       "    </tr>\n",
       "    <tr>\n",
       "      <th>1</th>\n",
       "      <td>B</td>\n",
       "      <td>Clothing</td>\n",
       "      <td>South</td>\n",
       "      <td>50</td>\n",
       "      <td>25</td>\n",
       "    </tr>\n",
       "    <tr>\n",
       "      <th>2</th>\n",
       "      <td>A</td>\n",
       "      <td>Electronics</td>\n",
       "      <td>East</td>\n",
       "      <td>120</td>\n",
       "      <td>15</td>\n",
       "    </tr>\n",
       "    <tr>\n",
       "      <th>3</th>\n",
       "      <td>C</td>\n",
       "      <td>Home Goods</td>\n",
       "      <td>West</td>\n",
       "      <td>30</td>\n",
       "      <td>30</td>\n",
       "    </tr>\n",
       "    <tr>\n",
       "      <th>4</th>\n",
       "      <td>B</td>\n",
       "      <td>Clothing</td>\n",
       "      <td>North</td>\n",
       "      <td>60</td>\n",
       "      <td>20</td>\n",
       "    </tr>\n",
       "    <tr>\n",
       "      <th>5</th>\n",
       "      <td>C</td>\n",
       "      <td>Home Goods</td>\n",
       "      <td>East</td>\n",
       "      <td>40</td>\n",
       "      <td>35</td>\n",
       "    </tr>\n",
       "    <tr>\n",
       "      <th>6</th>\n",
       "      <td>A</td>\n",
       "      <td>Electronics</td>\n",
       "      <td>South</td>\n",
       "      <td>110</td>\n",
       "      <td>12</td>\n",
       "    </tr>\n",
       "    <tr>\n",
       "      <th>7</th>\n",
       "      <td>B</td>\n",
       "      <td>Clothing</td>\n",
       "      <td>West</td>\n",
       "      <td>55</td>\n",
       "      <td>22</td>\n",
       "    </tr>\n",
       "  </tbody>\n",
       "</table>\n",
       "</div>"
      ],
      "text/plain": [
       "  Product     Category Region  Price  Units Sold\n",
       "0       A  Electronics  North    100          10\n",
       "1       B     Clothing  South     50          25\n",
       "2       A  Electronics   East    120          15\n",
       "3       C   Home Goods   West     30          30\n",
       "4       B     Clothing  North     60          20\n",
       "5       C   Home Goods   East     40          35\n",
       "6       A  Electronics  South    110          12\n",
       "7       B     Clothing   West     55          22"
      ]
     },
     "execution_count": 7,
     "metadata": {},
     "output_type": "execute_result"
    }
   ],
   "source": [
    "df"
   ]
  },
  {
   "cell_type": "code",
   "execution_count": 8,
   "id": "0276a7ce",
   "metadata": {},
   "outputs": [
    {
     "data": {
      "text/plain": [
       "<pandas.core.groupby.generic.DataFrameGroupBy object at 0x0A2B3CA0>"
      ]
     },
     "execution_count": 8,
     "metadata": {},
     "output_type": "execute_result"
    }
   ],
   "source": [
    "df.groupby('Product')"
   ]
  },
  {
   "cell_type": "code",
   "execution_count": 9,
   "id": "3ecf7e83",
   "metadata": {},
   "outputs": [
    {
     "data": {
      "text/plain": [
       "Product\n",
       "A    37\n",
       "B    67\n",
       "C    65\n",
       "Name: Units Sold, dtype: int64"
      ]
     },
     "execution_count": 9,
     "metadata": {},
     "output_type": "execute_result"
    }
   ],
   "source": [
    "df.groupby('Product')['Units Sold'].sum()"
   ]
  },
  {
   "cell_type": "code",
   "execution_count": 10,
   "id": "7880f0ff",
   "metadata": {},
   "outputs": [
    {
     "data": {
      "text/html": [
       "<div>\n",
       "<style scoped>\n",
       "    .dataframe tbody tr th:only-of-type {\n",
       "        vertical-align: middle;\n",
       "    }\n",
       "\n",
       "    .dataframe tbody tr th {\n",
       "        vertical-align: top;\n",
       "    }\n",
       "\n",
       "    .dataframe thead th {\n",
       "        text-align: right;\n",
       "    }\n",
       "</style>\n",
       "<table border=\"1\" class=\"dataframe\">\n",
       "  <thead>\n",
       "    <tr style=\"text-align: right;\">\n",
       "      <th></th>\n",
       "      <th>Price</th>\n",
       "      <th>Units Sold</th>\n",
       "    </tr>\n",
       "    <tr>\n",
       "      <th>Product</th>\n",
       "      <th></th>\n",
       "      <th></th>\n",
       "    </tr>\n",
       "  </thead>\n",
       "  <tbody>\n",
       "    <tr>\n",
       "      <th>A</th>\n",
       "      <td>330</td>\n",
       "      <td>37</td>\n",
       "    </tr>\n",
       "    <tr>\n",
       "      <th>B</th>\n",
       "      <td>165</td>\n",
       "      <td>67</td>\n",
       "    </tr>\n",
       "    <tr>\n",
       "      <th>C</th>\n",
       "      <td>70</td>\n",
       "      <td>65</td>\n",
       "    </tr>\n",
       "  </tbody>\n",
       "</table>\n",
       "</div>"
      ],
      "text/plain": [
       "         Price  Units Sold\n",
       "Product                   \n",
       "A          330          37\n",
       "B          165          67\n",
       "C           70          65"
      ]
     },
     "execution_count": 10,
     "metadata": {},
     "output_type": "execute_result"
    }
   ],
   "source": [
    "df.groupby('Product').sum()"
   ]
  },
  {
   "cell_type": "code",
   "execution_count": 18,
   "id": "d5f62c0f",
   "metadata": {},
   "outputs": [],
   "source": [
    "#Old Method \n",
    "#df.groupby('Product')['Price','Units Sold'].agg(['mean', 'median'])"
   ]
  },
  {
   "cell_type": "code",
   "execution_count": 12,
   "id": "d1b5deed",
   "metadata": {},
   "outputs": [
    {
     "data": {
      "text/html": [
       "<div>\n",
       "<style scoped>\n",
       "    .dataframe tbody tr th:only-of-type {\n",
       "        vertical-align: middle;\n",
       "    }\n",
       "\n",
       "    .dataframe tbody tr th {\n",
       "        vertical-align: top;\n",
       "    }\n",
       "\n",
       "    .dataframe thead th {\n",
       "        text-align: right;\n",
       "    }\n",
       "</style>\n",
       "<table border=\"1\" class=\"dataframe\">\n",
       "  <thead>\n",
       "    <tr style=\"text-align: right;\">\n",
       "      <th></th>\n",
       "      <th>Price_sum</th>\n",
       "      <th>Price_max</th>\n",
       "      <th>Units_Sold</th>\n",
       "    </tr>\n",
       "    <tr>\n",
       "      <th>Product</th>\n",
       "      <th></th>\n",
       "      <th></th>\n",
       "      <th></th>\n",
       "    </tr>\n",
       "  </thead>\n",
       "  <tbody>\n",
       "    <tr>\n",
       "      <th>A</th>\n",
       "      <td>330</td>\n",
       "      <td>120</td>\n",
       "      <td>37</td>\n",
       "    </tr>\n",
       "    <tr>\n",
       "      <th>B</th>\n",
       "      <td>165</td>\n",
       "      <td>60</td>\n",
       "      <td>67</td>\n",
       "    </tr>\n",
       "    <tr>\n",
       "      <th>C</th>\n",
       "      <td>70</td>\n",
       "      <td>40</td>\n",
       "      <td>65</td>\n",
       "    </tr>\n",
       "  </tbody>\n",
       "</table>\n",
       "</div>"
      ],
      "text/plain": [
       "         Price_sum  Price_max  Units_Sold\n",
       "Product                                  \n",
       "A              330        120          37\n",
       "B              165         60          67\n",
       "C               70         40          65"
      ]
     },
     "execution_count": 12,
     "metadata": {},
     "output_type": "execute_result"
    }
   ],
   "source": [
    "df.groupby('Product').agg(\n",
    "                        Price_sum=('Price', 'sum'), \n",
    "                         Price_max=('Price', 'max'), \n",
    "                        Units_Sold=('Units Sold', 'sum'))"
   ]
  },
  {
   "cell_type": "code",
   "execution_count": 13,
   "id": "bf5393a2",
   "metadata": {},
   "outputs": [
    {
     "name": "stdout",
     "output_type": "stream",
     "text": [
      "\n",
      "Average Price per Category (Index is 'Category'):\n",
      "              price\n",
      "Category          \n",
      "Clothing      55.0\n",
      "Electronics  110.0\n",
      "Home Goods    35.0\n",
      "\n",
      "Type of the index: <class 'pandas.core.indexes.base.Index'>\n"
     ]
    }
   ],
   "source": [
    "average_price_per_category = df.groupby('Category').agg(\n",
    "                                                         price=('Price', 'mean' ))\n",
    "\n",
    "print(\"\\nAverage Price per Category (Index is 'Category'):\\n\", average_price_per_category)\n",
    "print(\"\\nType of the index:\", type(average_price_per_category.index))"
   ]
  },
  {
   "cell_type": "code",
   "execution_count": 14,
   "id": "940b337c",
   "metadata": {},
   "outputs": [
    {
     "name": "stdout",
     "output_type": "stream",
     "text": [
      "\n",
      "Category Analysis (Index is 'Category'):\n",
      "              Average_Price  Total_Units_Sold\n",
      "Category                                    \n",
      "Clothing              55.0                67\n",
      "Electronics          110.0                37\n",
      "Home Goods            35.0                65\n",
      "\n",
      "Type of the index: <class 'pandas.core.indexes.base.Index'>\n",
      "\n",
      "Region and Category Analysis (MultiIndex):\n",
      "                     Average_Price  Total_Units_Sold\n",
      "Region Category                                    \n",
      "East   Electronics          120.0                15\n",
      "       Home Goods            40.0                35\n",
      "North  Clothing              60.0                20\n",
      "       Electronics          100.0                10\n",
      "South  Clothing              50.0                25\n",
      "       Electronics          110.0                12\n",
      "West   Clothing              55.0                22\n",
      "       Home Goods            30.0                30\n",
      "\n",
      "Type of the index: <class 'pandas.core.indexes.multi.MultiIndex'>\n"
     ]
    }
   ],
   "source": [
    "category_analysis = df.groupby('Category').agg(Average_Price=('Price', 'mean'),\n",
    "                                                 Total_Units_Sold=('Units Sold', 'sum'))\n",
    "print(\"\\nCategory Analysis (Index is 'Category'):\\n\", category_analysis)\n",
    "print(\"\\nType of the index:\", type(category_analysis.index))\n",
    "\n",
    "region_category_analysis = df.groupby(['Region', 'Category']).agg(Average_Price=('Price', 'mean'),\n",
    "                                                                 Total_Units_Sold=('Units Sold', 'sum'))\n",
    "print(\"\\nRegion and Category Analysis (MultiIndex):\\n\", region_category_analysis)\n",
    "print(\"\\nType of the index:\", type(region_category_analysis.index))"
   ]
  },
  {
   "cell_type": "code",
   "execution_count": 15,
   "id": "3741038f",
   "metadata": {},
   "outputs": [
    {
     "name": "stdout",
     "output_type": "stream",
     "text": [
      "\n",
      "Category Analysis (No Index):\n",
      "   Region     Category  Average_Price  Total_Units_Sold\n",
      "0   East  Electronics          120.0                15\n",
      "1   East   Home Goods           40.0                35\n",
      "2  North     Clothing           60.0                20\n",
      "3  North  Electronics          100.0                10\n",
      "4  South     Clothing           50.0                25\n",
      "5  South  Electronics          110.0                12\n",
      "6   West     Clothing           55.0                22\n",
      "7   West   Home Goods           30.0                30\n",
      "\n",
      "Type of the index: <class 'pandas.core.indexes.range.RangeIndex'>\n"
     ]
    }
   ],
   "source": [
    "category_analysis_no_index = df.groupby(['Region','Category'], as_index=False).agg(\n",
    "                                                                                Average_Price=('Price', 'mean'),\n",
    "                                                                                Total_Units_Sold=('Units Sold', 'sum')\n",
    ")\n",
    "print(\"\\nCategory Analysis (No Index):\\n\", category_analysis_no_index)\n",
    "print(\"\\nType of the index:\", type(category_analysis_no_index.index))"
   ]
  },
  {
   "cell_type": "code",
   "execution_count": 16,
   "id": "1e0cd575",
   "metadata": {
    "scrolled": false
   },
   "outputs": [
    {
     "data": {
      "text/html": [
       "<div>\n",
       "<style scoped>\n",
       "    .dataframe tbody tr th:only-of-type {\n",
       "        vertical-align: middle;\n",
       "    }\n",
       "\n",
       "    .dataframe tbody tr th {\n",
       "        vertical-align: top;\n",
       "    }\n",
       "\n",
       "    .dataframe thead th {\n",
       "        text-align: right;\n",
       "    }\n",
       "</style>\n",
       "<table border=\"1\" class=\"dataframe\">\n",
       "  <thead>\n",
       "    <tr style=\"text-align: right;\">\n",
       "      <th></th>\n",
       "      <th>Region</th>\n",
       "      <th>Category</th>\n",
       "      <th>Average_Price</th>\n",
       "      <th>Total_Units_Sold</th>\n",
       "    </tr>\n",
       "  </thead>\n",
       "  <tbody>\n",
       "    <tr>\n",
       "      <th>0</th>\n",
       "      <td>East</td>\n",
       "      <td>Electronics</td>\n",
       "      <td>120.0</td>\n",
       "      <td>15</td>\n",
       "    </tr>\n",
       "    <tr>\n",
       "      <th>1</th>\n",
       "      <td>East</td>\n",
       "      <td>Home Goods</td>\n",
       "      <td>40.0</td>\n",
       "      <td>35</td>\n",
       "    </tr>\n",
       "    <tr>\n",
       "      <th>2</th>\n",
       "      <td>North</td>\n",
       "      <td>Clothing</td>\n",
       "      <td>60.0</td>\n",
       "      <td>20</td>\n",
       "    </tr>\n",
       "    <tr>\n",
       "      <th>3</th>\n",
       "      <td>North</td>\n",
       "      <td>Electronics</td>\n",
       "      <td>100.0</td>\n",
       "      <td>10</td>\n",
       "    </tr>\n",
       "    <tr>\n",
       "      <th>4</th>\n",
       "      <td>South</td>\n",
       "      <td>Clothing</td>\n",
       "      <td>50.0</td>\n",
       "      <td>25</td>\n",
       "    </tr>\n",
       "    <tr>\n",
       "      <th>5</th>\n",
       "      <td>South</td>\n",
       "      <td>Electronics</td>\n",
       "      <td>110.0</td>\n",
       "      <td>12</td>\n",
       "    </tr>\n",
       "    <tr>\n",
       "      <th>6</th>\n",
       "      <td>West</td>\n",
       "      <td>Clothing</td>\n",
       "      <td>55.0</td>\n",
       "      <td>22</td>\n",
       "    </tr>\n",
       "    <tr>\n",
       "      <th>7</th>\n",
       "      <td>West</td>\n",
       "      <td>Home Goods</td>\n",
       "      <td>30.0</td>\n",
       "      <td>30</td>\n",
       "    </tr>\n",
       "  </tbody>\n",
       "</table>\n",
       "</div>"
      ],
      "text/plain": [
       "  Region     Category  Average_Price  Total_Units_Sold\n",
       "0   East  Electronics          120.0                15\n",
       "1   East   Home Goods           40.0                35\n",
       "2  North     Clothing           60.0                20\n",
       "3  North  Electronics          100.0                10\n",
       "4  South     Clothing           50.0                25\n",
       "5  South  Electronics          110.0                12\n",
       "6   West     Clothing           55.0                22\n",
       "7   West   Home Goods           30.0                30"
      ]
     },
     "execution_count": 16,
     "metadata": {},
     "output_type": "execute_result"
    }
   ],
   "source": [
    "category_analysis_no_index"
   ]
  },
  {
   "cell_type": "code",
   "execution_count": null,
   "id": "34ba41e5",
   "metadata": {},
   "outputs": [],
   "source": []
  },
  {
   "cell_type": "code",
   "execution_count": null,
   "id": "662c306e",
   "metadata": {},
   "outputs": [],
   "source": []
  }
 ],
 "metadata": {
  "kernelspec": {
   "display_name": "Python 3 (ipykernel)",
   "language": "python",
   "name": "python3"
  },
  "language_info": {
   "codemirror_mode": {
    "name": "ipython",
    "version": 3
   },
   "file_extension": ".py",
   "mimetype": "text/x-python",
   "name": "python",
   "nbconvert_exporter": "python",
   "pygments_lexer": "ipython3",
   "version": "3.9.12"
  }
 },
 "nbformat": 4,
 "nbformat_minor": 5
}
