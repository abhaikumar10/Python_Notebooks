{
 "cells": [
  {
   "cell_type": "code",
   "execution_count": 42,
   "id": "0ea6b596",
   "metadata": {},
   "outputs": [],
   "source": [
    "##Joins"
   ]
  },
  {
   "cell_type": "code",
   "execution_count": 29,
   "id": "e816b05d",
   "metadata": {},
   "outputs": [
    {
     "name": "stdout",
     "output_type": "stream",
     "text": [
      "Orders DataFrame:\n",
      "    OrderID  CustomerID   OrderDate\n",
      "0        1         101  2025-04-25\n",
      "1        2         102  2025-04-26\n",
      "2        3         101  2025-04-27\n",
      "3        4         103  2025-04-28\n",
      "4        5         104  2025-04-29\n",
      "\n",
      "Customers DataFrame:\n",
      "    CustomerID CustomerName      City\n",
      "0         101        Alice  New York\n",
      "1         102          Bob    London\n",
      "2         103      Charlie     Paris\n",
      "3         105        David    Berlin\n"
     ]
    }
   ],
   "source": [
    "import pandas as pd\n",
    "\n",
    "# DataFrame 1: Orders\n",
    "orders = pd.DataFrame({\n",
    "    'OrderID': [1, 2, 3, 4, 5],\n",
    "    'CustomerID': [101, 102, 101, 103, 104],\n",
    "    'OrderDate': ['2025-04-25', '2025-04-26', '2025-04-27', '2025-04-28', '2025-04-29']\n",
    "})\n",
    "\n",
    "# DataFrame 2: Customers\n",
    "customers = pd.DataFrame({\n",
    "    'CustomerID': [101, 102, 103, 105],\n",
    "    'CustomerName': ['Alice', 'Bob', 'Charlie', 'David'],\n",
    "    'City': ['New York', 'London', 'Paris', 'Berlin']\n",
    "})\n",
    "\n",
    "print(\"Orders DataFrame:\\n\", orders)\n",
    "print(\"\\nCustomers DataFrame:\\n\", customers)"
   ]
  },
  {
   "cell_type": "code",
   "execution_count": 30,
   "id": "1ac32abe",
   "metadata": {},
   "outputs": [],
   "source": [
    "df_inner=pd.merge(customers,orders, on='CustomerID', how='inner')"
   ]
  },
  {
   "cell_type": "code",
   "execution_count": 31,
   "id": "34a91e86",
   "metadata": {},
   "outputs": [
    {
     "data": {
      "text/html": [
       "<div>\n",
       "<style scoped>\n",
       "    .dataframe tbody tr th:only-of-type {\n",
       "        vertical-align: middle;\n",
       "    }\n",
       "\n",
       "    .dataframe tbody tr th {\n",
       "        vertical-align: top;\n",
       "    }\n",
       "\n",
       "    .dataframe thead th {\n",
       "        text-align: right;\n",
       "    }\n",
       "</style>\n",
       "<table border=\"1\" class=\"dataframe\">\n",
       "  <thead>\n",
       "    <tr style=\"text-align: right;\">\n",
       "      <th></th>\n",
       "      <th>CustomerID</th>\n",
       "      <th>CustomerName</th>\n",
       "      <th>City</th>\n",
       "      <th>OrderID</th>\n",
       "      <th>OrderDate</th>\n",
       "    </tr>\n",
       "  </thead>\n",
       "  <tbody>\n",
       "    <tr>\n",
       "      <th>0</th>\n",
       "      <td>101</td>\n",
       "      <td>Alice</td>\n",
       "      <td>New York</td>\n",
       "      <td>1</td>\n",
       "      <td>2025-04-25</td>\n",
       "    </tr>\n",
       "    <tr>\n",
       "      <th>1</th>\n",
       "      <td>101</td>\n",
       "      <td>Alice</td>\n",
       "      <td>New York</td>\n",
       "      <td>3</td>\n",
       "      <td>2025-04-27</td>\n",
       "    </tr>\n",
       "    <tr>\n",
       "      <th>2</th>\n",
       "      <td>102</td>\n",
       "      <td>Bob</td>\n",
       "      <td>London</td>\n",
       "      <td>2</td>\n",
       "      <td>2025-04-26</td>\n",
       "    </tr>\n",
       "    <tr>\n",
       "      <th>3</th>\n",
       "      <td>103</td>\n",
       "      <td>Charlie</td>\n",
       "      <td>Paris</td>\n",
       "      <td>4</td>\n",
       "      <td>2025-04-28</td>\n",
       "    </tr>\n",
       "  </tbody>\n",
       "</table>\n",
       "</div>"
      ],
      "text/plain": [
       "   CustomerID CustomerName      City  OrderID   OrderDate\n",
       "0         101        Alice  New York        1  2025-04-25\n",
       "1         101        Alice  New York        3  2025-04-27\n",
       "2         102          Bob    London        2  2025-04-26\n",
       "3         103      Charlie     Paris        4  2025-04-28"
      ]
     },
     "execution_count": 31,
     "metadata": {},
     "output_type": "execute_result"
    }
   ],
   "source": [
    "df_inner"
   ]
  },
  {
   "cell_type": "code",
   "execution_count": 32,
   "id": "6ccbdeff",
   "metadata": {},
   "outputs": [],
   "source": [
    "df_left=pd.merge(customers,orders, on='CustomerID', how='left')"
   ]
  },
  {
   "cell_type": "code",
   "execution_count": 33,
   "id": "70ea9425",
   "metadata": {},
   "outputs": [
    {
     "data": {
      "text/html": [
       "<div>\n",
       "<style scoped>\n",
       "    .dataframe tbody tr th:only-of-type {\n",
       "        vertical-align: middle;\n",
       "    }\n",
       "\n",
       "    .dataframe tbody tr th {\n",
       "        vertical-align: top;\n",
       "    }\n",
       "\n",
       "    .dataframe thead th {\n",
       "        text-align: right;\n",
       "    }\n",
       "</style>\n",
       "<table border=\"1\" class=\"dataframe\">\n",
       "  <thead>\n",
       "    <tr style=\"text-align: right;\">\n",
       "      <th></th>\n",
       "      <th>CustomerID</th>\n",
       "      <th>CustomerName</th>\n",
       "      <th>City</th>\n",
       "      <th>OrderID</th>\n",
       "      <th>OrderDate</th>\n",
       "    </tr>\n",
       "  </thead>\n",
       "  <tbody>\n",
       "    <tr>\n",
       "      <th>0</th>\n",
       "      <td>101</td>\n",
       "      <td>Alice</td>\n",
       "      <td>New York</td>\n",
       "      <td>1.0</td>\n",
       "      <td>2025-04-25</td>\n",
       "    </tr>\n",
       "    <tr>\n",
       "      <th>1</th>\n",
       "      <td>101</td>\n",
       "      <td>Alice</td>\n",
       "      <td>New York</td>\n",
       "      <td>3.0</td>\n",
       "      <td>2025-04-27</td>\n",
       "    </tr>\n",
       "    <tr>\n",
       "      <th>2</th>\n",
       "      <td>102</td>\n",
       "      <td>Bob</td>\n",
       "      <td>London</td>\n",
       "      <td>2.0</td>\n",
       "      <td>2025-04-26</td>\n",
       "    </tr>\n",
       "    <tr>\n",
       "      <th>3</th>\n",
       "      <td>103</td>\n",
       "      <td>Charlie</td>\n",
       "      <td>Paris</td>\n",
       "      <td>4.0</td>\n",
       "      <td>2025-04-28</td>\n",
       "    </tr>\n",
       "    <tr>\n",
       "      <th>4</th>\n",
       "      <td>105</td>\n",
       "      <td>David</td>\n",
       "      <td>Berlin</td>\n",
       "      <td>NaN</td>\n",
       "      <td>NaN</td>\n",
       "    </tr>\n",
       "  </tbody>\n",
       "</table>\n",
       "</div>"
      ],
      "text/plain": [
       "   CustomerID CustomerName      City  OrderID   OrderDate\n",
       "0         101        Alice  New York      1.0  2025-04-25\n",
       "1         101        Alice  New York      3.0  2025-04-27\n",
       "2         102          Bob    London      2.0  2025-04-26\n",
       "3         103      Charlie     Paris      4.0  2025-04-28\n",
       "4         105        David    Berlin      NaN         NaN"
      ]
     },
     "execution_count": 33,
     "metadata": {},
     "output_type": "execute_result"
    }
   ],
   "source": [
    "df_left"
   ]
  },
  {
   "cell_type": "code",
   "execution_count": 34,
   "id": "2138aec2",
   "metadata": {},
   "outputs": [],
   "source": [
    "df_right=pd.merge(customers,orders, on='CustomerID', how='right')"
   ]
  },
  {
   "cell_type": "code",
   "execution_count": 35,
   "id": "7b2bcae4",
   "metadata": {},
   "outputs": [
    {
     "data": {
      "text/html": [
       "<div>\n",
       "<style scoped>\n",
       "    .dataframe tbody tr th:only-of-type {\n",
       "        vertical-align: middle;\n",
       "    }\n",
       "\n",
       "    .dataframe tbody tr th {\n",
       "        vertical-align: top;\n",
       "    }\n",
       "\n",
       "    .dataframe thead th {\n",
       "        text-align: right;\n",
       "    }\n",
       "</style>\n",
       "<table border=\"1\" class=\"dataframe\">\n",
       "  <thead>\n",
       "    <tr style=\"text-align: right;\">\n",
       "      <th></th>\n",
       "      <th>CustomerID</th>\n",
       "      <th>CustomerName</th>\n",
       "      <th>City</th>\n",
       "      <th>OrderID</th>\n",
       "      <th>OrderDate</th>\n",
       "    </tr>\n",
       "  </thead>\n",
       "  <tbody>\n",
       "    <tr>\n",
       "      <th>0</th>\n",
       "      <td>101</td>\n",
       "      <td>Alice</td>\n",
       "      <td>New York</td>\n",
       "      <td>1</td>\n",
       "      <td>2025-04-25</td>\n",
       "    </tr>\n",
       "    <tr>\n",
       "      <th>1</th>\n",
       "      <td>102</td>\n",
       "      <td>Bob</td>\n",
       "      <td>London</td>\n",
       "      <td>2</td>\n",
       "      <td>2025-04-26</td>\n",
       "    </tr>\n",
       "    <tr>\n",
       "      <th>2</th>\n",
       "      <td>101</td>\n",
       "      <td>Alice</td>\n",
       "      <td>New York</td>\n",
       "      <td>3</td>\n",
       "      <td>2025-04-27</td>\n",
       "    </tr>\n",
       "    <tr>\n",
       "      <th>3</th>\n",
       "      <td>103</td>\n",
       "      <td>Charlie</td>\n",
       "      <td>Paris</td>\n",
       "      <td>4</td>\n",
       "      <td>2025-04-28</td>\n",
       "    </tr>\n",
       "    <tr>\n",
       "      <th>4</th>\n",
       "      <td>104</td>\n",
       "      <td>NaN</td>\n",
       "      <td>NaN</td>\n",
       "      <td>5</td>\n",
       "      <td>2025-04-29</td>\n",
       "    </tr>\n",
       "  </tbody>\n",
       "</table>\n",
       "</div>"
      ],
      "text/plain": [
       "   CustomerID CustomerName      City  OrderID   OrderDate\n",
       "0         101        Alice  New York        1  2025-04-25\n",
       "1         102          Bob    London        2  2025-04-26\n",
       "2         101        Alice  New York        3  2025-04-27\n",
       "3         103      Charlie     Paris        4  2025-04-28\n",
       "4         104          NaN       NaN        5  2025-04-29"
      ]
     },
     "execution_count": 35,
     "metadata": {},
     "output_type": "execute_result"
    }
   ],
   "source": [
    "df_right"
   ]
  },
  {
   "cell_type": "code",
   "execution_count": 36,
   "id": "ae51a076",
   "metadata": {},
   "outputs": [],
   "source": [
    "df_outer=pd.merge(customers,orders, on='CustomerID', how='outer')"
   ]
  },
  {
   "cell_type": "code",
   "execution_count": 37,
   "id": "e732836b",
   "metadata": {},
   "outputs": [
    {
     "data": {
      "text/html": [
       "<div>\n",
       "<style scoped>\n",
       "    .dataframe tbody tr th:only-of-type {\n",
       "        vertical-align: middle;\n",
       "    }\n",
       "\n",
       "    .dataframe tbody tr th {\n",
       "        vertical-align: top;\n",
       "    }\n",
       "\n",
       "    .dataframe thead th {\n",
       "        text-align: right;\n",
       "    }\n",
       "</style>\n",
       "<table border=\"1\" class=\"dataframe\">\n",
       "  <thead>\n",
       "    <tr style=\"text-align: right;\">\n",
       "      <th></th>\n",
       "      <th>CustomerID</th>\n",
       "      <th>CustomerName</th>\n",
       "      <th>City</th>\n",
       "      <th>OrderID</th>\n",
       "      <th>OrderDate</th>\n",
       "    </tr>\n",
       "  </thead>\n",
       "  <tbody>\n",
       "    <tr>\n",
       "      <th>0</th>\n",
       "      <td>101</td>\n",
       "      <td>Alice</td>\n",
       "      <td>New York</td>\n",
       "      <td>1.0</td>\n",
       "      <td>2025-04-25</td>\n",
       "    </tr>\n",
       "    <tr>\n",
       "      <th>1</th>\n",
       "      <td>101</td>\n",
       "      <td>Alice</td>\n",
       "      <td>New York</td>\n",
       "      <td>3.0</td>\n",
       "      <td>2025-04-27</td>\n",
       "    </tr>\n",
       "    <tr>\n",
       "      <th>2</th>\n",
       "      <td>102</td>\n",
       "      <td>Bob</td>\n",
       "      <td>London</td>\n",
       "      <td>2.0</td>\n",
       "      <td>2025-04-26</td>\n",
       "    </tr>\n",
       "    <tr>\n",
       "      <th>3</th>\n",
       "      <td>103</td>\n",
       "      <td>Charlie</td>\n",
       "      <td>Paris</td>\n",
       "      <td>4.0</td>\n",
       "      <td>2025-04-28</td>\n",
       "    </tr>\n",
       "    <tr>\n",
       "      <th>4</th>\n",
       "      <td>105</td>\n",
       "      <td>David</td>\n",
       "      <td>Berlin</td>\n",
       "      <td>NaN</td>\n",
       "      <td>NaN</td>\n",
       "    </tr>\n",
       "    <tr>\n",
       "      <th>5</th>\n",
       "      <td>104</td>\n",
       "      <td>NaN</td>\n",
       "      <td>NaN</td>\n",
       "      <td>5.0</td>\n",
       "      <td>2025-04-29</td>\n",
       "    </tr>\n",
       "  </tbody>\n",
       "</table>\n",
       "</div>"
      ],
      "text/plain": [
       "   CustomerID CustomerName      City  OrderID   OrderDate\n",
       "0         101        Alice  New York      1.0  2025-04-25\n",
       "1         101        Alice  New York      3.0  2025-04-27\n",
       "2         102          Bob    London      2.0  2025-04-26\n",
       "3         103      Charlie     Paris      4.0  2025-04-28\n",
       "4         105        David    Berlin      NaN         NaN\n",
       "5         104          NaN       NaN      5.0  2025-04-29"
      ]
     },
     "execution_count": 37,
     "metadata": {},
     "output_type": "execute_result"
    }
   ],
   "source": [
    "df_outer"
   ]
  },
  {
   "cell_type": "code",
   "execution_count": 38,
   "id": "f55eb80e",
   "metadata": {},
   "outputs": [],
   "source": [
    "# DataFrame 2: Customers\n",
    "customers2 = pd.DataFrame({\n",
    "    'Custid': [101, 102, 103, 105],\n",
    "    'CustomerName': ['Alice', 'Bob', 'Charlie', 'David'],\n",
    "    'City': ['New York', 'London', 'Paris', 'Berlin']\n",
    "})"
   ]
  },
  {
   "cell_type": "code",
   "execution_count": 40,
   "id": "7e6aedc6",
   "metadata": {},
   "outputs": [],
   "source": [
    "#also if columns have different names\n",
    "df_with_diff_col_name=pd.merge(customers2,orders, left_on='Custid',right_on='CustomerID', how='left')"
   ]
  },
  {
   "cell_type": "code",
   "execution_count": 41,
   "id": "253e1c77",
   "metadata": {},
   "outputs": [
    {
     "data": {
      "text/html": [
       "<div>\n",
       "<style scoped>\n",
       "    .dataframe tbody tr th:only-of-type {\n",
       "        vertical-align: middle;\n",
       "    }\n",
       "\n",
       "    .dataframe tbody tr th {\n",
       "        vertical-align: top;\n",
       "    }\n",
       "\n",
       "    .dataframe thead th {\n",
       "        text-align: right;\n",
       "    }\n",
       "</style>\n",
       "<table border=\"1\" class=\"dataframe\">\n",
       "  <thead>\n",
       "    <tr style=\"text-align: right;\">\n",
       "      <th></th>\n",
       "      <th>Custid</th>\n",
       "      <th>CustomerName</th>\n",
       "      <th>City</th>\n",
       "      <th>OrderID</th>\n",
       "      <th>CustomerID</th>\n",
       "      <th>OrderDate</th>\n",
       "    </tr>\n",
       "  </thead>\n",
       "  <tbody>\n",
       "    <tr>\n",
       "      <th>0</th>\n",
       "      <td>101</td>\n",
       "      <td>Alice</td>\n",
       "      <td>New York</td>\n",
       "      <td>1.0</td>\n",
       "      <td>101.0</td>\n",
       "      <td>2025-04-25</td>\n",
       "    </tr>\n",
       "    <tr>\n",
       "      <th>1</th>\n",
       "      <td>101</td>\n",
       "      <td>Alice</td>\n",
       "      <td>New York</td>\n",
       "      <td>3.0</td>\n",
       "      <td>101.0</td>\n",
       "      <td>2025-04-27</td>\n",
       "    </tr>\n",
       "    <tr>\n",
       "      <th>2</th>\n",
       "      <td>102</td>\n",
       "      <td>Bob</td>\n",
       "      <td>London</td>\n",
       "      <td>2.0</td>\n",
       "      <td>102.0</td>\n",
       "      <td>2025-04-26</td>\n",
       "    </tr>\n",
       "    <tr>\n",
       "      <th>3</th>\n",
       "      <td>103</td>\n",
       "      <td>Charlie</td>\n",
       "      <td>Paris</td>\n",
       "      <td>4.0</td>\n",
       "      <td>103.0</td>\n",
       "      <td>2025-04-28</td>\n",
       "    </tr>\n",
       "    <tr>\n",
       "      <th>4</th>\n",
       "      <td>105</td>\n",
       "      <td>David</td>\n",
       "      <td>Berlin</td>\n",
       "      <td>NaN</td>\n",
       "      <td>NaN</td>\n",
       "      <td>NaN</td>\n",
       "    </tr>\n",
       "  </tbody>\n",
       "</table>\n",
       "</div>"
      ],
      "text/plain": [
       "   Custid CustomerName      City  OrderID  CustomerID   OrderDate\n",
       "0     101        Alice  New York      1.0       101.0  2025-04-25\n",
       "1     101        Alice  New York      3.0       101.0  2025-04-27\n",
       "2     102          Bob    London      2.0       102.0  2025-04-26\n",
       "3     103      Charlie     Paris      4.0       103.0  2025-04-28\n",
       "4     105        David    Berlin      NaN         NaN         NaN"
      ]
     },
     "execution_count": 41,
     "metadata": {},
     "output_type": "execute_result"
    }
   ],
   "source": [
    "df_with_diff_col_name"
   ]
  },
  {
   "cell_type": "code",
   "execution_count": null,
   "id": "b10e6808",
   "metadata": {},
   "outputs": [],
   "source": []
  },
  {
   "cell_type": "code",
   "execution_count": 46,
   "id": "12230a64",
   "metadata": {},
   "outputs": [],
   "source": [
    "#Append and concat DataFrames\n",
    "# 1. Basic Concatenation (Appending Rows - Vertical)\n"
   ]
  },
  {
   "cell_type": "code",
   "execution_count": 44,
   "id": "cf8a3105",
   "metadata": {},
   "outputs": [
    {
     "name": "stdout",
     "output_type": "stream",
     "text": [
      "DataFrame 1:\n",
      "    A  B\n",
      "0  1  3\n",
      "1  2  4\n",
      "\n",
      "DataFrame 2:\n",
      "    A  B\n",
      "0  5  7\n",
      "1  6  8\n",
      "\n",
      "Concatenated Rows (Vertical):\n",
      "    A  B\n",
      "0  1  3\n",
      "1  2  4\n",
      "0  5  7\n",
      "1  6  8\n"
     ]
    }
   ],
   "source": [
    "import pandas as pd\n",
    "\n",
    "df1 = pd.DataFrame({'A': [1, 2], 'B': [3, 4]})\n",
    "df2 = pd.DataFrame({'A': [5, 6], 'B': [7, 8]})\n",
    "\n",
    "print(\"DataFrame 1:\\n\", df1)\n",
    "print(\"\\nDataFrame 2:\\n\", df2)\n",
    "\n",
    "concatenated_rows = pd.concat([df1, df2])\n",
    "print(\"\\nConcatenated Rows (Vertical):\\n\", concatenated_rows)"
   ]
  },
  {
   "cell_type": "code",
   "execution_count": 45,
   "id": "67bde78f",
   "metadata": {},
   "outputs": [
    {
     "name": "stdout",
     "output_type": "stream",
     "text": [
      "\n",
      "Concatenated Rows (Vertical) with Reset Index:\n",
      "    A  B\n",
      "0  1  3\n",
      "1  2  4\n",
      "2  5  7\n",
      "3  6  8\n"
     ]
    }
   ],
   "source": [
    "concatenated_rows_reset = pd.concat([df1, df2]).reset_index(drop=True)\n",
    "print(\"\\nConcatenated Rows (Vertical) with Reset Index:\\n\", concatenated_rows_reset)"
   ]
  },
  {
   "cell_type": "code",
   "execution_count": 47,
   "id": "8d459413",
   "metadata": {},
   "outputs": [],
   "source": [
    "# 2. Concatenation with Different Columns (Vertical)"
   ]
  },
  {
   "cell_type": "code",
   "execution_count": 48,
   "id": "3ee2c0b5",
   "metadata": {},
   "outputs": [
    {
     "name": "stdout",
     "output_type": "stream",
     "text": [
      "\n",
      "Concatenation with Different Columns (Vertical):\n",
      "    A    B     C\n",
      "0  1  3.0   NaN\n",
      "1  2  4.0   NaN\n",
      "0  5  NaN   9.0\n",
      "1  6  NaN  10.0\n"
     ]
    }
   ],
   "source": [
    "df3 = pd.DataFrame({'A': [1, 2], 'B': [3, 4]})\n",
    "df4 = pd.DataFrame({'A': [5, 6], 'C': [9, 10]})\n",
    "\n",
    "concatenated_diff_cols = pd.concat([df3, df4])\n",
    "print(\"\\nConcatenation with Different Columns (Vertical):\\n\", concatenated_diff_cols)"
   ]
  },
  {
   "cell_type": "code",
   "execution_count": 50,
   "id": "e49128bc",
   "metadata": {},
   "outputs": [],
   "source": [
    "# 3. Concatenating Columns (Horizontal)"
   ]
  },
  {
   "cell_type": "code",
   "execution_count": 51,
   "id": "a953f45f",
   "metadata": {},
   "outputs": [
    {
     "name": "stdout",
     "output_type": "stream",
     "text": [
      "\n",
      "DataFrame 5:\n",
      "       A  B\n",
      "row1  1  3\n",
      "row2  2  4\n",
      "\n",
      "DataFrame 6:\n",
      "       C  D\n",
      "row1  5  7\n",
      "row2  6  8\n",
      "\n",
      "Concatenated Columns (Horizontal):\n",
      "       A  B  C  D\n",
      "row1  1  3  5  7\n",
      "row2  2  4  6  8\n"
     ]
    }
   ],
   "source": [
    "df5 = pd.DataFrame({'A': [1, 2], 'B': [3, 4]}, index=['row1', 'row2'])\n",
    "df6 = pd.DataFrame({'C': [5, 6], 'D': [7, 8]}, index=['row1', 'row2'])\n",
    "\n",
    "print(\"\\nDataFrame 5:\\n\", df5)\n",
    "print(\"\\nDataFrame 6:\\n\", df6)\n",
    "\n",
    "concatenated_cols = pd.concat([df5, df6], axis=1)\n",
    "print(\"\\nConcatenated Columns (Horizontal):\\n\", concatenated_cols)"
   ]
  },
  {
   "cell_type": "code",
   "execution_count": 54,
   "id": "8ee3be28",
   "metadata": {},
   "outputs": [],
   "source": [
    "# 4. Ignoring the Index (ignore_index=True)"
   ]
  },
  {
   "cell_type": "code",
   "execution_count": 55,
   "id": "0612b56a",
   "metadata": {},
   "outputs": [
    {
     "name": "stdout",
     "output_type": "stream",
     "text": [
      "\n",
      "Concatenation with Ignored Index:\n",
      "    A  B\n",
      "0  1  3\n",
      "1  2  4\n",
      "2  5  7\n",
      "3  6  8\n"
     ]
    }
   ],
   "source": [
    "concatenated_ignore_index = pd.concat([df1, df2], ignore_index=True)\n",
    "print(\"\\nConcatenation with Ignored Index:\\n\", concatenated_ignore_index)"
   ]
  },
  {
   "cell_type": "code",
   "execution_count": null,
   "id": "8406d09c",
   "metadata": {},
   "outputs": [],
   "source": []
  }
 ],
 "metadata": {
  "kernelspec": {
   "display_name": "Python 3 (ipykernel)",
   "language": "python",
   "name": "python3"
  },
  "language_info": {
   "codemirror_mode": {
    "name": "ipython",
    "version": 3
   },
   "file_extension": ".py",
   "mimetype": "text/x-python",
   "name": "python",
   "nbconvert_exporter": "python",
   "pygments_lexer": "ipython3",
   "version": "3.9.12"
  }
 },
 "nbformat": 4,
 "nbformat_minor": 5
}
